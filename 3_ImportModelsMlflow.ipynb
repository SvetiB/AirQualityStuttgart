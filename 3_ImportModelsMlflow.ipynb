{
 "cells": [
  {
   "cell_type": "markdown",
   "metadata": {},
   "source": [
    "**<font size=\"5\">Serializing Models using MLFlow</font>**"
   ]
  },
  {
   "cell_type": "code",
   "execution_count": 37,
   "metadata": {},
   "outputs": [],
   "source": [
    "import pandas as pd\n",
    "import numpy as np\n",
    "\n",
    "import mlflow\n",
    "import mlflow.sklearn\n",
    "import mlflow.keras\n",
    "import keras\n",
    "\n",
    "import warnings\n",
    "warnings.filterwarnings(\"ignore\")"
   ]
  },
  {
   "cell_type": "markdown",
   "metadata": {},
   "source": [
    "# Baseline Model"
   ]
  },
  {
   "cell_type": "markdown",
   "metadata": {},
   "source": [
    "After importing the required libreries we use MLFlow functions to load the serialized baseline model to the notebook. After loading and adding the model to a variable we can use the variable like directly after training the model before the MLFlow export."
   ]
  },
  {
   "cell_type": "markdown",
   "metadata": {},
   "source": [
    "With the set_experiment we select the corresponding project."
   ]
  },
  {
   "cell_type": "code",
   "execution_count": 2,
   "metadata": {},
   "outputs": [],
   "source": [
    "mlflow.set_experiment(\"Baseline Model AirQualityStuttgart\")"
   ]
  },
  {
   "cell_type": "markdown",
   "metadata": {},
   "source": [
    "Search for existing runs in the `Baseline Model AirQualityStuttgart`:"
   ]
  },
  {
   "cell_type": "code",
   "execution_count": 49,
   "metadata": {},
   "outputs": [
    {
     "data": {
      "text/html": [
       "<div>\n",
       "<style scoped>\n",
       "    .dataframe tbody tr th:only-of-type {\n",
       "        vertical-align: middle;\n",
       "    }\n",
       "\n",
       "    .dataframe tbody tr th {\n",
       "        vertical-align: top;\n",
       "    }\n",
       "\n",
       "    .dataframe thead th {\n",
       "        text-align: right;\n",
       "    }\n",
       "</style>\n",
       "<table border=\"1\" class=\"dataframe\">\n",
       "  <thead>\n",
       "    <tr style=\"text-align: right;\">\n",
       "      <th></th>\n",
       "      <th>run_id</th>\n",
       "      <th>experiment_id</th>\n",
       "      <th>status</th>\n",
       "      <th>artifact_uri</th>\n",
       "      <th>start_time</th>\n",
       "      <th>end_time</th>\n",
       "      <th>metrics.Intercept</th>\n",
       "      <th>metrics.R2</th>\n",
       "      <th>metrics.MSE</th>\n",
       "      <th>tags.mlflow.source.name</th>\n",
       "      <th>tags.mlflow.user</th>\n",
       "      <th>tags.mlflow.source.type</th>\n",
       "    </tr>\n",
       "  </thead>\n",
       "  <tbody>\n",
       "    <tr>\n",
       "      <th>0</th>\n",
       "      <td>d832fc2dcf2e4a1780059513f3c87f34</td>\n",
       "      <td>1</td>\n",
       "      <td>FINISHED</td>\n",
       "      <td>file:///C:/Users/elvir/Documents/Git_Projekte/...</td>\n",
       "      <td>2020-06-30 15:12:34.393000+00:00</td>\n",
       "      <td>2020-06-30 15:13:01.117000+00:00</td>\n",
       "      <td>0.082979</td>\n",
       "      <td>0.363536</td>\n",
       "      <td>0.468705</td>\n",
       "      <td>C:\\Users\\elvir\\AppData\\Local\\Continuum\\anacond...</td>\n",
       "      <td>elvir</td>\n",
       "      <td>LOCAL</td>\n",
       "    </tr>\n",
       "  </tbody>\n",
       "</table>\n",
       "</div>"
      ],
      "text/plain": [
       "                             run_id experiment_id    status  \\\n",
       "0  d832fc2dcf2e4a1780059513f3c87f34             1  FINISHED   \n",
       "\n",
       "                                        artifact_uri  \\\n",
       "0  file:///C:/Users/elvir/Documents/Git_Projekte/...   \n",
       "\n",
       "                        start_time                         end_time  \\\n",
       "0 2020-06-30 15:12:34.393000+00:00 2020-06-30 15:13:01.117000+00:00   \n",
       "\n",
       "   metrics.Intercept  metrics.R2  metrics.MSE  \\\n",
       "0           0.082979    0.363536     0.468705   \n",
       "\n",
       "                             tags.mlflow.source.name tags.mlflow.user  \\\n",
       "0  C:\\Users\\elvir\\AppData\\Local\\Continuum\\anacond...            elvir   \n",
       "\n",
       "  tags.mlflow.source.type  \n",
       "0                   LOCAL  "
      ]
     },
     "execution_count": 49,
     "metadata": {},
     "output_type": "execute_result"
    }
   ],
   "source": [
    "allruns = mlflow.search_runs()\n",
    "allruns"
   ]
  },
  {
   "cell_type": "code",
   "execution_count": 43,
   "metadata": {},
   "outputs": [],
   "source": [
    "# define the ID to load\n",
    "ID = 0"
   ]
  },
  {
   "cell_type": "code",
   "execution_count": 44,
   "metadata": {},
   "outputs": [
    {
     "data": {
      "text/plain": [
       "'d832fc2dcf2e4a1780059513f3c87f34'"
      ]
     },
     "execution_count": 44,
     "metadata": {},
     "output_type": "execute_result"
    }
   ],
   "source": [
    "# choose the ID to load\n",
    "id = allruns.loc[ID, \"run_id\"]\n",
    "id"
   ]
  },
  {
   "cell_type": "markdown",
   "metadata": {},
   "source": [
    "At this point we have to extract the path to the location were the model is serialized in MLFlow."
   ]
  },
  {
   "cell_type": "code",
   "execution_count": 47,
   "metadata": {},
   "outputs": [
    {
     "name": "stdout",
     "output_type": "stream",
     "text": [
      "./mlruns/1/d832fc2dcf2e4a1780059513f3c87f34/artifacts/model/\n"
     ]
    }
   ],
   "source": [
    "locationBase = allruns.loc[ID, \"artifact_uri\"]\n",
    "start = locationBase.index(\"mlruns\")\n",
    "locationBaseRelativePath = \".\" + locationBase[int(start - 1):]\n",
    "location = locationBaseRelativePath + \"/model/\"\n",
    "print(location)"
   ]
  },
  {
   "cell_type": "markdown",
   "metadata": {},
   "source": [
    "Now that we know where the location is, we load the model and add it to a variable."
   ]
  },
  {
   "cell_type": "code",
   "execution_count": 25,
   "metadata": {},
   "outputs": [],
   "source": [
    "baseline_model = mlflow.sklearn.load_model(location)"
   ]
  },
  {
   "cell_type": "markdown",
   "metadata": {},
   "source": [
    "After this point we can for instance use the model stored in the variable `baseline_model` for prediction, read some metrics etc."
   ]
  },
  {
   "cell_type": "code",
   "execution_count": 33,
   "metadata": {},
   "outputs": [],
   "source": [
    "coef = baseline_model.coef_\n",
    "intercept = baseline_model.intercept_"
   ]
  },
  {
   "cell_type": "code",
   "execution_count": 53,
   "metadata": {},
   "outputs": [
    {
     "name": "stdout",
     "output_type": "stream",
     "text": [
      "Intercept: \n",
      " 0.08297945185226491\n",
      "\n",
      "Coefizient: \n",
      " [-0.10414092 -0.04563868 -0.11416187  0.08072053 -0.08832656  0.08064271\n",
      " -0.01170564  0.57468738]\n"
     ]
    }
   ],
   "source": [
    "print(\"Intercept: \\n\", intercept)\n",
    "print(\"\\nCoefizient: \\n\", coef)"
   ]
  },
  {
   "cell_type": "markdown",
   "metadata": {},
   "source": [
    "# Final Model"
   ]
  },
  {
   "cell_type": "markdown",
   "metadata": {},
   "source": [
    "After importing the required libreries we use MLFlow functions to load the serialized final LSTM model to the notebook. After loading and adding the model to a variable we can use the variable like directly after training the model before the MLFlow export."
   ]
  },
  {
   "cell_type": "markdown",
   "metadata": {},
   "source": [
    "With the set_experiment we select the corresponding project."
   ]
  },
  {
   "cell_type": "code",
   "execution_count": 62,
   "metadata": {},
   "outputs": [],
   "source": [
    "mlflow.set_experiment(\"Final Model AirQualityStuttgart\")"
   ]
  },
  {
   "cell_type": "markdown",
   "metadata": {},
   "source": [
    "Search for existing runs in the `Final Model AirQualityStuttgart`:"
   ]
  },
  {
   "cell_type": "code",
   "execution_count": 63,
   "metadata": {},
   "outputs": [
    {
     "data": {
      "text/plain": [
       "Index(['run_id', 'experiment_id', 'status', 'artifact_uri', 'start_time',\n",
       "       'end_time', 'metrics.val_loss', 'metrics.loss', 'params.shuffle',\n",
       "       'params.workers', 'params.epsilon', 'params.batch_size',\n",
       "       'params.sample_weight', 'params.validation_freq',\n",
       "       'params.use_multiprocessing', 'params.validation_split',\n",
       "       'params.epochs', 'params.learning_rate', 'params.initial_epoch',\n",
       "       'params.num_layers', 'params.validation_steps', 'params.max_queue_size',\n",
       "       'params.optimizer_name', 'params.steps_per_epoch',\n",
       "       'params.class_weight', 'tags.mlflow.source.name', 'tags.mlflow.user',\n",
       "       'tags.mlflow.source.type', 'tags.model_summary'],\n",
       "      dtype='object')"
      ]
     },
     "execution_count": 63,
     "metadata": {},
     "output_type": "execute_result"
    }
   ],
   "source": [
    "allruns2 = mlflow.search_runs()\n",
    "\n",
    "# show all the possible variables are documented in MLFlow\n",
    "allruns2.columns"
   ]
  },
  {
   "cell_type": "code",
   "execution_count": 64,
   "metadata": {},
   "outputs": [
    {
     "data": {
      "text/html": [
       "<div>\n",
       "<style scoped>\n",
       "    .dataframe tbody tr th:only-of-type {\n",
       "        vertical-align: middle;\n",
       "    }\n",
       "\n",
       "    .dataframe tbody tr th {\n",
       "        vertical-align: top;\n",
       "    }\n",
       "\n",
       "    .dataframe thead th {\n",
       "        text-align: right;\n",
       "    }\n",
       "</style>\n",
       "<table border=\"1\" class=\"dataframe\">\n",
       "  <thead>\n",
       "    <tr style=\"text-align: right;\">\n",
       "      <th></th>\n",
       "      <th>run_id</th>\n",
       "      <th>experiment_id</th>\n",
       "      <th>status</th>\n",
       "      <th>artifact_uri</th>\n",
       "      <th>start_time</th>\n",
       "      <th>end_time</th>\n",
       "      <th>metrics.val_loss</th>\n",
       "      <th>metrics.loss</th>\n",
       "      <th>params.shuffle</th>\n",
       "      <th>params.workers</th>\n",
       "      <th>...</th>\n",
       "      <th>params.num_layers</th>\n",
       "      <th>params.validation_steps</th>\n",
       "      <th>params.max_queue_size</th>\n",
       "      <th>params.optimizer_name</th>\n",
       "      <th>params.steps_per_epoch</th>\n",
       "      <th>params.class_weight</th>\n",
       "      <th>tags.mlflow.source.name</th>\n",
       "      <th>tags.mlflow.user</th>\n",
       "      <th>tags.mlflow.source.type</th>\n",
       "      <th>tags.model_summary</th>\n",
       "    </tr>\n",
       "  </thead>\n",
       "  <tbody>\n",
       "    <tr>\n",
       "      <th>0</th>\n",
       "      <td>0595050f97b54e01ada37a4d65fc9e06</td>\n",
       "      <td>2</td>\n",
       "      <td>FINISHED</td>\n",
       "      <td>file:///C:/Users/elvir/Documents/Git_Projekte/...</td>\n",
       "      <td>2020-06-30 15:14:38.465000+00:00</td>\n",
       "      <td>2020-06-30 15:16:45.913000+00:00</td>\n",
       "      <td>0.387071</td>\n",
       "      <td>0.257436</td>\n",
       "      <td>True</td>\n",
       "      <td>1</td>\n",
       "      <td>...</td>\n",
       "      <td>3</td>\n",
       "      <td>None</td>\n",
       "      <td>10</td>\n",
       "      <td>Nadam</td>\n",
       "      <td>None</td>\n",
       "      <td>None</td>\n",
       "      <td>C:\\Users\\elvir\\AppData\\Local\\Continuum\\anacond...</td>\n",
       "      <td>elvir</td>\n",
       "      <td>LOCAL</td>\n",
       "      <td>Model: \"sequential_1\"\\n_______________________...</td>\n",
       "    </tr>\n",
       "  </tbody>\n",
       "</table>\n",
       "<p>1 rows × 29 columns</p>\n",
       "</div>"
      ],
      "text/plain": [
       "                             run_id experiment_id    status  \\\n",
       "0  0595050f97b54e01ada37a4d65fc9e06             2  FINISHED   \n",
       "\n",
       "                                        artifact_uri  \\\n",
       "0  file:///C:/Users/elvir/Documents/Git_Projekte/...   \n",
       "\n",
       "                        start_time                         end_time  \\\n",
       "0 2020-06-30 15:14:38.465000+00:00 2020-06-30 15:16:45.913000+00:00   \n",
       "\n",
       "   metrics.val_loss  metrics.loss params.shuffle params.workers  ...  \\\n",
       "0          0.387071      0.257436           True              1  ...   \n",
       "\n",
       "  params.num_layers params.validation_steps params.max_queue_size  \\\n",
       "0                 3                    None                    10   \n",
       "\n",
       "  params.optimizer_name params.steps_per_epoch params.class_weight  \\\n",
       "0                 Nadam                   None                None   \n",
       "\n",
       "                             tags.mlflow.source.name tags.mlflow.user  \\\n",
       "0  C:\\Users\\elvir\\AppData\\Local\\Continuum\\anacond...            elvir   \n",
       "\n",
       "  tags.mlflow.source.type                                 tags.model_summary  \n",
       "0                   LOCAL  Model: \"sequential_1\"\\n_______________________...  \n",
       "\n",
       "[1 rows x 29 columns]"
      ]
     },
     "execution_count": 64,
     "metadata": {},
     "output_type": "execute_result"
    }
   ],
   "source": [
    "# Print the existing Runs serialized in MLFlow\n",
    "allruns2"
   ]
  },
  {
   "cell_type": "code",
   "execution_count": 66,
   "metadata": {},
   "outputs": [],
   "source": [
    "# define the ID to load\n",
    "ID = 0"
   ]
  },
  {
   "cell_type": "code",
   "execution_count": 67,
   "metadata": {},
   "outputs": [
    {
     "data": {
      "text/plain": [
       "'0595050f97b54e01ada37a4d65fc9e06'"
      ]
     },
     "execution_count": 67,
     "metadata": {},
     "output_type": "execute_result"
    }
   ],
   "source": [
    "# choose the ID to load\n",
    "id = allruns2.loc[ID, \"run_id\"]\n",
    "id"
   ]
  },
  {
   "cell_type": "markdown",
   "metadata": {},
   "source": [
    "At this point we have to extract the path to the location were the model is serialized in MLFlow."
   ]
  },
  {
   "cell_type": "code",
   "execution_count": 68,
   "metadata": {},
   "outputs": [
    {
     "name": "stdout",
     "output_type": "stream",
     "text": [
      "./mlruns/2/0595050f97b54e01ada37a4d65fc9e06/artifacts/model/\n"
     ]
    }
   ],
   "source": [
    "locationBase=allruns2.loc[ID,\"artifact_uri\"]\n",
    "start=locationBase.index(\"mlruns\")\n",
    "locationBaseRelativePath=\".\"+locationBase[int(start-1):]\n",
    "location=locationBaseRelativePath+\"/model/\"\n",
    "print(location)"
   ]
  },
  {
   "cell_type": "markdown",
   "metadata": {},
   "source": [
    "Now that we know where the location is, we load the model and add it to a variable."
   ]
  },
  {
   "cell_type": "code",
   "execution_count": 69,
   "metadata": {},
   "outputs": [],
   "source": [
    "final_model = mlflow.keras.load_model(location)"
   ]
  },
  {
   "cell_type": "markdown",
   "metadata": {},
   "source": [
    "After this point we can for instance use the model stored in the variable `final_model` for prediction, read some metrics, show the model summery etc."
   ]
  },
  {
   "cell_type": "code",
   "execution_count": 70,
   "metadata": {},
   "outputs": [
    {
     "name": "stdout",
     "output_type": "stream",
     "text": [
      "Model: \"sequential_1\"\n",
      "_________________________________________________________________\n",
      "Layer (type)                 Output Shape              Param #   \n",
      "=================================================================\n",
      "lstm_1 (LSTM)                (None, 20)                2320      \n",
      "_________________________________________________________________\n",
      "dropout_1 (Dropout)          (None, 20)                0         \n",
      "_________________________________________________________________\n",
      "dense_1 (Dense)              (None, 1)                 21        \n",
      "=================================================================\n",
      "Total params: 2,341\n",
      "Trainable params: 2,341\n",
      "Non-trainable params: 0\n",
      "_________________________________________________________________\n"
     ]
    }
   ],
   "source": [
    "final_model.summary()"
   ]
  }
 ],
 "metadata": {
  "kernelspec": {
   "display_name": "Python 3",
   "language": "python",
   "name": "python3"
  },
  "language_info": {
   "codemirror_mode": {
    "name": "ipython",
    "version": 3
   },
   "file_extension": ".py",
   "mimetype": "text/x-python",
   "name": "python",
   "nbconvert_exporter": "python",
   "pygments_lexer": "ipython3",
   "version": "3.7.7"
  },
  "nbTranslate": {
   "displayLangs": [
    "*"
   ],
   "hotkey": "alt-t",
   "langInMainMenu": true,
   "sourceLang": "en",
   "targetLang": "fr",
   "useGoogleTranslate": true
  },
  "toc": {
   "base_numbering": 1,
   "nav_menu": {},
   "number_sections": true,
   "sideBar": true,
   "skip_h1_title": false,
   "title_cell": "Table of Contents",
   "title_sidebar": "Contents",
   "toc_cell": false,
   "toc_position": {},
   "toc_section_display": true,
   "toc_window_display": true
  },
  "varInspector": {
   "cols": {
    "lenName": 16,
    "lenType": 16,
    "lenVar": 40
   },
   "kernels_config": {
    "python": {
     "delete_cmd_postfix": "",
     "delete_cmd_prefix": "del ",
     "library": "var_list.py",
     "varRefreshCmd": "print(var_dic_list())"
    },
    "r": {
     "delete_cmd_postfix": ") ",
     "delete_cmd_prefix": "rm(",
     "library": "var_list.r",
     "varRefreshCmd": "cat(var_dic_list()) "
    }
   },
   "types_to_exclude": [
    "module",
    "function",
    "builtin_function_or_method",
    "instance",
    "_Feature"
   ],
   "window_display": false
  }
 },
 "nbformat": 4,
 "nbformat_minor": 2
}
