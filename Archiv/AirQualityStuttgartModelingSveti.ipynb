{
 "cells": [
  {
   "cell_type": "markdown",
   "metadata": {},
   "source": [
    "# Libraries and Global Settings"
   ]
  },
  {
   "cell_type": "code",
   "execution_count": 1,
   "metadata": {},
   "outputs": [
    {
     "name": "stderr",
     "output_type": "stream",
     "text": [
      "Using TensorFlow backend.\n"
     ]
    }
   ],
   "source": [
    "import pandas as pd  # work with Pandas dataframes\n",
    "from matplotlib import pyplot as plt\n",
    "import seaborn as sb\n",
    "from scipy import stats\n",
    "\n",
    "from sklearn import preprocessing\n",
    "\n",
    "from keras import layers\n",
    "from keras.models import Sequential\n",
    "from keras.layers.core import Dense, Activation, Dropout\n",
    "from keras.optimizers import RMSprop\n",
    "\n",
    "import warnings # Funktionalität zur Unterdrückung von Warnungen\n",
    "warnings.filterwarnings('ignore')"
   ]
  },
  {
   "cell_type": "code",
   "execution_count": 2,
   "metadata": {},
   "outputs": [],
   "source": [
    "#!pip install pandas_profiling"
   ]
  },
  {
   "cell_type": "code",
   "execution_count": 3,
   "metadata": {},
   "outputs": [
    {
     "data": {
      "text/html": [
       "<style>\n",
       "table {float:left}\n",
       "</style>\n"
      ],
      "text/plain": [
       "<IPython.core.display.HTML object>"
      ]
     },
     "metadata": {},
     "output_type": "display_data"
    }
   ],
   "source": [
    "%%html\n",
    "<style>\n",
    "table {float:left}\n",
    "</style>"
   ]
  },
  {
   "cell_type": "markdown",
   "metadata": {},
   "source": [
    "# Importing Data"
   ]
  },
  {
   "cell_type": "markdown",
   "metadata": {},
   "source": [
    "Fist of all we import the data which were generated in the whole preprocess (`df_for_ML`)."
   ]
  },
  {
   "cell_type": "code",
   "execution_count": 4,
   "metadata": {},
   "outputs": [],
   "source": [
    "dateparse = lambda x: pd.datetime.strptime(x, '%Y-%m-%d')"
   ]
  },
  {
   "cell_type": "code",
   "execution_count": 5,
   "metadata": {
    "scrolled": false
   },
   "outputs": [],
   "source": [
    "df_for_ML = pd.read_csv('df_for_ML.csv', parse_dates=['Datum'], date_parser=dateparse)"
   ]
  },
  {
   "cell_type": "code",
   "execution_count": 6,
   "metadata": {},
   "outputs": [
    {
     "data": {
      "text/plain": [
       "Timestamp('2000-01-01 00:00:00')"
      ]
     },
     "execution_count": 6,
     "metadata": {},
     "output_type": "execute_result"
    }
   ],
   "source": [
    "df_for_ML.Datum[0]"
   ]
  },
  {
   "cell_type": "code",
   "execution_count": 7,
   "metadata": {},
   "outputs": [
    {
     "name": "stdout",
     "output_type": "stream",
     "text": [
      "<class 'pandas.core.frame.DataFrame'>\n",
      "RangeIndex: 7458 entries, 0 to 7457\n",
      "Data columns (total 9 columns):\n",
      " #   Column        Non-Null Count  Dtype         \n",
      "---  ------        --------------  -----         \n",
      " 0   Datum         7458 non-null   datetime64[ns]\n",
      " 1   Temp          7458 non-null   float64       \n",
      " 2   WG            7458 non-null   float64       \n",
      " 3   WR            7458 non-null   float64       \n",
      " 4   Druck         7458 non-null   float64       \n",
      " 5   NO            7458 non-null   float64       \n",
      " 6   NO2           7458 non-null   float64       \n",
      " 7   Niederschlag  7458 non-null   float64       \n",
      " 8   PM10          7458 non-null   float64       \n",
      "dtypes: datetime64[ns](1), float64(8)\n",
      "memory usage: 524.5 KB\n"
     ]
    }
   ],
   "source": [
    "df_for_ML.info()"
   ]
  },
  {
   "cell_type": "code",
   "execution_count": 8,
   "metadata": {},
   "outputs": [
    {
     "data": {
      "text/html": [
       "<div>\n",
       "<style scoped>\n",
       "    .dataframe tbody tr th:only-of-type {\n",
       "        vertical-align: middle;\n",
       "    }\n",
       "\n",
       "    .dataframe tbody tr th {\n",
       "        vertical-align: top;\n",
       "    }\n",
       "\n",
       "    .dataframe thead th {\n",
       "        text-align: right;\n",
       "    }\n",
       "</style>\n",
       "<table border=\"1\" class=\"dataframe\">\n",
       "  <thead>\n",
       "    <tr style=\"text-align: right;\">\n",
       "      <th></th>\n",
       "      <th>Datum</th>\n",
       "      <th>Temp</th>\n",
       "      <th>WG</th>\n",
       "      <th>WR</th>\n",
       "      <th>Druck</th>\n",
       "      <th>NO</th>\n",
       "      <th>NO2</th>\n",
       "      <th>Niederschlag</th>\n",
       "      <th>PM10</th>\n",
       "    </tr>\n",
       "  </thead>\n",
       "  <tbody>\n",
       "    <tr>\n",
       "      <th>0</th>\n",
       "      <td>2000-01-01</td>\n",
       "      <td>3.718</td>\n",
       "      <td>1.959896</td>\n",
       "      <td>234.922917</td>\n",
       "      <td>991.80</td>\n",
       "      <td>17.6266</td>\n",
       "      <td>24.236</td>\n",
       "      <td>3.5892</td>\n",
       "      <td>11.3772</td>\n",
       "    </tr>\n",
       "    <tr>\n",
       "      <th>1</th>\n",
       "      <td>2000-01-02</td>\n",
       "      <td>3.848</td>\n",
       "      <td>2.172912</td>\n",
       "      <td>222.511250</td>\n",
       "      <td>996.90</td>\n",
       "      <td>14.2886</td>\n",
       "      <td>28.698</td>\n",
       "      <td>3.5212</td>\n",
       "      <td>12.3972</td>\n",
       "    </tr>\n",
       "    <tr>\n",
       "      <th>2</th>\n",
       "      <td>2000-01-03</td>\n",
       "      <td>1.463</td>\n",
       "      <td>2.295208</td>\n",
       "      <td>220.181250</td>\n",
       "      <td>996.20</td>\n",
       "      <td>19.0638</td>\n",
       "      <td>35.336</td>\n",
       "      <td>0.8398</td>\n",
       "      <td>19.9480</td>\n",
       "    </tr>\n",
       "    <tr>\n",
       "      <th>3</th>\n",
       "      <td>2000-01-04</td>\n",
       "      <td>4.934</td>\n",
       "      <td>3.574979</td>\n",
       "      <td>220.885417</td>\n",
       "      <td>989.90</td>\n",
       "      <td>8.2660</td>\n",
       "      <td>24.210</td>\n",
       "      <td>1.4894</td>\n",
       "      <td>11.4780</td>\n",
       "    </tr>\n",
       "    <tr>\n",
       "      <th>4</th>\n",
       "      <td>2000-01-05</td>\n",
       "      <td>6.917</td>\n",
       "      <td>2.237208</td>\n",
       "      <td>220.554167</td>\n",
       "      <td>989.70</td>\n",
       "      <td>11.3496</td>\n",
       "      <td>26.208</td>\n",
       "      <td>4.3200</td>\n",
       "      <td>12.9260</td>\n",
       "    </tr>\n",
       "    <tr>\n",
       "      <th>...</th>\n",
       "      <td>...</td>\n",
       "      <td>...</td>\n",
       "      <td>...</td>\n",
       "      <td>...</td>\n",
       "      <td>...</td>\n",
       "      <td>...</td>\n",
       "      <td>...</td>\n",
       "      <td>...</td>\n",
       "      <td>...</td>\n",
       "    </tr>\n",
       "    <tr>\n",
       "      <th>7452</th>\n",
       "      <td>2020-05-27</td>\n",
       "      <td>17.300</td>\n",
       "      <td>1.700000</td>\n",
       "      <td>212.000000</td>\n",
       "      <td>1000.09</td>\n",
       "      <td>6.1000</td>\n",
       "      <td>21.700</td>\n",
       "      <td>0.0000</td>\n",
       "      <td>12.1060</td>\n",
       "    </tr>\n",
       "    <tr>\n",
       "      <th>7453</th>\n",
       "      <td>2020-05-28</td>\n",
       "      <td>17.300</td>\n",
       "      <td>2.400000</td>\n",
       "      <td>28.000000</td>\n",
       "      <td>996.45</td>\n",
       "      <td>4.2000</td>\n",
       "      <td>23.500</td>\n",
       "      <td>0.0000</td>\n",
       "      <td>13.9400</td>\n",
       "    </tr>\n",
       "    <tr>\n",
       "      <th>7454</th>\n",
       "      <td>2020-05-29</td>\n",
       "      <td>16.200</td>\n",
       "      <td>2.200000</td>\n",
       "      <td>129.000000</td>\n",
       "      <td>993.43</td>\n",
       "      <td>2.8000</td>\n",
       "      <td>18.700</td>\n",
       "      <td>0.0000</td>\n",
       "      <td>21.6300</td>\n",
       "    </tr>\n",
       "    <tr>\n",
       "      <th>7455</th>\n",
       "      <td>2020-05-30</td>\n",
       "      <td>15.900</td>\n",
       "      <td>2.400000</td>\n",
       "      <td>27.000000</td>\n",
       "      <td>989.46</td>\n",
       "      <td>2.4000</td>\n",
       "      <td>18.400</td>\n",
       "      <td>0.0000</td>\n",
       "      <td>13.1080</td>\n",
       "    </tr>\n",
       "    <tr>\n",
       "      <th>7456</th>\n",
       "      <td>2020-05-31</td>\n",
       "      <td>16.700</td>\n",
       "      <td>2.000000</td>\n",
       "      <td>61.000000</td>\n",
       "      <td>988.27</td>\n",
       "      <td>1.6000</td>\n",
       "      <td>13.000</td>\n",
       "      <td>0.0000</td>\n",
       "      <td>11.5820</td>\n",
       "    </tr>\n",
       "  </tbody>\n",
       "</table>\n",
       "<p>7458 rows × 9 columns</p>\n",
       "</div>"
      ],
      "text/plain": [
       "          Datum    Temp        WG          WR    Druck       NO     NO2  \\\n",
       "0    2000-01-01   3.718  1.959896  234.922917   991.80  17.6266  24.236   \n",
       "1    2000-01-02   3.848  2.172912  222.511250   996.90  14.2886  28.698   \n",
       "2    2000-01-03   1.463  2.295208  220.181250   996.20  19.0638  35.336   \n",
       "3    2000-01-04   4.934  3.574979  220.885417   989.90   8.2660  24.210   \n",
       "4    2000-01-05   6.917  2.237208  220.554167   989.70  11.3496  26.208   \n",
       "...         ...     ...       ...         ...      ...      ...     ...   \n",
       "7452 2020-05-27  17.300  1.700000  212.000000  1000.09   6.1000  21.700   \n",
       "7453 2020-05-28  17.300  2.400000   28.000000   996.45   4.2000  23.500   \n",
       "7454 2020-05-29  16.200  2.200000  129.000000   993.43   2.8000  18.700   \n",
       "7455 2020-05-30  15.900  2.400000   27.000000   989.46   2.4000  18.400   \n",
       "7456 2020-05-31  16.700  2.000000   61.000000   988.27   1.6000  13.000   \n",
       "\n",
       "      Niederschlag     PM10  \n",
       "0           3.5892  11.3772  \n",
       "1           3.5212  12.3972  \n",
       "2           0.8398  19.9480  \n",
       "3           1.4894  11.4780  \n",
       "4           4.3200  12.9260  \n",
       "...            ...      ...  \n",
       "7452        0.0000  12.1060  \n",
       "7453        0.0000  13.9400  \n",
       "7454        0.0000  21.6300  \n",
       "7455        0.0000  13.1080  \n",
       "7456        0.0000  11.5820  \n",
       "\n",
       "[7458 rows x 9 columns]"
      ]
     },
     "execution_count": 8,
     "metadata": {},
     "output_type": "execute_result"
    }
   ],
   "source": [
    "df_for_ML=df_for_ML.sort_values(by=['Datum'], axis=0, ascending=True)\n",
    "df_for_ML"
   ]
  },
  {
   "cell_type": "code",
   "execution_count": 9,
   "metadata": {},
   "outputs": [
    {
     "data": {
      "text/plain": [
       "pandas._libs.tslibs.timestamps.Timestamp"
      ]
     },
     "execution_count": 9,
     "metadata": {},
     "output_type": "execute_result"
    }
   ],
   "source": [
    "type(df_for_ML.Datum[0])"
   ]
  },
  {
   "cell_type": "code",
   "execution_count": 10,
   "metadata": {},
   "outputs": [
    {
     "data": {
      "text/html": [
       "<div>\n",
       "<style scoped>\n",
       "    .dataframe tbody tr th:only-of-type {\n",
       "        vertical-align: middle;\n",
       "    }\n",
       "\n",
       "    .dataframe tbody tr th {\n",
       "        vertical-align: top;\n",
       "    }\n",
       "\n",
       "    .dataframe thead th {\n",
       "        text-align: right;\n",
       "    }\n",
       "</style>\n",
       "<table border=\"1\" class=\"dataframe\">\n",
       "  <thead>\n",
       "    <tr style=\"text-align: right;\">\n",
       "      <th></th>\n",
       "      <th>Temp</th>\n",
       "      <th>WG</th>\n",
       "      <th>WR</th>\n",
       "      <th>Druck</th>\n",
       "      <th>NO</th>\n",
       "      <th>NO2</th>\n",
       "      <th>Niederschlag</th>\n",
       "      <th>PM10</th>\n",
       "    </tr>\n",
       "  </thead>\n",
       "  <tbody>\n",
       "    <tr>\n",
       "      <th>count</th>\n",
       "      <td>7458.000000</td>\n",
       "      <td>7458.000000</td>\n",
       "      <td>7458.000000</td>\n",
       "      <td>7458.000000</td>\n",
       "      <td>7458.000000</td>\n",
       "      <td>7458.000000</td>\n",
       "      <td>7458.000000</td>\n",
       "      <td>7458.000000</td>\n",
       "    </tr>\n",
       "    <tr>\n",
       "      <th>mean</th>\n",
       "      <td>12.037186</td>\n",
       "      <td>1.972305</td>\n",
       "      <td>194.088486</td>\n",
       "      <td>984.913948</td>\n",
       "      <td>17.660555</td>\n",
       "      <td>33.409431</td>\n",
       "      <td>1.290489</td>\n",
       "      <td>19.127094</td>\n",
       "    </tr>\n",
       "    <tr>\n",
       "      <th>std</th>\n",
       "      <td>7.414490</td>\n",
       "      <td>0.692115</td>\n",
       "      <td>61.491858</td>\n",
       "      <td>7.461863</td>\n",
       "      <td>16.387746</td>\n",
       "      <td>15.528238</td>\n",
       "      <td>2.570995</td>\n",
       "      <td>9.034226</td>\n",
       "    </tr>\n",
       "    <tr>\n",
       "      <th>min</th>\n",
       "      <td>-11.430000</td>\n",
       "      <td>0.600000</td>\n",
       "      <td>9.000000</td>\n",
       "      <td>966.762500</td>\n",
       "      <td>0.047220</td>\n",
       "      <td>0.000000</td>\n",
       "      <td>0.000000</td>\n",
       "      <td>0.000000</td>\n",
       "    </tr>\n",
       "    <tr>\n",
       "      <th>25%</th>\n",
       "      <td>6.259250</td>\n",
       "      <td>1.500000</td>\n",
       "      <td>153.713579</td>\n",
       "      <td>980.585000</td>\n",
       "      <td>5.287000</td>\n",
       "      <td>22.260000</td>\n",
       "      <td>0.000000</td>\n",
       "      <td>12.481200</td>\n",
       "    </tr>\n",
       "    <tr>\n",
       "      <th>50%</th>\n",
       "      <td>12.205000</td>\n",
       "      <td>1.800000</td>\n",
       "      <td>211.071147</td>\n",
       "      <td>985.400000</td>\n",
       "      <td>11.165000</td>\n",
       "      <td>31.175000</td>\n",
       "      <td>0.060000</td>\n",
       "      <td>17.310000</td>\n",
       "    </tr>\n",
       "    <tr>\n",
       "      <th>75%</th>\n",
       "      <td>17.730000</td>\n",
       "      <td>2.300000</td>\n",
       "      <td>234.489428</td>\n",
       "      <td>989.800000</td>\n",
       "      <td>24.995000</td>\n",
       "      <td>42.510000</td>\n",
       "      <td>1.270000</td>\n",
       "      <td>24.133000</td>\n",
       "    </tr>\n",
       "    <tr>\n",
       "      <th>max</th>\n",
       "      <td>31.460000</td>\n",
       "      <td>4.166604</td>\n",
       "      <td>359.700000</td>\n",
       "      <td>1003.622500</td>\n",
       "      <td>54.557000</td>\n",
       "      <td>81.970000</td>\n",
       "      <td>11.500000</td>\n",
       "      <td>41.610700</td>\n",
       "    </tr>\n",
       "  </tbody>\n",
       "</table>\n",
       "</div>"
      ],
      "text/plain": [
       "              Temp           WG           WR        Druck           NO  \\\n",
       "count  7458.000000  7458.000000  7458.000000  7458.000000  7458.000000   \n",
       "mean     12.037186     1.972305   194.088486   984.913948    17.660555   \n",
       "std       7.414490     0.692115    61.491858     7.461863    16.387746   \n",
       "min     -11.430000     0.600000     9.000000   966.762500     0.047220   \n",
       "25%       6.259250     1.500000   153.713579   980.585000     5.287000   \n",
       "50%      12.205000     1.800000   211.071147   985.400000    11.165000   \n",
       "75%      17.730000     2.300000   234.489428   989.800000    24.995000   \n",
       "max      31.460000     4.166604   359.700000  1003.622500    54.557000   \n",
       "\n",
       "               NO2  Niederschlag         PM10  \n",
       "count  7458.000000   7458.000000  7458.000000  \n",
       "mean     33.409431      1.290489    19.127094  \n",
       "std      15.528238      2.570995     9.034226  \n",
       "min       0.000000      0.000000     0.000000  \n",
       "25%      22.260000      0.000000    12.481200  \n",
       "50%      31.175000      0.060000    17.310000  \n",
       "75%      42.510000      1.270000    24.133000  \n",
       "max      81.970000     11.500000    41.610700  "
      ]
     },
     "execution_count": 10,
     "metadata": {},
     "output_type": "execute_result"
    }
   ],
   "source": [
    "df_for_ML.describe()"
   ]
  },
  {
   "cell_type": "markdown",
   "metadata": {},
   "source": [
    "# Modeling"
   ]
  },
  {
   "cell_type": "markdown",
   "metadata": {},
   "source": [
    "## Data Preparation"
   ]
  },
  {
   "cell_type": "markdown",
   "metadata": {},
   "source": [
    "Definition of Sampling Rates"
   ]
  },
  {
   "cell_type": "code",
   "execution_count": 13,
   "metadata": {},
   "outputs": [
    {
     "data": {
      "image/png": "[encoded data removed]",
      "text/plain": [
       "<Figure size 1008x504 with 1 Axes>"
      ]
     },
     "metadata": {},
     "output_type": "display_data"
    }
   ],
   "source": [
    "plt.figure(figsize=(14,7))\n",
    "sb.set_style(\"darkgrid\")\n",
    "sb.boxplot(data=df_for_ML.drop(columns=[\"Datum\",\"Druck\"]))\n",
    "#plt.title(\"Distribution of normalized temperature, humidity and windspeed\")\n",
    "plt.ylabel(\"Original values\")\n",
    "plt.show()"
   ]
  },
  {
   "cell_type": "markdown",
   "metadata": {},
   "source": [
    "### Data Scaling and Normalization"
   ]
  },
  {
   "cell_type": "markdown",
   "metadata": {},
   "source": [
    "#### Data Preparation"
   ]
  },
  {
   "cell_type": "code",
   "execution_count": 14,
   "metadata": {},
   "outputs": [
    {
     "data": {
      "text/plain": [
       "pandas._libs.tslibs.timestamps.Timestamp"
      ]
     },
     "execution_count": 14,
     "metadata": {},
     "output_type": "execute_result"
    }
   ],
   "source": [
    "type(df_for_ML.Datum[0])"
   ]
  },
  {
   "cell_type": "markdown",
   "metadata": {},
   "source": [
    "#### Data Normalization"
   ]
  },
  {
   "cell_type": "code",
   "execution_count": 15,
   "metadata": {},
   "outputs": [],
   "source": [
    "df_for_ML_woDate = df_for_ML.drop('Datum', axis=1)\n",
    "x = df_for_ML_woDate.values #returns a numpy array\n",
    "min_max_scaler = preprocessing.MinMaxScaler()\n",
    "x_scaled = min_max_scaler.fit_transform(x)\n",
    "df_for_ML_norm = pd.DataFrame(x_scaled)"
   ]
  },
  {
   "cell_type": "code",
   "execution_count": 16,
   "metadata": {},
   "outputs": [
    {
     "data": {
      "text/html": [
       "<div>\n",
       "<style scoped>\n",
       "    .dataframe tbody tr th:only-of-type {\n",
       "        vertical-align: middle;\n",
       "    }\n",
       "\n",
       "    .dataframe tbody tr th {\n",
       "        vertical-align: top;\n",
       "    }\n",
       "\n",
       "    .dataframe thead th {\n",
       "        text-align: right;\n",
       "    }\n",
       "</style>\n",
       "<table border=\"1\" class=\"dataframe\">\n",
       "  <thead>\n",
       "    <tr style=\"text-align: right;\">\n",
       "      <th></th>\n",
       "      <th>0</th>\n",
       "      <th>1</th>\n",
       "      <th>2</th>\n",
       "      <th>3</th>\n",
       "      <th>4</th>\n",
       "      <th>5</th>\n",
       "      <th>6</th>\n",
       "      <th>7</th>\n",
       "    </tr>\n",
       "  </thead>\n",
       "  <tbody>\n",
       "    <tr>\n",
       "      <th>0</th>\n",
       "      <td>0.353183</td>\n",
       "      <td>0.381286</td>\n",
       "      <td>0.644206</td>\n",
       "      <td>0.679259</td>\n",
       "      <td>0.322500</td>\n",
       "      <td>0.295669</td>\n",
       "      <td>0.312104</td>\n",
       "      <td>0.273420</td>\n",
       "    </tr>\n",
       "    <tr>\n",
       "      <th>1</th>\n",
       "      <td>0.356214</td>\n",
       "      <td>0.441011</td>\n",
       "      <td>0.608815</td>\n",
       "      <td>0.817621</td>\n",
       "      <td>0.261263</td>\n",
       "      <td>0.350104</td>\n",
       "      <td>0.306191</td>\n",
       "      <td>0.297933</td>\n",
       "    </tr>\n",
       "    <tr>\n",
       "      <th>2</th>\n",
       "      <td>0.300606</td>\n",
       "      <td>0.475300</td>\n",
       "      <td>0.602171</td>\n",
       "      <td>0.798630</td>\n",
       "      <td>0.348865</td>\n",
       "      <td>0.431085</td>\n",
       "      <td>0.073026</td>\n",
       "      <td>0.479396</td>\n",
       "    </tr>\n",
       "    <tr>\n",
       "      <th>3</th>\n",
       "      <td>0.381534</td>\n",
       "      <td>0.834121</td>\n",
       "      <td>0.604179</td>\n",
       "      <td>0.627713</td>\n",
       "      <td>0.150776</td>\n",
       "      <td>0.295352</td>\n",
       "      <td>0.129513</td>\n",
       "      <td>0.275843</td>\n",
       "    </tr>\n",
       "    <tr>\n",
       "      <th>4</th>\n",
       "      <td>0.427769</td>\n",
       "      <td>0.459038</td>\n",
       "      <td>0.603234</td>\n",
       "      <td>0.622287</td>\n",
       "      <td>0.207346</td>\n",
       "      <td>0.319727</td>\n",
       "      <td>0.375652</td>\n",
       "      <td>0.310641</td>\n",
       "    </tr>\n",
       "  </tbody>\n",
       "</table>\n",
       "</div>"
      ],
      "text/plain": [
       "          0         1         2         3         4         5         6  \\\n",
       "0  0.353183  0.381286  0.644206  0.679259  0.322500  0.295669  0.312104   \n",
       "1  0.356214  0.441011  0.608815  0.817621  0.261263  0.350104  0.306191   \n",
       "2  0.300606  0.475300  0.602171  0.798630  0.348865  0.431085  0.073026   \n",
       "3  0.381534  0.834121  0.604179  0.627713  0.150776  0.295352  0.129513   \n",
       "4  0.427769  0.459038  0.603234  0.622287  0.207346  0.319727  0.375652   \n",
       "\n",
       "          7  \n",
       "0  0.273420  \n",
       "1  0.297933  \n",
       "2  0.479396  \n",
       "3  0.275843  \n",
       "4  0.310641  "
      ]
     },
     "execution_count": 16,
     "metadata": {},
     "output_type": "execute_result"
    }
   ],
   "source": [
    "df_for_ML_norm.head()"
   ]
  },
  {
   "cell_type": "code",
   "execution_count": 17,
   "metadata": {},
   "outputs": [
    {
     "data": {
      "text/plain": [
       "{0: 'Temp',\n",
       " 1: 'WG',\n",
       " 2: 'WR',\n",
       " 3: 'Druck',\n",
       " 4: 'NO',\n",
       " 5: 'NO2',\n",
       " 6: 'Niederschlag',\n",
       " 7: 'PM10'}"
      ]
     },
     "execution_count": 17,
     "metadata": {},
     "output_type": "execute_result"
    }
   ],
   "source": [
    "i = 0\n",
    "dictColumn = {}\n",
    "for i in range(0,(len(df_for_ML_woDate.columns))):\n",
    "    dictColumn.update({list(df_for_ML_norm.columns)[i]:list(df_for_ML_woDate.columns)[i]})\n",
    "    i=i+1\n",
    "dictColumn"
   ]
  },
  {
   "cell_type": "code",
   "execution_count": 18,
   "metadata": {},
   "outputs": [],
   "source": [
    "df_for_ML_norm=df_for_ML_norm.rename(columns=dictColumn)\n"
   ]
  },
  {
   "cell_type": "code",
   "execution_count": 19,
   "metadata": {},
   "outputs": [],
   "source": [
    "df_for_ML_Date = df_for_ML[['Datum']]"
   ]
  },
  {
   "cell_type": "code",
   "execution_count": 20,
   "metadata": {},
   "outputs": [],
   "source": [
    "df_for_ML_norm = pd.concat([df_for_ML_Date, df_for_ML_norm], axis=1, sort=False)"
   ]
  },
  {
   "cell_type": "code",
   "execution_count": 21,
   "metadata": {},
   "outputs": [
    {
     "data": {
      "text/html": [
       "<div>\n",
       "<style scoped>\n",
       "    .dataframe tbody tr th:only-of-type {\n",
       "        vertical-align: middle;\n",
       "    }\n",
       "\n",
       "    .dataframe tbody tr th {\n",
       "        vertical-align: top;\n",
       "    }\n",
       "\n",
       "    .dataframe thead th {\n",
       "        text-align: right;\n",
       "    }\n",
       "</style>\n",
       "<table border=\"1\" class=\"dataframe\">\n",
       "  <thead>\n",
       "    <tr style=\"text-align: right;\">\n",
       "      <th></th>\n",
       "      <th>Datum</th>\n",
       "      <th>Temp</th>\n",
       "      <th>WG</th>\n",
       "      <th>WR</th>\n",
       "      <th>Druck</th>\n",
       "      <th>NO</th>\n",
       "      <th>NO2</th>\n",
       "      <th>Niederschlag</th>\n",
       "      <th>PM10</th>\n",
       "    </tr>\n",
       "  </thead>\n",
       "  <tbody>\n",
       "    <tr>\n",
       "      <th>0</th>\n",
       "      <td>2000-01-01</td>\n",
       "      <td>0.353183</td>\n",
       "      <td>0.381286</td>\n",
       "      <td>0.644206</td>\n",
       "      <td>0.679259</td>\n",
       "      <td>0.322500</td>\n",
       "      <td>0.295669</td>\n",
       "      <td>0.312104</td>\n",
       "      <td>0.273420</td>\n",
       "    </tr>\n",
       "    <tr>\n",
       "      <th>1</th>\n",
       "      <td>2000-01-02</td>\n",
       "      <td>0.356214</td>\n",
       "      <td>0.441011</td>\n",
       "      <td>0.608815</td>\n",
       "      <td>0.817621</td>\n",
       "      <td>0.261263</td>\n",
       "      <td>0.350104</td>\n",
       "      <td>0.306191</td>\n",
       "      <td>0.297933</td>\n",
       "    </tr>\n",
       "    <tr>\n",
       "      <th>2</th>\n",
       "      <td>2000-01-03</td>\n",
       "      <td>0.300606</td>\n",
       "      <td>0.475300</td>\n",
       "      <td>0.602171</td>\n",
       "      <td>0.798630</td>\n",
       "      <td>0.348865</td>\n",
       "      <td>0.431085</td>\n",
       "      <td>0.073026</td>\n",
       "      <td>0.479396</td>\n",
       "    </tr>\n",
       "    <tr>\n",
       "      <th>3</th>\n",
       "      <td>2000-01-04</td>\n",
       "      <td>0.381534</td>\n",
       "      <td>0.834121</td>\n",
       "      <td>0.604179</td>\n",
       "      <td>0.627713</td>\n",
       "      <td>0.150776</td>\n",
       "      <td>0.295352</td>\n",
       "      <td>0.129513</td>\n",
       "      <td>0.275843</td>\n",
       "    </tr>\n",
       "    <tr>\n",
       "      <th>4</th>\n",
       "      <td>2000-01-05</td>\n",
       "      <td>0.427769</td>\n",
       "      <td>0.459038</td>\n",
       "      <td>0.603234</td>\n",
       "      <td>0.622287</td>\n",
       "      <td>0.207346</td>\n",
       "      <td>0.319727</td>\n",
       "      <td>0.375652</td>\n",
       "      <td>0.310641</td>\n",
       "    </tr>\n",
       "  </tbody>\n",
       "</table>\n",
       "</div>"
      ],
      "text/plain": [
       "       Datum      Temp        WG        WR     Druck        NO       NO2  \\\n",
       "0 2000-01-01  0.353183  0.381286  0.644206  0.679259  0.322500  0.295669   \n",
       "1 2000-01-02  0.356214  0.441011  0.608815  0.817621  0.261263  0.350104   \n",
       "2 2000-01-03  0.300606  0.475300  0.602171  0.798630  0.348865  0.431085   \n",
       "3 2000-01-04  0.381534  0.834121  0.604179  0.627713  0.150776  0.295352   \n",
       "4 2000-01-05  0.427769  0.459038  0.603234  0.622287  0.207346  0.319727   \n",
       "\n",
       "   Niederschlag      PM10  \n",
       "0      0.312104  0.273420  \n",
       "1      0.306191  0.297933  \n",
       "2      0.073026  0.479396  \n",
       "3      0.129513  0.275843  \n",
       "4      0.375652  0.310641  "
      ]
     },
     "execution_count": 21,
     "metadata": {},
     "output_type": "execute_result"
    }
   ],
   "source": [
    "df_for_ML_norm.head()"
   ]
  },
  {
   "cell_type": "code",
   "execution_count": 22,
   "metadata": {},
   "outputs": [
    {
     "data": {
      "text/html": [
       "<div>\n",
       "<style scoped>\n",
       "    .dataframe tbody tr th:only-of-type {\n",
       "        vertical-align: middle;\n",
       "    }\n",
       "\n",
       "    .dataframe tbody tr th {\n",
       "        vertical-align: top;\n",
       "    }\n",
       "\n",
       "    .dataframe thead th {\n",
       "        text-align: right;\n",
       "    }\n",
       "</style>\n",
       "<table border=\"1\" class=\"dataframe\">\n",
       "  <thead>\n",
       "    <tr style=\"text-align: right;\">\n",
       "      <th></th>\n",
       "      <th>Temp</th>\n",
       "      <th>WG</th>\n",
       "      <th>WR</th>\n",
       "      <th>Druck</th>\n",
       "      <th>NO</th>\n",
       "      <th>NO2</th>\n",
       "      <th>Niederschlag</th>\n",
       "      <th>PM10</th>\n",
       "    </tr>\n",
       "  </thead>\n",
       "  <tbody>\n",
       "    <tr>\n",
       "      <th>count</th>\n",
       "      <td>7458.000000</td>\n",
       "      <td>7458.000000</td>\n",
       "      <td>7458.000000</td>\n",
       "      <td>7458.000000</td>\n",
       "      <td>7458.000000</td>\n",
       "      <td>7458.000000</td>\n",
       "      <td>7458.000000</td>\n",
       "      <td>7458.000000</td>\n",
       "    </tr>\n",
       "    <tr>\n",
       "      <th>mean</th>\n",
       "      <td>0.547148</td>\n",
       "      <td>0.384765</td>\n",
       "      <td>0.527769</td>\n",
       "      <td>0.492443</td>\n",
       "      <td>0.323122</td>\n",
       "      <td>0.407581</td>\n",
       "      <td>0.112216</td>\n",
       "      <td>0.459668</td>\n",
       "    </tr>\n",
       "    <tr>\n",
       "      <th>std</th>\n",
       "      <td>0.172872</td>\n",
       "      <td>0.194054</td>\n",
       "      <td>0.175340</td>\n",
       "      <td>0.202438</td>\n",
       "      <td>0.300639</td>\n",
       "      <td>0.189438</td>\n",
       "      <td>0.223565</td>\n",
       "      <td>0.217113</td>\n",
       "    </tr>\n",
       "    <tr>\n",
       "      <th>min</th>\n",
       "      <td>0.000000</td>\n",
       "      <td>0.000000</td>\n",
       "      <td>0.000000</td>\n",
       "      <td>0.000000</td>\n",
       "      <td>0.000000</td>\n",
       "      <td>0.000000</td>\n",
       "      <td>0.000000</td>\n",
       "      <td>0.000000</td>\n",
       "    </tr>\n",
       "    <tr>\n",
       "      <th>25%</th>\n",
       "      <td>0.412433</td>\n",
       "      <td>0.252341</td>\n",
       "      <td>0.412642</td>\n",
       "      <td>0.375000</td>\n",
       "      <td>0.096126</td>\n",
       "      <td>0.271563</td>\n",
       "      <td>0.000000</td>\n",
       "      <td>0.299952</td>\n",
       "    </tr>\n",
       "    <tr>\n",
       "      <th>50%</th>\n",
       "      <td>0.551061</td>\n",
       "      <td>0.336454</td>\n",
       "      <td>0.576194</td>\n",
       "      <td>0.505629</td>\n",
       "      <td>0.203959</td>\n",
       "      <td>0.380322</td>\n",
       "      <td>0.005217</td>\n",
       "      <td>0.415999</td>\n",
       "    </tr>\n",
       "    <tr>\n",
       "      <th>75%</th>\n",
       "      <td>0.679879</td>\n",
       "      <td>0.476644</td>\n",
       "      <td>0.642970</td>\n",
       "      <td>0.625000</td>\n",
       "      <td>0.457675</td>\n",
       "      <td>0.518604</td>\n",
       "      <td>0.110435</td>\n",
       "      <td>0.579971</td>\n",
       "    </tr>\n",
       "    <tr>\n",
       "      <th>max</th>\n",
       "      <td>1.000000</td>\n",
       "      <td>1.000000</td>\n",
       "      <td>1.000000</td>\n",
       "      <td>1.000000</td>\n",
       "      <td>1.000000</td>\n",
       "      <td>1.000000</td>\n",
       "      <td>1.000000</td>\n",
       "      <td>1.000000</td>\n",
       "    </tr>\n",
       "  </tbody>\n",
       "</table>\n",
       "</div>"
      ],
      "text/plain": [
       "              Temp           WG           WR        Druck           NO  \\\n",
       "count  7458.000000  7458.000000  7458.000000  7458.000000  7458.000000   \n",
       "mean      0.547148     0.384765     0.527769     0.492443     0.323122   \n",
       "std       0.172872     0.194054     0.175340     0.202438     0.300639   \n",
       "min       0.000000     0.000000     0.000000     0.000000     0.000000   \n",
       "25%       0.412433     0.252341     0.412642     0.375000     0.096126   \n",
       "50%       0.551061     0.336454     0.576194     0.505629     0.203959   \n",
       "75%       0.679879     0.476644     0.642970     0.625000     0.457675   \n",
       "max       1.000000     1.000000     1.000000     1.000000     1.000000   \n",
       "\n",
       "               NO2  Niederschlag         PM10  \n",
       "count  7458.000000   7458.000000  7458.000000  \n",
       "mean      0.407581      0.112216     0.459668  \n",
       "std       0.189438      0.223565     0.217113  \n",
       "min       0.000000      0.000000     0.000000  \n",
       "25%       0.271563      0.000000     0.299952  \n",
       "50%       0.380322      0.005217     0.415999  \n",
       "75%       0.518604      0.110435     0.579971  \n",
       "max       1.000000      1.000000     1.000000  "
      ]
     },
     "execution_count": 22,
     "metadata": {},
     "output_type": "execute_result"
    }
   ],
   "source": [
    "df_for_ML_norm.describe()"
   ]
  },
  {
   "cell_type": "code",
   "execution_count": 23,
   "metadata": {},
   "outputs": [
    {
     "data": {
      "image/png": "[encoded data removed]",
      "text/plain": [
       "<Figure size 1008x504 with 1 Axes>"
      ]
     },
     "metadata": {},
     "output_type": "display_data"
    }
   ],
   "source": [
    "plt.figure(figsize=(14,7))\n",
    "sb.set_style(\"darkgrid\")\n",
    "sb.boxplot(data=df_for_ML_norm.drop(columns=[\"Datum\"]))\n",
    "#plt.title(\"Distribution of normalized temperature, humidity and windspeed\")\n",
    "plt.ylabel(\"Normalized values\")\n",
    "plt.show()"
   ]
  },
  {
   "cell_type": "markdown",
   "metadata": {},
   "source": [
    "### Split Data"
   ]
  },
  {
   "cell_type": "markdown",
   "metadata": {},
   "source": [
    "#### Split Data into Training and Validation Samples"
   ]
  },
  {
   "cell_type": "code",
   "execution_count": 24,
   "metadata": {},
   "outputs": [],
   "source": [
    "df_train=df_for_ML_norm[df_for_ML_norm[\"Datum\"]<=\"2015-12-31\"]\n",
    "df_test=df_for_ML_norm[df_for_ML_norm[\"Datum\"]>\"2015-12-31\"]\n"
   ]
  },
  {
   "cell_type": "code",
   "execution_count": 25,
   "metadata": {},
   "outputs": [
    {
     "data": {
      "text/html": [
       "<div>\n",
       "<style scoped>\n",
       "    .dataframe tbody tr th:only-of-type {\n",
       "        vertical-align: middle;\n",
       "    }\n",
       "\n",
       "    .dataframe tbody tr th {\n",
       "        vertical-align: top;\n",
       "    }\n",
       "\n",
       "    .dataframe thead th {\n",
       "        text-align: right;\n",
       "    }\n",
       "</style>\n",
       "<table border=\"1\" class=\"dataframe\">\n",
       "  <thead>\n",
       "    <tr style=\"text-align: right;\">\n",
       "      <th></th>\n",
       "      <th>Datum</th>\n",
       "      <th>Temp</th>\n",
       "      <th>WG</th>\n",
       "      <th>WR</th>\n",
       "      <th>Druck</th>\n",
       "      <th>NO</th>\n",
       "      <th>NO2</th>\n",
       "      <th>Niederschlag</th>\n",
       "      <th>PM10</th>\n",
       "    </tr>\n",
       "  </thead>\n",
       "  <tbody>\n",
       "    <tr>\n",
       "      <th>5840</th>\n",
       "      <td>2015-12-27</td>\n",
       "      <td>0.443693</td>\n",
       "      <td>0.140189</td>\n",
       "      <td>0.574850</td>\n",
       "      <td>0.744749</td>\n",
       "      <td>0.995285</td>\n",
       "      <td>0.452605</td>\n",
       "      <td>0.000000</td>\n",
       "      <td>0.377307</td>\n",
       "    </tr>\n",
       "    <tr>\n",
       "      <th>5841</th>\n",
       "      <td>2015-12-28</td>\n",
       "      <td>0.399394</td>\n",
       "      <td>0.196265</td>\n",
       "      <td>0.577702</td>\n",
       "      <td>0.694232</td>\n",
       "      <td>1.000000</td>\n",
       "      <td>0.569721</td>\n",
       "      <td>0.011304</td>\n",
       "      <td>0.456613</td>\n",
       "    </tr>\n",
       "    <tr>\n",
       "      <th>5842</th>\n",
       "      <td>2015-12-29</td>\n",
       "      <td>0.369084</td>\n",
       "      <td>0.196265</td>\n",
       "      <td>0.036784</td>\n",
       "      <td>0.672957</td>\n",
       "      <td>1.000000</td>\n",
       "      <td>0.577040</td>\n",
       "      <td>0.011304</td>\n",
       "      <td>0.475839</td>\n",
       "    </tr>\n",
       "    <tr>\n",
       "      <th>5843</th>\n",
       "      <td>2015-12-30</td>\n",
       "      <td>0.359758</td>\n",
       "      <td>0.196265</td>\n",
       "      <td>0.331908</td>\n",
       "      <td>0.657392</td>\n",
       "      <td>1.000000</td>\n",
       "      <td>0.480664</td>\n",
       "      <td>0.006957</td>\n",
       "      <td>0.552742</td>\n",
       "    </tr>\n",
       "    <tr>\n",
       "      <th>5844</th>\n",
       "      <td>2015-12-31</td>\n",
       "      <td>0.376078</td>\n",
       "      <td>0.056076</td>\n",
       "      <td>0.559738</td>\n",
       "      <td>0.556334</td>\n",
       "      <td>1.000000</td>\n",
       "      <td>0.441625</td>\n",
       "      <td>0.109565</td>\n",
       "      <td>0.636855</td>\n",
       "    </tr>\n",
       "  </tbody>\n",
       "</table>\n",
       "</div>"
      ],
      "text/plain": [
       "          Datum      Temp        WG        WR     Druck        NO       NO2  \\\n",
       "5840 2015-12-27  0.443693  0.140189  0.574850  0.744749  0.995285  0.452605   \n",
       "5841 2015-12-28  0.399394  0.196265  0.577702  0.694232  1.000000  0.569721   \n",
       "5842 2015-12-29  0.369084  0.196265  0.036784  0.672957  1.000000  0.577040   \n",
       "5843 2015-12-30  0.359758  0.196265  0.331908  0.657392  1.000000  0.480664   \n",
       "5844 2015-12-31  0.376078  0.056076  0.559738  0.556334  1.000000  0.441625   \n",
       "\n",
       "      Niederschlag      PM10  \n",
       "5840      0.000000  0.377307  \n",
       "5841      0.011304  0.456613  \n",
       "5842      0.011304  0.475839  \n",
       "5843      0.006957  0.552742  \n",
       "5844      0.109565  0.636855  "
      ]
     },
     "execution_count": 25,
     "metadata": {},
     "output_type": "execute_result"
    }
   ],
   "source": [
    "df_train.tail()"
   ]
  },
  {
   "cell_type": "code",
   "execution_count": 26,
   "metadata": {},
   "outputs": [
    {
     "data": {
      "text/plain": [
       "Timestamp('2016-01-29 00:00:00')"
      ]
     },
     "execution_count": 26,
     "metadata": {},
     "output_type": "execute_result"
    }
   ],
   "source": [
    "df_test.iloc[-1,:].Datum"
   ]
  },
  {
   "cell_type": "code",
   "execution_count": 27,
   "metadata": {},
   "outputs": [
    {
     "data": {
      "text/html": [
       "<div>\n",
       "<style scoped>\n",
       "    .dataframe tbody tr th:only-of-type {\n",
       "        vertical-align: middle;\n",
       "    }\n",
       "\n",
       "    .dataframe tbody tr th {\n",
       "        vertical-align: top;\n",
       "    }\n",
       "\n",
       "    .dataframe thead th {\n",
       "        text-align: right;\n",
       "    }\n",
       "</style>\n",
       "<table border=\"1\" class=\"dataframe\">\n",
       "  <thead>\n",
       "    <tr style=\"text-align: right;\">\n",
       "      <th></th>\n",
       "      <th>Datum</th>\n",
       "      <th>Temp</th>\n",
       "      <th>WG</th>\n",
       "      <th>WR</th>\n",
       "      <th>Druck</th>\n",
       "      <th>NO</th>\n",
       "      <th>NO2</th>\n",
       "      <th>Niederschlag</th>\n",
       "      <th>PM10</th>\n",
       "    </tr>\n",
       "  </thead>\n",
       "  <tbody>\n",
       "    <tr>\n",
       "      <th>7453</th>\n",
       "      <td>2020-05-28</td>\n",
       "      <td>0.669853</td>\n",
       "      <td>0.308417</td>\n",
       "      <td>0.578842</td>\n",
       "      <td>0.904164</td>\n",
       "      <td>0.111040</td>\n",
       "      <td>0.264731</td>\n",
       "      <td>0.0</td>\n",
       "      <td>0.290935</td>\n",
       "    </tr>\n",
       "    <tr>\n",
       "      <th>7454</th>\n",
       "      <td>2020-05-29</td>\n",
       "      <td>0.669853</td>\n",
       "      <td>0.504682</td>\n",
       "      <td>0.054177</td>\n",
       "      <td>0.805412</td>\n",
       "      <td>0.076184</td>\n",
       "      <td>0.286690</td>\n",
       "      <td>0.0</td>\n",
       "      <td>0.335010</td>\n",
       "    </tr>\n",
       "    <tr>\n",
       "      <th>7455</th>\n",
       "      <td>2020-05-30</td>\n",
       "      <td>0.644206</td>\n",
       "      <td>0.448606</td>\n",
       "      <td>0.342173</td>\n",
       "      <td>0.723481</td>\n",
       "      <td>0.050501</td>\n",
       "      <td>0.228132</td>\n",
       "      <td>0.0</td>\n",
       "      <td>0.519818</td>\n",
       "    </tr>\n",
       "    <tr>\n",
       "      <th>7456</th>\n",
       "      <td>2020-05-31</td>\n",
       "      <td>0.637211</td>\n",
       "      <td>0.504682</td>\n",
       "      <td>0.051326</td>\n",
       "      <td>0.615776</td>\n",
       "      <td>0.043163</td>\n",
       "      <td>0.224472</td>\n",
       "      <td>0.0</td>\n",
       "      <td>0.315015</td>\n",
       "    </tr>\n",
       "    <tr>\n",
       "      <th>7457</th>\n",
       "      <td>2016-01-29</td>\n",
       "      <td>0.655864</td>\n",
       "      <td>0.392530</td>\n",
       "      <td>0.148275</td>\n",
       "      <td>0.583492</td>\n",
       "      <td>0.028486</td>\n",
       "      <td>0.158595</td>\n",
       "      <td>0.0</td>\n",
       "      <td>0.278342</td>\n",
       "    </tr>\n",
       "  </tbody>\n",
       "</table>\n",
       "</div>"
      ],
      "text/plain": [
       "          Datum      Temp        WG        WR     Druck        NO       NO2  \\\n",
       "7453 2020-05-28  0.669853  0.308417  0.578842  0.904164  0.111040  0.264731   \n",
       "7454 2020-05-29  0.669853  0.504682  0.054177  0.805412  0.076184  0.286690   \n",
       "7455 2020-05-30  0.644206  0.448606  0.342173  0.723481  0.050501  0.228132   \n",
       "7456 2020-05-31  0.637211  0.504682  0.051326  0.615776  0.043163  0.224472   \n",
       "7457 2016-01-29  0.655864  0.392530  0.148275  0.583492  0.028486  0.158595   \n",
       "\n",
       "      Niederschlag      PM10  \n",
       "7453           0.0  0.290935  \n",
       "7454           0.0  0.335010  \n",
       "7455           0.0  0.519818  \n",
       "7456           0.0  0.315015  \n",
       "7457           0.0  0.278342  "
      ]
     },
     "execution_count": 27,
     "metadata": {},
     "output_type": "execute_result"
    }
   ],
   "source": [
    "df_test.tail()"
   ]
  },
  {
   "cell_type": "markdown",
   "metadata": {},
   "source": [
    "def create_dataset(X, y, time_steps=1, step=1):\n",
    "    Xs, ys = [], []\n",
    "    for i in range(0, len(X) - time_steps, step):\n",
    "        v = X.iloc[i:(i + time_steps)].values\n",
    "        labels = y.iloc[i: i + time_steps]\n",
    "        Xs.append(v)        \n",
    "        ys.append(stats.mode(labels)[0][0])\n",
    "    return np.array(Xs), np.array(ys).reshape(-1, 1)"
   ]
  },
  {
   "cell_type": "code",
   "execution_count": 28,
   "metadata": {},
   "outputs": [],
   "source": [
    "df_test=df_test.drop(columns=[\"Datum\"])\n",
    "df_train=df_train.drop(columns=[\"Datum\"])"
   ]
  },
  {
   "cell_type": "markdown",
   "metadata": {},
   "source": [
    "#### Split Data into Input and Target Data"
   ]
  },
  {
   "cell_type": "code",
   "execution_count": 29,
   "metadata": {},
   "outputs": [],
   "source": [
    "def create_dataset(X, y, time_steps=1, step=1):\n",
    "    Xs, ys = [], []\n",
    "    for i in range(0, len(X) - time_steps, step):\n",
    "        v = X.iloc[i:(i + time_steps)].values\n",
    "        labels = y.iloc[i+time_steps]\n",
    "        Xs.append(v)        \n",
    "        ys.append(labels)\n",
    "    return np.array(Xs), np.array(ys)"
   ]
  },
  {
   "cell_type": "code",
   "execution_count": 30,
   "metadata": {},
   "outputs": [],
   "source": [
    "TIME_STEPS = 21\n",
    "STEP = 1\n",
    "\n",
    "X_train, y_train = create_dataset(\n",
    "    #df_train.drop(columns=['PM10']), \n",
    "    df_train,\n",
    "    df_train.PM10, \n",
    "    TIME_STEPS, \n",
    "    STEP\n",
    ")\n",
    "\n",
    "X_test, y_test = create_dataset(\n",
    "    #df_test.drop(columns=['PM10']),\n",
    "    df_test,\n",
    "    df_test.PM10, \n",
    "    TIME_STEPS, \n",
    "    STEP\n",
    ")"
   ]
  },
  {
   "cell_type": "code",
   "execution_count": 31,
   "metadata": {},
   "outputs": [
    {
     "data": {
      "text/html": [
       "<div>\n",
       "<style scoped>\n",
       "    .dataframe tbody tr th:only-of-type {\n",
       "        vertical-align: middle;\n",
       "    }\n",
       "\n",
       "    .dataframe tbody tr th {\n",
       "        vertical-align: top;\n",
       "    }\n",
       "\n",
       "    .dataframe thead th {\n",
       "        text-align: right;\n",
       "    }\n",
       "</style>\n",
       "<table border=\"1\" class=\"dataframe\">\n",
       "  <thead>\n",
       "    <tr style=\"text-align: right;\">\n",
       "      <th></th>\n",
       "      <th>Datum</th>\n",
       "      <th>Temp</th>\n",
       "      <th>WG</th>\n",
       "      <th>WR</th>\n",
       "      <th>Druck</th>\n",
       "      <th>NO</th>\n",
       "      <th>NO2</th>\n",
       "      <th>Niederschlag</th>\n",
       "      <th>PM10</th>\n",
       "    </tr>\n",
       "  </thead>\n",
       "  <tbody>\n",
       "    <tr>\n",
       "      <th>0</th>\n",
       "      <td>2000-01-01</td>\n",
       "      <td>0.353183</td>\n",
       "      <td>0.381286</td>\n",
       "      <td>0.644206</td>\n",
       "      <td>0.679259</td>\n",
       "      <td>0.322500</td>\n",
       "      <td>0.295669</td>\n",
       "      <td>0.312104</td>\n",
       "      <td>0.273420</td>\n",
       "    </tr>\n",
       "    <tr>\n",
       "      <th>1</th>\n",
       "      <td>2000-01-02</td>\n",
       "      <td>0.356214</td>\n",
       "      <td>0.441011</td>\n",
       "      <td>0.608815</td>\n",
       "      <td>0.817621</td>\n",
       "      <td>0.261263</td>\n",
       "      <td>0.350104</td>\n",
       "      <td>0.306191</td>\n",
       "      <td>0.297933</td>\n",
       "    </tr>\n",
       "    <tr>\n",
       "      <th>2</th>\n",
       "      <td>2000-01-03</td>\n",
       "      <td>0.300606</td>\n",
       "      <td>0.475300</td>\n",
       "      <td>0.602171</td>\n",
       "      <td>0.798630</td>\n",
       "      <td>0.348865</td>\n",
       "      <td>0.431085</td>\n",
       "      <td>0.073026</td>\n",
       "      <td>0.479396</td>\n",
       "    </tr>\n",
       "  </tbody>\n",
       "</table>\n",
       "</div>"
      ],
      "text/plain": [
       "       Datum      Temp        WG        WR     Druck        NO       NO2  \\\n",
       "0 2000-01-01  0.353183  0.381286  0.644206  0.679259  0.322500  0.295669   \n",
       "1 2000-01-02  0.356214  0.441011  0.608815  0.817621  0.261263  0.350104   \n",
       "2 2000-01-03  0.300606  0.475300  0.602171  0.798630  0.348865  0.431085   \n",
       "\n",
       "   Niederschlag      PM10  \n",
       "0      0.312104  0.273420  \n",
       "1      0.306191  0.297933  \n",
       "2      0.073026  0.479396  "
      ]
     },
     "execution_count": 31,
     "metadata": {},
     "output_type": "execute_result"
    }
   ],
   "source": [
    "df_for_ML_norm.head(3)"
   ]
  },
  {
   "cell_type": "code",
   "execution_count": 32,
   "metadata": {},
   "outputs": [
    {
     "data": {
      "text/plain": [
       "array([[0.35318256, 0.38128589, 0.64420564, 0.67925936, 0.32249956,\n",
       "        0.29566915, 0.31210435, 0.27342006],\n",
       "       [0.35621357, 0.44101123, 0.60881451, 0.81762073, 0.26126284,\n",
       "        0.3501037 , 0.3061913 , 0.29793298],\n",
       "       [0.3006062 , 0.47530038, 0.60217066, 0.79862995, 0.34886547,\n",
       "        0.43108454, 0.07302609, 0.47939592],\n",
       "       [0.38153416, 0.83412093, 0.60417855, 0.62771297, 0.15077625,\n",
       "        0.29535196, 0.12951304, 0.27584251],\n",
       "       [0.42776871, 0.45903842, 0.60323401, 0.62228703, 0.20734591,\n",
       "        0.31972673, 0.37565217, 0.31064125],\n",
       "       [0.35845185, 0.39205243, 0.56948246, 0.60329626, 0.3271446 ,\n",
       "        0.43069416, 0.00966957, 0.38711197],\n",
       "       [0.41352297, 0.3138659 , 0.53128802, 0.66840749, 0.33973316,\n",
       "        0.39221666, 0.23843478, 0.42822159],\n",
       "       [0.42228958, 0.32124219, 0.58958571, 0.6331389 , 0.50249295,\n",
       "        0.46346224, 0.01546087, 0.46853333],\n",
       "       [0.4003031 , 0.22793098, 0.33499192, 0.62771297, 0.8363413 ,\n",
       "        0.46338904, 0.00104348, 0.49939078],\n",
       "       [0.34180462, 0.38218952, 0.50179183, 0.84475041, 0.87380246,\n",
       "        0.47446627, 0.07534609, 0.86924757],\n",
       "       [0.33497319, 0.34694007, 0.2227438 , 0.98311177, 0.72164628,\n",
       "        0.58167622, 0.0138953 , 0.7356281 ],\n",
       "       [0.2768221 , 0.43653218, 0.43608616, 0.88001899, 0.42423176,\n",
       "        0.50364768, 0.02313043, 0.50780208],\n",
       "       [0.28868268, 0.35872708, 0.5234828 , 0.61143516, 0.24424571,\n",
       "        0.30857631, 0.05530435, 0.31588029],\n",
       "       [0.29393798, 0.18031449, 0.46377721, 0.58973142, 1.        ,\n",
       "        1.        , 0.002     , 0.53303597],\n",
       "       [0.24278387, 0.29052787, 0.36235184, 0.80676886, 1.        ,\n",
       "        0.79097231, 0.00625391, 0.90808374],\n",
       "       [0.28997435, 0.3075895 , 0.38056387, 0.90172273, 0.82247222,\n",
       "        0.64755398, 0.0057913 , 0.73245583],\n",
       "       [0.35777571, 0.64544355, 0.65860541, 0.77963918, 0.52858001,\n",
       "        0.38375015, 0.15476522, 0.34361354],\n",
       "       [0.39839123, 0.98170529, 0.77241351, 0.58701845, 0.16939676,\n",
       "        0.29730389, 0.11076522, 0.23954896],\n",
       "       [0.31974819, 0.44774149, 0.7837955 , 0.75522246, 0.66488582,\n",
       "        0.37184336, 0.01057391, 0.45329687],\n",
       "       [0.333038  , 0.56329258, 0.71378077, 0.81490776, 0.34842885,\n",
       "        0.38965475, 0.18328696, 0.33158298],\n",
       "       [0.35432502, 0.94029685, 0.71101844, 0.65212968, 0.21634246,\n",
       "        0.29608393, 0.04353043, 0.20383219]])"
      ]
     },
     "execution_count": 32,
     "metadata": {},
     "output_type": "execute_result"
    }
   ],
   "source": [
    "X_train[0]"
   ]
  },
  {
   "cell_type": "code",
   "execution_count": 33,
   "metadata": {},
   "outputs": [
    {
     "data": {
      "text/plain": [
       "numpy.float64"
      ]
     },
     "execution_count": 33,
     "metadata": {},
     "output_type": "execute_result"
    }
   ],
   "source": [
    "type(df_train[\"PM10\"].iloc[2])"
   ]
  },
  {
   "cell_type": "code",
   "execution_count": 34,
   "metadata": {
    "scrolled": true
   },
   "outputs": [
    {
     "data": {
      "text/plain": [
       "(5824, 21, 8)"
      ]
     },
     "execution_count": 34,
     "metadata": {},
     "output_type": "execute_result"
    }
   ],
   "source": [
    "X_train.shape"
   ]
  },
  {
   "cell_type": "code",
   "execution_count": 35,
   "metadata": {},
   "outputs": [
    {
     "data": {
      "text/plain": [
       "(5824,)"
      ]
     },
     "execution_count": 35,
     "metadata": {},
     "output_type": "execute_result"
    }
   ],
   "source": [
    "y_train.shape"
   ]
  },
  {
   "cell_type": "code",
   "execution_count": 36,
   "metadata": {
    "scrolled": true
   },
   "outputs": [
    {
     "data": {
      "text/html": [
       "<div>\n",
       "<style scoped>\n",
       "    .dataframe tbody tr th:only-of-type {\n",
       "        vertical-align: middle;\n",
       "    }\n",
       "\n",
       "    .dataframe tbody tr th {\n",
       "        vertical-align: top;\n",
       "    }\n",
       "\n",
       "    .dataframe thead th {\n",
       "        text-align: right;\n",
       "    }\n",
       "</style>\n",
       "<table border=\"1\" class=\"dataframe\">\n",
       "  <thead>\n",
       "    <tr style=\"text-align: right;\">\n",
       "      <th></th>\n",
       "      <th>Datum</th>\n",
       "      <th>Temp</th>\n",
       "      <th>WG</th>\n",
       "      <th>WR</th>\n",
       "      <th>Druck</th>\n",
       "      <th>NO</th>\n",
       "      <th>NO2</th>\n",
       "      <th>Niederschlag</th>\n",
       "      <th>PM10</th>\n",
       "    </tr>\n",
       "  </thead>\n",
       "  <tbody>\n",
       "    <tr>\n",
       "      <th>7455</th>\n",
       "      <td>2020-05-30</td>\n",
       "      <td>0.644206</td>\n",
       "      <td>0.448606</td>\n",
       "      <td>0.342173</td>\n",
       "      <td>0.723481</td>\n",
       "      <td>0.050501</td>\n",
       "      <td>0.228132</td>\n",
       "      <td>0.0</td>\n",
       "      <td>0.519818</td>\n",
       "    </tr>\n",
       "    <tr>\n",
       "      <th>7456</th>\n",
       "      <td>2020-05-31</td>\n",
       "      <td>0.637211</td>\n",
       "      <td>0.504682</td>\n",
       "      <td>0.051326</td>\n",
       "      <td>0.615776</td>\n",
       "      <td>0.043163</td>\n",
       "      <td>0.224472</td>\n",
       "      <td>0.0</td>\n",
       "      <td>0.315015</td>\n",
       "    </tr>\n",
       "    <tr>\n",
       "      <th>7457</th>\n",
       "      <td>2016-01-29</td>\n",
       "      <td>0.655864</td>\n",
       "      <td>0.392530</td>\n",
       "      <td>0.148275</td>\n",
       "      <td>0.583492</td>\n",
       "      <td>0.028486</td>\n",
       "      <td>0.158595</td>\n",
       "      <td>0.0</td>\n",
       "      <td>0.278342</td>\n",
       "    </tr>\n",
       "  </tbody>\n",
       "</table>\n",
       "</div>"
      ],
      "text/plain": [
       "          Datum      Temp        WG        WR     Druck        NO       NO2  \\\n",
       "7455 2020-05-30  0.644206  0.448606  0.342173  0.723481  0.050501  0.228132   \n",
       "7456 2020-05-31  0.637211  0.504682  0.051326  0.615776  0.043163  0.224472   \n",
       "7457 2016-01-29  0.655864  0.392530  0.148275  0.583492  0.028486  0.158595   \n",
       "\n",
       "      Niederschlag      PM10  \n",
       "7455           0.0  0.519818  \n",
       "7456           0.0  0.315015  \n",
       "7457           0.0  0.278342  "
      ]
     },
     "execution_count": 36,
     "metadata": {},
     "output_type": "execute_result"
    }
   ],
   "source": [
    "df_for_ML_norm.tail(3)"
   ]
  },
  {
   "cell_type": "code",
   "execution_count": 37,
   "metadata": {},
   "outputs": [
    {
     "data": {
      "text/plain": [
       "array([[0.71881557, 0.42056812, 0.57313944, 0.22212425, 0.03398986,\n",
       "        0.17567403, 0.12173913, 0.55461696],\n",
       "       [0.52529727, 0.47664387, 0.92956943, 0.15945469, 0.05050066,\n",
       "        0.20251311, 1.        , 0.29603443],\n",
       "       [0.46467708, 0.30841662, 0.57313944, 0.49070808, 0.10737119,\n",
       "        0.20617299, 0.        , 0.29410704],\n",
       "       [0.48332945, 0.25234087, 0.28799544, 0.34719208, 0.10920572,\n",
       "        0.28181042, 0.4       , 0.53505469],\n",
       "       [0.52762882, 0.30841662, 0.07984032, 0.42017092, 0.06884599,\n",
       "        0.25985117, 0.06956522, 0.36990486],\n",
       "       [0.58358592, 0.44860599, 0.570288  , 0.49260716, 0.03215533,\n",
       "        0.20861291, 0.        , 0.24176474],\n",
       "       [0.59058055, 0.25234087, 0.59309952, 0.61252035, 0.0578388 ,\n",
       "        0.24277175, 0.        , 0.27973574],\n",
       "       [0.6185591 , 0.30841662, 0.59595096, 0.63992132, 0.02665173,\n",
       "        0.18421374, 0.        , 0.22590343],\n",
       "       [0.66519002, 0.33645449, 0.57313944, 0.67518991, 0.06150786,\n",
       "        0.264731  , 0.        , 0.31323674],\n",
       "       [0.71182094, 0.39253024, 0.5988024 , 0.60980738, 0.07618413,\n",
       "        0.28547029, 0.        , 0.25142572],\n",
       "       [0.71182094, 0.30841662, 0.5845452 , 0.60004069, 0.06884599,\n",
       "        0.3001098 , 0.        , 0.28646478],\n",
       "       [0.72347867, 0.30841662, 0.57884232, 0.6247287 , 0.05050066,\n",
       "        0.22081249, 0.        , 0.29703898],\n",
       "       [0.76777804, 0.30841662, 0.61591104, 0.62174444, 0.05416973,\n",
       "        0.26717092, 0.        , 0.25618411],\n",
       "       [0.6232222 , 0.36449237, 0.63587111, 0.71072979, 0.0358244 ,\n",
       "        0.18665365, 0.52173913, 0.27565025],\n",
       "       [0.61156447, 0.72898474, 0.72996863, 0.86482637, 0.0193136 ,\n",
       "        0.10491643, 0.        , 0.27758726],\n",
       "       [0.64653765, 0.44860599, 0.65012831, 0.90335052, 0.03215533,\n",
       "        0.17201415, 0.        , 0.35053484],\n",
       "       [0.64187456, 0.33645449, 0.50755632, 0.93373576, 0.10370212,\n",
       "        0.25741125, 0.        , 0.36187807],\n",
       "       [0.66985311, 0.30841662, 0.57884232, 0.90416441, 0.11104026,\n",
       "        0.264731  , 0.        , 0.29093478],\n",
       "       [0.66985311, 0.50468174, 0.05417736, 0.80541237, 0.07618413,\n",
       "        0.28669025, 0.        , 0.33500999],\n",
       "       [0.64420611, 0.44860599, 0.3421728 , 0.72348074, 0.05050066,\n",
       "        0.22813224, 0.        , 0.51981822],\n",
       "       [0.63721147, 0.50468174, 0.05132592, 0.61577591, 0.04316253,\n",
       "        0.22447237, 0.        , 0.31501513]])"
      ]
     },
     "execution_count": 37,
     "metadata": {},
     "output_type": "execute_result"
    }
   ],
   "source": [
    "X_test[-1]"
   ]
  },
  {
   "cell_type": "code",
   "execution_count": 38,
   "metadata": {},
   "outputs": [
    {
     "data": {
      "text/plain": [
       "0.2783418687981697"
      ]
     },
     "execution_count": 38,
     "metadata": {},
     "output_type": "execute_result"
    }
   ],
   "source": [
    "y_test[-1]"
   ]
  },
  {
   "cell_type": "markdown",
   "metadata": {},
   "source": [
    "## Alogrithms Selection"
   ]
  },
  {
   "cell_type": "code",
   "execution_count": null,
   "metadata": {},
   "outputs": [],
   "source": []
  },
  {
   "cell_type": "markdown",
   "metadata": {},
   "source": [
    "## Baseline Models"
   ]
  },
  {
   "cell_type": "code",
   "execution_count": null,
   "metadata": {},
   "outputs": [],
   "source": []
  },
  {
   "cell_type": "markdown",
   "metadata": {},
   "source": [
    "## Deep Learning Models"
   ]
  },
  {
   "cell_type": "code",
   "execution_count": 39,
   "metadata": {},
   "outputs": [
    {
     "data": {
      "text/plain": [
       "(5824, 21, 8)"
      ]
     },
     "execution_count": 39,
     "metadata": {},
     "output_type": "execute_result"
    }
   ],
   "source": [
    "X_train.shape"
   ]
  },
  {
   "cell_type": "code",
   "execution_count": 40,
   "metadata": {},
   "outputs": [
    {
     "name": "stdout",
     "output_type": "stream",
     "text": [
      "(5824, 21, 8)\n",
      "(5824,)\n"
     ]
    }
   ],
   "source": [
    "print(X_train.shape)\n",
    "print(y_train.shape)"
   ]
  },
  {
   "cell_type": "code",
   "execution_count": 41,
   "metadata": {},
   "outputs": [
    {
     "name": "stdout",
     "output_type": "stream",
     "text": [
      "3\n",
      "1\n"
     ]
    }
   ],
   "source": [
    "print(X_train.ndim)\n",
    "print(y_train.ndim)"
   ]
  },
  {
   "cell_type": "code",
   "execution_count": 42,
   "metadata": {},
   "outputs": [
    {
     "name": "stdout",
     "output_type": "stream",
     "text": [
      "float64\n",
      "float64\n"
     ]
    }
   ],
   "source": [
    "print(X_train.dtype)\n",
    "print(y_train.dtype)"
   ]
  },
  {
   "cell_type": "code",
   "execution_count": 43,
   "metadata": {},
   "outputs": [
    {
     "data": {
      "text/plain": [
       "21"
      ]
     },
     "execution_count": 43,
     "metadata": {},
     "output_type": "execute_result"
    }
   ],
   "source": [
    "X_train.shape[1]"
   ]
  },
  {
   "cell_type": "code",
   "execution_count": 44,
   "metadata": {},
   "outputs": [
    {
     "data": {
      "text/plain": [
       "(5824, 21, 8)"
      ]
     },
     "execution_count": 44,
     "metadata": {},
     "output_type": "execute_result"
    }
   ],
   "source": [
    "X_train.shape[0], X_train.shape[1], X_train.shape[2]"
   ]
  },
  {
   "cell_type": "code",
   "execution_count": 45,
   "metadata": {},
   "outputs": [
    {
     "name": "stdout",
     "output_type": "stream",
     "text": [
      "Model: \"sequential_1\"\n",
      "_________________________________________________________________\n",
      "Layer (type)                 Output Shape              Param #   \n",
      "=================================================================\n",
      "lstm_1 (LSTM)                (None, 21, 200)           167200    \n",
      "_________________________________________________________________\n",
      "flatten_1 (Flatten)          (None, 4200)              0         \n",
      "_________________________________________________________________\n",
      "dense_1 (Dense)              (None, 1)                 4201      \n",
      "=================================================================\n",
      "Total params: 171,401\n",
      "Trainable params: 171,401\n",
      "Non-trainable params: 0\n",
      "_________________________________________________________________\n"
     ]
    }
   ],
   "source": [
    "model = Sequential()\n",
    "model.add(layers.LSTM(units=200, \n",
    "                      return_sequences= True,\n",
    "                      activation ='tanh', \n",
    "                      input_shape=(X_train.shape[1],X_train.shape[2])))\n",
    "model.add(layers.Flatten())\n",
    "model.add(layers.Dense(1))\n",
    "model.summary()"
   ]
  },
  {
   "cell_type": "code",
   "execution_count": 46,
   "metadata": {},
   "outputs": [
    {
     "data": {
      "text/plain": [
       "array([[0.27122831],\n",
       "       [0.31504397],\n",
       "       [0.83834206],\n",
       "       ...,\n",
       "       [0.47583915],\n",
       "       [0.55274244],\n",
       "       [0.63685542]])"
      ]
     },
     "execution_count": 46,
     "metadata": {},
     "output_type": "execute_result"
    }
   ],
   "source": [
    "y_train.reshape(-1,1)"
   ]
  },
  {
   "cell_type": "code",
   "execution_count": 47,
   "metadata": {},
   "outputs": [
    {
     "name": "stdout",
     "output_type": "stream",
     "text": [
      "(5824, 21, 8)\n",
      "(5824,)\n",
      "(1592, 21, 8)\n",
      "(1592,)\n"
     ]
    }
   ],
   "source": [
    "print(X_train.shape)\n",
    "print(y_train.shape)\n",
    "print(X_test.shape)\n",
    "print(y_test.shape)"
   ]
  },
  {
   "cell_type": "code",
   "execution_count": 48,
   "metadata": {},
   "outputs": [
    {
     "name": "stdout",
     "output_type": "stream",
     "text": [
      "Train on 5824 samples, validate on 1592 samples\n",
      "Epoch 1/15\n",
      "5824/5824 [==============================] - 4s 748us/step - loss: 0.0443 - accuracy: 0.0325 - val_loss: 0.0279 - val_accuracy: 0.0094\n",
      "Epoch 2/15\n",
      "5824/5824 [==============================] - 4s 698us/step - loss: 0.0284 - accuracy: 0.0381 - val_loss: 0.0197 - val_accuracy: 0.0138\n",
      "Epoch 3/15\n",
      "5824/5824 [==============================] - 4s 760us/step - loss: 0.0261 - accuracy: 0.0388 - val_loss: 0.0195 - val_accuracy: 0.0126\n",
      "Epoch 4/15\n",
      "5824/5824 [==============================] - 5s 928us/step - loss: 0.0251 - accuracy: 0.0386 - val_loss: 0.0200 - val_accuracy: 0.0132\n",
      "Epoch 5/15\n",
      "5824/5824 [==============================] - 6s 985us/step - loss: 0.0248 - accuracy: 0.0388 - val_loss: 0.0266 - val_accuracy: 0.0138\n",
      "Epoch 6/15\n",
      "5824/5824 [==============================] - 6s 951us/step - loss: 0.0242 - accuracy: 0.0393 - val_loss: 0.0209 - val_accuracy: 0.0138\n",
      "Epoch 7/15\n",
      "5824/5824 [==============================] - 5s 927us/step - loss: 0.0241 - accuracy: 0.0390 - val_loss: 0.0196 - val_accuracy: 0.0119\n",
      "Epoch 8/15\n",
      "5824/5824 [==============================] - 6s 976us/step - loss: 0.0240 - accuracy: 0.0385 - val_loss: 0.0188 - val_accuracy: 0.0126\n",
      "Epoch 9/15\n",
      "5824/5824 [==============================] - 6s 1ms/step - loss: 0.0235 - accuracy: 0.0388 - val_loss: 0.0205 - val_accuracy: 0.0119\n",
      "Epoch 10/15\n",
      "5824/5824 [==============================] - 6s 1ms/step - loss: 0.0235 - accuracy: 0.0390 - val_loss: 0.0190 - val_accuracy: 0.0119\n",
      "Epoch 11/15\n",
      "5824/5824 [==============================] - 6s 948us/step - loss: 0.0232 - accuracy: 0.0388 - val_loss: 0.0191 - val_accuracy: 0.0126\n",
      "Epoch 12/15\n",
      "5824/5824 [==============================] - 5s 919us/step - loss: 0.0231 - accuracy: 0.0388 - val_loss: 0.0204 - val_accuracy: 0.0132\n",
      "Epoch 13/15\n",
      "5824/5824 [==============================] - 6s 971us/step - loss: 0.0231 - accuracy: 0.0388 - val_loss: 0.0211 - val_accuracy: 0.0132\n",
      "Epoch 14/15\n",
      "5824/5824 [==============================] - 6s 954us/step - loss: 0.0230 - accuracy: 0.0390 - val_loss: 0.0212 - val_accuracy: 0.0132\n",
      "Epoch 15/15\n",
      "5824/5824 [==============================] - 5s 940us/step - loss: 0.0228 - accuracy: 0.0391 - val_loss: 0.0234 - val_accuracy: 0.0138\n"
     ]
    }
   ],
   "source": [
    "model.compile(optimizer='RMSprop', loss='mse',metrics=[\"accuracy\"])\n",
    "history = model.fit(x=X_train, y=y_train, epochs=15, validation_data=(X_test, y_test))"
   ]
  },
  {
   "cell_type": "code",
   "execution_count": 49,
   "metadata": {},
   "outputs": [
    {
     "data": {
      "image/png": "[encoded data removed]",
      "text/plain": [
       "<Figure size 432x288 with 1 Axes>"
      ]
     },
     "metadata": {},
     "output_type": "display_data"
    }
   ],
   "source": [
    "plt.plot(history.history['loss'], label='train')\n",
    "plt.plot(history.history['val_loss'], label='test')\n",
    "plt.legend()\n",
    "plt.show()"
   ]
  },
  {
   "cell_type": "code",
   "execution_count": null,
   "metadata": {},
   "outputs": [],
   "source": []
  },
  {
   "cell_type": "code",
   "execution_count": null,
   "metadata": {},
   "outputs": [],
   "source": []
  },
  {
   "cell_type": "markdown",
   "metadata": {},
   "source": [
    "## Hyperparamters Optimization"
   ]
  },
  {
   "cell_type": "code",
   "execution_count": null,
   "metadata": {},
   "outputs": [],
   "source": []
  },
  {
   "cell_type": "markdown",
   "metadata": {},
   "source": [
    "## Evaluation"
   ]
  },
  {
   "cell_type": "markdown",
   "metadata": {},
   "source": [
    "### Model Evaluation (Performance)"
   ]
  },
  {
   "cell_type": "markdown",
   "metadata": {},
   "source": [
    "#### Training Phase"
   ]
  },
  {
   "cell_type": "code",
   "execution_count": null,
   "metadata": {},
   "outputs": [],
   "source": []
  },
  {
   "cell_type": "code",
   "execution_count": null,
   "metadata": {},
   "outputs": [],
   "source": []
  },
  {
   "cell_type": "code",
   "execution_count": null,
   "metadata": {},
   "outputs": [],
   "source": []
  },
  {
   "cell_type": "markdown",
   "metadata": {},
   "source": [
    "#### Testing Phase"
   ]
  },
  {
   "cell_type": "code",
   "execution_count": null,
   "metadata": {},
   "outputs": [],
   "source": []
  },
  {
   "cell_type": "code",
   "execution_count": null,
   "metadata": {},
   "outputs": [],
   "source": []
  },
  {
   "cell_type": "markdown",
   "metadata": {},
   "source": [
    "# Projekt Evaluation"
   ]
  },
  {
   "cell_type": "code",
   "execution_count": null,
   "metadata": {},
   "outputs": [],
   "source": []
  },
  {
   "cell_type": "code",
   "execution_count": null,
   "metadata": {},
   "outputs": [],
   "source": []
  },
  {
   "cell_type": "code",
   "execution_count": null,
   "metadata": {},
   "outputs": [],
   "source": []
  },
  {
   "cell_type": "markdown",
   "metadata": {},
   "source": [
    "# Deployment"
   ]
  },
  {
   "cell_type": "code",
   "execution_count": null,
   "metadata": {},
   "outputs": [],
   "source": []
  },
  {
   "cell_type": "markdown",
   "metadata": {},
   "source": [
    "In the first phase of CRISP the overall business-case, which shall be supported by the data mining process must be clearly defined and understood. Then the goal of the data mining project itself must be defined. This includes the specification of metrics for measuring the performance of the data mining project.\n",
    "\n",
    "In the second phase data must be gathered, accessed, understood and described. Quantitiy and qualitity of the data must be assessed on a high-level.\n",
    "\n",
    "In the third phase data must be investigated and understood more thoroughly. Common means for understanding data are e.g. visualization and the calculation of simple statistics. Outliers must be detected and processed, sampling rates must be determined, features must be selected and eventually be transformed to other formats.\n",
    "\n",
    "In the modelling phase various algorithms and their hyperparameters are selected and applied. Their performance on the given data is determined in the evaluation phase.\n",
    "\n",
    "The output of the evaluation is usually fed back to the first phases (business- and data-understanding). Applying this feedback the techniques in the overall process are adapted and optimized. Usually only after several iterations of this process the evaluation yields good results and the project can be deployed."
   ]
  },
  {
   "cell_type": "code",
   "execution_count": null,
   "metadata": {},
   "outputs": [],
   "source": []
  }
 ],
 "metadata": {
  "kernelspec": {
   "display_name": "Python 3",
   "language": "python",
   "name": "python3"
  },
  "language_info": {
   "codemirror_mode": {
    "name": "ipython",
    "version": 3
   },
   "file_extension": ".py",
   "mimetype": "text/x-python",
   "name": "python",
   "nbconvert_exporter": "python",
   "pygments_lexer": "ipython3",
   "version": "3.7.7"
  },
  "nbTranslate": {
   "displayLangs": [
    "*"
   ],
   "hotkey": "alt-t",
   "langInMainMenu": true,
   "sourceLang": "en",
   "targetLang": "fr",
   "useGoogleTranslate": true
  },
  "toc": {
   "base_numbering": 1,
   "nav_menu": {},
   "number_sections": true,
   "sideBar": true,
   "skip_h1_title": false,
   "title_cell": "Table of Contents",
   "title_sidebar": "Contents",
   "toc_cell": false,
   "toc_position": {
    "height": "calc(100% - 180px)",
    "left": "10px",
    "top": "150px",
    "width": "405px"
   },
   "toc_section_display": true,
   "toc_window_display": true
  },
  "varInspector": {
   "cols": {
    "lenName": 16,
    "lenType": 16,
    "lenVar": 40
   },
   "kernels_config": {
    "python": {
     "delete_cmd_postfix": "",
     "delete_cmd_prefix": "del ",
     "library": "var_list.py",
     "varRefreshCmd": "print(var_dic_list())"
    },
    "r": {
     "delete_cmd_postfix": ") ",
     "delete_cmd_prefix": "rm(",
     "library": "var_list.r",
     "varRefreshCmd": "cat(var_dic_list()) "
    }
   },
   "position": {
    "height": "1014.81px",
    "left": "1915px",
    "right": "20px",
    "top": "117px",
    "width": "567px"
   },
   "types_to_exclude": [
    "module",
    "function",
    "builtin_function_or_method",
    "instance",
    "_Feature"
   ],
   "window_display": true
  }
 },
 "nbformat": 4,
 "nbformat_minor": 4
}
