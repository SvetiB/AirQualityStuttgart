{
 "cells": [
  {
   "cell_type": "markdown",
   "metadata": {},
   "source": [
    "# Libraries and Global Settings"
   ]
  },
  {
   "cell_type": "code",
   "execution_count": 1,
   "metadata": {},
   "outputs": [
    {
     "name": "stderr",
     "output_type": "stream",
     "text": [
      "Using TensorFlow backend.\n"
     ]
    }
   ],
   "source": [
    "import pandas as pd  # work with Pandas dataframes\n",
    "\n",
    "from keras.optimizers import Adam, RMSprop, SGD\n",
    "from keras.layers.core import Dense, Activation, Dropout\n",
    "from keras.models import Sequential\n",
    "from keras import layers\n",
    "from tensorflow.keras.wrappers.scikit_learn import KerasRegressor\n",
    "from keras.layers import LeakyReLU, Bidirectional, LSTM\n",
    "\n",
    "from sklearn.metrics import mean_squared_error, r2_score\n",
    "from sklearn.linear_model import LinearRegression\n",
    "from sklearn.preprocessing import RobustScaler\n",
    "from sklearn.model_selection import GridSearchCV, ParameterGrid\n",
    "\n",
    "import seaborn as sns  # Visualizations\n",
    "from matplotlib import pyplot as plt\n",
    "%matplotlib inline\n",
    "\n",
    "import warnings  # Funktionalität zur Unterdrückung von Warnungen\n",
    "warnings.filterwarnings('ignore')"
   ]
  },
  {
   "cell_type": "markdown",
   "metadata": {},
   "source": [
    "# Importing Data"
   ]
  },
  {
   "cell_type": "markdown",
   "metadata": {},
   "source": [
    "Fist of all we import the data which were generated in the whole preprocess (`df_for_ML`)."
   ]
  },
  {
   "cell_type": "code",
   "execution_count": 2,
   "metadata": {
    "deletable": false,
    "editable": false
   },
   "outputs": [],
   "source": [
    "def dateparse(x):\n",
    "    return pd.datetime.strptime(x, '%Y-%m-%d')"
   ]
  },
  {
   "cell_type": "code",
   "execution_count": 3,
   "metadata": {
    "deletable": false,
    "editable": false
   },
   "outputs": [],
   "source": [
    "df_for_ML = pd.read_csv('df_for_ML.csv',\n",
    "                        parse_dates=['Datum'],\n",
    "                        date_parser=dateparse)"
   ]
  },
  {
   "cell_type": "code",
   "execution_count": 4,
   "metadata": {
    "deletable": false,
    "editable": false
   },
   "outputs": [
    {
     "name": "stdout",
     "output_type": "stream",
     "text": [
      "<class 'pandas.core.frame.DataFrame'>\n",
      "RangeIndex: 7458 entries, 0 to 7457\n",
      "Data columns (total 9 columns):\n",
      "Datum           7458 non-null datetime64[ns]\n",
      "Temp            7458 non-null float64\n",
      "WG              7458 non-null float64\n",
      "WR              7458 non-null float64\n",
      "Druck           7458 non-null float64\n",
      "NO              7458 non-null float64\n",
      "NO2             7458 non-null float64\n",
      "Niederschlag    7458 non-null float64\n",
      "PM10            7458 non-null float64\n",
      "dtypes: datetime64[ns](1), float64(8)\n",
      "memory usage: 524.5 KB\n"
     ]
    }
   ],
   "source": [
    "df_for_ML.info()"
   ]
  },
  {
   "cell_type": "code",
   "execution_count": 5,
   "metadata": {
    "deletable": false,
    "editable": false
   },
   "outputs": [
    {
     "data": {
      "text/html": [
       "<div>\n",
       "<style scoped>\n",
       "    .dataframe tbody tr th:only-of-type {\n",
       "        vertical-align: middle;\n",
       "    }\n",
       "\n",
       "    .dataframe tbody tr th {\n",
       "        vertical-align: top;\n",
       "    }\n",
       "\n",
       "    .dataframe thead th {\n",
       "        text-align: right;\n",
       "    }\n",
       "</style>\n",
       "<table border=\"1\" class=\"dataframe\">\n",
       "  <thead>\n",
       "    <tr style=\"text-align: right;\">\n",
       "      <th></th>\n",
       "      <th>Datum</th>\n",
       "      <th>Temp</th>\n",
       "      <th>WG</th>\n",
       "      <th>WR</th>\n",
       "      <th>Druck</th>\n",
       "      <th>NO</th>\n",
       "      <th>NO2</th>\n",
       "      <th>Niederschlag</th>\n",
       "      <th>PM10</th>\n",
       "    </tr>\n",
       "  </thead>\n",
       "  <tbody>\n",
       "    <tr>\n",
       "      <th>0</th>\n",
       "      <td>2000-01-01</td>\n",
       "      <td>3.718</td>\n",
       "      <td>1.959896</td>\n",
       "      <td>234.922917</td>\n",
       "      <td>991.80</td>\n",
       "      <td>17.6266</td>\n",
       "      <td>24.236</td>\n",
       "      <td>3.5892</td>\n",
       "      <td>11.3772</td>\n",
       "    </tr>\n",
       "    <tr>\n",
       "      <th>1</th>\n",
       "      <td>2000-01-02</td>\n",
       "      <td>3.848</td>\n",
       "      <td>2.172912</td>\n",
       "      <td>222.511250</td>\n",
       "      <td>996.90</td>\n",
       "      <td>14.2886</td>\n",
       "      <td>28.698</td>\n",
       "      <td>3.5212</td>\n",
       "      <td>12.3972</td>\n",
       "    </tr>\n",
       "    <tr>\n",
       "      <th>2</th>\n",
       "      <td>2000-01-03</td>\n",
       "      <td>1.463</td>\n",
       "      <td>2.295208</td>\n",
       "      <td>220.181250</td>\n",
       "      <td>996.20</td>\n",
       "      <td>19.0638</td>\n",
       "      <td>35.336</td>\n",
       "      <td>0.8398</td>\n",
       "      <td>19.9480</td>\n",
       "    </tr>\n",
       "    <tr>\n",
       "      <th>3</th>\n",
       "      <td>2000-01-04</td>\n",
       "      <td>4.934</td>\n",
       "      <td>3.574979</td>\n",
       "      <td>220.885417</td>\n",
       "      <td>989.90</td>\n",
       "      <td>8.2660</td>\n",
       "      <td>24.210</td>\n",
       "      <td>1.4894</td>\n",
       "      <td>11.4780</td>\n",
       "    </tr>\n",
       "    <tr>\n",
       "      <th>4</th>\n",
       "      <td>2000-01-05</td>\n",
       "      <td>6.917</td>\n",
       "      <td>2.237208</td>\n",
       "      <td>220.554167</td>\n",
       "      <td>989.70</td>\n",
       "      <td>11.3496</td>\n",
       "      <td>26.208</td>\n",
       "      <td>4.3200</td>\n",
       "      <td>12.9260</td>\n",
       "    </tr>\n",
       "    <tr>\n",
       "      <th>...</th>\n",
       "      <td>...</td>\n",
       "      <td>...</td>\n",
       "      <td>...</td>\n",
       "      <td>...</td>\n",
       "      <td>...</td>\n",
       "      <td>...</td>\n",
       "      <td>...</td>\n",
       "      <td>...</td>\n",
       "      <td>...</td>\n",
       "    </tr>\n",
       "    <tr>\n",
       "      <th>7452</th>\n",
       "      <td>2020-05-27</td>\n",
       "      <td>17.300</td>\n",
       "      <td>1.700000</td>\n",
       "      <td>212.000000</td>\n",
       "      <td>1000.09</td>\n",
       "      <td>6.1000</td>\n",
       "      <td>21.700</td>\n",
       "      <td>0.0000</td>\n",
       "      <td>12.1060</td>\n",
       "    </tr>\n",
       "    <tr>\n",
       "      <th>7453</th>\n",
       "      <td>2020-05-28</td>\n",
       "      <td>17.300</td>\n",
       "      <td>2.400000</td>\n",
       "      <td>28.000000</td>\n",
       "      <td>996.45</td>\n",
       "      <td>4.2000</td>\n",
       "      <td>23.500</td>\n",
       "      <td>0.0000</td>\n",
       "      <td>13.9400</td>\n",
       "    </tr>\n",
       "    <tr>\n",
       "      <th>7454</th>\n",
       "      <td>2020-05-29</td>\n",
       "      <td>16.200</td>\n",
       "      <td>2.200000</td>\n",
       "      <td>129.000000</td>\n",
       "      <td>993.43</td>\n",
       "      <td>2.8000</td>\n",
       "      <td>18.700</td>\n",
       "      <td>0.0000</td>\n",
       "      <td>21.6300</td>\n",
       "    </tr>\n",
       "    <tr>\n",
       "      <th>7455</th>\n",
       "      <td>2020-05-30</td>\n",
       "      <td>15.900</td>\n",
       "      <td>2.400000</td>\n",
       "      <td>27.000000</td>\n",
       "      <td>989.46</td>\n",
       "      <td>2.4000</td>\n",
       "      <td>18.400</td>\n",
       "      <td>0.0000</td>\n",
       "      <td>13.1080</td>\n",
       "    </tr>\n",
       "    <tr>\n",
       "      <th>7456</th>\n",
       "      <td>2020-05-31</td>\n",
       "      <td>16.700</td>\n",
       "      <td>2.000000</td>\n",
       "      <td>61.000000</td>\n",
       "      <td>988.27</td>\n",
       "      <td>1.6000</td>\n",
       "      <td>13.000</td>\n",
       "      <td>0.0000</td>\n",
       "      <td>11.5820</td>\n",
       "    </tr>\n",
       "  </tbody>\n",
       "</table>\n",
       "<p>7458 rows × 9 columns</p>\n",
       "</div>"
      ],
      "text/plain": [
       "          Datum    Temp        WG          WR    Druck       NO     NO2  \\\n",
       "0    2000-01-01   3.718  1.959896  234.922917   991.80  17.6266  24.236   \n",
       "1    2000-01-02   3.848  2.172912  222.511250   996.90  14.2886  28.698   \n",
       "2    2000-01-03   1.463  2.295208  220.181250   996.20  19.0638  35.336   \n",
       "3    2000-01-04   4.934  3.574979  220.885417   989.90   8.2660  24.210   \n",
       "4    2000-01-05   6.917  2.237208  220.554167   989.70  11.3496  26.208   \n",
       "...         ...     ...       ...         ...      ...      ...     ...   \n",
       "7452 2020-05-27  17.300  1.700000  212.000000  1000.09   6.1000  21.700   \n",
       "7453 2020-05-28  17.300  2.400000   28.000000   996.45   4.2000  23.500   \n",
       "7454 2020-05-29  16.200  2.200000  129.000000   993.43   2.8000  18.700   \n",
       "7455 2020-05-30  15.900  2.400000   27.000000   989.46   2.4000  18.400   \n",
       "7456 2020-05-31  16.700  2.000000   61.000000   988.27   1.6000  13.000   \n",
       "\n",
       "      Niederschlag     PM10  \n",
       "0           3.5892  11.3772  \n",
       "1           3.5212  12.3972  \n",
       "2           0.8398  19.9480  \n",
       "3           1.4894  11.4780  \n",
       "4           4.3200  12.9260  \n",
       "...            ...      ...  \n",
       "7452        0.0000  12.1060  \n",
       "7453        0.0000  13.9400  \n",
       "7454        0.0000  21.6300  \n",
       "7455        0.0000  13.1080  \n",
       "7456        0.0000  11.5820  \n",
       "\n",
       "[7458 rows x 9 columns]"
      ]
     },
     "execution_count": 5,
     "metadata": {},
     "output_type": "execute_result"
    }
   ],
   "source": [
    "df_for_ML = df_for_ML.sort_values(by=['Datum'], axis=0, ascending=True)\n",
    "df_for_ML"
   ]
  },
  {
   "cell_type": "markdown",
   "metadata": {},
   "source": [
    "# Modeling"
   ]
  },
  {
   "cell_type": "markdown",
   "metadata": {},
   "source": [
    "## Data Preparation"
   ]
  },
  {
   "cell_type": "markdown",
   "metadata": {},
   "source": [
    "### Selection of Timeframe"
   ]
  },
  {
   "cell_type": "markdown",
   "metadata": {},
   "source": [
    "We decided only to analyze and predict date where we have real particulates data and not derived with the KNN imputer."
   ]
  },
  {
   "cell_type": "code",
   "execution_count": 6,
   "metadata": {
    "deletable": false,
    "editable": false
   },
   "outputs": [],
   "source": [
    "startDate = \"2003-01-01\"\n",
    "endDate = \"2018-12-31\""
   ]
  },
  {
   "cell_type": "code",
   "execution_count": 7,
   "metadata": {
    "deletable": false,
    "editable": false
   },
   "outputs": [],
   "source": [
    "df_for_ML = df_for_ML[(df_for_ML[\"Datum\"] >= startDate)\n",
    "                      & (df_for_ML[\"Datum\"] <= endDate)]"
   ]
  },
  {
   "cell_type": "code",
   "execution_count": 8,
   "metadata": {
    "deletable": false,
    "editable": false
   },
   "outputs": [
    {
     "data": {
      "text/html": [
       "<div>\n",
       "<style scoped>\n",
       "    .dataframe tbody tr th:only-of-type {\n",
       "        vertical-align: middle;\n",
       "    }\n",
       "\n",
       "    .dataframe tbody tr th {\n",
       "        vertical-align: top;\n",
       "    }\n",
       "\n",
       "    .dataframe thead th {\n",
       "        text-align: right;\n",
       "    }\n",
       "</style>\n",
       "<table border=\"1\" class=\"dataframe\">\n",
       "  <thead>\n",
       "    <tr style=\"text-align: right;\">\n",
       "      <th></th>\n",
       "      <th>Datum</th>\n",
       "      <th>Temp</th>\n",
       "      <th>WG</th>\n",
       "      <th>WR</th>\n",
       "      <th>Druck</th>\n",
       "      <th>NO</th>\n",
       "      <th>NO2</th>\n",
       "      <th>Niederschlag</th>\n",
       "      <th>PM10</th>\n",
       "    </tr>\n",
       "  </thead>\n",
       "  <tbody>\n",
       "    <tr>\n",
       "      <th>6935</th>\n",
       "      <td>2018-12-27</td>\n",
       "      <td>0.8</td>\n",
       "      <td>0.8</td>\n",
       "      <td>21.5</td>\n",
       "      <td>995.43</td>\n",
       "      <td>54.557</td>\n",
       "      <td>43.7</td>\n",
       "      <td>0.0</td>\n",
       "      <td>18.4</td>\n",
       "    </tr>\n",
       "    <tr>\n",
       "      <th>6936</th>\n",
       "      <td>2018-12-28</td>\n",
       "      <td>1.3</td>\n",
       "      <td>0.8</td>\n",
       "      <td>256.0</td>\n",
       "      <td>996.84</td>\n",
       "      <td>54.557</td>\n",
       "      <td>38.9</td>\n",
       "      <td>0.0</td>\n",
       "      <td>17.4</td>\n",
       "    </tr>\n",
       "    <tr>\n",
       "      <th>6937</th>\n",
       "      <td>2018-12-29</td>\n",
       "      <td>2.4</td>\n",
       "      <td>1.3</td>\n",
       "      <td>230.3</td>\n",
       "      <td>1000.46</td>\n",
       "      <td>11.600</td>\n",
       "      <td>28.0</td>\n",
       "      <td>0.1</td>\n",
       "      <td>11.5</td>\n",
       "    </tr>\n",
       "    <tr>\n",
       "      <th>6938</th>\n",
       "      <td>2018-12-30</td>\n",
       "      <td>6.5</td>\n",
       "      <td>2.1</td>\n",
       "      <td>244.0</td>\n",
       "      <td>1000.46</td>\n",
       "      <td>1.300</td>\n",
       "      <td>12.3</td>\n",
       "      <td>0.7</td>\n",
       "      <td>8.4</td>\n",
       "    </tr>\n",
       "    <tr>\n",
       "      <th>6939</th>\n",
       "      <td>2018-12-31</td>\n",
       "      <td>6.9</td>\n",
       "      <td>0.7</td>\n",
       "      <td>213.9</td>\n",
       "      <td>1001.15</td>\n",
       "      <td>7.600</td>\n",
       "      <td>21.6</td>\n",
       "      <td>0.9</td>\n",
       "      <td>9.3</td>\n",
       "    </tr>\n",
       "  </tbody>\n",
       "</table>\n",
       "</div>"
      ],
      "text/plain": [
       "          Datum  Temp   WG     WR    Druck      NO   NO2  Niederschlag  PM10\n",
       "6935 2018-12-27   0.8  0.8   21.5   995.43  54.557  43.7           0.0  18.4\n",
       "6936 2018-12-28   1.3  0.8  256.0   996.84  54.557  38.9           0.0  17.4\n",
       "6937 2018-12-29   2.4  1.3  230.3  1000.46  11.600  28.0           0.1  11.5\n",
       "6938 2018-12-30   6.5  2.1  244.0  1000.46   1.300  12.3           0.7   8.4\n",
       "6939 2018-12-31   6.9  0.7  213.9  1001.15   7.600  21.6           0.9   9.3"
      ]
     },
     "execution_count": 8,
     "metadata": {},
     "output_type": "execute_result"
    }
   ],
   "source": [
    "df_for_ML.tail()"
   ]
  },
  {
   "cell_type": "markdown",
   "metadata": {},
   "source": [
    "### Split Data into Training and Validation Samples"
   ]
  },
  {
   "cell_type": "markdown",
   "metadata": {},
   "source": [
    "We split the date with train data for periods 2003-2017 and test the models on data of 2017."
   ]
  },
  {
   "cell_type": "code",
   "execution_count": 9,
   "metadata": {
    "deletable": false,
    "editable": false
   },
   "outputs": [],
   "source": [
    "splitDate=\"2016-12-31\""
   ]
  },
  {
   "cell_type": "code",
   "execution_count": 10,
   "metadata": {
    "deletable": false,
    "editable": false
   },
   "outputs": [],
   "source": [
    "df_train = df_for_ML[df_for_ML[\"Datum\"] <= splitDate]\n",
    "df_test = df_for_ML[df_for_ML[\"Datum\"] > splitDate]"
   ]
  },
  {
   "cell_type": "markdown",
   "metadata": {
    "deletable": false,
    "editable": false
   },
   "source": [
    "### Data Scaling and Normalization"
   ]
  },
  {
   "cell_type": "markdown",
   "metadata": {
    "deletable": false,
    "editable": false
   },
   "source": [
    "Although we performed the outlier detection in the preprocessing we see that the rainfall has still many values outside the IQR. That is we are performing the `RobustScaler` from Sklearn which is robust to outliers."
   ]
  },
  {
   "cell_type": "code",
   "execution_count": 11,
   "metadata": {
    "deletable": false,
    "editable": false
   },
   "outputs": [],
   "source": [
    "df_train_woDate = df_train.drop('Datum', axis=1)\n",
    "x = df_train_woDate.values  # returns a numpy array\n",
    "robustScaler = RobustScaler()\n",
    "x_scaled = robustScaler.fit_transform(x)\n",
    "df_train_norm = pd.DataFrame(x_scaled)"
   ]
  },
  {
   "cell_type": "code",
   "execution_count": 12,
   "metadata": {
    "deletable": false,
    "editable": false
   },
   "outputs": [
    {
     "data": {
      "text/html": [
       "<div>\n",
       "<style scoped>\n",
       "    .dataframe tbody tr th:only-of-type {\n",
       "        vertical-align: middle;\n",
       "    }\n",
       "\n",
       "    .dataframe tbody tr th {\n",
       "        vertical-align: top;\n",
       "    }\n",
       "\n",
       "    .dataframe thead th {\n",
       "        text-align: right;\n",
       "    }\n",
       "</style>\n",
       "<table border=\"1\" class=\"dataframe\">\n",
       "  <thead>\n",
       "    <tr style=\"text-align: right;\">\n",
       "      <th></th>\n",
       "      <th>0</th>\n",
       "      <th>1</th>\n",
       "      <th>2</th>\n",
       "      <th>3</th>\n",
       "      <th>4</th>\n",
       "      <th>5</th>\n",
       "      <th>6</th>\n",
       "      <th>7</th>\n",
       "    </tr>\n",
       "  </thead>\n",
       "  <tbody>\n",
       "    <tr>\n",
       "      <th>count</th>\n",
       "      <td>5115.000000</td>\n",
       "      <td>5115.000000</td>\n",
       "      <td>5115.000000</td>\n",
       "      <td>5115.000000</td>\n",
       "      <td>5115.000000</td>\n",
       "      <td>5115.000000</td>\n",
       "      <td>5115.000000</td>\n",
       "      <td>5115.000000</td>\n",
       "    </tr>\n",
       "    <tr>\n",
       "      <th>mean</th>\n",
       "      <td>-0.018887</td>\n",
       "      <td>0.231913</td>\n",
       "      <td>-0.191201</td>\n",
       "      <td>-0.065132</td>\n",
       "      <td>0.318994</td>\n",
       "      <td>0.093558</td>\n",
       "      <td>1.080912</td>\n",
       "      <td>0.135750</td>\n",
       "    </tr>\n",
       "    <tr>\n",
       "      <th>std</th>\n",
       "      <td>0.639881</td>\n",
       "      <td>0.885091</td>\n",
       "      <td>0.706613</td>\n",
       "      <td>0.795053</td>\n",
       "      <td>0.803527</td>\n",
       "      <td>0.757731</td>\n",
       "      <td>2.315683</td>\n",
       "      <td>0.759819</td>\n",
       "    </tr>\n",
       "    <tr>\n",
       "      <th>min</th>\n",
       "      <td>-1.992288</td>\n",
       "      <td>-1.613262</td>\n",
       "      <td>-2.311302</td>\n",
       "      <td>-2.003989</td>\n",
       "      <td>-0.572506</td>\n",
       "      <td>-1.549712</td>\n",
       "      <td>-0.054030</td>\n",
       "      <td>-1.530163</td>\n",
       "    </tr>\n",
       "    <tr>\n",
       "      <th>25%</th>\n",
       "      <td>-0.523749</td>\n",
       "      <td>-0.364726</td>\n",
       "      <td>-0.685935</td>\n",
       "      <td>-0.531915</td>\n",
       "      <td>-0.296542</td>\n",
       "      <td>-0.445213</td>\n",
       "      <td>-0.054030</td>\n",
       "      <td>-0.428263</td>\n",
       "    </tr>\n",
       "    <tr>\n",
       "      <th>50%</th>\n",
       "      <td>0.000000</td>\n",
       "      <td>0.000000</td>\n",
       "      <td>0.000000</td>\n",
       "      <td>0.000000</td>\n",
       "      <td>0.000000</td>\n",
       "      <td>0.000000</td>\n",
       "      <td>0.000000</td>\n",
       "      <td>0.000000</td>\n",
       "    </tr>\n",
       "    <tr>\n",
       "      <th>75%</th>\n",
       "      <td>0.476251</td>\n",
       "      <td>0.635274</td>\n",
       "      <td>0.314065</td>\n",
       "      <td>0.468085</td>\n",
       "      <td>0.703458</td>\n",
       "      <td>0.554787</td>\n",
       "      <td>0.945970</td>\n",
       "      <td>0.571737</td>\n",
       "    </tr>\n",
       "    <tr>\n",
       "      <th>max</th>\n",
       "      <td>1.642303</td>\n",
       "      <td>3.145363</td>\n",
       "      <td>1.736575</td>\n",
       "      <td>1.917287</td>\n",
       "      <td>2.078606</td>\n",
       "      <td>2.232065</td>\n",
       "      <td>10.301666</td>\n",
       "      <td>1.922720</td>\n",
       "    </tr>\n",
       "  </tbody>\n",
       "</table>\n",
       "</div>"
      ],
      "text/plain": [
       "                 0            1            2            3            4  \\\n",
       "count  5115.000000  5115.000000  5115.000000  5115.000000  5115.000000   \n",
       "mean     -0.018887     0.231913    -0.191201    -0.065132     0.318994   \n",
       "std       0.639881     0.885091     0.706613     0.795053     0.803527   \n",
       "min      -1.992288    -1.613262    -2.311302    -2.003989    -0.572506   \n",
       "25%      -0.523749    -0.364726    -0.685935    -0.531915    -0.296542   \n",
       "50%       0.000000     0.000000     0.000000     0.000000     0.000000   \n",
       "75%       0.476251     0.635274     0.314065     0.468085     0.703458   \n",
       "max       1.642303     3.145363     1.736575     1.917287     2.078606   \n",
       "\n",
       "                 5            6            7  \n",
       "count  5115.000000  5115.000000  5115.000000  \n",
       "mean      0.093558     1.080912     0.135750  \n",
       "std       0.757731     2.315683     0.759819  \n",
       "min      -1.549712    -0.054030    -1.530163  \n",
       "25%      -0.445213    -0.054030    -0.428263  \n",
       "50%       0.000000     0.000000     0.000000  \n",
       "75%       0.554787     0.945970     0.571737  \n",
       "max       2.232065    10.301666     1.922720  "
      ]
     },
     "execution_count": 12,
     "metadata": {},
     "output_type": "execute_result"
    }
   ],
   "source": [
    "df_train_norm.describe()"
   ]
  },
  {
   "cell_type": "code",
   "execution_count": 13,
   "metadata": {
    "deletable": false,
    "editable": false
   },
   "outputs": [
    {
     "data": {
      "image/png": "[encoded data removed]",
      "text/plain": [
       "<Figure size 1008x504 with 1 Axes>"
      ]
     },
     "metadata": {
      "needs_background": "light"
     },
     "output_type": "display_data"
    }
   ],
   "source": [
    "plt.figure(figsize=(14, 7))\n",
    "sns.set_style(\"darkgrid\")\n",
    "sns.boxplot(data=df_train_norm)\n",
    "plt.xlabel(\"Features\")\n",
    "plt.show()"
   ]
  },
  {
   "cell_type": "code",
   "execution_count": 14,
   "metadata": {
    "deletable": false,
    "editable": false
   },
   "outputs": [],
   "source": [
    "df_test_woDate = df_test.drop('Datum', axis=1)\n",
    "x = df_test_woDate.values  # returns a numpy array\n",
    "robustScaler = RobustScaler()\n",
    "x_scaled = robustScaler.fit_transform(x)\n",
    "df_test_norm = pd.DataFrame(x_scaled)"
   ]
  },
  {
   "cell_type": "code",
   "execution_count": 15,
   "metadata": {
    "deletable": false,
    "editable": false,
    "scrolled": true
   },
   "outputs": [
    {
     "data": {
      "text/html": [
       "<div>\n",
       "<style scoped>\n",
       "    .dataframe tbody tr th:only-of-type {\n",
       "        vertical-align: middle;\n",
       "    }\n",
       "\n",
       "    .dataframe tbody tr th {\n",
       "        vertical-align: top;\n",
       "    }\n",
       "\n",
       "    .dataframe thead th {\n",
       "        text-align: right;\n",
       "    }\n",
       "</style>\n",
       "<table border=\"1\" class=\"dataframe\">\n",
       "  <thead>\n",
       "    <tr style=\"text-align: right;\">\n",
       "      <th></th>\n",
       "      <th>0</th>\n",
       "      <th>1</th>\n",
       "      <th>2</th>\n",
       "      <th>3</th>\n",
       "      <th>4</th>\n",
       "      <th>5</th>\n",
       "      <th>6</th>\n",
       "      <th>7</th>\n",
       "    </tr>\n",
       "  </thead>\n",
       "  <tbody>\n",
       "    <tr>\n",
       "      <th>count</th>\n",
       "      <td>730.000000</td>\n",
       "      <td>730.000000</td>\n",
       "      <td>730.000000</td>\n",
       "      <td>7.300000e+02</td>\n",
       "      <td>730.000000</td>\n",
       "      <td>730.000000</td>\n",
       "      <td>730.000000</td>\n",
       "      <td>7.300000e+02</td>\n",
       "    </tr>\n",
       "    <tr>\n",
       "      <th>mean</th>\n",
       "      <td>-0.003986</td>\n",
       "      <td>0.386149</td>\n",
       "      <td>-0.546588</td>\n",
       "      <td>-3.402301e-02</td>\n",
       "      <td>0.416625</td>\n",
       "      <td>0.041931</td>\n",
       "      <td>1.232575</td>\n",
       "      <td>1.740679e-01</td>\n",
       "    </tr>\n",
       "    <tr>\n",
       "      <th>std</th>\n",
       "      <td>0.627787</td>\n",
       "      <td>1.006662</td>\n",
       "      <td>2.821312</td>\n",
       "      <td>8.658226e-01</td>\n",
       "      <td>1.036697</td>\n",
       "      <td>0.718378</td>\n",
       "      <td>2.632725</td>\n",
       "      <td>8.637720e-01</td>\n",
       "    </tr>\n",
       "    <tr>\n",
       "      <th>min</th>\n",
       "      <td>-1.623246</td>\n",
       "      <td>-1.166667</td>\n",
       "      <td>-8.774603</td>\n",
       "      <td>-2.218910e+00</td>\n",
       "      <td>-0.497132</td>\n",
       "      <td>-1.480799</td>\n",
       "      <td>0.000000</td>\n",
       "      <td>-1.443243e+00</td>\n",
       "    </tr>\n",
       "    <tr>\n",
       "      <th>25%</th>\n",
       "      <td>-0.490982</td>\n",
       "      <td>-0.333333</td>\n",
       "      <td>-0.369312</td>\n",
       "      <td>-4.896116e-01</td>\n",
       "      <td>-0.281071</td>\n",
       "      <td>-0.496160</td>\n",
       "      <td>0.000000</td>\n",
       "      <td>-3.908602e-01</td>\n",
       "    </tr>\n",
       "    <tr>\n",
       "      <th>50%</th>\n",
       "      <td>0.000000</td>\n",
       "      <td>0.000000</td>\n",
       "      <td>0.000000</td>\n",
       "      <td>6.846520e-15</td>\n",
       "      <td>0.000000</td>\n",
       "      <td>0.000000</td>\n",
       "      <td>0.000000</td>\n",
       "      <td>-9.649399e-17</td>\n",
       "    </tr>\n",
       "    <tr>\n",
       "      <th>75%</th>\n",
       "      <td>0.509018</td>\n",
       "      <td>0.666667</td>\n",
       "      <td>0.630688</td>\n",
       "      <td>5.103884e-01</td>\n",
       "      <td>0.718929</td>\n",
       "      <td>0.503840</td>\n",
       "      <td>1.000000</td>\n",
       "      <td>6.091398e-01</td>\n",
       "    </tr>\n",
       "    <tr>\n",
       "      <th>max</th>\n",
       "      <td>1.294589</td>\n",
       "      <td>4.777674</td>\n",
       "      <td>6.069841</td>\n",
       "      <td>2.220717e+00</td>\n",
       "      <td>3.667839</td>\n",
       "      <td>2.741997</td>\n",
       "      <td>11.500000</td>\n",
       "      <td>2.828963e+00</td>\n",
       "    </tr>\n",
       "  </tbody>\n",
       "</table>\n",
       "</div>"
      ],
      "text/plain": [
       "                0           1           2             3           4  \\\n",
       "count  730.000000  730.000000  730.000000  7.300000e+02  730.000000   \n",
       "mean    -0.003986    0.386149   -0.546588 -3.402301e-02    0.416625   \n",
       "std      0.627787    1.006662    2.821312  8.658226e-01    1.036697   \n",
       "min     -1.623246   -1.166667   -8.774603 -2.218910e+00   -0.497132   \n",
       "25%     -0.490982   -0.333333   -0.369312 -4.896116e-01   -0.281071   \n",
       "50%      0.000000    0.000000    0.000000  6.846520e-15    0.000000   \n",
       "75%      0.509018    0.666667    0.630688  5.103884e-01    0.718929   \n",
       "max      1.294589    4.777674    6.069841  2.220717e+00    3.667839   \n",
       "\n",
       "                5           6             7  \n",
       "count  730.000000  730.000000  7.300000e+02  \n",
       "mean     0.041931    1.232575  1.740679e-01  \n",
       "std      0.718378    2.632725  8.637720e-01  \n",
       "min     -1.480799    0.000000 -1.443243e+00  \n",
       "25%     -0.496160    0.000000 -3.908602e-01  \n",
       "50%      0.000000    0.000000 -9.649399e-17  \n",
       "75%      0.503840    1.000000  6.091398e-01  \n",
       "max      2.741997   11.500000  2.828963e+00  "
      ]
     },
     "execution_count": 15,
     "metadata": {},
     "output_type": "execute_result"
    }
   ],
   "source": [
    "df_test_norm.describe()"
   ]
  },
  {
   "cell_type": "code",
   "execution_count": 16,
   "metadata": {
    "deletable": false,
    "editable": false
   },
   "outputs": [
    {
     "data": {
      "image/png": "[encoded data removed]",
      "text/plain": [
       "<Figure size 1008x504 with 1 Axes>"
      ]
     },
     "metadata": {},
     "output_type": "display_data"
    }
   ],
   "source": [
    "plt.figure(figsize=(14, 7))\n",
    "sns.set_style(\"darkgrid\")\n",
    "sns.boxplot(data=df_test_norm)\n",
    "plt.xlabel(\"Features\")\n",
    "plt.show()"
   ]
  },
  {
   "cell_type": "markdown",
   "metadata": {
    "deletable": false,
    "editable": false
   },
   "source": [
    "Now we want to return the column names."
   ]
  },
  {
   "cell_type": "code",
   "execution_count": 17,
   "metadata": {
    "deletable": false,
    "editable": false
   },
   "outputs": [
    {
     "data": {
      "text/plain": [
       "{0: 'Temp',\n",
       " 1: 'WG',\n",
       " 2: 'WR',\n",
       " 3: 'Druck',\n",
       " 4: 'NO',\n",
       " 5: 'NO2',\n",
       " 6: 'Niederschlag',\n",
       " 7: 'PM10'}"
      ]
     },
     "execution_count": 17,
     "metadata": {},
     "output_type": "execute_result"
    }
   ],
   "source": [
    "i = 0\n",
    "dictColumn = {}\n",
    "for i in range(0, (len(df_test_woDate.columns))):\n",
    "    dictColumn.update(\n",
    "        {list(df_test_norm.columns)[i]: list(df_test_woDate.columns)[i]})\n",
    "    i = i + 1\n",
    "dictColumn"
   ]
  },
  {
   "cell_type": "code",
   "execution_count": 18,
   "metadata": {
    "deletable": false,
    "editable": false
   },
   "outputs": [],
   "source": [
    "df_train_norm=df_train_norm.rename(columns=dictColumn)\n",
    "df_test_norm=df_test_norm.rename(columns=dictColumn)"
   ]
  },
  {
   "cell_type": "code",
   "execution_count": 19,
   "metadata": {
    "deletable": false,
    "editable": false,
    "scrolled": true
   },
   "outputs": [
    {
     "data": {
      "text/html": [
       "<div>\n",
       "<style scoped>\n",
       "    .dataframe tbody tr th:only-of-type {\n",
       "        vertical-align: middle;\n",
       "    }\n",
       "\n",
       "    .dataframe tbody tr th {\n",
       "        vertical-align: top;\n",
       "    }\n",
       "\n",
       "    .dataframe thead th {\n",
       "        text-align: right;\n",
       "    }\n",
       "</style>\n",
       "<table border=\"1\" class=\"dataframe\">\n",
       "  <thead>\n",
       "    <tr style=\"text-align: right;\">\n",
       "      <th></th>\n",
       "      <th>Temp</th>\n",
       "      <th>WG</th>\n",
       "      <th>WR</th>\n",
       "      <th>Druck</th>\n",
       "      <th>NO</th>\n",
       "      <th>NO2</th>\n",
       "      <th>Niederschlag</th>\n",
       "      <th>PM10</th>\n",
       "    </tr>\n",
       "  </thead>\n",
       "  <tbody>\n",
       "    <tr>\n",
       "      <th>0</th>\n",
       "      <td>-0.497606</td>\n",
       "      <td>0.534182</td>\n",
       "      <td>-0.842573</td>\n",
       "      <td>-0.968085</td>\n",
       "      <td>0.854268</td>\n",
       "      <td>-0.388466</td>\n",
       "      <td>0.522287</td>\n",
       "      <td>1.922720</td>\n",
       "    </tr>\n",
       "    <tr>\n",
       "      <th>1</th>\n",
       "      <td>-0.030507</td>\n",
       "      <td>2.803730</td>\n",
       "      <td>0.278038</td>\n",
       "      <td>-2.003989</td>\n",
       "      <td>-0.184573</td>\n",
       "      <td>-0.494118</td>\n",
       "      <td>10.301666</td>\n",
       "      <td>-1.098083</td>\n",
       "    </tr>\n",
       "    <tr>\n",
       "      <th>2</th>\n",
       "      <td>-0.285835</td>\n",
       "      <td>2.748578</td>\n",
       "      <td>0.298085</td>\n",
       "      <td>-1.904255</td>\n",
       "      <td>-0.096081</td>\n",
       "      <td>-0.384314</td>\n",
       "      <td>1.062584</td>\n",
       "      <td>-0.189196</td>\n",
       "    </tr>\n",
       "    <tr>\n",
       "      <th>3</th>\n",
       "      <td>-0.571840</td>\n",
       "      <td>-0.313689</td>\n",
       "      <td>-0.032778</td>\n",
       "      <td>-1.776596</td>\n",
       "      <td>0.474810</td>\n",
       "      <td>0.054902</td>\n",
       "      <td>10.301666</td>\n",
       "      <td>-0.663016</td>\n",
       "    </tr>\n",
       "    <tr>\n",
       "      <th>4</th>\n",
       "      <td>-1.144782</td>\n",
       "      <td>0.016070</td>\n",
       "      <td>-0.603272</td>\n",
       "      <td>-0.968085</td>\n",
       "      <td>0.228162</td>\n",
       "      <td>-0.303114</td>\n",
       "      <td>0.234129</td>\n",
       "      <td>-0.073853</td>\n",
       "    </tr>\n",
       "  </tbody>\n",
       "</table>\n",
       "</div>"
      ],
      "text/plain": [
       "       Temp        WG        WR     Druck        NO       NO2  Niederschlag  \\\n",
       "0 -0.497606  0.534182 -0.842573 -0.968085  0.854268 -0.388466      0.522287   \n",
       "1 -0.030507  2.803730  0.278038 -2.003989 -0.184573 -0.494118     10.301666   \n",
       "2 -0.285835  2.748578  0.298085 -1.904255 -0.096081 -0.384314      1.062584   \n",
       "3 -0.571840 -0.313689 -0.032778 -1.776596  0.474810  0.054902     10.301666   \n",
       "4 -1.144782  0.016070 -0.603272 -0.968085  0.228162 -0.303114      0.234129   \n",
       "\n",
       "       PM10  \n",
       "0  1.922720  \n",
       "1 -1.098083  \n",
       "2 -0.189196  \n",
       "3 -0.663016  \n",
       "4 -0.073853  "
      ]
     },
     "execution_count": 19,
     "metadata": {},
     "output_type": "execute_result"
    }
   ],
   "source": [
    "df_train_norm.head()"
   ]
  },
  {
   "cell_type": "markdown",
   "metadata": {},
   "source": [
    "### Split Data into Input and Target Data"
   ]
  },
  {
   "cell_type": "markdown",
   "metadata": {},
   "source": [
    "Define the funktion to generate featuers and target data on basis of train and test requirements."
   ]
  },
  {
   "cell_type": "code",
   "execution_count": 20,
   "metadata": {
    "deletable": false,
    "editable": false
   },
   "outputs": [],
   "source": [
    "def create_dataset(X, y, time_steps=1, step=1):\n",
    "    Xs, ys = [], []\n",
    "    for i in range(0, len(X) - time_steps, step):\n",
    "        v = X.iloc[i:(i + time_steps)].values\n",
    "        targets = y.iloc[i + time_steps]\n",
    "        Xs.append(v)\n",
    "        ys.append(targets)\n",
    "    return np.array(Xs), np.array(ys)"
   ]
  },
  {
   "cell_type": "markdown",
   "metadata": {},
   "source": [
    "#### Split Data into Input and Target Data for Neural Networks"
   ]
  },
  {
   "cell_type": "markdown",
   "metadata": {},
   "source": [
    "On basis of the last three weeks we want to predict the target value for particulate."
   ]
  },
  {
   "cell_type": "code",
   "execution_count": 21,
   "metadata": {
    "deletable": false,
    "editable": false
   },
   "outputs": [],
   "source": [
    "TIME_STEPS = 21\n",
    "STEP = 1\n",
    "\n",
    "X_train, y_train = create_dataset(\n",
    "    # df_train.drop(columns=['PM10']),\n",
    "    df_train_norm,\n",
    "    df_train_norm.PM10,\n",
    "    TIME_STEPS,\n",
    "    STEP)\n",
    "\n",
    "X_test, y_test = create_dataset(\n",
    "    # df_test.drop(columns=['PM10']),\n",
    "    df_test_norm,\n",
    "    df_test_norm.PM10,\n",
    "    TIME_STEPS,\n",
    "    STEP)"
   ]
  },
  {
   "cell_type": "markdown",
   "metadata": {},
   "source": [
    "#### Split Data into Input and Target Data for Baseline Model"
   ]
  },
  {
   "cell_type": "markdown",
   "metadata": {},
   "source": [
    "On basis of the last day we want to predict the target value for particulate."
   ]
  },
  {
   "cell_type": "code",
   "execution_count": 141,
   "metadata": {
    "deletable": false,
    "editable": false,
    "run_control": {
     "frozen": true
    }
   },
   "outputs": [],
   "source": [
    "TIME_STEPS = 1\n",
    "STEP = 1\n",
    "\n",
    "X_train_base, y_train_base = create_dataset(\n",
    "    # df_train.drop(columns=['PM10']),\n",
    "    df_train_norm,\n",
    "    df_train_norm.PM10,\n",
    "    TIME_STEPS,\n",
    "    STEP)\n",
    "\n",
    "X_test_base, y_test_base = create_dataset(\n",
    "    # df_test.drop(columns=['PM10']),\n",
    "    df_test_norm,\n",
    "    df_test_norm.PM10,\n",
    "    TIME_STEPS,\n",
    "    STEP)"
   ]
  },
  {
   "cell_type": "markdown",
   "metadata": {
    "deletable": false,
    "editable": false,
    "run_control": {
     "frozen": true
    }
   },
   "source": [
    "## Alogrithms Selection"
   ]
  },
  {
   "cell_type": "markdown",
   "metadata": {
    "deletable": false,
    "editable": false,
    "run_control": {
     "frozen": true
    }
   },
   "source": [
    "As a simple base line model, we opted for a linear regression that predicts the value of the particulates based on the features including the particulates of the previous day. \n",
    "\n",
    "For the final model, we opted for an LSTM neural network that predicts the value of particulate based on the features including the particulates of the previous 21 days. LSTM is traditionaly one of the best approach method for times series forcasting."
   ]
  },
  {
   "cell_type": "markdown",
   "metadata": {
    "deletable": false,
    "editable": false,
    "run_control": {
     "frozen": true
    }
   },
   "source": [
    "## Baseline Models"
   ]
  },
  {
   "cell_type": "markdown",
   "metadata": {
    "deletable": false,
    "editable": false,
    "run_control": {
     "frozen": true
    }
   },
   "source": [
    "At this point we have to reshape the given features numpay arrey in a compatible shape for the baseline model `linear regression`."
   ]
  },
  {
   "cell_type": "code",
   "execution_count": 142,
   "metadata": {
    "deletable": false,
    "editable": false,
    "run_control": {
     "frozen": true
    }
   },
   "outputs": [],
   "source": [
    "X_train_base = X_train_base.reshape(-1,8) \n",
    "X_test_base = X_test_base.reshape(-1,8)"
   ]
  },
  {
   "cell_type": "code",
   "execution_count": 143,
   "metadata": {
    "deletable": false,
    "editable": false,
    "run_control": {
     "frozen": true
    }
   },
   "outputs": [],
   "source": [
    "#X_train_base.shape \n",
    "#y_train_base.shape\n",
    "#X_test_base.shape\n",
    "#y_test_base.shape"
   ]
  },
  {
   "cell_type": "markdown",
   "metadata": {
    "deletable": false,
    "editable": false,
    "run_control": {
     "frozen": true
    }
   },
   "source": [
    "Print the second datarow to compare the value of particulate with the first data row in the `y_train` data set!"
   ]
  },
  {
   "cell_type": "code",
   "execution_count": 144,
   "metadata": {
    "deletable": false,
    "editable": false,
    "run_control": {
     "frozen": true
    },
    "scrolled": true
   },
   "outputs": [
    {
     "data": {
      "text/plain": [
       "array([-0.03050718,  2.8037301 ,  0.27803752, -2.00398936, -0.18457257,\n",
       "       -0.49411765, 10.30166592, -1.09808315])"
      ]
     },
     "execution_count": 144,
     "metadata": {},
     "output_type": "execute_result"
    }
   ],
   "source": [
    "X_train_base[1]"
   ]
  },
  {
   "cell_type": "markdown",
   "metadata": {
    "deletable": false,
    "editable": false,
    "run_control": {
     "frozen": true
    }
   },
   "source": [
    "First data row in the `y_train` data set."
   ]
  },
  {
   "cell_type": "code",
   "execution_count": 145,
   "metadata": {
    "deletable": false,
    "editable": false,
    "run_control": {
     "frozen": true
    }
   },
   "outputs": [
    {
     "data": {
      "text/plain": [
       "-1.098083146626836"
      ]
     },
     "execution_count": 145,
     "metadata": {},
     "output_type": "execute_result"
    }
   ],
   "source": [
    "y_train_base[0]"
   ]
  },
  {
   "cell_type": "code",
   "execution_count": 146,
   "metadata": {
    "deletable": false,
    "editable": false,
    "run_control": {
     "frozen": true
    }
   },
   "outputs": [
    {
     "data": {
      "text/plain": [
       "LinearRegression()"
      ]
     },
     "execution_count": 146,
     "metadata": {},
     "output_type": "execute_result"
    }
   ],
   "source": [
    "# Create linear regression object\n",
    "regr = LinearRegression()\n",
    "# Train the model using the training sets\n",
    "regr.fit(X_train_base, y_train_base)"
   ]
  },
  {
   "cell_type": "code",
   "execution_count": 147,
   "metadata": {
    "deletable": false,
    "editable": false,
    "run_control": {
     "frozen": true
    }
   },
   "outputs": [],
   "source": [
    "test_pred = regr.predict(X_test_base)"
   ]
  },
  {
   "cell_type": "code",
   "execution_count": 148,
   "metadata": {
    "deletable": false,
    "editable": false,
    "run_control": {
     "frozen": true
    },
    "scrolled": true
   },
   "outputs": [
    {
     "data": {
      "text/plain": [
       "array([ 0.23039722, -0.84551432, -1.44324295, -0.03042982, -0.53034831,\n",
       "        0.86072923, -0.12823996, -0.54121611, -0.26952127, -1.34543281])"
      ]
     },
     "execution_count": 148,
     "metadata": {},
     "output_type": "execute_result"
    }
   ],
   "source": [
    "y_test_base[0:10]"
   ]
  },
  {
   "cell_type": "code",
   "execution_count": 149,
   "metadata": {
    "deletable": false,
    "editable": false,
    "run_control": {
     "frozen": true
    },
    "scrolled": true
   },
   "outputs": [
    {
     "data": {
      "text/plain": [
       "array([ 1.52565211, -0.1833968 , -0.35470202, -1.31773741,  0.96428124,\n",
       "       -0.0948241 ,  1.43278755,  0.82098009, -0.10044902,  0.71482584])"
      ]
     },
     "execution_count": 149,
     "metadata": {},
     "output_type": "execute_result"
    }
   ],
   "source": [
    "test_pred[0:10]"
   ]
  },
  {
   "cell_type": "code",
   "execution_count": 150,
   "metadata": {
    "deletable": false,
    "editable": false,
    "run_control": {
     "frozen": true
    },
    "scrolled": true
   },
   "outputs": [
    {
     "name": "stdout",
     "output_type": "stream",
     "text": [
      "Coeffs:  [-0.10414092 -0.04563868 -0.11416187  0.08072053 -0.08832656  0.08064271\n",
      " -0.01170564  0.57468738]\n",
      "Intercept:  0.08297945185226491\n",
      "R2:  0.3635360430729061\n",
      "MSE:  0.4687049200906185\n"
     ]
    }
   ],
   "source": [
    "print(\"Coeffs: \", regr.coef_)\n",
    "\n",
    "print(\"Intercept: \", regr.intercept_)\n",
    "\n",
    "print(\"R2: \", regr.score(X_test_base, y_test_base))\n",
    "\n",
    "print(\"MSE: \", mean_squared_error(y_test_base, test_pred))"
   ]
  },
  {
   "cell_type": "code",
   "execution_count": 151,
   "metadata": {
    "deletable": false,
    "editable": false,
    "run_control": {
     "frozen": true
    },
    "scrolled": false
   },
   "outputs": [
    {
     "data": {
      "image/png": "[encoded data removed]",
      "text/plain": [
       "<Figure size 1440x720 with 1 Axes>"
      ]
     },
     "metadata": {},
     "output_type": "display_data"
    }
   ],
   "source": [
    "# Residual Plot (Restwert)\n",
    "train_pred = regr.predict(X_train_base)\n",
    "test_pred = regr.predict(X_test_base)\n",
    "\n",
    "min_val = min(min(train_pred), min(test_pred))\n",
    "max_val = max(max(train_pred), max(test_pred))\n",
    "\n",
    "\n",
    "plt.figure(figsize=(20,10))\n",
    "plt.scatter(train_pred, train_pred - y_train_base, color=\"blue\", s=30)\n",
    "plt.scatter(test_pred, test_pred - y_test_base, color=\"red\", s=30)\n",
    "plt.hlines(y = 0, xmin =min_val, xmax=max_val)\n",
    "plt.xlabel(\"$\\hat{y} (Prediction)$\")\n",
    "plt.ylabel(\"Residuals\")\n",
    "plt.show()"
   ]
  },
  {
   "cell_type": "markdown",
   "metadata": {},
   "source": [
    "> **Result documentation baseline model:**<br>\n",
    "The standard deviation of our test dataset is 0.864, the variance is 0.746. The variance is the value that we want to beat with our prediction models. \n",
    "We determine for each model the mean squared error (MSE) which will be used to compare with the variance value as benchmark. \n",
    "The Baseline Model shows a MSE of 0.469 which is already better then the variance.\n"
   ]
  },
  {
   "cell_type": "markdown",
   "metadata": {},
   "source": [
    "## Deep Learning Models"
   ]
  },
  {
   "cell_type": "markdown",
   "metadata": {},
   "source": [
    "### Vanilla Model"
   ]
  },
  {
   "cell_type": "code",
   "execution_count": 152,
   "metadata": {
    "deletable": false,
    "editable": false,
    "run_control": {
     "frozen": true
    },
    "scrolled": true
   },
   "outputs": [
    {
     "name": "stdout",
     "output_type": "stream",
     "text": [
      "Model: \"sequential_6\"\n",
      "_________________________________________________________________\n",
      "Layer (type)                 Output Shape              Param #   \n",
      "=================================================================\n",
      "lstm_6 (LSTM)                (None, 200)               167200    \n",
      "_________________________________________________________________\n",
      "dense_6 (Dense)              (None, 1)                 201       \n",
      "=================================================================\n",
      "Total params: 167,401\n",
      "Trainable params: 167,401\n",
      "Non-trainable params: 0\n",
      "_________________________________________________________________\n"
     ]
    }
   ],
   "source": [
    "vanilla_model = Sequential()\n",
    "vanilla_model.add(\n",
    "    layers.LSTM(units=200,\n",
    "                return_sequences=False,\n",
    "                #activation='tanh',\n",
    "                input_shape=(X_train.shape[1], X_train.shape[2])))\n",
    "vanilla_model.add(layers.Dense(1))\n",
    "vanilla_model.summary()"
   ]
  },
  {
   "cell_type": "code",
   "execution_count": 153,
   "metadata": {
    "deletable": false,
    "editable": false,
    "run_control": {
     "frozen": true
    },
    "scrolled": false
   },
   "outputs": [
    {
     "name": "stdout",
     "output_type": "stream",
     "text": [
      "Train on 5094 samples, validate on 709 samples\n",
      "Epoch 1/10\n",
      "5094/5094 [==============================] - 13s 3ms/step - loss: 0.3192 - val_loss: 0.5598\n",
      "Epoch 2/10\n",
      "5094/5094 [==============================] - 12s 2ms/step - loss: 0.2768 - val_loss: 0.4965\n",
      "Epoch 3/10\n",
      "5094/5094 [==============================] - 11s 2ms/step - loss: 0.2709 - val_loss: 0.4211- ETA: 0s - loss: 0.\n",
      "Epoch 4/10\n",
      "5094/5094 [==============================] - 11s 2ms/step - loss: 0.2660 - val_loss: 0.4894\n",
      "Epoch 5/10\n",
      "5094/5094 [==============================] - 12s 2ms/step - loss: 0.2611 - val_loss: 0.4843\n",
      "Epoch 6/10\n",
      "5094/5094 [==============================] - 13s 3ms/step - loss: 0.2602 - val_loss: 0.4486\n",
      "Epoch 7/10\n",
      "5094/5094 [==============================] - 12s 2ms/step - loss: 0.2562 - val_loss: 0.4705\n",
      "Epoch 8/10\n",
      "5094/5094 [==============================] - 11s 2ms/step - loss: 0.2510 - val_loss: 0.4439\n",
      "Epoch 9/10\n",
      "5094/5094 [==============================] - 12s 2ms/step - loss: 0.2467 - val_loss: 0.4743\n",
      "Epoch 10/10\n",
      "5094/5094 [==============================] - 11s 2ms/step - loss: 0.2407 - val_loss: 0.4914\n"
     ]
    }
   ],
   "source": [
    "vanilla_model.compile(optimizer='RMSprop', loss='mse')\n",
    "vanilla_history = vanilla_model.fit(x=X_train, y=y_train, epochs=10, validation_data=(X_test, y_test))"
   ]
  },
  {
   "cell_type": "code",
   "execution_count": 154,
   "metadata": {
    "deletable": false,
    "editable": false,
    "run_control": {
     "frozen": true
    },
    "scrolled": true
   },
   "outputs": [
    {
     "name": "stdout",
     "output_type": "stream",
     "text": [
      "Minimum validation loss:  0.4210532826748486\n"
     ]
    }
   ],
   "source": [
    "print(\"Minimum validation loss: \", min(vanilla_history.history['val_loss']))"
   ]
  },
  {
   "cell_type": "code",
   "execution_count": 155,
   "metadata": {
    "deletable": false,
    "editable": false,
    "run_control": {
     "frozen": true
    },
    "scrolled": true
   },
   "outputs": [
    {
     "data": {
      "image/png": "[encoded data removed]",
      "text/plain": [
       "<Figure size 432x288 with 1 Axes>"
      ]
     },
     "metadata": {},
     "output_type": "display_data"
    }
   ],
   "source": [
    "plt.plot(vanilla_history.history['loss'], label='train')\n",
    "plt.plot(vanilla_history.history['val_loss'], label='test')\n",
    "plt.legend()\n",
    "plt.show()"
   ]
  },
  {
   "cell_type": "markdown",
   "metadata": {},
   "source": [
    "> **Result documentation Vanilla LSTM model:**<br>\n",
    "The Vanilla LSTM model shows the min MSE of 0.421 which is better than the variance of our testdata (benchmark) and our Baseline model."
   ]
  },
  {
   "cell_type": "markdown",
   "metadata": {},
   "source": [
    "### Manual Model Optimaziation"
   ]
  },
  {
   "cell_type": "markdown",
   "metadata": {},
   "source": [
    "Based on the Vanilla LSTM model we manually develop an better model with the help of a trial and error principle. "
   ]
  },
  {
   "cell_type": "code",
   "execution_count": 210,
   "metadata": {},
   "outputs": [
    {
     "name": "stdout",
     "output_type": "stream",
     "text": [
      "Model: \"sequential_55\"\n",
      "_________________________________________________________________\n",
      "Layer (type)                 Output Shape              Param #   \n",
      "=================================================================\n",
      "lstm_57 (LSTM)               (None, 20)                2320      \n",
      "_________________________________________________________________\n",
      "dropout_30 (Dropout)         (None, 20)                0         \n",
      "_________________________________________________________________\n",
      "dense_42 (Dense)             (None, 1)                 21        \n",
      "=================================================================\n",
      "Total params: 2,341\n",
      "Trainable params: 2,341\n",
      "Non-trainable params: 0\n",
      "_________________________________________________________________\n"
     ]
    }
   ],
   "source": [
    "model = Sequential()\n",
    "model.add(LSTM(units=20, activation = 'sigmoid', return_sequences=False, input_shape=(X_train.shape[1], X_train.shape[2])))\n",
    "model.add(Dropout(0.3))\n",
    "model.add(layers.Dense(1))\n",
    "model.summary()"
   ]
  },
  {
   "cell_type": "code",
   "execution_count": 211,
   "metadata": {},
   "outputs": [
    {
     "name": "stdout",
     "output_type": "stream",
     "text": [
      "Train on 5094 samples, validate on 709 samples\n",
      "Epoch 1/50\n",
      "5094/5094 [==============================] - 3s 520us/step - loss: 0.4905 - val_loss: 0.5426\n",
      "Epoch 2/50\n",
      "5094/5094 [==============================] - 3s 494us/step - loss: 0.3813 - val_loss: 0.5060\n",
      "Epoch 3/50\n",
      "5094/5094 [==============================] - 2s 425us/step - loss: 0.3521 - val_loss: 0.4905\n",
      "Epoch 4/50\n",
      "5094/5094 [==============================] - 2s 402us/step - loss: 0.3373 - val_loss: 0.4867\n",
      "Epoch 5/50\n",
      "5094/5094 [==============================] - 3s 507us/step - loss: 0.3282 - val_loss: 0.4783\n",
      "Epoch 6/50\n",
      "5094/5094 [==============================] - 2s 426us/step - loss: 0.3138 - val_loss: 0.4698\n",
      "Epoch 7/50\n",
      "5094/5094 [==============================] - 2s 443us/step - loss: 0.3079 - val_loss: 0.4637\n",
      "Epoch 8/50\n",
      "5094/5094 [==============================] - 2s 425us/step - loss: 0.3090 - val_loss: 0.4533\n",
      "Epoch 9/50\n",
      "5094/5094 [==============================] - 3s 501us/step - loss: 0.3087 - val_loss: 0.4480\n",
      "Epoch 10/50\n",
      "5094/5094 [==============================] - 2s 479us/step - loss: 0.3091 - val_loss: 0.4527s: 0.30\n",
      "Epoch 11/50\n",
      "5094/5094 [==============================] - 3s 581us/step - loss: 0.3043 - val_loss: 0.4430\n",
      "Epoch 12/50\n",
      "5094/5094 [==============================] - 3s 658us/step - loss: 0.3029 - val_loss: 0.4410\n",
      "Epoch 13/50\n",
      "5094/5094 [==============================] - 2s 404us/step - loss: 0.3025 - val_loss: 0.4441\n",
      "Epoch 14/50\n",
      "5094/5094 [==============================] - 2s 412us/step - loss: 0.3020 - val_loss: 0.4396\n",
      "Epoch 15/50\n",
      "5094/5094 [==============================] - 2s 393us/step - loss: 0.2974 - val_loss: 0.4427\n",
      "Epoch 16/50\n",
      "5094/5094 [==============================] - 2s 374us/step - loss: 0.2962 - val_loss: 0.4414\n",
      "Epoch 17/50\n",
      "5094/5094 [==============================] - 2s 407us/step - loss: 0.2922 - val_loss: 0.4396\n",
      "Epoch 18/50\n",
      "5094/5094 [==============================] - 2s 411us/step - loss: 0.2949 - val_loss: 0.4321\n",
      "Epoch 19/50\n",
      "5094/5094 [==============================] - 2s 409us/step - loss: 0.2922 - val_loss: 0.4260\n",
      "Epoch 20/50\n",
      "5094/5094 [==============================] - 2s 418us/step - loss: 0.2988 - val_loss: 0.4291\n",
      "Epoch 21/50\n",
      "5094/5094 [==============================] - 2s 399us/step - loss: 0.2914 - val_loss: 0.4242\n",
      "Epoch 22/50\n",
      "5094/5094 [==============================] - 2s 368us/step - loss: 0.2897 - val_loss: 0.4223\n",
      "Epoch 23/50\n",
      "5094/5094 [==============================] - 2s 396us/step - loss: 0.2920 - val_loss: 0.4258\n",
      "Epoch 24/50\n",
      "5094/5094 [==============================] - 3s 560us/step - loss: 0.2884 - val_loss: 0.4265\n",
      "Epoch 25/50\n",
      "5094/5094 [==============================] - 2s 417us/step - loss: 0.2923 - val_loss: 0.4228\n",
      "Epoch 26/50\n",
      "5094/5094 [==============================] - 2s 475us/step - loss: 0.2937 - val_loss: 0.4214\n",
      "Epoch 27/50\n",
      "5094/5094 [==============================] - 2s 392us/step - loss: 0.2915 - val_loss: 0.4249\n",
      "Epoch 28/50\n",
      "5094/5094 [==============================] - 2s 423us/step - loss: 0.2904 - val_loss: 0.4213\n",
      "Epoch 29/50\n",
      "5094/5094 [==============================] - 2s 401us/step - loss: 0.2892 - val_loss: 0.4217\n",
      "Epoch 30/50\n",
      "5094/5094 [==============================] - 2s 384us/step - loss: 0.2910 - val_loss: 0.4257\n",
      "Epoch 31/50\n",
      "5094/5094 [==============================] - 2s 414us/step - loss: 0.2894 - val_loss: 0.4216\n",
      "Epoch 32/50\n",
      "5094/5094 [==============================] - 2s 393us/step - loss: 0.2877 - val_loss: 0.4318\n",
      "Epoch 33/50\n",
      "5094/5094 [==============================] - 2s 400us/step - loss: 0.2915 - val_loss: 0.4258\n",
      "Epoch 34/50\n",
      "5094/5094 [==============================] - 2s 468us/step - loss: 0.2884 - val_loss: 0.4296\n",
      "Epoch 35/50\n",
      "5094/5094 [==============================] - 2s 402us/step - loss: 0.2887 - val_loss: 0.4259\n",
      "Epoch 36/50\n",
      "5094/5094 [==============================] - 2s 448us/step - loss: 0.2874 - val_loss: 0.4333\n",
      "Epoch 37/50\n",
      "5094/5094 [==============================] - 2s 426us/step - loss: 0.2895 - val_loss: 0.4232\n",
      "Epoch 38/50\n",
      "5094/5094 [==============================] - 2s 420us/step - loss: 0.2879 - val_loss: 0.4228\n",
      "Epoch 39/50\n",
      "5094/5094 [==============================] - 3s 567us/step - loss: 0.2864 - val_loss: 0.4180: 0s \n",
      "Epoch 40/50\n",
      "5094/5094 [==============================] - 3s 530us/step - loss: 0.2884 - val_loss: 0.4192\n",
      "Epoch 41/50\n",
      "5094/5094 [==============================] - 2s 476us/step - loss: 0.2842 - val_loss: 0.4184\n",
      "Epoch 42/50\n",
      "5094/5094 [==============================] - 2s 407us/step - loss: 0.2864 - val_loss: 0.4187\n",
      "Epoch 43/50\n",
      "5094/5094 [==============================] - 2s 388us/step - loss: 0.2893 - val_loss: 0.4161\n",
      "Epoch 44/50\n",
      "5094/5094 [==============================] - 2s 453us/step - loss: 0.2880 - val_loss: 0.4177\n",
      "Epoch 45/50\n",
      "5094/5094 [==============================] - 2s 381us/step - loss: 0.2847 - val_loss: 0.4217\n",
      "Epoch 46/50\n",
      "5094/5094 [==============================] - 2s 365us/step - loss: 0.2834 - val_loss: 0.4207\n",
      "Epoch 47/50\n",
      "5094/5094 [==============================] - 2s 422us/step - loss: 0.2859 - val_loss: 0.4189\n",
      "Epoch 48/50\n",
      "5094/5094 [==============================] - 2s 454us/step - loss: 0.2850 - val_loss: 0.4178\n",
      "Epoch 49/50\n",
      "5094/5094 [==============================] - 2s 405us/step - loss: 0.2845 - val_loss: 0.4191\n",
      "Epoch 50/50\n",
      "5094/5094 [==============================] - 2s 444us/step - loss: 0.2857 - val_loss: 0.4190\n"
     ]
    }
   ],
   "source": [
    "model.compile(optimizer='RMSprop', loss='mse')\n",
    "history = model.fit(x=X_train, y=y_train, epochs=50, validation_data=(X_test, y_test))"
   ]
  },
  {
   "cell_type": "code",
   "execution_count": 22,
   "metadata": {},
   "outputs": [
    {
     "ename": "NameError",
     "evalue": "name 'history' is not defined",
     "output_type": "error",
     "traceback": [
      "\u001b[1;31m---------------------------------------------------------------------------\u001b[0m",
      "\u001b[1;31mNameError\u001b[0m                                 Traceback (most recent call last)",
      "\u001b[1;32m<ipython-input-22-77636bdcb7f7>\u001b[0m in \u001b[0;36m<module>\u001b[1;34m\u001b[0m\n\u001b[1;32m----> 1\u001b[1;33m \u001b[0mprint\u001b[0m\u001b[1;33m(\u001b[0m\u001b[1;34m\"Minimum validation loss: \"\u001b[0m\u001b[1;33m,\u001b[0m \u001b[0mmin\u001b[0m\u001b[1;33m(\u001b[0m\u001b[0mhistory\u001b[0m\u001b[1;33m.\u001b[0m\u001b[0mhistory\u001b[0m\u001b[1;33m[\u001b[0m\u001b[1;34m'val_loss'\u001b[0m\u001b[1;33m]\u001b[0m\u001b[1;33m)\u001b[0m\u001b[1;33m)\u001b[0m\u001b[1;33m\u001b[0m\u001b[1;33m\u001b[0m\u001b[0m\n\u001b[0m\u001b[0;32m      2\u001b[0m \u001b[0mprint\u001b[0m\u001b[1;33m(\u001b[0m\u001b[1;34m\"Difference between min Loss and min val_loss: \"\u001b[0m\u001b[1;33m,\u001b[0m \u001b[0mmin\u001b[0m\u001b[1;33m(\u001b[0m\u001b[0mhistory\u001b[0m\u001b[1;33m.\u001b[0m\u001b[0mhistory\u001b[0m\u001b[1;33m[\u001b[0m\u001b[1;34m'val_loss'\u001b[0m\u001b[1;33m]\u001b[0m\u001b[1;33m)\u001b[0m\u001b[1;33m-\u001b[0m\u001b[0mmin\u001b[0m\u001b[1;33m(\u001b[0m\u001b[0mhistory\u001b[0m\u001b[1;33m.\u001b[0m\u001b[0mhistory\u001b[0m\u001b[1;33m[\u001b[0m\u001b[1;34m'loss'\u001b[0m\u001b[1;33m]\u001b[0m\u001b[1;33m)\u001b[0m\u001b[1;33m)\u001b[0m\u001b[1;33m\u001b[0m\u001b[1;33m\u001b[0m\u001b[0m\n",
      "\u001b[1;31mNameError\u001b[0m: name 'history' is not defined"
     ]
    }
   ],
   "source": [
    "print(\"Minimum validation loss: \", min(history.history['val_loss']))\n",
    "print(\"Difference between min Loss and min val_loss: \", min(history.history['val_loss'])-min(history.history['loss']))"
   ]
  },
  {
   "cell_type": "code",
   "execution_count": 213,
   "metadata": {},
   "outputs": [
    {
     "data": {
      "image/png": "[encoded data removed]",
      "text/plain": [
       "<Figure size 432x288 with 1 Axes>"
      ]
     },
     "metadata": {
      "needs_background": "light"
     },
     "output_type": "display_data"
    }
   ],
   "source": [
    "plt.plot(history.history['loss'], label='train')\n",
    "plt.plot(history.history['val_loss'], label='test')\n",
    "plt.legend()\n",
    "plt.show()"
   ]
  },
  {
   "cell_type": "markdown",
   "metadata": {},
   "source": [
    "Following `optimization steps` are done.  \n",
    "\n",
    "-----\n",
    "\n",
    "`Step 1:` ***Number of units for LSTM layer***  \n",
    "\n",
    "- 50 (min val_loss = 0.418)\n",
    "- 20 (min val_loss = 0.392)\n",
    "- 10 (min val_loss = 0.391)\n",
    "- 5 (min val_loss = 0.410)\n",
    "- 75 (min val_loss = 0.427)\n",
    "- 100 (min val_loss = 0.424)\n",
    "- 120 (min val_loss = 0.437)\n",
    "\n",
    "*Results:* \n",
    "\n",
    "The multiple training with a specific unit amount varies because the initialization values are different each time.  \n",
    "Anyway we see that a smaller amount of units performs better than a too large amount. \n",
    "> We decided to use the unit number ***20***.\n",
    "\n",
    "-----\n",
    "\n",
    "`Step 2:` ***Activation function***  \n",
    "\n",
    "- tanh(min val_loss = 0.392)\n",
    "- linear (min val_loss = 0.482)\n",
    "- sigmoid (min val_loss = 0.411)\n",
    "- relu (min val_loss = 0.488)\n",
    "- leaky relu (alpha = 0.3) / implemented as an additional layer (min val_loss = 0.413)\n",
    "- softplus (min val_loss = 0.408)\n",
    "- selu (min val_loss = 0.467)\n",
    "- elu (min val_loss = 0.598)\n",
    "\n",
    "The exponential function does not work in our model (validatons are shown as NaNs).  \n",
    "\n",
    "The softmax function is a more generalized logistic activation function which is used for multiclass classification.\n",
    "\n",
    "As the sigmoid and the tanh functions are close we extended the validation with epochs number of 50 for both to get a better picture.  \n",
    "- sigmoid (min val_loss = 0.384) with epochs = 18\n",
    "- tanh(min val_loss = 0.407)\n",
    "\n",
    "*Results:* \n",
    "\n",
    "The multiple training with a specific unit amount varies because the initialization values are different each time.  \n",
    "Anyway we see that a smaller amount of units performs better than a too large amount. \n",
    "\n",
    "> We decided to use the ***Sigmoid*** function.\n",
    "\n",
    "-----\n",
    "\n",
    "`Step 3:` ***Batch Sizes***  \n",
    "\n",
    "- 500 (min val_loss = 0.548)\n",
    "- 100 (min val_loss=0.417)\n",
    "- 10 (min val_loss=0.405)\n",
    "\n",
    "*Results:* \n",
    "\n",
    "Changing the batch sizes does not improve the results, so we decide to use the default value.\n",
    "> We decided to use the ***default*** value\n",
    "\n",
    "-----\n",
    "\n",
    "`Step 4:` ***Additional Layers***  \n",
    "\n",
    "- 1 additional dropout layer with 20 % (min val_loss = 0.437)\n",
    "The difference between the train and val losses decreased significantly (0.139). \n",
    "- 1 additional dropout layer with 30 % (min val_loss = 0.442)\n",
    "The difference between the train and val losses is 0.139. \n",
    "- 1 additional dropout layer with 40 % (min val_loss = 0.452)\n",
    "The difference between the train and val losses decreased again better than in the vanilla model (0.137). \n",
    "\n",
    "> We decided to use ***Dropout*** with 30 %.\n",
    "\n",
    "- 1 standalone GRU layer as input layer (min val_loss = 0.448)\n",
    "No improvment.\n",
    "\n",
    "- 1 additional LSTM layer (min val_loss = 0.464, difference between loss and val_loss = 0.148)\n",
    "\n",
    "- 1 additional SimpleRNN layer (min val_loss = 0.491, difference between loss and val_loss = 0.168)\n",
    "\n",
    "- 1 Additional LSTM layser and the input LSTM is a bidirectional (min val_loss = 0.4529\n",
    "\n",
    "- 4 Additional LSTM layserS (min val_loss = 0.429, difference between loss and val_loss = 0.118)\n",
    "\n",
    "*Results:* \n",
    "\n",
    "Additional layers do not lead to an improvement of the results. \n",
    "Anyway the dropout layer makes sense to generalize the model. \n",
    "\n",
    "> We decided to use ***Vanilla LSTM model with Dropout layer***.\n",
    "\n",
    "-----\n",
    "\n"
   ]
  },
  {
   "cell_type": "markdown",
   "metadata": {},
   "source": [
    "### Hyperparameters Optimization "
   ]
  },
  {
   "cell_type": "code",
   "execution_count": 31,
   "metadata": {},
   "outputs": [],
   "source": [
    "def model_fnReg(optimizer, learning_rate):\n",
    "    \n",
    "    model = Sequential()\n",
    "    model.add(LSTM(units=20, activation = 'sigmoid', return_sequences=False, input_shape=(X_train.shape[1], X_train.shape[2])))\n",
    "    model.add(Dropout(0.3))\n",
    "    model.add(layers.Dense(1))\n",
    "    \n",
    "    opt = optimizer(learning_rate=learning_rate)\n",
    "    model.compile(loss='mse',\n",
    "                 optimizer=opt \n",
    "                 )\n",
    "    \n",
    "    return model"
   ]
  },
  {
   "cell_type": "code",
   "execution_count": 32,
   "metadata": {
    "scrolled": false
   },
   "outputs": [
    {
     "name": "stdout",
     "output_type": "stream",
     "text": [
      "Optimizer:  <class 'keras.optimizers.Adam'>  Learningrate:  0.001\n",
      "Train on 5094 samples, validate on 709 samples\n",
      "Epoch 1/20\n",
      "5094/5094 [==============================] - 4s 751us/step - loss: 0.5097 - val_loss: 0.5721\n",
      "Epoch 2/20\n",
      "5094/5094 [==============================] - 3s 530us/step - loss: 0.4028 - val_loss: 0.5402\n",
      "Epoch 3/20\n",
      "5094/5094 [==============================] - 3s 510us/step - loss: 0.3680 - val_loss: 0.5246\n",
      "Epoch 4/20\n",
      "5094/5094 [==============================] - 3s 520us/step - loss: 0.3485 - val_loss: 0.5072\n",
      "Epoch 5/20\n",
      "5094/5094 [==============================] - 2s 490us/step - loss: 0.3379 - val_loss: 0.4988\n",
      "Epoch 6/20\n",
      "5094/5094 [==============================] - 3s 528us/step - loss: 0.3300 - val_loss: 0.4884\n",
      "Epoch 7/20\n",
      "5094/5094 [==============================] - 3s 501us/step - loss: 0.3246 - val_loss: 0.4836\n",
      "Epoch 8/20\n",
      "5094/5094 [==============================] - 3s 492us/step - loss: 0.3157 - val_loss: 0.4787\n",
      "Epoch 9/20\n",
      "5094/5094 [==============================] - 3s 492us/step - loss: 0.3141 - val_loss: 0.4733\n",
      "Epoch 10/20\n",
      "5094/5094 [==============================] - 3s 550us/step - loss: 0.3122 - val_loss: 0.4727\n",
      "Epoch 11/20\n",
      "5094/5094 [==============================] - 3s 511us/step - loss: 0.3058 - val_loss: 0.4682\n",
      "Epoch 12/20\n",
      "5094/5094 [==============================] - 3s 534us/step - loss: 0.3091 - val_loss: 0.4642\n",
      "Epoch 13/20\n",
      "5094/5094 [==============================] - 3s 499us/step - loss: 0.3058 - val_loss: 0.4622\n",
      "Epoch 14/20\n",
      "5094/5094 [==============================] - 3s 557us/step - loss: 0.3053 - val_loss: 0.4565\n",
      "Epoch 15/20\n",
      "5094/5094 [==============================] - 3s 505us/step - loss: 0.3080 - val_loss: 0.4478\n",
      "Epoch 16/20\n",
      "5094/5094 [==============================] - 3s 516us/step - loss: 0.3022 - val_loss: 0.4497\n",
      "Epoch 17/20\n",
      "5094/5094 [==============================] - 3s 504us/step - loss: 0.2995 - val_loss: 0.4452\n",
      "Epoch 18/20\n",
      "5094/5094 [==============================] - 3s 543us/step - loss: 0.2984 - val_loss: 0.4527\n",
      "Epoch 19/20\n",
      "5094/5094 [==============================] - 3s 521us/step - loss: 0.2975 - val_loss: 0.4450\n",
      "Epoch 20/20\n",
      "5094/5094 [==============================] - 3s 500us/step - loss: 0.3017 - val_loss: 0.4420\n",
      "Minimum validation loss:  0.441979080732854\n",
      "Difference between min Loss and min val_loss:  0.14447539891673722\n",
      "Optimizer:  <class 'keras.optimizers.Adam'>  Learningrate:  0.005\n",
      "Train on 5094 samples, validate on 709 samples\n",
      "Epoch 1/20\n",
      "5094/5094 [==============================] - 4s 727us/step - loss: 0.4247 - val_loss: 0.5015\n",
      "Epoch 2/20\n",
      "5094/5094 [==============================] - 3s 499us/step - loss: 0.3235 - val_loss: 0.4812\n",
      "Epoch 3/20\n",
      "5094/5094 [==============================] - 3s 545us/step - loss: 0.3077 - val_loss: 0.4463\n",
      "Epoch 4/20\n",
      "5094/5094 [==============================] - 3s 510us/step - loss: 0.3018 - val_loss: 0.4310\n",
      "Epoch 5/20\n",
      "5094/5094 [==============================] - 3s 595us/step - loss: 0.3013 - val_loss: 0.4251\n",
      "Epoch 6/20\n",
      "5094/5094 [==============================] - 3s 555us/step - loss: 0.3022 - val_loss: 0.4191\n",
      "Epoch 7/20\n",
      "5094/5094 [==============================] - 3s 534us/step - loss: 0.2977 - val_loss: 0.4222\n",
      "Epoch 8/20\n",
      "5094/5094 [==============================] - 3s 514us/step - loss: 0.2947 - val_loss: 0.4219\n",
      "Epoch 9/20\n",
      "5094/5094 [==============================] - 3s 559us/step - loss: 0.2968 - val_loss: 0.4128\n",
      "Epoch 10/20\n",
      "5094/5094 [==============================] - 3s 509us/step - loss: 0.2911 - val_loss: 0.4189\n",
      "Epoch 11/20\n",
      "5094/5094 [==============================] - 3s 525us/step - loss: 0.2948 - val_loss: 0.4119\n",
      "Epoch 12/20\n",
      "5094/5094 [==============================] - 3s 509us/step - loss: 0.2863 - val_loss: 0.4148\n",
      "Epoch 13/20\n",
      "5094/5094 [==============================] - 3s 548us/step - loss: 0.2915 - val_loss: 0.4160\n",
      "Epoch 14/20\n",
      "5094/5094 [==============================] - 3s 531us/step - loss: 0.2900 - val_loss: 0.4123\n",
      "Epoch 15/20\n",
      "5094/5094 [==============================] - 3s 615us/step - loss: 0.2907 - val_loss: 0.4060\n",
      "Epoch 16/20\n",
      "5094/5094 [==============================] - 3s 517us/step - loss: 0.2911 - val_loss: 0.4156\n",
      "Epoch 17/20\n",
      "5094/5094 [==============================] - 3s 504us/step - loss: 0.2873 - val_loss: 0.4174\n",
      "Epoch 18/20\n",
      "5094/5094 [==============================] - 3s 509us/step - loss: 0.2879 - val_loss: 0.4166\n",
      "Epoch 19/20\n",
      "5094/5094 [==============================] - 3s 507us/step - loss: 0.2855 - val_loss: 0.4236\n",
      "Epoch 20/20\n",
      "5094/5094 [==============================] - 3s 507us/step - loss: 0.2895 - val_loss: 0.4130\n",
      "Minimum validation loss:  0.40601471285053303\n",
      "Difference between min Loss and min val_loss:  0.12055889749980919\n"
     ]
    }
   ],
   "source": [
    "# Definition konstanter Parameter\n",
    "epochs = 20\n",
    "\n",
    "optimizer_candidates = [Adam, \n",
    "                        #RMSprop, \n",
    "                        #SGD\n",
    "                       ]\n",
    "lr_candidates = [1e-3, \n",
    "                 5e-3, \n",
    "                 #5e-2, \n",
    "                 #1e-2, \n",
    "                 #1e-4\n",
    "                ]\n",
    "\n",
    "for i in optimizer_candidates:\n",
    "    # rint(i)\n",
    "    for j in lr_candidates:\n",
    "        print('Optimizer: ', i, ' Learningrate: ', j)\n",
    "        model = model_fnReg(i, j)\n",
    "        history = model.fit(x=X_train,\n",
    "                            y=y_train,\n",
    "                            epochs=epochs,\n",
    "                            validation_data=(X_test, y_test))\n",
    "        print(\"Minimum validation loss: \", min(history.history['val_loss']))\n",
    "        print(\"Difference between min Loss and min val_loss: \",\n",
    "              min(history.history['val_loss']) - min(history.history['loss']))"
   ]
  },
  {
   "cell_type": "code",
   "execution_count": 217,
   "metadata": {},
   "outputs": [
    {
     "name": "stdout",
     "output_type": "stream",
     "text": [
      "{'learning_rate': 0.001, 'optimizer': <class 'keras.optimizers.Adam'>}\n",
      "{'learning_rate': 0.001, 'optimizer': <class 'keras.optimizers.RMSprop'>}\n",
      "{'learning_rate': 0.001, 'optimizer': <class 'keras.optimizers.SGD'>}\n",
      "{'learning_rate': 0.005, 'optimizer': <class 'keras.optimizers.Adam'>}\n",
      "{'learning_rate': 0.005, 'optimizer': <class 'keras.optimizers.RMSprop'>}\n",
      "{'learning_rate': 0.005, 'optimizer': <class 'keras.optimizers.SGD'>}\n",
      "{'learning_rate': 0.05, 'optimizer': <class 'keras.optimizers.Adam'>}\n",
      "{'learning_rate': 0.05, 'optimizer': <class 'keras.optimizers.RMSprop'>}\n",
      "{'learning_rate': 0.05, 'optimizer': <class 'keras.optimizers.SGD'>}\n",
      "{'learning_rate': 0.01, 'optimizer': <class 'keras.optimizers.Adam'>}\n",
      "{'learning_rate': 0.01, 'optimizer': <class 'keras.optimizers.RMSprop'>}\n",
      "{'learning_rate': 0.01, 'optimizer': <class 'keras.optimizers.SGD'>}\n",
      "{'learning_rate': 0.0001, 'optimizer': <class 'keras.optimizers.Adam'>}\n",
      "{'learning_rate': 0.0001, 'optimizer': <class 'keras.optimizers.RMSprop'>}\n",
      "{'learning_rate': 0.0001, 'optimizer': <class 'keras.optimizers.SGD'>}\n"
     ]
    },
    {
     "ename": "AttributeError",
     "evalue": "'GridSearchCV' object has no attribute 'history'",
     "output_type": "error",
     "traceback": [
      "\u001b[1;31m---------------------------------------------------------------------------\u001b[0m",
      "\u001b[1;31mAttributeError\u001b[0m                            Traceback (most recent call last)",
      "\u001b[1;32m<ipython-input-217-05ae2d67d93e>\u001b[0m in \u001b[0;36m<module>\u001b[1;34m\u001b[0m\n\u001b[0;32m     34\u001b[0m \u001b[0mgrid_result\u001b[0m \u001b[1;33m=\u001b[0m \u001b[0mgrid_cv\u001b[0m\u001b[1;33m.\u001b[0m\u001b[0mfit\u001b[0m\u001b[1;33m(\u001b[0m\u001b[0mX_train\u001b[0m\u001b[1;33m,\u001b[0m \u001b[0my_train\u001b[0m\u001b[1;33m)\u001b[0m\u001b[1;33m\u001b[0m\u001b[1;33m\u001b[0m\u001b[0m\n\u001b[0;32m     35\u001b[0m \u001b[1;33m\u001b[0m\u001b[0m\n\u001b[1;32m---> 36\u001b[1;33m \u001b[0mprint\u001b[0m\u001b[1;33m(\u001b[0m\u001b[1;34m\"Minimum validation loss: \"\u001b[0m\u001b[1;33m,\u001b[0m \u001b[0mmin\u001b[0m\u001b[1;33m(\u001b[0m\u001b[0mgrid_result\u001b[0m\u001b[1;33m.\u001b[0m\u001b[0mhistory\u001b[0m\u001b[1;33m[\u001b[0m\u001b[1;34m'val_loss'\u001b[0m\u001b[1;33m]\u001b[0m\u001b[1;33m)\u001b[0m\u001b[1;33m)\u001b[0m\u001b[1;33m\u001b[0m\u001b[1;33m\u001b[0m\u001b[0m\n\u001b[0m\u001b[0;32m     37\u001b[0m \u001b[1;33m\u001b[0m\u001b[0m\n\u001b[0;32m     38\u001b[0m \u001b[1;31m# Ausgabe der Werte\u001b[0m\u001b[1;33m\u001b[0m\u001b[1;33m\u001b[0m\u001b[1;33m\u001b[0m\u001b[0m\n",
      "\u001b[1;31mAttributeError\u001b[0m: 'GridSearchCV' object has no attribute 'history'"
     ]
    }
   ],
   "source": [
    "# Definition konstanter Parameter\n",
    "epochs = 20\n",
    "batch_size = 32\n",
    "\n",
    "# Defonition variabler Parameter\n",
    "optimizer_candidates = [Adam, RMSprop, SGD]\n",
    "lr_candidates = [1e-3, 5e-3, 5e-2, 1e-2, 1e-4]\n",
    "\n",
    "# Definition Dictionary mit Parameter für die Erzeugung des Parametergrid\n",
    "param_grid = {\n",
    "    \"optimizer\": optimizer_candidates,\n",
    "    \"learning_rate\": lr_candidates,\n",
    "}\n",
    "\n",
    "# Erzeugung des Parametergrid-Objektes zur Darstellung der Kombinationen\n",
    "grid = ParameterGrid(param_grid)\n",
    "for comb in grid:\n",
    "    print(comb)\n",
    "\n",
    "# Erzeugung des KerasClassifier-Objektes\n",
    "keras_reg = KerasRegressor(build_fn=model_fnReg,\n",
    "                            epochs=epochs,\n",
    "                            batch_size=batch_size,\n",
    "                            verbose=0)\n",
    "\n",
    "# Erzeugung des GridSearchCV-Objektes\n",
    "grid_cv = GridSearchCV(estimator=keras_reg,\n",
    "                       param_grid=param_grid,\n",
    "                       n_jobs=1,\n",
    "                       verbose=0,\n",
    "                       cv=3)\n",
    "\n",
    "# Trenieren des Gridmodells\n",
    "grid_result = grid_cv.fit(X_train, y_train)\n",
    "\n",
    "print(\"Minimum validation loss: \", min(grid_result.history['val_loss']))\n",
    "\n",
    "# Ausgabe der Werte\n",
    "print(\"Best: %f using %s\" %\n",
    "      (grid_result.best_score_, grid_result.best_params_))\n",
    "\n",
    "means = grid_result.cv_results_[\"mean_test_score\"]\n",
    "stds = grid_result.cv_results_[\"std_test_score\"]\n",
    "params = grid_result.cv_results_[\"params\"]\n",
    "\n",
    "for mean, std, param in zip(means, stds, params):\n",
    "    print(\"Acc: %f (+/- %f) with: %r\" % (mean, std, param))"
   ]
  },
  {
   "cell_type": "code",
   "execution_count": null,
   "metadata": {},
   "outputs": [],
   "source": []
  },
  {
   "cell_type": "code",
   "execution_count": null,
   "metadata": {},
   "outputs": [],
   "source": []
  },
  {
   "cell_type": "code",
   "execution_count": null,
   "metadata": {},
   "outputs": [],
   "source": []
  },
  {
   "cell_type": "code",
   "execution_count": null,
   "metadata": {},
   "outputs": [],
   "source": []
  },
  {
   "cell_type": "markdown",
   "metadata": {},
   "source": [
    "## Evaluation"
   ]
  },
  {
   "cell_type": "markdown",
   "metadata": {},
   "source": [
    "### Model Evaluation (Performance)"
   ]
  },
  {
   "cell_type": "markdown",
   "metadata": {},
   "source": [
    "#### Training Phase"
   ]
  },
  {
   "cell_type": "code",
   "execution_count": null,
   "metadata": {},
   "outputs": [],
   "source": []
  },
  {
   "cell_type": "code",
   "execution_count": null,
   "metadata": {},
   "outputs": [],
   "source": []
  },
  {
   "cell_type": "code",
   "execution_count": null,
   "metadata": {},
   "outputs": [],
   "source": []
  },
  {
   "cell_type": "markdown",
   "metadata": {},
   "source": [
    "#### Testing Phase"
   ]
  },
  {
   "cell_type": "code",
   "execution_count": null,
   "metadata": {},
   "outputs": [],
   "source": []
  },
  {
   "cell_type": "code",
   "execution_count": null,
   "metadata": {},
   "outputs": [],
   "source": []
  },
  {
   "cell_type": "markdown",
   "metadata": {},
   "source": [
    "# Projekt Evaluation"
   ]
  },
  {
   "cell_type": "code",
   "execution_count": null,
   "metadata": {},
   "outputs": [],
   "source": []
  },
  {
   "cell_type": "code",
   "execution_count": null,
   "metadata": {},
   "outputs": [],
   "source": []
  },
  {
   "cell_type": "code",
   "execution_count": null,
   "metadata": {},
   "outputs": [],
   "source": []
  },
  {
   "cell_type": "markdown",
   "metadata": {},
   "source": [
    "# Deployment"
   ]
  },
  {
   "cell_type": "code",
   "execution_count": null,
   "metadata": {},
   "outputs": [],
   "source": []
  },
  {
   "cell_type": "markdown",
   "metadata": {},
   "source": [
    "In the first phase of CRISP the overall business-case, which shall be supported by the data mining process must be clearly defined and understood. Then the goal of the data mining project itself must be defined. This includes the specification of metrics for measuring the performance of the data mining project.\n",
    "\n",
    "In the second phase data must be gathered, accessed, understood and described. Quantitiy and qualitity of the data must be assessed on a high-level.\n",
    "\n",
    "In the third phase data must be investigated and understood more thoroughly. Common means for understanding data are e.g. visualization and the calculation of simple statistics. Outliers must be detected and processed, sampling rates must be determined, features must be selected and eventually be transformed to other formats.\n",
    "\n",
    "In the modelling phase various algorithms and their hyperparameters are selected and applied. Their performance on the given data is determined in the evaluation phase.\n",
    "\n",
    "The output of the evaluation is usually fed back to the first phases (business- and data-understanding). Applying this feedback the techniques in the overall process are adapted and optimized. Usually only after several iterations of this process the evaluation yields good results and the project can be deployed."
   ]
  },
  {
   "cell_type": "code",
   "execution_count": null,
   "metadata": {},
   "outputs": [],
   "source": []
  }
 ],
 "metadata": {
  "kernelspec": {
   "display_name": "Python 3",
   "language": "python",
   "name": "python3"
  },
  "language_info": {
   "codemirror_mode": {
    "name": "ipython",
    "version": 3
   },
   "file_extension": ".py",
   "mimetype": "text/x-python",
   "name": "python",
   "nbconvert_exporter": "python",
   "pygments_lexer": "ipython3",
   "version": "3.7.7"
  },
  "nbTranslate": {
   "displayLangs": [
    "*"
   ],
   "hotkey": "alt-t",
   "langInMainMenu": true,
   "sourceLang": "en",
   "targetLang": "fr",
   "useGoogleTranslate": true
  },
  "toc": {
   "base_numbering": 1,
   "nav_menu": {},
   "number_sections": true,
   "sideBar": true,
   "skip_h1_title": false,
   "title_cell": "Table of Contents",
   "title_sidebar": "Contents",
   "toc_cell": false,
   "toc_position": {
    "height": "calc(100% - 180px)",
    "left": "10px",
    "top": "150px",
    "width": "321px"
   },
   "toc_section_display": true,
   "toc_window_display": true
  },
  "varInspector": {
   "cols": {
    "lenName": 16,
    "lenType": 16,
    "lenVar": 40
   },
   "kernels_config": {
    "python": {
     "delete_cmd_postfix": "",
     "delete_cmd_prefix": "del ",
     "library": "var_list.py",
     "varRefreshCmd": "print(var_dic_list())"
    },
    "r": {
     "delete_cmd_postfix": ") ",
     "delete_cmd_prefix": "rm(",
     "library": "var_list.r",
     "varRefreshCmd": "cat(var_dic_list()) "
    }
   },
   "position": {
    "height": "1170px",
    "left": "1847px",
    "right": "20px",
    "top": "113px",
    "width": "692px"
   },
   "types_to_exclude": [
    "module",
    "function",
    "builtin_function_or_method",
    "instance",
    "_Feature"
   ],
   "window_display": true
  }
 },
 "nbformat": 4,
 "nbformat_minor": 4
}
