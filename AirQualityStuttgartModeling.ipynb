{
 "cells": [
  {
   "cell_type": "code",
   "execution_count": 171,
   "metadata": {},
   "outputs": [],
   "source": [
    "#!pip install pandas_profiling"
   ]
  },
  {
   "cell_type": "markdown",
   "metadata": {},
   "source": [
    "# Libraries and Global Settings"
   ]
  },
  {
   "cell_type": "code",
   "execution_count": 172,
   "metadata": {},
   "outputs": [],
   "source": [
    "import pandas as pd  # work with Pandas dataframes\n",
    "\n",
    "from keras.optimizers import RMSprop\n",
    "from keras.layers.core import Dense, Activation, Dropout\n",
    "from keras.models import Sequential\n",
    "from keras import layers\n",
    "\n",
    "from sklearn.metrics import mean_squared_error, r2_score\n",
    "from sklearn.linear_model import LinearRegression\n",
    "from sklearn.preprocessing import RobustScaler\n",
    "\n",
    "import seaborn as sns  # Visualizations\n",
    "from matplotlib import pyplot as plt\n",
    "%matplotlib inline\n",
    "\n",
    "import warnings  # Funktionalität zur Unterdrückung von Warnungen\n",
    "warnings.filterwarnings('ignore')"
   ]
  },
  {
   "cell_type": "code",
   "execution_count": 173,
   "metadata": {},
   "outputs": [
    {
     "data": {
      "text/html": [
       "<style>\n",
       "table {float:left}\n",
       "</style>\n"
      ],
      "text/plain": [
       "<IPython.core.display.HTML object>"
      ]
     },
     "metadata": {},
     "output_type": "display_data"
    }
   ],
   "source": [
    "%%html\n",
    "<style>\n",
    "table {float:left}\n",
    "</style>"
   ]
  },
  {
   "cell_type": "markdown",
   "metadata": {},
   "source": [
    "# Importing Data"
   ]
  },
  {
   "cell_type": "markdown",
   "metadata": {},
   "source": [
    "Fist of all we import the data which were generated in the whole preprocess (`df_for_ML`)."
   ]
  },
  {
   "cell_type": "code",
   "execution_count": 174,
   "metadata": {},
   "outputs": [],
   "source": [
    "def dateparse(x):\n",
    "    return pd.datetime.strptime(x, '%Y-%m-%d')"
   ]
  },
  {
   "cell_type": "code",
   "execution_count": 175,
   "metadata": {},
   "outputs": [],
   "source": [
    "df_for_ML = pd.read_csv('df_for_ML.csv',\n",
    "                        parse_dates=['Datum'],\n",
    "                        date_parser=dateparse)"
   ]
  },
  {
   "cell_type": "code",
   "execution_count": 176,
   "metadata": {},
   "outputs": [
    {
     "name": "stdout",
     "output_type": "stream",
     "text": [
      "<class 'pandas.core.frame.DataFrame'>\n",
      "RangeIndex: 7458 entries, 0 to 7457\n",
      "Data columns (total 9 columns):\n",
      "Datum           7458 non-null datetime64[ns]\n",
      "Temp            7458 non-null float64\n",
      "WG              7458 non-null float64\n",
      "WR              7458 non-null float64\n",
      "Druck           7458 non-null float64\n",
      "NO              7458 non-null float64\n",
      "NO2             7458 non-null float64\n",
      "Niederschlag    7458 non-null float64\n",
      "PM10            7458 non-null float64\n",
      "dtypes: datetime64[ns](1), float64(8)\n",
      "memory usage: 524.5 KB\n"
     ]
    }
   ],
   "source": [
    "df_for_ML.info()"
   ]
  },
  {
   "cell_type": "code",
   "execution_count": 177,
   "metadata": {},
   "outputs": [
    {
     "data": {
      "text/html": [
       "<div>\n",
       "<style scoped>\n",
       "    .dataframe tbody tr th:only-of-type {\n",
       "        vertical-align: middle;\n",
       "    }\n",
       "\n",
       "    .dataframe tbody tr th {\n",
       "        vertical-align: top;\n",
       "    }\n",
       "\n",
       "    .dataframe thead th {\n",
       "        text-align: right;\n",
       "    }\n",
       "</style>\n",
       "<table border=\"1\" class=\"dataframe\">\n",
       "  <thead>\n",
       "    <tr style=\"text-align: right;\">\n",
       "      <th></th>\n",
       "      <th>Datum</th>\n",
       "      <th>Temp</th>\n",
       "      <th>WG</th>\n",
       "      <th>WR</th>\n",
       "      <th>Druck</th>\n",
       "      <th>NO</th>\n",
       "      <th>NO2</th>\n",
       "      <th>Niederschlag</th>\n",
       "      <th>PM10</th>\n",
       "    </tr>\n",
       "  </thead>\n",
       "  <tbody>\n",
       "    <tr>\n",
       "      <th>0</th>\n",
       "      <td>2000-01-01</td>\n",
       "      <td>3.718</td>\n",
       "      <td>1.959896</td>\n",
       "      <td>234.922917</td>\n",
       "      <td>991.80</td>\n",
       "      <td>17.6266</td>\n",
       "      <td>24.236</td>\n",
       "      <td>3.5892</td>\n",
       "      <td>11.3772</td>\n",
       "    </tr>\n",
       "    <tr>\n",
       "      <th>1</th>\n",
       "      <td>2000-01-02</td>\n",
       "      <td>3.848</td>\n",
       "      <td>2.172912</td>\n",
       "      <td>222.511250</td>\n",
       "      <td>996.90</td>\n",
       "      <td>14.2886</td>\n",
       "      <td>28.698</td>\n",
       "      <td>3.5212</td>\n",
       "      <td>12.3972</td>\n",
       "    </tr>\n",
       "    <tr>\n",
       "      <th>2</th>\n",
       "      <td>2000-01-03</td>\n",
       "      <td>1.463</td>\n",
       "      <td>2.295208</td>\n",
       "      <td>220.181250</td>\n",
       "      <td>996.20</td>\n",
       "      <td>19.0638</td>\n",
       "      <td>35.336</td>\n",
       "      <td>0.8398</td>\n",
       "      <td>19.9480</td>\n",
       "    </tr>\n",
       "    <tr>\n",
       "      <th>3</th>\n",
       "      <td>2000-01-04</td>\n",
       "      <td>4.934</td>\n",
       "      <td>3.574979</td>\n",
       "      <td>220.885417</td>\n",
       "      <td>989.90</td>\n",
       "      <td>8.2660</td>\n",
       "      <td>24.210</td>\n",
       "      <td>1.4894</td>\n",
       "      <td>11.4780</td>\n",
       "    </tr>\n",
       "    <tr>\n",
       "      <th>4</th>\n",
       "      <td>2000-01-05</td>\n",
       "      <td>6.917</td>\n",
       "      <td>2.237208</td>\n",
       "      <td>220.554167</td>\n",
       "      <td>989.70</td>\n",
       "      <td>11.3496</td>\n",
       "      <td>26.208</td>\n",
       "      <td>4.3200</td>\n",
       "      <td>12.9260</td>\n",
       "    </tr>\n",
       "    <tr>\n",
       "      <th>...</th>\n",
       "      <td>...</td>\n",
       "      <td>...</td>\n",
       "      <td>...</td>\n",
       "      <td>...</td>\n",
       "      <td>...</td>\n",
       "      <td>...</td>\n",
       "      <td>...</td>\n",
       "      <td>...</td>\n",
       "      <td>...</td>\n",
       "    </tr>\n",
       "    <tr>\n",
       "      <th>7452</th>\n",
       "      <td>2020-05-27</td>\n",
       "      <td>17.300</td>\n",
       "      <td>1.700000</td>\n",
       "      <td>212.000000</td>\n",
       "      <td>1000.09</td>\n",
       "      <td>6.1000</td>\n",
       "      <td>21.700</td>\n",
       "      <td>0.0000</td>\n",
       "      <td>12.1060</td>\n",
       "    </tr>\n",
       "    <tr>\n",
       "      <th>7453</th>\n",
       "      <td>2020-05-28</td>\n",
       "      <td>17.300</td>\n",
       "      <td>2.400000</td>\n",
       "      <td>28.000000</td>\n",
       "      <td>996.45</td>\n",
       "      <td>4.2000</td>\n",
       "      <td>23.500</td>\n",
       "      <td>0.0000</td>\n",
       "      <td>13.9400</td>\n",
       "    </tr>\n",
       "    <tr>\n",
       "      <th>7454</th>\n",
       "      <td>2020-05-29</td>\n",
       "      <td>16.200</td>\n",
       "      <td>2.200000</td>\n",
       "      <td>129.000000</td>\n",
       "      <td>993.43</td>\n",
       "      <td>2.8000</td>\n",
       "      <td>18.700</td>\n",
       "      <td>0.0000</td>\n",
       "      <td>21.6300</td>\n",
       "    </tr>\n",
       "    <tr>\n",
       "      <th>7455</th>\n",
       "      <td>2020-05-30</td>\n",
       "      <td>15.900</td>\n",
       "      <td>2.400000</td>\n",
       "      <td>27.000000</td>\n",
       "      <td>989.46</td>\n",
       "      <td>2.4000</td>\n",
       "      <td>18.400</td>\n",
       "      <td>0.0000</td>\n",
       "      <td>13.1080</td>\n",
       "    </tr>\n",
       "    <tr>\n",
       "      <th>7456</th>\n",
       "      <td>2020-05-31</td>\n",
       "      <td>16.700</td>\n",
       "      <td>2.000000</td>\n",
       "      <td>61.000000</td>\n",
       "      <td>988.27</td>\n",
       "      <td>1.6000</td>\n",
       "      <td>13.000</td>\n",
       "      <td>0.0000</td>\n",
       "      <td>11.5820</td>\n",
       "    </tr>\n",
       "  </tbody>\n",
       "</table>\n",
       "<p>7458 rows × 9 columns</p>\n",
       "</div>"
      ],
      "text/plain": [
       "          Datum    Temp        WG          WR    Druck       NO     NO2  \\\n",
       "0    2000-01-01   3.718  1.959896  234.922917   991.80  17.6266  24.236   \n",
       "1    2000-01-02   3.848  2.172912  222.511250   996.90  14.2886  28.698   \n",
       "2    2000-01-03   1.463  2.295208  220.181250   996.20  19.0638  35.336   \n",
       "3    2000-01-04   4.934  3.574979  220.885417   989.90   8.2660  24.210   \n",
       "4    2000-01-05   6.917  2.237208  220.554167   989.70  11.3496  26.208   \n",
       "...         ...     ...       ...         ...      ...      ...     ...   \n",
       "7452 2020-05-27  17.300  1.700000  212.000000  1000.09   6.1000  21.700   \n",
       "7453 2020-05-28  17.300  2.400000   28.000000   996.45   4.2000  23.500   \n",
       "7454 2020-05-29  16.200  2.200000  129.000000   993.43   2.8000  18.700   \n",
       "7455 2020-05-30  15.900  2.400000   27.000000   989.46   2.4000  18.400   \n",
       "7456 2020-05-31  16.700  2.000000   61.000000   988.27   1.6000  13.000   \n",
       "\n",
       "      Niederschlag     PM10  \n",
       "0           3.5892  11.3772  \n",
       "1           3.5212  12.3972  \n",
       "2           0.8398  19.9480  \n",
       "3           1.4894  11.4780  \n",
       "4           4.3200  12.9260  \n",
       "...            ...      ...  \n",
       "7452        0.0000  12.1060  \n",
       "7453        0.0000  13.9400  \n",
       "7454        0.0000  21.6300  \n",
       "7455        0.0000  13.1080  \n",
       "7456        0.0000  11.5820  \n",
       "\n",
       "[7458 rows x 9 columns]"
      ]
     },
     "execution_count": 177,
     "metadata": {},
     "output_type": "execute_result"
    }
   ],
   "source": [
    "df_for_ML = df_for_ML.sort_values(by=['Datum'], axis=0, ascending=True)\n",
    "df_for_ML"
   ]
  },
  {
   "cell_type": "markdown",
   "metadata": {},
   "source": [
    "# Modeling"
   ]
  },
  {
   "cell_type": "markdown",
   "metadata": {},
   "source": [
    "## Data Preparation"
   ]
  },
  {
   "cell_type": "markdown",
   "metadata": {},
   "source": [
    "### Selection of Timeframe"
   ]
  },
  {
   "cell_type": "markdown",
   "metadata": {},
   "source": [
    "We decided only to analyze and predict date where we have real particulates data and not derived with the KNN imputer."
   ]
  },
  {
   "cell_type": "code",
   "execution_count": 178,
   "metadata": {},
   "outputs": [],
   "source": [
    "startDate = \"2003-01-01\"\n",
    "endDate = \"2018-12-31\""
   ]
  },
  {
   "cell_type": "code",
   "execution_count": 179,
   "metadata": {},
   "outputs": [],
   "source": [
    "df_for_ML = df_for_ML[(df_for_ML[\"Datum\"] >= startDate)\n",
    "                      & (df_for_ML[\"Datum\"] <= endDate)]"
   ]
  },
  {
   "cell_type": "code",
   "execution_count": 180,
   "metadata": {},
   "outputs": [
    {
     "data": {
      "text/html": [
       "<div>\n",
       "<style scoped>\n",
       "    .dataframe tbody tr th:only-of-type {\n",
       "        vertical-align: middle;\n",
       "    }\n",
       "\n",
       "    .dataframe tbody tr th {\n",
       "        vertical-align: top;\n",
       "    }\n",
       "\n",
       "    .dataframe thead th {\n",
       "        text-align: right;\n",
       "    }\n",
       "</style>\n",
       "<table border=\"1\" class=\"dataframe\">\n",
       "  <thead>\n",
       "    <tr style=\"text-align: right;\">\n",
       "      <th></th>\n",
       "      <th>Datum</th>\n",
       "      <th>Temp</th>\n",
       "      <th>WG</th>\n",
       "      <th>WR</th>\n",
       "      <th>Druck</th>\n",
       "      <th>NO</th>\n",
       "      <th>NO2</th>\n",
       "      <th>Niederschlag</th>\n",
       "      <th>PM10</th>\n",
       "    </tr>\n",
       "  </thead>\n",
       "  <tbody>\n",
       "    <tr>\n",
       "      <th>6935</th>\n",
       "      <td>2018-12-27</td>\n",
       "      <td>0.8</td>\n",
       "      <td>0.8</td>\n",
       "      <td>21.5</td>\n",
       "      <td>995.43</td>\n",
       "      <td>54.557</td>\n",
       "      <td>43.7</td>\n",
       "      <td>0.0</td>\n",
       "      <td>18.4</td>\n",
       "    </tr>\n",
       "    <tr>\n",
       "      <th>6936</th>\n",
       "      <td>2018-12-28</td>\n",
       "      <td>1.3</td>\n",
       "      <td>0.8</td>\n",
       "      <td>256.0</td>\n",
       "      <td>996.84</td>\n",
       "      <td>54.557</td>\n",
       "      <td>38.9</td>\n",
       "      <td>0.0</td>\n",
       "      <td>17.4</td>\n",
       "    </tr>\n",
       "    <tr>\n",
       "      <th>6937</th>\n",
       "      <td>2018-12-29</td>\n",
       "      <td>2.4</td>\n",
       "      <td>1.3</td>\n",
       "      <td>230.3</td>\n",
       "      <td>1000.46</td>\n",
       "      <td>11.600</td>\n",
       "      <td>28.0</td>\n",
       "      <td>0.1</td>\n",
       "      <td>11.5</td>\n",
       "    </tr>\n",
       "    <tr>\n",
       "      <th>6938</th>\n",
       "      <td>2018-12-30</td>\n",
       "      <td>6.5</td>\n",
       "      <td>2.1</td>\n",
       "      <td>244.0</td>\n",
       "      <td>1000.46</td>\n",
       "      <td>1.300</td>\n",
       "      <td>12.3</td>\n",
       "      <td>0.7</td>\n",
       "      <td>8.4</td>\n",
       "    </tr>\n",
       "    <tr>\n",
       "      <th>6939</th>\n",
       "      <td>2018-12-31</td>\n",
       "      <td>6.9</td>\n",
       "      <td>0.7</td>\n",
       "      <td>213.9</td>\n",
       "      <td>1001.15</td>\n",
       "      <td>7.600</td>\n",
       "      <td>21.6</td>\n",
       "      <td>0.9</td>\n",
       "      <td>9.3</td>\n",
       "    </tr>\n",
       "  </tbody>\n",
       "</table>\n",
       "</div>"
      ],
      "text/plain": [
       "          Datum  Temp   WG     WR    Druck      NO   NO2  Niederschlag  PM10\n",
       "6935 2018-12-27   0.8  0.8   21.5   995.43  54.557  43.7           0.0  18.4\n",
       "6936 2018-12-28   1.3  0.8  256.0   996.84  54.557  38.9           0.0  17.4\n",
       "6937 2018-12-29   2.4  1.3  230.3  1000.46  11.600  28.0           0.1  11.5\n",
       "6938 2018-12-30   6.5  2.1  244.0  1000.46   1.300  12.3           0.7   8.4\n",
       "6939 2018-12-31   6.9  0.7  213.9  1001.15   7.600  21.6           0.9   9.3"
      ]
     },
     "execution_count": 180,
     "metadata": {},
     "output_type": "execute_result"
    }
   ],
   "source": [
    "df_for_ML.tail()"
   ]
  },
  {
   "cell_type": "markdown",
   "metadata": {},
   "source": [
    "### Split Data into Training and Validation Samples"
   ]
  },
  {
   "cell_type": "markdown",
   "metadata": {},
   "source": [
    "We split the date with train data for periods 2003-2017 and test the models on data of 2017."
   ]
  },
  {
   "cell_type": "code",
   "execution_count": 181,
   "metadata": {},
   "outputs": [],
   "source": [
    "splitDate=\"2017-12-31\""
   ]
  },
  {
   "cell_type": "code",
   "execution_count": 182,
   "metadata": {},
   "outputs": [],
   "source": [
    "df_train = df_for_ML[df_for_ML[\"Datum\"] <= splitDate]\n",
    "df_test = df_for_ML[df_for_ML[\"Datum\"] > splitDate]"
   ]
  },
  {
   "cell_type": "markdown",
   "metadata": {},
   "source": [
    "### Data Scaling and Normalization"
   ]
  },
  {
   "cell_type": "markdown",
   "metadata": {},
   "source": [
    "Although we performed the outlier detection in the preprocessing we see that the rainfall has still many values outside the IQR. That is we are performing the `RobustScaler` from Sklearn which is robust to outliers."
   ]
  },
  {
   "cell_type": "code",
   "execution_count": 183,
   "metadata": {},
   "outputs": [],
   "source": [
    "df_train_woDate = df_train.drop('Datum', axis=1)\n",
    "x = df_train_woDate.values  # returns a numpy array\n",
    "robustScaler = RobustScaler()\n",
    "x_scaled = robustScaler.fit_transform(x)\n",
    "df_train_norm = pd.DataFrame(x_scaled)"
   ]
  },
  {
   "cell_type": "code",
   "execution_count": 184,
   "metadata": {},
   "outputs": [
    {
     "data": {
      "text/html": [
       "<div>\n",
       "<style scoped>\n",
       "    .dataframe tbody tr th:only-of-type {\n",
       "        vertical-align: middle;\n",
       "    }\n",
       "\n",
       "    .dataframe tbody tr th {\n",
       "        vertical-align: top;\n",
       "    }\n",
       "\n",
       "    .dataframe thead th {\n",
       "        text-align: right;\n",
       "    }\n",
       "</style>\n",
       "<table border=\"1\" class=\"dataframe\">\n",
       "  <thead>\n",
       "    <tr style=\"text-align: right;\">\n",
       "      <th></th>\n",
       "      <th>0</th>\n",
       "      <th>1</th>\n",
       "      <th>2</th>\n",
       "      <th>3</th>\n",
       "      <th>4</th>\n",
       "      <th>5</th>\n",
       "      <th>6</th>\n",
       "      <th>7</th>\n",
       "    </tr>\n",
       "  </thead>\n",
       "  <tbody>\n",
       "    <tr>\n",
       "      <th>count</th>\n",
       "      <td>5480.000000</td>\n",
       "      <td>5480.000000</td>\n",
       "      <td>5480.000000</td>\n",
       "      <td>5480.000000</td>\n",
       "      <td>5.480000e+03</td>\n",
       "      <td>5480.000000</td>\n",
       "      <td>5480.000000</td>\n",
       "      <td>5480.000000</td>\n",
       "    </tr>\n",
       "    <tr>\n",
       "      <th>mean</th>\n",
       "      <td>-0.018177</td>\n",
       "      <td>0.210239</td>\n",
       "      <td>-0.206402</td>\n",
       "      <td>-0.062060</td>\n",
       "      <td>3.253736e-01</td>\n",
       "      <td>0.092030</td>\n",
       "      <td>1.058611</td>\n",
       "      <td>0.142565</td>\n",
       "    </tr>\n",
       "    <tr>\n",
       "      <th>std</th>\n",
       "      <td>0.640685</td>\n",
       "      <td>0.867229</td>\n",
       "      <td>0.726461</td>\n",
       "      <td>0.801074</td>\n",
       "      <td>8.133646e-01</td>\n",
       "      <td>0.758324</td>\n",
       "      <td>2.255737</td>\n",
       "      <td>0.762329</td>\n",
       "    </tr>\n",
       "    <tr>\n",
       "      <th>min</th>\n",
       "      <td>-1.993983</td>\n",
       "      <td>-1.555320</td>\n",
       "      <td>-2.395405</td>\n",
       "      <td>-2.025243</td>\n",
       "      <td>-5.638411e-01</td>\n",
       "      <td>-1.548357</td>\n",
       "      <td>-0.052224</td>\n",
       "      <td>-1.515063</td>\n",
       "    </tr>\n",
       "    <tr>\n",
       "      <th>25%</th>\n",
       "      <td>-0.524596</td>\n",
       "      <td>-0.386359</td>\n",
       "      <td>-0.703363</td>\n",
       "      <td>-0.526805</td>\n",
       "      <td>-2.928761e-01</td>\n",
       "      <td>-0.446050</td>\n",
       "      <td>-0.052224</td>\n",
       "      <td>-0.420549</td>\n",
       "    </tr>\n",
       "    <tr>\n",
       "      <th>50%</th>\n",
       "      <td>0.000000</td>\n",
       "      <td>0.000000</td>\n",
       "      <td>0.000000</td>\n",
       "      <td>0.000000</td>\n",
       "      <td>-4.391019e-17</td>\n",
       "      <td>0.000000</td>\n",
       "      <td>0.000000</td>\n",
       "      <td>0.000000</td>\n",
       "    </tr>\n",
       "    <tr>\n",
       "      <th>75%</th>\n",
       "      <td>0.475404</td>\n",
       "      <td>0.613641</td>\n",
       "      <td>0.296637</td>\n",
       "      <td>0.473195</td>\n",
       "      <td>7.071239e-01</td>\n",
       "      <td>0.553950</td>\n",
       "      <td>0.947776</td>\n",
       "      <td>0.579451</td>\n",
       "    </tr>\n",
       "    <tr>\n",
       "      <th>max</th>\n",
       "      <td>1.640608</td>\n",
       "      <td>3.081994</td>\n",
       "      <td>1.758384</td>\n",
       "      <td>1.937621</td>\n",
       "      <td>2.129774e+00</td>\n",
       "      <td>2.272198</td>\n",
       "      <td>9.967380</td>\n",
       "      <td>1.962203</td>\n",
       "    </tr>\n",
       "  </tbody>\n",
       "</table>\n",
       "</div>"
      ],
      "text/plain": [
       "                 0            1            2            3             4  \\\n",
       "count  5480.000000  5480.000000  5480.000000  5480.000000  5.480000e+03   \n",
       "mean     -0.018177     0.210239    -0.206402    -0.062060  3.253736e-01   \n",
       "std       0.640685     0.867229     0.726461     0.801074  8.133646e-01   \n",
       "min      -1.993983    -1.555320    -2.395405    -2.025243 -5.638411e-01   \n",
       "25%      -0.524596    -0.386359    -0.703363    -0.526805 -2.928761e-01   \n",
       "50%       0.000000     0.000000     0.000000     0.000000 -4.391019e-17   \n",
       "75%       0.475404     0.613641     0.296637     0.473195  7.071239e-01   \n",
       "max       1.640608     3.081994     1.758384     1.937621  2.129774e+00   \n",
       "\n",
       "                 5            6            7  \n",
       "count  5480.000000  5480.000000  5480.000000  \n",
       "mean      0.092030     1.058611     0.142565  \n",
       "std       0.758324     2.255737     0.762329  \n",
       "min      -1.548357    -0.052224    -1.515063  \n",
       "25%      -0.446050    -0.052224    -0.420549  \n",
       "50%       0.000000     0.000000     0.000000  \n",
       "75%       0.553950     0.947776     0.579451  \n",
       "max       2.272198     9.967380     1.962203  "
      ]
     },
     "execution_count": 184,
     "metadata": {},
     "output_type": "execute_result"
    }
   ],
   "source": [
    "df_train_norm.describe()"
   ]
  },
  {
   "cell_type": "code",
   "execution_count": 185,
   "metadata": {},
   "outputs": [
    {
     "data": {
      "image/png": "[encoded data removed]",
      "text/plain": [
       "<Figure size 1008x504 with 1 Axes>"
      ]
     },
     "metadata": {
      "needs_background": "light"
     },
     "output_type": "display_data"
    }
   ],
   "source": [
    "plt.figure(figsize=(14, 7))\n",
    "sns.set_style(\"darkgrid\")\n",
    "sns.boxplot(data=df_train_norm)\n",
    "plt.xlabel(\"Features\")\n",
    "plt.show()"
   ]
  },
  {
   "cell_type": "code",
   "execution_count": 186,
   "metadata": {},
   "outputs": [],
   "source": [
    "df_test_woDate = df_test.drop('Datum', axis=1)\n",
    "x = df_test_woDate.values  # returns a numpy array\n",
    "robustScaler = RobustScaler()\n",
    "x_scaled = robustScaler.fit_transform(x)\n",
    "df_test_norm = pd.DataFrame(x_scaled)"
   ]
  },
  {
   "cell_type": "code",
   "execution_count": 187,
   "metadata": {},
   "outputs": [
    {
     "data": {
      "text/html": [
       "<div>\n",
       "<style scoped>\n",
       "    .dataframe tbody tr th:only-of-type {\n",
       "        vertical-align: middle;\n",
       "    }\n",
       "\n",
       "    .dataframe tbody tr th {\n",
       "        vertical-align: top;\n",
       "    }\n",
       "\n",
       "    .dataframe thead th {\n",
       "        text-align: right;\n",
       "    }\n",
       "</style>\n",
       "<table border=\"1\" class=\"dataframe\">\n",
       "  <thead>\n",
       "    <tr style=\"text-align: right;\">\n",
       "      <th></th>\n",
       "      <th>0</th>\n",
       "      <th>1</th>\n",
       "      <th>2</th>\n",
       "      <th>3</th>\n",
       "      <th>4</th>\n",
       "      <th>5</th>\n",
       "      <th>6</th>\n",
       "      <th>7</th>\n",
       "    </tr>\n",
       "  </thead>\n",
       "  <tbody>\n",
       "    <tr>\n",
       "      <th>count</th>\n",
       "      <td>365.000000</td>\n",
       "      <td>365.000000</td>\n",
       "      <td>365.000000</td>\n",
       "      <td>365.000000</td>\n",
       "      <td>365.000000</td>\n",
       "      <td>365.000000</td>\n",
       "      <td>365.000000</td>\n",
       "      <td>365.000000</td>\n",
       "    </tr>\n",
       "    <tr>\n",
       "      <th>mean</th>\n",
       "      <td>-0.060211</td>\n",
       "      <td>0.305022</td>\n",
       "      <td>-0.632800</td>\n",
       "      <td>-0.060327</td>\n",
       "      <td>0.465016</td>\n",
       "      <td>0.031653</td>\n",
       "      <td>1.970959</td>\n",
       "      <td>0.184492</td>\n",
       "    </tr>\n",
       "    <tr>\n",
       "      <th>std</th>\n",
       "      <td>0.611236</td>\n",
       "      <td>1.162829</td>\n",
       "      <td>2.896107</td>\n",
       "      <td>0.929552</td>\n",
       "      <td>1.181778</td>\n",
       "      <td>0.679746</td>\n",
       "      <td>4.823674</td>\n",
       "      <td>0.818159</td>\n",
       "    </tr>\n",
       "    <tr>\n",
       "      <th>min</th>\n",
       "      <td>-1.653846</td>\n",
       "      <td>-1.400000</td>\n",
       "      <td>-8.240964</td>\n",
       "      <td>-2.319265</td>\n",
       "      <td>-0.578431</td>\n",
       "      <td>-1.515723</td>\n",
       "      <td>0.000000</td>\n",
       "      <td>-1.195876</td>\n",
       "    </tr>\n",
       "    <tr>\n",
       "      <th>25%</th>\n",
       "      <td>-0.538462</td>\n",
       "      <td>-0.400000</td>\n",
       "      <td>-0.373494</td>\n",
       "      <td>-0.492268</td>\n",
       "      <td>-0.313725</td>\n",
       "      <td>-0.477987</td>\n",
       "      <td>0.000000</td>\n",
       "      <td>-0.412371</td>\n",
       "    </tr>\n",
       "    <tr>\n",
       "      <th>50%</th>\n",
       "      <td>0.000000</td>\n",
       "      <td>0.000000</td>\n",
       "      <td>0.000000</td>\n",
       "      <td>0.000000</td>\n",
       "      <td>0.000000</td>\n",
       "      <td>0.000000</td>\n",
       "      <td>0.000000</td>\n",
       "      <td>0.000000</td>\n",
       "    </tr>\n",
       "    <tr>\n",
       "      <th>75%</th>\n",
       "      <td>0.461538</td>\n",
       "      <td>0.600000</td>\n",
       "      <td>0.626506</td>\n",
       "      <td>0.507732</td>\n",
       "      <td>0.686275</td>\n",
       "      <td>0.522013</td>\n",
       "      <td>1.000000</td>\n",
       "      <td>0.587629</td>\n",
       "    </tr>\n",
       "    <tr>\n",
       "      <th>max</th>\n",
       "      <td>1.146154</td>\n",
       "      <td>5.733208</td>\n",
       "      <td>5.843373</td>\n",
       "      <td>2.430735</td>\n",
       "      <td>4.760490</td>\n",
       "      <td>2.138365</td>\n",
       "      <td>23.000000</td>\n",
       "      <td>2.629969</td>\n",
       "    </tr>\n",
       "  </tbody>\n",
       "</table>\n",
       "</div>"
      ],
      "text/plain": [
       "                0           1           2           3           4           5  \\\n",
       "count  365.000000  365.000000  365.000000  365.000000  365.000000  365.000000   \n",
       "mean    -0.060211    0.305022   -0.632800   -0.060327    0.465016    0.031653   \n",
       "std      0.611236    1.162829    2.896107    0.929552    1.181778    0.679746   \n",
       "min     -1.653846   -1.400000   -8.240964   -2.319265   -0.578431   -1.515723   \n",
       "25%     -0.538462   -0.400000   -0.373494   -0.492268   -0.313725   -0.477987   \n",
       "50%      0.000000    0.000000    0.000000    0.000000    0.000000    0.000000   \n",
       "75%      0.461538    0.600000    0.626506    0.507732    0.686275    0.522013   \n",
       "max      1.146154    5.733208    5.843373    2.430735    4.760490    2.138365   \n",
       "\n",
       "                6           7  \n",
       "count  365.000000  365.000000  \n",
       "mean     1.970959    0.184492  \n",
       "std      4.823674    0.818159  \n",
       "min      0.000000   -1.195876  \n",
       "25%      0.000000   -0.412371  \n",
       "50%      0.000000    0.000000  \n",
       "75%      1.000000    0.587629  \n",
       "max     23.000000    2.629969  "
      ]
     },
     "execution_count": 187,
     "metadata": {},
     "output_type": "execute_result"
    }
   ],
   "source": [
    "df_test_norm.describe()"
   ]
  },
  {
   "cell_type": "code",
   "execution_count": 188,
   "metadata": {},
   "outputs": [
    {
     "data": {
      "image/png": "[encoded data removed]",
      "text/plain": [
       "<Figure size 1008x504 with 1 Axes>"
      ]
     },
     "metadata": {},
     "output_type": "display_data"
    }
   ],
   "source": [
    "plt.figure(figsize=(14, 7))\n",
    "sns.set_style(\"darkgrid\")\n",
    "sns.boxplot(data=df_test_norm)\n",
    "plt.xlabel(\"Features\")\n",
    "plt.show()"
   ]
  },
  {
   "cell_type": "markdown",
   "metadata": {},
   "source": [
    "Now we want to return the column names."
   ]
  },
  {
   "cell_type": "code",
   "execution_count": 189,
   "metadata": {},
   "outputs": [
    {
     "data": {
      "text/plain": [
       "{0: 'Temp',\n",
       " 1: 'WG',\n",
       " 2: 'WR',\n",
       " 3: 'Druck',\n",
       " 4: 'NO',\n",
       " 5: 'NO2',\n",
       " 6: 'Niederschlag',\n",
       " 7: 'PM10'}"
      ]
     },
     "execution_count": 189,
     "metadata": {},
     "output_type": "execute_result"
    }
   ],
   "source": [
    "i = 0\n",
    "dictColumn = {}\n",
    "for i in range(0, (len(df_test_woDate.columns))):\n",
    "    dictColumn.update(\n",
    "        {list(df_test_norm.columns)[i]: list(df_test_woDate.columns)[i]})\n",
    "    i = i + 1\n",
    "dictColumn"
   ]
  },
  {
   "cell_type": "code",
   "execution_count": 190,
   "metadata": {},
   "outputs": [],
   "source": [
    "df_train_norm=df_train_norm.rename(columns=dictColumn)\n",
    "df_test_norm=df_test_norm.rename(columns=dictColumn)"
   ]
  },
  {
   "cell_type": "code",
   "execution_count": 191,
   "metadata": {},
   "outputs": [
    {
     "data": {
      "text/html": [
       "<div>\n",
       "<style scoped>\n",
       "    .dataframe tbody tr th:only-of-type {\n",
       "        vertical-align: middle;\n",
       "    }\n",
       "\n",
       "    .dataframe tbody tr th {\n",
       "        vertical-align: top;\n",
       "    }\n",
       "\n",
       "    .dataframe thead th {\n",
       "        text-align: right;\n",
       "    }\n",
       "</style>\n",
       "<table border=\"1\" class=\"dataframe\">\n",
       "  <thead>\n",
       "    <tr style=\"text-align: right;\">\n",
       "      <th></th>\n",
       "      <th>Temp</th>\n",
       "      <th>WG</th>\n",
       "      <th>WR</th>\n",
       "      <th>Druck</th>\n",
       "      <th>NO</th>\n",
       "      <th>NO2</th>\n",
       "      <th>Niederschlag</th>\n",
       "      <th>PM10</th>\n",
       "    </tr>\n",
       "  </thead>\n",
       "  <tbody>\n",
       "    <tr>\n",
       "      <th>0</th>\n",
       "      <td>-0.499301</td>\n",
       "      <td>0.537380</td>\n",
       "      <td>-0.888246</td>\n",
       "      <td>-0.978352</td>\n",
       "      <td>0.885808</td>\n",
       "      <td>-0.375204</td>\n",
       "      <td>0.505389</td>\n",
       "      <td>1.962203</td>\n",
       "    </tr>\n",
       "    <tr>\n",
       "      <th>1</th>\n",
       "      <td>-0.032202</td>\n",
       "      <td>2.749071</td>\n",
       "      <td>0.261684</td>\n",
       "      <td>-2.025243</td>\n",
       "      <td>-0.169688</td>\n",
       "      <td>-0.481939</td>\n",
       "      <td>9.967380</td>\n",
       "      <td>-1.079931</td>\n",
       "    </tr>\n",
       "    <tr>\n",
       "      <th>2</th>\n",
       "      <td>-0.287530</td>\n",
       "      <td>2.695324</td>\n",
       "      <td>0.282257</td>\n",
       "      <td>-1.924451</td>\n",
       "      <td>-0.079778</td>\n",
       "      <td>-0.371009</td>\n",
       "      <td>1.028151</td>\n",
       "      <td>-0.164626</td>\n",
       "    </tr>\n",
       "    <tr>\n",
       "      <th>3</th>\n",
       "      <td>-0.573535</td>\n",
       "      <td>-0.288877</td>\n",
       "      <td>-0.057264</td>\n",
       "      <td>-1.795437</td>\n",
       "      <td>0.500266</td>\n",
       "      <td>0.072710</td>\n",
       "      <td>9.967380</td>\n",
       "      <td>-0.641792</td>\n",
       "    </tr>\n",
       "    <tr>\n",
       "      <th>4</th>\n",
       "      <td>-1.146477</td>\n",
       "      <td>0.032476</td>\n",
       "      <td>-0.642685</td>\n",
       "      <td>-0.978352</td>\n",
       "      <td>0.249663</td>\n",
       "      <td>-0.288977</td>\n",
       "      <td>0.226582</td>\n",
       "      <td>-0.048469</td>\n",
       "    </tr>\n",
       "  </tbody>\n",
       "</table>\n",
       "</div>"
      ],
      "text/plain": [
       "       Temp        WG        WR     Druck        NO       NO2  Niederschlag  \\\n",
       "0 -0.499301  0.537380 -0.888246 -0.978352  0.885808 -0.375204      0.505389   \n",
       "1 -0.032202  2.749071  0.261684 -2.025243 -0.169688 -0.481939      9.967380   \n",
       "2 -0.287530  2.695324  0.282257 -1.924451 -0.079778 -0.371009      1.028151   \n",
       "3 -0.573535 -0.288877 -0.057264 -1.795437  0.500266  0.072710      9.967380   \n",
       "4 -1.146477  0.032476 -0.642685 -0.978352  0.249663 -0.288977      0.226582   \n",
       "\n",
       "       PM10  \n",
       "0  1.962203  \n",
       "1 -1.079931  \n",
       "2 -0.164626  \n",
       "3 -0.641792  \n",
       "4 -0.048469  "
      ]
     },
     "execution_count": 191,
     "metadata": {},
     "output_type": "execute_result"
    }
   ],
   "source": [
    "df_train_norm.head()"
   ]
  },
  {
   "cell_type": "markdown",
   "metadata": {},
   "source": [
    "### Split Data into Input and Target Data"
   ]
  },
  {
   "cell_type": "markdown",
   "metadata": {},
   "source": [
    "Define the funktion to generate featuers and target data on basis of train and test requirements."
   ]
  },
  {
   "cell_type": "code",
   "execution_count": 192,
   "metadata": {},
   "outputs": [],
   "source": [
    "def create_dataset(X, y, time_steps=1, step=1):\n",
    "    Xs, ys = [], []\n",
    "    for i in range(0, len(X) - time_steps, step):\n",
    "        v = X.iloc[i:(i + time_steps)].values\n",
    "        targets = y.iloc[i + time_steps]\n",
    "        Xs.append(v)\n",
    "        ys.append(targets)\n",
    "    return np.array(Xs), np.array(ys)"
   ]
  },
  {
   "cell_type": "markdown",
   "metadata": {},
   "source": [
    "#### Split Data into Input and Target Data for Neural Networks"
   ]
  },
  {
   "cell_type": "markdown",
   "metadata": {},
   "source": [
    "On basis of the last three weeks we want to predict the target value for particulate."
   ]
  },
  {
   "cell_type": "code",
   "execution_count": 193,
   "metadata": {},
   "outputs": [],
   "source": [
    "TIME_STEPS = 21\n",
    "STEP = 1\n",
    "\n",
    "X_train, y_train = create_dataset(\n",
    "    # df_train.drop(columns=['PM10']),\n",
    "    df_train_norm,\n",
    "    df_train_norm.PM10,\n",
    "    TIME_STEPS,\n",
    "    STEP)\n",
    "\n",
    "X_test, y_test = create_dataset(\n",
    "    # df_test.drop(columns=['PM10']),\n",
    "    df_test_norm,\n",
    "    df_test_norm.PM10,\n",
    "    TIME_STEPS,\n",
    "    STEP)"
   ]
  },
  {
   "cell_type": "markdown",
   "metadata": {},
   "source": [
    "#### Split Data into Input and Target Data for Baseline Model"
   ]
  },
  {
   "cell_type": "markdown",
   "metadata": {},
   "source": [
    "On basis of the last day we want to predict the target value for particulate."
   ]
  },
  {
   "cell_type": "code",
   "execution_count": 194,
   "metadata": {},
   "outputs": [],
   "source": [
    "TIME_STEPS = 1\n",
    "STEP = 1\n",
    "\n",
    "X_train_base, y_train_base = create_dataset(\n",
    "    # df_train.drop(columns=['PM10']),\n",
    "    df_train_norm,\n",
    "    df_train_norm.PM10,\n",
    "    TIME_STEPS,\n",
    "    STEP)\n",
    "\n",
    "X_test_base, y_test_base = create_dataset(\n",
    "    # df_test.drop(columns=['PM10']),\n",
    "    df_test_norm,\n",
    "    df_test_norm.PM10,\n",
    "    TIME_STEPS,\n",
    "    STEP)"
   ]
  },
  {
   "cell_type": "markdown",
   "metadata": {},
   "source": [
    "## Alogrithms Selection"
   ]
  },
  {
   "cell_type": "markdown",
   "metadata": {},
   "source": [
    "As a simple base line model, we opted for a linear regression that predicts the value of the particulates based on the features including the particulates of the previous day. \n",
    "\n",
    "For the final model, we opted for an LSTM neural network that predicts the value of particulate based on the features including the particulates of the previous 21 days. LSTM is traditionaly one of the best approach method for times series forcasting."
   ]
  },
  {
   "cell_type": "markdown",
   "metadata": {},
   "source": [
    "## Baseline Models"
   ]
  },
  {
   "cell_type": "markdown",
   "metadata": {},
   "source": [
    "At this point we have to reshape the given features numpay arrey in a compatible shape for the baseline model `linear regression`."
   ]
  },
  {
   "cell_type": "code",
   "execution_count": 195,
   "metadata": {},
   "outputs": [],
   "source": [
    "X_train_base = X_train_base.reshape(-1,8) \n",
    "X_test_base = X_test_base.reshape(-1,8)"
   ]
  },
  {
   "cell_type": "code",
   "execution_count": 196,
   "metadata": {},
   "outputs": [],
   "source": [
    "#X_train_base.shape \n",
    "#y_train_base.shape\n",
    "#X_test_base.shape\n",
    "#y_test_base.shape"
   ]
  },
  {
   "cell_type": "markdown",
   "metadata": {},
   "source": [
    "Print the second datarow to compare the value of particulate with the first data row in the `y_train` data set!"
   ]
  },
  {
   "cell_type": "code",
   "execution_count": 197,
   "metadata": {},
   "outputs": [
    {
     "data": {
      "text/plain": [
       "array([-0.03220203,  2.7490706 ,  0.26168437, -2.02524274, -0.16968798,\n",
       "       -0.48193894,  9.96737966, -1.07993148])"
      ]
     },
     "execution_count": 197,
     "metadata": {},
     "output_type": "execute_result"
    }
   ],
   "source": [
    "X_train_base[1]"
   ]
  },
  {
   "cell_type": "markdown",
   "metadata": {},
   "source": [
    "First data row in the `y_train` data set."
   ]
  },
  {
   "cell_type": "code",
   "execution_count": 198,
   "metadata": {},
   "outputs": [
    {
     "data": {
      "text/plain": [
       "-1.0799314753687381"
      ]
     },
     "execution_count": 198,
     "metadata": {},
     "output_type": "execute_result"
    }
   ],
   "source": [
    "y_train_base[0]"
   ]
  },
  {
   "cell_type": "code",
   "execution_count": 199,
   "metadata": {},
   "outputs": [
    {
     "data": {
      "text/plain": [
       "LinearRegression()"
      ]
     },
     "execution_count": 199,
     "metadata": {},
     "output_type": "execute_result"
    }
   ],
   "source": [
    "# Create linear regression object\n",
    "regr = LinearRegression()\n",
    "# Train the model using the training sets\n",
    "regr.fit(X_train_base, y_train_base)"
   ]
  },
  {
   "cell_type": "code",
   "execution_count": 200,
   "metadata": {},
   "outputs": [],
   "source": [
    "test_pred = regr.predict(X_test_base)"
   ]
  },
  {
   "cell_type": "code",
   "execution_count": 201,
   "metadata": {},
   "outputs": [
    {
     "data": {
      "text/plain": [
       "array([-0.81443299, -0.64948454, -0.40206186, -0.55670103,  0.        ,\n",
       "        0.60824742,  0.95876289,  1.40206186,  0.94845361,  1.37113402])"
      ]
     },
     "execution_count": 201,
     "metadata": {},
     "output_type": "execute_result"
    }
   ],
   "source": [
    "y_test_base[0:10]"
   ]
  },
  {
   "cell_type": "code",
   "execution_count": 202,
   "metadata": {},
   "outputs": [
    {
     "data": {
      "text/plain": [
       "array([ 0.60027032, -0.63124033, -0.98447538, -0.84957948, -0.49257006,\n",
       "       -0.04068703,  1.13264801,  1.38016969,  0.55079705,  0.27268831])"
      ]
     },
     "execution_count": 202,
     "metadata": {},
     "output_type": "execute_result"
    }
   ],
   "source": [
    "test_pred[0:10]"
   ]
  },
  {
   "cell_type": "code",
   "execution_count": 203,
   "metadata": {},
   "outputs": [
    {
     "name": "stdout",
     "output_type": "stream",
     "text": [
      "Coeffs:  [-0.0940739  -0.03383687 -0.11222679  0.07813494 -0.07828026  0.08210639\n",
      " -0.01146359  0.5800778 ]\n",
      "Intercept:  0.07655889952721832\n",
      "R2:  0.3710221609462565\n",
      "MSE:  0.4176661576376381\n"
     ]
    }
   ],
   "source": [
    "print(\"Coeffs: \", regr.coef_)\n",
    "\n",
    "print(\"Intercept: \", regr.intercept_)\n",
    "\n",
    "print(\"R2: \", regr.score(X_test_base, y_test_base))\n",
    "\n",
    "print(\"MSE: \", mean_squared_error(y_test_base, test_pred))"
   ]
  },
  {
   "cell_type": "code",
   "execution_count": 204,
   "metadata": {},
   "outputs": [
    {
     "data": {
      "image/png": "[encoded data removed]",
      "text/plain": [
       "<Figure size 1440x720 with 1 Axes>"
      ]
     },
     "metadata": {},
     "output_type": "display_data"
    }
   ],
   "source": [
    "# Residual Plot (Restwert)\n",
    "train_pred = regr.predict(X_train_base)\n",
    "test_pred = regr.predict(X_test_base)\n",
    "\n",
    "min_val = min(min(train_pred), min(test_pred))\n",
    "max_val = max(max(train_pred), max(test_pred))\n",
    "\n",
    "\n",
    "plt.figure(figsize=(20,10))\n",
    "plt.scatter(train_pred, train_pred - y_train_base, color=\"blue\", s=30)\n",
    "plt.scatter(test_pred, test_pred - y_test_base, color=\"red\", s=30)\n",
    "plt.hlines(y = 0, xmin =min_val, xmax=max_val)\n",
    "plt.xlabel(\"$\\hat{y} (Prediction)$\")\n",
    "plt.ylabel(\"Residuals\")\n",
    "plt.show()"
   ]
  },
  {
   "cell_type": "markdown",
   "metadata": {},
   "source": [
    "## Deep Learning Models"
   ]
  },
  {
   "cell_type": "code",
   "execution_count": 154,
   "metadata": {},
   "outputs": [
    {
     "name": "stdout",
     "output_type": "stream",
     "text": [
      "Model: \"sequential_7\"\n",
      "_________________________________________________________________\n",
      "Layer (type)                 Output Shape              Param #   \n",
      "=================================================================\n",
      "lstm_7 (LSTM)                (None, 200)               167200    \n",
      "_________________________________________________________________\n",
      "dense_6 (Dense)              (None, 1)                 201       \n",
      "=================================================================\n",
      "Total params: 167,401\n",
      "Trainable params: 167,401\n",
      "Non-trainable params: 0\n",
      "_________________________________________________________________\n"
     ]
    }
   ],
   "source": [
    "model = Sequential()\n",
    "\n",
    "model.add(layers.LSTM(units=200, \n",
    "                      return_sequences= False,\n",
    "                      activation ='tanh', \n",
    "                      input_shape=(X_train.shape[1],X_train.shape[2])))\n",
    "\n",
    "#model.add(layers.Flatten())\n",
    "model.add(layers.Dense(1))\n",
    "model.summary()"
   ]
  },
  {
   "cell_type": "code",
   "execution_count": 155,
   "metadata": {},
   "outputs": [
    {
     "name": "stdout",
     "output_type": "stream",
     "text": [
      "Train on 5610 samples, validate on 193 samples\n",
      "Epoch 1/5\n",
      "5610/5610 [==============================] - 13s 2ms/step - loss: 0.3242 - accuracy: 1.7825e-04 - val_loss: 0.4537 - val_accuracy: 0.0000e+00\n",
      "Epoch 2/5\n",
      "5610/5610 [==============================] - 12s 2ms/step - loss: 0.2780 - accuracy: 1.7825e-04 - val_loss: 0.4487 - val_accuracy: 0.0000e+00\n",
      "Epoch 3/5\n",
      "5610/5610 [==============================] - 12s 2ms/step - loss: 0.2711 - accuracy: 1.7825e-04 - val_loss: 0.4823 - val_accuracy: 0.0000e+00\n",
      "Epoch 4/5\n",
      "5610/5610 [==============================] - 12s 2ms/step - loss: 0.2682 - accuracy: 1.7825e-04 - val_loss: 0.4381 - val_accuracy: 0.0000e+00\n",
      "Epoch 5/5\n",
      "5610/5610 [==============================] - 12s 2ms/step - loss: 0.2635 - accuracy: 1.7825e-04 - val_loss: 0.4103 - val_accuracy: 0.0000e+00\n"
     ]
    }
   ],
   "source": [
    "model.compile(optimizer='RMSprop', loss='mse')\n",
    "history = model.fit(x=X_train, y=y_train, epochs=5, validation_data=(X_test, y_test))"
   ]
  },
  {
   "cell_type": "code",
   "execution_count": 157,
   "metadata": {},
   "outputs": [
    {
     "data": {
      "image/png": "[encoded data removed]",
      "text/plain": [
       "<Figure size 432x288 with 1 Axes>"
      ]
     },
     "metadata": {},
     "output_type": "display_data"
    }
   ],
   "source": [
    "plt.plot(history.history['loss'], label='train')\n",
    "plt.plot(history.history['val_loss'], label='test')\n",
    "plt.legend()\n",
    "plt.show()"
   ]
  },
  {
   "cell_type": "code",
   "execution_count": 227,
   "metadata": {},
   "outputs": [
    {
     "name": "stdout",
     "output_type": "stream",
     "text": [
      "Model: \"sequential_23\"\n",
      "_________________________________________________________________\n",
      "Layer (type)                 Output Shape              Param #   \n",
      "=================================================================\n",
      "lstm_26 (LSTM)               (None, 21, 200)           167200    \n",
      "_________________________________________________________________\n",
      "dropout_15 (Dropout)         (None, 21, 200)           0         \n",
      "_________________________________________________________________\n",
      "flatten_13 (Flatten)         (None, 4200)              0         \n",
      "_________________________________________________________________\n",
      "dense_21 (Dense)             (None, 1)                 4201      \n",
      "=================================================================\n",
      "Total params: 171,401\n",
      "Trainable params: 171,401\n",
      "Non-trainable params: 0\n",
      "_________________________________________________________________\n"
     ]
    }
   ],
   "source": [
    "model_2 = Sequential()\n",
    "\n",
    "model_2.add(layers.LSTM(units=200, \n",
    "                      return_sequences= True,\n",
    "                      activation ='tanh', \n",
    "                      input_shape=(X_train.shape[1],X_train.shape[2])))\n",
    "model_2.add(layers.Dropout(rate=0.2))\n",
    "model_2.add(layers.Flatten())\n",
    "model_2.add(layers.Dense(1))\n",
    "model_2.summary()"
   ]
  },
  {
   "cell_type": "code",
   "execution_count": 228,
   "metadata": {},
   "outputs": [
    {
     "name": "stdout",
     "output_type": "stream",
     "text": [
      "Train on 5459 samples, validate on 344 samples\n",
      "Epoch 1/10\n",
      "5459/5459 [==============================] - 6s 1ms/step - loss: 0.4917 - val_loss: 0.6868\n",
      "Epoch 2/10\n",
      "5459/5459 [==============================] - 4s 751us/step - loss: 0.4080 - val_loss: 0.5989\n",
      "Epoch 3/10\n",
      "5459/5459 [==============================] - 4s 724us/step - loss: 0.3684 - val_loss: 0.5979\n",
      "Epoch 4/10\n",
      "5459/5459 [==============================] - 4s 734us/step - loss: 0.3349 - val_loss: 0.6281\n",
      "Epoch 5/10\n",
      "5459/5459 [==============================] - 4s 732us/step - loss: 0.3241 - val_loss: 0.5879\n",
      "Epoch 6/10\n",
      "5459/5459 [==============================] - 4s 734us/step - loss: 0.3071 - val_loss: 0.5536\n",
      "Epoch 7/10\n",
      "5459/5459 [==============================] - 4s 726us/step - loss: 0.2935 - val_loss: 0.5546\n",
      "Epoch 8/10\n",
      "5459/5459 [==============================] - 4s 721us/step - loss: 0.2883 - val_loss: 0.6084\n",
      "Epoch 9/10\n",
      "5459/5459 [==============================] - 4s 718us/step - loss: 0.2814 - val_loss: 0.5794\n",
      "Epoch 10/10\n",
      "5459/5459 [==============================] - 4s 740us/step - loss: 0.2768 - val_loss: 0.5328\n"
     ]
    }
   ],
   "source": [
    "model_2.compile(optimizer='adam', loss='mse')\n",
    "history_2 = model_2.fit(batch_size=400, x=X_train, y=y_train, epochs=10, validation_data=(X_test, y_test))"
   ]
  },
  {
   "cell_type": "code",
   "execution_count": 218,
   "metadata": {},
   "outputs": [
    {
     "name": "stdout",
     "output_type": "stream",
     "text": [
      "Minimum validation loss:  0.44448742270469666\n"
     ]
    }
   ],
   "source": [
    "print(\"Minimum validation loss: \", min(history_2.history['val_loss']))"
   ]
  },
  {
   "cell_type": "code",
   "execution_count": 211,
   "metadata": {},
   "outputs": [
    {
     "data": {
      "image/png": "[encoded data removed]",
      "text/plain": [
       "<Figure size 432x288 with 1 Axes>"
      ]
     },
     "metadata": {},
     "output_type": "display_data"
    }
   ],
   "source": [
    "plt.plot(history_2.history['loss'], label='train')\n",
    "plt.plot(history_2.history['val_loss'], label='test')\n",
    "plt.legend()\n",
    "plt.show()"
   ]
  },
  {
   "cell_type": "markdown",
   "metadata": {},
   "source": [
    "## Hyperparamters Optimization"
   ]
  },
  {
   "cell_type": "code",
   "execution_count": null,
   "metadata": {},
   "outputs": [],
   "source": []
  },
  {
   "cell_type": "markdown",
   "metadata": {},
   "source": [
    "## Evaluation"
   ]
  },
  {
   "cell_type": "markdown",
   "metadata": {},
   "source": [
    "### Model Evaluation (Performance)"
   ]
  },
  {
   "cell_type": "markdown",
   "metadata": {},
   "source": [
    "#### Training Phase"
   ]
  },
  {
   "cell_type": "code",
   "execution_count": null,
   "metadata": {},
   "outputs": [],
   "source": []
  },
  {
   "cell_type": "code",
   "execution_count": null,
   "metadata": {},
   "outputs": [],
   "source": []
  },
  {
   "cell_type": "code",
   "execution_count": null,
   "metadata": {},
   "outputs": [],
   "source": []
  },
  {
   "cell_type": "markdown",
   "metadata": {},
   "source": [
    "#### Testing Phase"
   ]
  },
  {
   "cell_type": "code",
   "execution_count": null,
   "metadata": {},
   "outputs": [],
   "source": []
  },
  {
   "cell_type": "code",
   "execution_count": null,
   "metadata": {},
   "outputs": [],
   "source": []
  },
  {
   "cell_type": "markdown",
   "metadata": {},
   "source": [
    "# Projekt Evaluation"
   ]
  },
  {
   "cell_type": "code",
   "execution_count": null,
   "metadata": {},
   "outputs": [],
   "source": []
  },
  {
   "cell_type": "code",
   "execution_count": null,
   "metadata": {},
   "outputs": [],
   "source": []
  },
  {
   "cell_type": "code",
   "execution_count": null,
   "metadata": {},
   "outputs": [],
   "source": []
  },
  {
   "cell_type": "markdown",
   "metadata": {},
   "source": [
    "# Deployment"
   ]
  },
  {
   "cell_type": "code",
   "execution_count": null,
   "metadata": {},
   "outputs": [],
   "source": []
  },
  {
   "cell_type": "markdown",
   "metadata": {},
   "source": [
    "In the first phase of CRISP the overall business-case, which shall be supported by the data mining process must be clearly defined and understood. Then the goal of the data mining project itself must be defined. This includes the specification of metrics for measuring the performance of the data mining project.\n",
    "\n",
    "In the second phase data must be gathered, accessed, understood and described. Quantitiy and qualitity of the data must be assessed on a high-level.\n",
    "\n",
    "In the third phase data must be investigated and understood more thoroughly. Common means for understanding data are e.g. visualization and the calculation of simple statistics. Outliers must be detected and processed, sampling rates must be determined, features must be selected and eventually be transformed to other formats.\n",
    "\n",
    "In the modelling phase various algorithms and their hyperparameters are selected and applied. Their performance on the given data is determined in the evaluation phase.\n",
    "\n",
    "The output of the evaluation is usually fed back to the first phases (business- and data-understanding). Applying this feedback the techniques in the overall process are adapted and optimized. Usually only after several iterations of this process the evaluation yields good results and the project can be deployed."
   ]
  },
  {
   "cell_type": "code",
   "execution_count": null,
   "metadata": {},
   "outputs": [],
   "source": []
  }
 ],
 "metadata": {
  "kernelspec": {
   "display_name": "Python 3",
   "language": "python",
   "name": "python3"
  },
  "language_info": {
   "codemirror_mode": {
    "name": "ipython",
    "version": 3
   },
   "file_extension": ".py",
   "mimetype": "text/x-python",
   "name": "python",
   "nbconvert_exporter": "python",
   "pygments_lexer": "ipython3",
   "version": "3.7.7"
  },
  "nbTranslate": {
   "displayLangs": [
    "*"
   ],
   "hotkey": "alt-t",
   "langInMainMenu": true,
   "sourceLang": "en",
   "targetLang": "fr",
   "useGoogleTranslate": true
  },
  "toc": {
   "base_numbering": 1,
   "nav_menu": {},
   "number_sections": true,
   "sideBar": true,
   "skip_h1_title": false,
   "title_cell": "Table of Contents",
   "title_sidebar": "Contents",
   "toc_cell": false,
   "toc_position": {
    "height": "calc(100% - 180px)",
    "left": "10px",
    "top": "150px",
    "width": "506px"
   },
   "toc_section_display": true,
   "toc_window_display": true
  },
  "varInspector": {
   "cols": {
    "lenName": 16,
    "lenType": 16,
    "lenVar": 40
   },
   "kernels_config": {
    "python": {
     "delete_cmd_postfix": "",
     "delete_cmd_prefix": "del ",
     "library": "var_list.py",
     "varRefreshCmd": "print(var_dic_list())"
    },
    "r": {
     "delete_cmd_postfix": ") ",
     "delete_cmd_prefix": "rm(",
     "library": "var_list.r",
     "varRefreshCmd": "cat(var_dic_list()) "
    }
   },
   "position": {
    "height": "887.797px",
    "left": "1868px",
    "right": "20px",
    "top": "121px",
    "width": "661px"
   },
   "types_to_exclude": [
    "module",
    "function",
    "builtin_function_or_method",
    "instance",
    "_Feature"
   ],
   "window_display": true
  }
 },
 "nbformat": 4,
 "nbformat_minor": 4
}
