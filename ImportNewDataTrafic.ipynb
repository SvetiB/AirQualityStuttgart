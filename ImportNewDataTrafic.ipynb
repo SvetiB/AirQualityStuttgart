{
 "cells": [
  {
   "cell_type": "code",
   "execution_count": 37,
   "metadata": {},
   "outputs": [],
   "source": [
    "import pandas as pd\n",
    "from datetime import datetime "
   ]
  },
  {
   "cell_type": "code",
   "execution_count": 125,
   "metadata": {},
   "outputs": [],
   "source": [
    "def trafficImport(path, listYear):\n",
    "    \n",
    "    for i in listYear:\n",
    "        \n",
    "        path_full = path + str(i) + \".csv\"    \n",
    "    \n",
    "        if i == 2003:\n",
    "            df_traffic = pd.read_csv(path_full,\n",
    "                         header=0,\n",
    "                         sep=\";\",\n",
    "                         parse_dates=['Datum'],\n",
    "                         date_parser=mydateparser,\n",
    "                         index_col=['Datum'])   \n",
    "        \n",
    "        else:\n",
    "            df_traffic_temp = pd.read_csv(path_full,\n",
    "                         header=0,\n",
    "                         sep=\";\",\n",
    "                         parse_dates=['Datum'],\n",
    "                         date_parser=mydateparser,\n",
    "                         index_col=['Datum'])\n",
    "            df_traffic = df_traffic.append(df_traffic_temp, sort=False)\n",
    "            \n",
    "    df_traffic = df_traffic[[\"KFZ_R1\", \"KFZ_R2\"]]\n",
    "    df_traffic = df_traffic.resample('d').sum()\n",
    "    df_traffic.loc[:,'KFZ_ges'] = df_traffic.loc[:,'KFZ_R1'].add(df_traffic.loc[:,'KFZ_R2'])\n",
    "    df_traffic = df_traffic[[\"KFZ_ges\"]] \n",
    "    return df_traffic"
   ]
  },
  {
   "cell_type": "code",
   "execution_count": 126,
   "metadata": {},
   "outputs": [],
   "source": [
    "path = \"Data/zst8440_\"\n",
    "listYear = list(range(2003, 2019, 1))\n",
    "\n",
    "df_traffic = trafficImport(path, listYear)"
   ]
  },
  {
   "cell_type": "code",
   "execution_count": 128,
   "metadata": {},
   "outputs": [],
   "source": [
    "#df_traffic.tail(20)"
   ]
  }
 ],
 "metadata": {
  "kernelspec": {
   "display_name": "Python 3",
   "language": "python",
   "name": "python3"
  },
  "language_info": {
   "codemirror_mode": {
    "name": "ipython",
    "version": 3
   },
   "file_extension": ".py",
   "mimetype": "text/x-python",
   "name": "python",
   "nbconvert_exporter": "python",
   "pygments_lexer": "ipython3",
   "version": "3.7.7"
  },
  "nbTranslate": {
   "displayLangs": [
    "*"
   ],
   "hotkey": "alt-t",
   "langInMainMenu": true,
   "sourceLang": "en",
   "targetLang": "fr",
   "useGoogleTranslate": true
  },
  "toc": {
   "base_numbering": 1,
   "nav_menu": {},
   "number_sections": true,
   "sideBar": true,
   "skip_h1_title": false,
   "title_cell": "Table of Contents",
   "title_sidebar": "Contents",
   "toc_cell": false,
   "toc_position": {},
   "toc_section_display": true,
   "toc_window_display": false
  },
  "varInspector": {
   "cols": {
    "lenName": 16,
    "lenType": 16,
    "lenVar": 40
   },
   "kernels_config": {
    "python": {
     "delete_cmd_postfix": "",
     "delete_cmd_prefix": "del ",
     "library": "var_list.py",
     "varRefreshCmd": "print(var_dic_list())"
    },
    "r": {
     "delete_cmd_postfix": ") ",
     "delete_cmd_prefix": "rm(",
     "library": "var_list.r",
     "varRefreshCmd": "cat(var_dic_list()) "
    }
   },
   "types_to_exclude": [
    "module",
    "function",
    "builtin_function_or_method",
    "instance",
    "_Feature"
   ],
   "window_display": false
  }
 },
 "nbformat": 4,
 "nbformat_minor": 2
}
