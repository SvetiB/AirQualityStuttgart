{
 "cells": [
  {
   "cell_type": "code",
   "execution_count": 29,
   "metadata": {},
   "outputs": [],
   "source": [
    "#!pip install pandas_profiling"
   ]
  },
  {
   "cell_type": "markdown",
   "metadata": {},
   "source": [
    "# Libraries and Global Settings"
   ]
  },
  {
   "cell_type": "code",
   "execution_count": 30,
   "metadata": {},
   "outputs": [],
   "source": [
    "import pandas as pd  # work with Pandas dataframes\n",
    "from matplotlib import pyplot as plt\n",
    "import seaborn as sb\n",
    "from scipy import stats\n",
    "\n",
    "from sklearn import preprocessing\n",
    "\n",
    "from keras import layers\n",
    "from keras.models import Sequential\n",
    "from keras.layers.core import Dense, Activation, Dropout\n",
    "from keras.optimizers import RMSprop\n",
    "\n",
    "import warnings # Funktionalität zur Unterdrückung von Warnungen\n",
    "warnings.filterwarnings('ignore')"
   ]
  },
  {
   "cell_type": "code",
   "execution_count": 31,
   "metadata": {},
   "outputs": [
    {
     "data": {
      "text/html": [
       "<style>\n",
       "table {float:left}\n",
       "</style>\n"
      ],
      "text/plain": [
       "<IPython.core.display.HTML object>"
      ]
     },
     "metadata": {},
     "output_type": "display_data"
    }
   ],
   "source": [
    "%%html\n",
    "<style>\n",
    "table {float:left}\n",
    "</style>"
   ]
  },
  {
   "cell_type": "markdown",
   "metadata": {},
   "source": [
    "# Importing Data"
   ]
  },
  {
   "cell_type": "markdown",
   "metadata": {},
   "source": [
    "Fist of all we import the data which were generated in the whole preprocess (`df_for_ML`)."
   ]
  },
  {
   "cell_type": "code",
   "execution_count": 32,
   "metadata": {},
   "outputs": [],
   "source": [
    "dateparse = lambda x: pd.datetime.strptime(x, '%Y-%m-%d')"
   ]
  },
  {
   "cell_type": "code",
   "execution_count": 33,
   "metadata": {
    "scrolled": false
   },
   "outputs": [],
   "source": [
    "df_for_ML = pd.read_csv('df_for_ML.csv', parse_dates=['Datum'], date_parser=dateparse)"
   ]
  },
  {
   "cell_type": "code",
   "execution_count": 34,
   "metadata": {},
   "outputs": [
    {
     "data": {
      "text/plain": [
       "Timestamp('2000-01-01 00:00:00')"
      ]
     },
     "execution_count": 34,
     "metadata": {},
     "output_type": "execute_result"
    }
   ],
   "source": [
    "df_for_ML.Datum[0]"
   ]
  },
  {
   "cell_type": "code",
   "execution_count": 35,
   "metadata": {},
   "outputs": [
    {
     "name": "stdout",
     "output_type": "stream",
     "text": [
      "<class 'pandas.core.frame.DataFrame'>\n",
      "RangeIndex: 7458 entries, 0 to 7457\n",
      "Data columns (total 11 columns):\n",
      " #   Column        Non-Null Count  Dtype         \n",
      "---  ------        --------------  -----         \n",
      " 0   Datum         7458 non-null   datetime64[ns]\n",
      " 1   Temp          7458 non-null   float64       \n",
      " 2   WG            7458 non-null   float64       \n",
      " 3   WR            7458 non-null   float64       \n",
      " 4   Druck         7458 non-null   float64       \n",
      " 5   NO            7458 non-null   float64       \n",
      " 6   NO2           7458 non-null   float64       \n",
      " 7   SO2           7458 non-null   float64       \n",
      " 8   CO            7458 non-null   float64       \n",
      " 9   Niederschlag  7458 non-null   float64       \n",
      " 10  PM10          7458 non-null   float64       \n",
      "dtypes: datetime64[ns](1), float64(10)\n",
      "memory usage: 641.0 KB\n"
     ]
    }
   ],
   "source": [
    "df_for_ML.info()"
   ]
  },
  {
   "cell_type": "code",
   "execution_count": 36,
   "metadata": {},
   "outputs": [
    {
     "data": {
      "text/html": [
       "<div>\n",
       "<style scoped>\n",
       "    .dataframe tbody tr th:only-of-type {\n",
       "        vertical-align: middle;\n",
       "    }\n",
       "\n",
       "    .dataframe tbody tr th {\n",
       "        vertical-align: top;\n",
       "    }\n",
       "\n",
       "    .dataframe thead th {\n",
       "        text-align: right;\n",
       "    }\n",
       "</style>\n",
       "<table border=\"1\" class=\"dataframe\">\n",
       "  <thead>\n",
       "    <tr style=\"text-align: right;\">\n",
       "      <th></th>\n",
       "      <th>Datum</th>\n",
       "      <th>Temp</th>\n",
       "      <th>WG</th>\n",
       "      <th>WR</th>\n",
       "      <th>Druck</th>\n",
       "      <th>NO</th>\n",
       "      <th>NO2</th>\n",
       "      <th>SO2</th>\n",
       "      <th>CO</th>\n",
       "      <th>Niederschlag</th>\n",
       "      <th>PM10</th>\n",
       "    </tr>\n",
       "  </thead>\n",
       "  <tbody>\n",
       "    <tr>\n",
       "      <th>0</th>\n",
       "      <td>2000-01-01</td>\n",
       "      <td>3.718</td>\n",
       "      <td>1.959896</td>\n",
       "      <td>234.922917</td>\n",
       "      <td>991.80</td>\n",
       "      <td>17.6266</td>\n",
       "      <td>24.236</td>\n",
       "      <td>10.38000</td>\n",
       "      <td>0.910900</td>\n",
       "      <td>3.5892</td>\n",
       "      <td>11.3772</td>\n",
       "    </tr>\n",
       "    <tr>\n",
       "      <th>1</th>\n",
       "      <td>2000-01-02</td>\n",
       "      <td>3.848</td>\n",
       "      <td>2.172912</td>\n",
       "      <td>222.511250</td>\n",
       "      <td>996.90</td>\n",
       "      <td>14.2886</td>\n",
       "      <td>28.698</td>\n",
       "      <td>10.74000</td>\n",
       "      <td>0.887000</td>\n",
       "      <td>3.5212</td>\n",
       "      <td>12.3972</td>\n",
       "    </tr>\n",
       "    <tr>\n",
       "      <th>2</th>\n",
       "      <td>2000-01-03</td>\n",
       "      <td>1.463</td>\n",
       "      <td>2.295208</td>\n",
       "      <td>220.181250</td>\n",
       "      <td>996.20</td>\n",
       "      <td>19.0638</td>\n",
       "      <td>35.336</td>\n",
       "      <td>10.29000</td>\n",
       "      <td>0.839400</td>\n",
       "      <td>0.8398</td>\n",
       "      <td>19.9480</td>\n",
       "    </tr>\n",
       "    <tr>\n",
       "      <th>3</th>\n",
       "      <td>2000-01-04</td>\n",
       "      <td>4.934</td>\n",
       "      <td>3.574979</td>\n",
       "      <td>220.885417</td>\n",
       "      <td>989.90</td>\n",
       "      <td>8.2660</td>\n",
       "      <td>24.210</td>\n",
       "      <td>13.42000</td>\n",
       "      <td>0.782200</td>\n",
       "      <td>1.4894</td>\n",
       "      <td>11.4780</td>\n",
       "    </tr>\n",
       "    <tr>\n",
       "      <th>4</th>\n",
       "      <td>2000-01-05</td>\n",
       "      <td>6.917</td>\n",
       "      <td>2.237208</td>\n",
       "      <td>220.554167</td>\n",
       "      <td>989.70</td>\n",
       "      <td>11.3496</td>\n",
       "      <td>26.208</td>\n",
       "      <td>14.27000</td>\n",
       "      <td>1.189000</td>\n",
       "      <td>4.3200</td>\n",
       "      <td>12.9260</td>\n",
       "    </tr>\n",
       "    <tr>\n",
       "      <th>...</th>\n",
       "      <td>...</td>\n",
       "      <td>...</td>\n",
       "      <td>...</td>\n",
       "      <td>...</td>\n",
       "      <td>...</td>\n",
       "      <td>...</td>\n",
       "      <td>...</td>\n",
       "      <td>...</td>\n",
       "      <td>...</td>\n",
       "      <td>...</td>\n",
       "      <td>...</td>\n",
       "    </tr>\n",
       "    <tr>\n",
       "      <th>7453</th>\n",
       "      <td>2020-05-27</td>\n",
       "      <td>17.300</td>\n",
       "      <td>1.700000</td>\n",
       "      <td>212.000000</td>\n",
       "      <td>1000.09</td>\n",
       "      <td>6.1000</td>\n",
       "      <td>21.700</td>\n",
       "      <td>11.71520</td>\n",
       "      <td>0.136966</td>\n",
       "      <td>0.0000</td>\n",
       "      <td>12.1060</td>\n",
       "    </tr>\n",
       "    <tr>\n",
       "      <th>7454</th>\n",
       "      <td>2020-05-28</td>\n",
       "      <td>17.300</td>\n",
       "      <td>2.400000</td>\n",
       "      <td>28.000000</td>\n",
       "      <td>996.45</td>\n",
       "      <td>4.2000</td>\n",
       "      <td>23.500</td>\n",
       "      <td>2.13052</td>\n",
       "      <td>0.119944</td>\n",
       "      <td>0.0000</td>\n",
       "      <td>13.9400</td>\n",
       "    </tr>\n",
       "    <tr>\n",
       "      <th>7455</th>\n",
       "      <td>2020-05-29</td>\n",
       "      <td>16.200</td>\n",
       "      <td>2.200000</td>\n",
       "      <td>129.000000</td>\n",
       "      <td>993.43</td>\n",
       "      <td>2.8000</td>\n",
       "      <td>18.700</td>\n",
       "      <td>8.79640</td>\n",
       "      <td>0.173780</td>\n",
       "      <td>0.0000</td>\n",
       "      <td>21.6300</td>\n",
       "    </tr>\n",
       "    <tr>\n",
       "      <th>7456</th>\n",
       "      <td>2020-05-30</td>\n",
       "      <td>15.900</td>\n",
       "      <td>2.400000</td>\n",
       "      <td>27.000000</td>\n",
       "      <td>989.46</td>\n",
       "      <td>2.4000</td>\n",
       "      <td>18.400</td>\n",
       "      <td>2.93716</td>\n",
       "      <td>0.130298</td>\n",
       "      <td>0.0000</td>\n",
       "      <td>13.1080</td>\n",
       "    </tr>\n",
       "    <tr>\n",
       "      <th>7457</th>\n",
       "      <td>2020-05-31</td>\n",
       "      <td>16.700</td>\n",
       "      <td>2.000000</td>\n",
       "      <td>61.000000</td>\n",
       "      <td>988.27</td>\n",
       "      <td>1.6000</td>\n",
       "      <td>13.000</td>\n",
       "      <td>3.89840</td>\n",
       "      <td>0.130196</td>\n",
       "      <td>0.0000</td>\n",
       "      <td>11.5820</td>\n",
       "    </tr>\n",
       "  </tbody>\n",
       "</table>\n",
       "<p>7458 rows × 11 columns</p>\n",
       "</div>"
      ],
      "text/plain": [
       "          Datum    Temp        WG          WR    Druck       NO     NO2  \\\n",
       "0    2000-01-01   3.718  1.959896  234.922917   991.80  17.6266  24.236   \n",
       "1    2000-01-02   3.848  2.172912  222.511250   996.90  14.2886  28.698   \n",
       "2    2000-01-03   1.463  2.295208  220.181250   996.20  19.0638  35.336   \n",
       "3    2000-01-04   4.934  3.574979  220.885417   989.90   8.2660  24.210   \n",
       "4    2000-01-05   6.917  2.237208  220.554167   989.70  11.3496  26.208   \n",
       "...         ...     ...       ...         ...      ...      ...     ...   \n",
       "7453 2020-05-27  17.300  1.700000  212.000000  1000.09   6.1000  21.700   \n",
       "7454 2020-05-28  17.300  2.400000   28.000000   996.45   4.2000  23.500   \n",
       "7455 2020-05-29  16.200  2.200000  129.000000   993.43   2.8000  18.700   \n",
       "7456 2020-05-30  15.900  2.400000   27.000000   989.46   2.4000  18.400   \n",
       "7457 2020-05-31  16.700  2.000000   61.000000   988.27   1.6000  13.000   \n",
       "\n",
       "           SO2        CO  Niederschlag     PM10  \n",
       "0     10.38000  0.910900        3.5892  11.3772  \n",
       "1     10.74000  0.887000        3.5212  12.3972  \n",
       "2     10.29000  0.839400        0.8398  19.9480  \n",
       "3     13.42000  0.782200        1.4894  11.4780  \n",
       "4     14.27000  1.189000        4.3200  12.9260  \n",
       "...        ...       ...           ...      ...  \n",
       "7453  11.71520  0.136966        0.0000  12.1060  \n",
       "7454   2.13052  0.119944        0.0000  13.9400  \n",
       "7455   8.79640  0.173780        0.0000  21.6300  \n",
       "7456   2.93716  0.130298        0.0000  13.1080  \n",
       "7457   3.89840  0.130196        0.0000  11.5820  \n",
       "\n",
       "[7458 rows x 11 columns]"
      ]
     },
     "execution_count": 36,
     "metadata": {},
     "output_type": "execute_result"
    }
   ],
   "source": [
    "df_for_ML=df_for_ML.sort_values(by=['Datum'], axis=0, ascending=True, ignore_index=True)\n",
    "df_for_ML"
   ]
  },
  {
   "cell_type": "code",
   "execution_count": 37,
   "metadata": {},
   "outputs": [
    {
     "data": {
      "text/plain": [
       "pandas._libs.tslibs.timestamps.Timestamp"
      ]
     },
     "execution_count": 37,
     "metadata": {},
     "output_type": "execute_result"
    }
   ],
   "source": [
    "type(df_for_ML.Datum[0])"
   ]
  },
  {
   "cell_type": "code",
   "execution_count": 38,
   "metadata": {},
   "outputs": [
    {
     "data": {
      "text/html": [
       "<div>\n",
       "<style scoped>\n",
       "    .dataframe tbody tr th:only-of-type {\n",
       "        vertical-align: middle;\n",
       "    }\n",
       "\n",
       "    .dataframe tbody tr th {\n",
       "        vertical-align: top;\n",
       "    }\n",
       "\n",
       "    .dataframe thead th {\n",
       "        text-align: right;\n",
       "    }\n",
       "</style>\n",
       "<table border=\"1\" class=\"dataframe\">\n",
       "  <thead>\n",
       "    <tr style=\"text-align: right;\">\n",
       "      <th></th>\n",
       "      <th>Temp</th>\n",
       "      <th>WG</th>\n",
       "      <th>WR</th>\n",
       "      <th>Druck</th>\n",
       "      <th>NO</th>\n",
       "      <th>NO2</th>\n",
       "      <th>SO2</th>\n",
       "      <th>CO</th>\n",
       "      <th>Niederschlag</th>\n",
       "      <th>PM10</th>\n",
       "    </tr>\n",
       "  </thead>\n",
       "  <tbody>\n",
       "    <tr>\n",
       "      <th>count</th>\n",
       "      <td>7458.000000</td>\n",
       "      <td>7458.000000</td>\n",
       "      <td>7458.000000</td>\n",
       "      <td>7458.000000</td>\n",
       "      <td>7458.000000</td>\n",
       "      <td>7458.000000</td>\n",
       "      <td>7458.000000</td>\n",
       "      <td>7458.000000</td>\n",
       "      <td>7458.000000</td>\n",
       "      <td>7458.000000</td>\n",
       "    </tr>\n",
       "    <tr>\n",
       "      <th>mean</th>\n",
       "      <td>12.037186</td>\n",
       "      <td>1.981211</td>\n",
       "      <td>194.085750</td>\n",
       "      <td>984.837622</td>\n",
       "      <td>20.628170</td>\n",
       "      <td>33.558937</td>\n",
       "      <td>6.631525</td>\n",
       "      <td>0.455946</td>\n",
       "      <td>1.429776</td>\n",
       "      <td>19.585107</td>\n",
       "    </tr>\n",
       "    <tr>\n",
       "      <th>std</th>\n",
       "      <td>7.414490</td>\n",
       "      <td>0.727090</td>\n",
       "      <td>61.500193</td>\n",
       "      <td>7.725808</td>\n",
       "      <td>26.766503</td>\n",
       "      <td>16.107154</td>\n",
       "      <td>4.776749</td>\n",
       "      <td>0.296478</td>\n",
       "      <td>3.356878</td>\n",
       "      <td>11.001963</td>\n",
       "    </tr>\n",
       "    <tr>\n",
       "      <th>min</th>\n",
       "      <td>-11.430000</td>\n",
       "      <td>0.600000</td>\n",
       "      <td>2.300000</td>\n",
       "      <td>947.400000</td>\n",
       "      <td>0.047220</td>\n",
       "      <td>0.000000</td>\n",
       "      <td>0.000000</td>\n",
       "      <td>0.023830</td>\n",
       "      <td>0.000000</td>\n",
       "      <td>0.000000</td>\n",
       "    </tr>\n",
       "    <tr>\n",
       "      <th>25%</th>\n",
       "      <td>6.259250</td>\n",
       "      <td>1.500000</td>\n",
       "      <td>153.713579</td>\n",
       "      <td>980.585000</td>\n",
       "      <td>5.287000</td>\n",
       "      <td>22.260000</td>\n",
       "      <td>3.138250</td>\n",
       "      <td>0.226937</td>\n",
       "      <td>0.000000</td>\n",
       "      <td>12.481200</td>\n",
       "    </tr>\n",
       "    <tr>\n",
       "      <th>50%</th>\n",
       "      <td>12.205000</td>\n",
       "      <td>1.800000</td>\n",
       "      <td>211.071147</td>\n",
       "      <td>985.400000</td>\n",
       "      <td>11.165000</td>\n",
       "      <td>31.175000</td>\n",
       "      <td>5.959850</td>\n",
       "      <td>0.393567</td>\n",
       "      <td>0.060000</td>\n",
       "      <td>17.310000</td>\n",
       "    </tr>\n",
       "    <tr>\n",
       "      <th>75%</th>\n",
       "      <td>17.730000</td>\n",
       "      <td>2.300000</td>\n",
       "      <td>234.489428</td>\n",
       "      <td>989.800000</td>\n",
       "      <td>24.995000</td>\n",
       "      <td>42.510000</td>\n",
       "      <td>9.152800</td>\n",
       "      <td>0.625345</td>\n",
       "      <td>1.270000</td>\n",
       "      <td>24.133000</td>\n",
       "    </tr>\n",
       "    <tr>\n",
       "      <th>max</th>\n",
       "      <td>31.460000</td>\n",
       "      <td>7.155542</td>\n",
       "      <td>359.700000</td>\n",
       "      <td>1011.300000</td>\n",
       "      <td>345.900000</td>\n",
       "      <td>138.800000</td>\n",
       "      <td>44.690000</td>\n",
       "      <td>2.984000</td>\n",
       "      <td>51.100000</td>\n",
       "      <td>211.700000</td>\n",
       "    </tr>\n",
       "  </tbody>\n",
       "</table>\n",
       "</div>"
      ],
      "text/plain": [
       "              Temp           WG           WR        Druck           NO  \\\n",
       "count  7458.000000  7458.000000  7458.000000  7458.000000  7458.000000   \n",
       "mean     12.037186     1.981211   194.085750   984.837622    20.628170   \n",
       "std       7.414490     0.727090    61.500193     7.725808    26.766503   \n",
       "min     -11.430000     0.600000     2.300000   947.400000     0.047220   \n",
       "25%       6.259250     1.500000   153.713579   980.585000     5.287000   \n",
       "50%      12.205000     1.800000   211.071147   985.400000    11.165000   \n",
       "75%      17.730000     2.300000   234.489428   989.800000    24.995000   \n",
       "max      31.460000     7.155542   359.700000  1011.300000   345.900000   \n",
       "\n",
       "               NO2          SO2           CO  Niederschlag         PM10  \n",
       "count  7458.000000  7458.000000  7458.000000   7458.000000  7458.000000  \n",
       "mean     33.558937     6.631525     0.455946      1.429776    19.585107  \n",
       "std      16.107154     4.776749     0.296478      3.356878    11.001963  \n",
       "min       0.000000     0.000000     0.023830      0.000000     0.000000  \n",
       "25%      22.260000     3.138250     0.226937      0.000000    12.481200  \n",
       "50%      31.175000     5.959850     0.393567      0.060000    17.310000  \n",
       "75%      42.510000     9.152800     0.625345      1.270000    24.133000  \n",
       "max     138.800000    44.690000     2.984000     51.100000   211.700000  "
      ]
     },
     "execution_count": 38,
     "metadata": {},
     "output_type": "execute_result"
    }
   ],
   "source": [
    "df_for_ML.describe()"
   ]
  },
  {
   "cell_type": "markdown",
   "metadata": {},
   "source": [
    "# Modeling"
   ]
  },
  {
   "cell_type": "markdown",
   "metadata": {},
   "source": [
    "## Data Preparation"
   ]
  },
  {
   "cell_type": "markdown",
   "metadata": {},
   "source": [
    "Definition of Sampling Rates"
   ]
  },
  {
   "cell_type": "code",
   "execution_count": 39,
   "metadata": {},
   "outputs": [
    {
     "data": {
      "image/png": "[encoded data removed]",
      "text/plain": [
       "<Figure size 1008x504 with 1 Axes>"
      ]
     },
     "metadata": {},
     "output_type": "display_data"
    }
   ],
   "source": [
    "plt.figure(figsize=(14,7))\n",
    "sb.set_style(\"darkgrid\")\n",
    "sb.boxplot(data=df_for_ML.drop(columns=[\"Datum\",\"Druck\"]))\n",
    "#plt.title(\"Distribution of normalized temperature, humidity and windspeed\")\n",
    "plt.ylabel(\"Original values\")\n",
    "plt.show()"
   ]
  },
  {
   "cell_type": "markdown",
   "metadata": {},
   "source": [
    "### Data Scaling and Normalization"
   ]
  },
  {
   "cell_type": "markdown",
   "metadata": {},
   "source": [
    "#### Data Preparation"
   ]
  },
  {
   "cell_type": "code",
   "execution_count": 40,
   "metadata": {},
   "outputs": [
    {
     "data": {
      "text/plain": [
       "pandas._libs.tslibs.timestamps.Timestamp"
      ]
     },
     "execution_count": 40,
     "metadata": {},
     "output_type": "execute_result"
    }
   ],
   "source": [
    "type(df_for_ML.Datum[0])"
   ]
  },
  {
   "cell_type": "markdown",
   "metadata": {},
   "source": [
    "#### Data Normalization"
   ]
  },
  {
   "cell_type": "code",
   "execution_count": 41,
   "metadata": {},
   "outputs": [],
   "source": [
    "df_for_ML_woDate = df_for_ML.drop('Datum', axis=1)\n",
    "x = df_for_ML_woDate.values #returns a numpy array\n",
    "min_max_scaler = preprocessing.MinMaxScaler()\n",
    "x_scaled = min_max_scaler.fit_transform(x)\n",
    "df_for_ML_norm = pd.DataFrame(x_scaled)"
   ]
  },
  {
   "cell_type": "code",
   "execution_count": 42,
   "metadata": {},
   "outputs": [
    {
     "data": {
      "text/html": [
       "<div>\n",
       "<style scoped>\n",
       "    .dataframe tbody tr th:only-of-type {\n",
       "        vertical-align: middle;\n",
       "    }\n",
       "\n",
       "    .dataframe tbody tr th {\n",
       "        vertical-align: top;\n",
       "    }\n",
       "\n",
       "    .dataframe thead th {\n",
       "        text-align: right;\n",
       "    }\n",
       "</style>\n",
       "<table border=\"1\" class=\"dataframe\">\n",
       "  <thead>\n",
       "    <tr style=\"text-align: right;\">\n",
       "      <th></th>\n",
       "      <th>0</th>\n",
       "      <th>1</th>\n",
       "      <th>2</th>\n",
       "      <th>3</th>\n",
       "      <th>4</th>\n",
       "      <th>5</th>\n",
       "      <th>6</th>\n",
       "      <th>7</th>\n",
       "      <th>8</th>\n",
       "      <th>9</th>\n",
       "    </tr>\n",
       "  </thead>\n",
       "  <tbody>\n",
       "    <tr>\n",
       "      <th>0</th>\n",
       "      <td>0.353183</td>\n",
       "      <td>0.207442</td>\n",
       "      <td>0.650876</td>\n",
       "      <td>0.694836</td>\n",
       "      <td>0.050829</td>\n",
       "      <td>0.174611</td>\n",
       "      <td>0.232267</td>\n",
       "      <td>0.299669</td>\n",
       "      <td>0.070239</td>\n",
       "      <td>0.053742</td>\n",
       "    </tr>\n",
       "    <tr>\n",
       "      <th>1</th>\n",
       "      <td>0.356214</td>\n",
       "      <td>0.239936</td>\n",
       "      <td>0.616148</td>\n",
       "      <td>0.774648</td>\n",
       "      <td>0.041178</td>\n",
       "      <td>0.206758</td>\n",
       "      <td>0.240322</td>\n",
       "      <td>0.291595</td>\n",
       "      <td>0.068908</td>\n",
       "      <td>0.058560</td>\n",
       "    </tr>\n",
       "    <tr>\n",
       "      <th>2</th>\n",
       "      <td>0.300606</td>\n",
       "      <td>0.258592</td>\n",
       "      <td>0.609629</td>\n",
       "      <td>0.763693</td>\n",
       "      <td>0.054985</td>\n",
       "      <td>0.254582</td>\n",
       "      <td>0.230253</td>\n",
       "      <td>0.275515</td>\n",
       "      <td>0.016434</td>\n",
       "      <td>0.094228</td>\n",
       "    </tr>\n",
       "    <tr>\n",
       "      <th>3</th>\n",
       "      <td>0.381534</td>\n",
       "      <td>0.453811</td>\n",
       "      <td>0.611599</td>\n",
       "      <td>0.665102</td>\n",
       "      <td>0.023764</td>\n",
       "      <td>0.174424</td>\n",
       "      <td>0.300291</td>\n",
       "      <td>0.256191</td>\n",
       "      <td>0.029147</td>\n",
       "      <td>0.054218</td>\n",
       "    </tr>\n",
       "    <tr>\n",
       "      <th>4</th>\n",
       "      <td>0.427769</td>\n",
       "      <td>0.249744</td>\n",
       "      <td>0.610672</td>\n",
       "      <td>0.661972</td>\n",
       "      <td>0.032680</td>\n",
       "      <td>0.188818</td>\n",
       "      <td>0.319311</td>\n",
       "      <td>0.393616</td>\n",
       "      <td>0.084540</td>\n",
       "      <td>0.061058</td>\n",
       "    </tr>\n",
       "  </tbody>\n",
       "</table>\n",
       "</div>"
      ],
      "text/plain": [
       "          0         1         2         3         4         5         6  \\\n",
       "0  0.353183  0.207442  0.650876  0.694836  0.050829  0.174611  0.232267   \n",
       "1  0.356214  0.239936  0.616148  0.774648  0.041178  0.206758  0.240322   \n",
       "2  0.300606  0.258592  0.609629  0.763693  0.054985  0.254582  0.230253   \n",
       "3  0.381534  0.453811  0.611599  0.665102  0.023764  0.174424  0.300291   \n",
       "4  0.427769  0.249744  0.610672  0.661972  0.032680  0.188818  0.319311   \n",
       "\n",
       "          7         8         9  \n",
       "0  0.299669  0.070239  0.053742  \n",
       "1  0.291595  0.068908  0.058560  \n",
       "2  0.275515  0.016434  0.094228  \n",
       "3  0.256191  0.029147  0.054218  \n",
       "4  0.393616  0.084540  0.061058  "
      ]
     },
     "execution_count": 42,
     "metadata": {},
     "output_type": "execute_result"
    }
   ],
   "source": [
    "df_for_ML_norm.head()"
   ]
  },
  {
   "cell_type": "code",
   "execution_count": 43,
   "metadata": {},
   "outputs": [
    {
     "data": {
      "text/plain": [
       "{0: 'Temp',\n",
       " 1: 'WG',\n",
       " 2: 'WR',\n",
       " 3: 'Druck',\n",
       " 4: 'NO',\n",
       " 5: 'NO2',\n",
       " 6: 'SO2',\n",
       " 7: 'CO',\n",
       " 8: 'Niederschlag',\n",
       " 9: 'PM10'}"
      ]
     },
     "execution_count": 43,
     "metadata": {},
     "output_type": "execute_result"
    }
   ],
   "source": [
    "i = 0\n",
    "dictColumn = {}\n",
    "for i in range(0,(len(df_for_ML_woDate.columns))):\n",
    "    dictColumn.update({list(df_for_ML_norm.columns)[i]:list(df_for_ML_woDate.columns)[i]})\n",
    "    i=i+1\n",
    "dictColumn"
   ]
  },
  {
   "cell_type": "code",
   "execution_count": 44,
   "metadata": {},
   "outputs": [],
   "source": [
    "df_for_ML_norm=df_for_ML_norm.rename(columns=dictColumn)\n"
   ]
  },
  {
   "cell_type": "code",
   "execution_count": 45,
   "metadata": {},
   "outputs": [],
   "source": [
    "df_for_ML_Date = df_for_ML[['Datum']]"
   ]
  },
  {
   "cell_type": "code",
   "execution_count": 46,
   "metadata": {},
   "outputs": [],
   "source": [
    "df_for_ML_norm = pd.concat([df_for_ML_Date, df_for_ML_norm], axis=1, sort=False)"
   ]
  },
  {
   "cell_type": "code",
   "execution_count": 47,
   "metadata": {},
   "outputs": [
    {
     "data": {
      "text/html": [
       "<div>\n",
       "<style scoped>\n",
       "    .dataframe tbody tr th:only-of-type {\n",
       "        vertical-align: middle;\n",
       "    }\n",
       "\n",
       "    .dataframe tbody tr th {\n",
       "        vertical-align: top;\n",
       "    }\n",
       "\n",
       "    .dataframe thead th {\n",
       "        text-align: right;\n",
       "    }\n",
       "</style>\n",
       "<table border=\"1\" class=\"dataframe\">\n",
       "  <thead>\n",
       "    <tr style=\"text-align: right;\">\n",
       "      <th></th>\n",
       "      <th>Datum</th>\n",
       "      <th>Temp</th>\n",
       "      <th>WG</th>\n",
       "      <th>WR</th>\n",
       "      <th>Druck</th>\n",
       "      <th>NO</th>\n",
       "      <th>NO2</th>\n",
       "      <th>SO2</th>\n",
       "      <th>CO</th>\n",
       "      <th>Niederschlag</th>\n",
       "      <th>PM10</th>\n",
       "    </tr>\n",
       "  </thead>\n",
       "  <tbody>\n",
       "    <tr>\n",
       "      <th>0</th>\n",
       "      <td>2000-01-01</td>\n",
       "      <td>0.353183</td>\n",
       "      <td>0.207442</td>\n",
       "      <td>0.650876</td>\n",
       "      <td>0.694836</td>\n",
       "      <td>0.050829</td>\n",
       "      <td>0.174611</td>\n",
       "      <td>0.232267</td>\n",
       "      <td>0.299669</td>\n",
       "      <td>0.070239</td>\n",
       "      <td>0.053742</td>\n",
       "    </tr>\n",
       "    <tr>\n",
       "      <th>1</th>\n",
       "      <td>2000-01-02</td>\n",
       "      <td>0.356214</td>\n",
       "      <td>0.239936</td>\n",
       "      <td>0.616148</td>\n",
       "      <td>0.774648</td>\n",
       "      <td>0.041178</td>\n",
       "      <td>0.206758</td>\n",
       "      <td>0.240322</td>\n",
       "      <td>0.291595</td>\n",
       "      <td>0.068908</td>\n",
       "      <td>0.058560</td>\n",
       "    </tr>\n",
       "    <tr>\n",
       "      <th>2</th>\n",
       "      <td>2000-01-03</td>\n",
       "      <td>0.300606</td>\n",
       "      <td>0.258592</td>\n",
       "      <td>0.609629</td>\n",
       "      <td>0.763693</td>\n",
       "      <td>0.054985</td>\n",
       "      <td>0.254582</td>\n",
       "      <td>0.230253</td>\n",
       "      <td>0.275515</td>\n",
       "      <td>0.016434</td>\n",
       "      <td>0.094228</td>\n",
       "    </tr>\n",
       "    <tr>\n",
       "      <th>3</th>\n",
       "      <td>2000-01-04</td>\n",
       "      <td>0.381534</td>\n",
       "      <td>0.453811</td>\n",
       "      <td>0.611599</td>\n",
       "      <td>0.665102</td>\n",
       "      <td>0.023764</td>\n",
       "      <td>0.174424</td>\n",
       "      <td>0.300291</td>\n",
       "      <td>0.256191</td>\n",
       "      <td>0.029147</td>\n",
       "      <td>0.054218</td>\n",
       "    </tr>\n",
       "    <tr>\n",
       "      <th>4</th>\n",
       "      <td>2000-01-05</td>\n",
       "      <td>0.427769</td>\n",
       "      <td>0.249744</td>\n",
       "      <td>0.610672</td>\n",
       "      <td>0.661972</td>\n",
       "      <td>0.032680</td>\n",
       "      <td>0.188818</td>\n",
       "      <td>0.319311</td>\n",
       "      <td>0.393616</td>\n",
       "      <td>0.084540</td>\n",
       "      <td>0.061058</td>\n",
       "    </tr>\n",
       "  </tbody>\n",
       "</table>\n",
       "</div>"
      ],
      "text/plain": [
       "       Datum      Temp        WG        WR     Druck        NO       NO2  \\\n",
       "0 2000-01-01  0.353183  0.207442  0.650876  0.694836  0.050829  0.174611   \n",
       "1 2000-01-02  0.356214  0.239936  0.616148  0.774648  0.041178  0.206758   \n",
       "2 2000-01-03  0.300606  0.258592  0.609629  0.763693  0.054985  0.254582   \n",
       "3 2000-01-04  0.381534  0.453811  0.611599  0.665102  0.023764  0.174424   \n",
       "4 2000-01-05  0.427769  0.249744  0.610672  0.661972  0.032680  0.188818   \n",
       "\n",
       "        SO2        CO  Niederschlag      PM10  \n",
       "0  0.232267  0.299669      0.070239  0.053742  \n",
       "1  0.240322  0.291595      0.068908  0.058560  \n",
       "2  0.230253  0.275515      0.016434  0.094228  \n",
       "3  0.300291  0.256191      0.029147  0.054218  \n",
       "4  0.319311  0.393616      0.084540  0.061058  "
      ]
     },
     "execution_count": 47,
     "metadata": {},
     "output_type": "execute_result"
    }
   ],
   "source": [
    "df_for_ML_norm.head()"
   ]
  },
  {
   "cell_type": "code",
   "execution_count": 48,
   "metadata": {},
   "outputs": [
    {
     "data": {
      "text/html": [
       "<div>\n",
       "<style scoped>\n",
       "    .dataframe tbody tr th:only-of-type {\n",
       "        vertical-align: middle;\n",
       "    }\n",
       "\n",
       "    .dataframe tbody tr th {\n",
       "        vertical-align: top;\n",
       "    }\n",
       "\n",
       "    .dataframe thead th {\n",
       "        text-align: right;\n",
       "    }\n",
       "</style>\n",
       "<table border=\"1\" class=\"dataframe\">\n",
       "  <thead>\n",
       "    <tr style=\"text-align: right;\">\n",
       "      <th></th>\n",
       "      <th>Temp</th>\n",
       "      <th>WG</th>\n",
       "      <th>WR</th>\n",
       "      <th>Druck</th>\n",
       "      <th>NO</th>\n",
       "      <th>NO2</th>\n",
       "      <th>SO2</th>\n",
       "      <th>CO</th>\n",
       "      <th>Niederschlag</th>\n",
       "      <th>PM10</th>\n",
       "    </tr>\n",
       "  </thead>\n",
       "  <tbody>\n",
       "    <tr>\n",
       "      <th>count</th>\n",
       "      <td>7458.000000</td>\n",
       "      <td>7458.000000</td>\n",
       "      <td>7458.000000</td>\n",
       "      <td>7458.000000</td>\n",
       "      <td>7458.000000</td>\n",
       "      <td>7458.000000</td>\n",
       "      <td>7458.000000</td>\n",
       "      <td>7458.000000</td>\n",
       "      <td>7458.000000</td>\n",
       "      <td>7458.000000</td>\n",
       "    </tr>\n",
       "    <tr>\n",
       "      <th>mean</th>\n",
       "      <td>0.547148</td>\n",
       "      <td>0.210694</td>\n",
       "      <td>0.536614</td>\n",
       "      <td>0.585878</td>\n",
       "      <td>0.059508</td>\n",
       "      <td>0.241779</td>\n",
       "      <td>0.148389</td>\n",
       "      <td>0.145977</td>\n",
       "      <td>0.027980</td>\n",
       "      <td>0.092513</td>\n",
       "    </tr>\n",
       "    <tr>\n",
       "      <th>std</th>\n",
       "      <td>0.172872</td>\n",
       "      <td>0.110912</td>\n",
       "      <td>0.172077</td>\n",
       "      <td>0.120905</td>\n",
       "      <td>0.077393</td>\n",
       "      <td>0.116046</td>\n",
       "      <td>0.106886</td>\n",
       "      <td>0.100156</td>\n",
       "      <td>0.065692</td>\n",
       "      <td>0.051970</td>\n",
       "    </tr>\n",
       "    <tr>\n",
       "      <th>min</th>\n",
       "      <td>0.000000</td>\n",
       "      <td>0.000000</td>\n",
       "      <td>0.000000</td>\n",
       "      <td>0.000000</td>\n",
       "      <td>0.000000</td>\n",
       "      <td>0.000000</td>\n",
       "      <td>0.000000</td>\n",
       "      <td>0.000000</td>\n",
       "      <td>0.000000</td>\n",
       "      <td>0.000000</td>\n",
       "    </tr>\n",
       "    <tr>\n",
       "      <th>25%</th>\n",
       "      <td>0.412433</td>\n",
       "      <td>0.137288</td>\n",
       "      <td>0.423653</td>\n",
       "      <td>0.519327</td>\n",
       "      <td>0.015150</td>\n",
       "      <td>0.160375</td>\n",
       "      <td>0.070223</td>\n",
       "      <td>0.068613</td>\n",
       "      <td>0.000000</td>\n",
       "      <td>0.058957</td>\n",
       "    </tr>\n",
       "    <tr>\n",
       "      <th>50%</th>\n",
       "      <td>0.551061</td>\n",
       "      <td>0.183051</td>\n",
       "      <td>0.584139</td>\n",
       "      <td>0.594679</td>\n",
       "      <td>0.032146</td>\n",
       "      <td>0.224604</td>\n",
       "      <td>0.133360</td>\n",
       "      <td>0.124904</td>\n",
       "      <td>0.001174</td>\n",
       "      <td>0.081767</td>\n",
       "    </tr>\n",
       "    <tr>\n",
       "      <th>75%</th>\n",
       "      <td>0.679879</td>\n",
       "      <td>0.259323</td>\n",
       "      <td>0.649663</td>\n",
       "      <td>0.663537</td>\n",
       "      <td>0.072134</td>\n",
       "      <td>0.306268</td>\n",
       "      <td>0.204806</td>\n",
       "      <td>0.203203</td>\n",
       "      <td>0.024853</td>\n",
       "      <td>0.113996</td>\n",
       "    </tr>\n",
       "    <tr>\n",
       "      <th>max</th>\n",
       "      <td>1.000000</td>\n",
       "      <td>1.000000</td>\n",
       "      <td>1.000000</td>\n",
       "      <td>1.000000</td>\n",
       "      <td>1.000000</td>\n",
       "      <td>1.000000</td>\n",
       "      <td>1.000000</td>\n",
       "      <td>1.000000</td>\n",
       "      <td>1.000000</td>\n",
       "      <td>1.000000</td>\n",
       "    </tr>\n",
       "  </tbody>\n",
       "</table>\n",
       "</div>"
      ],
      "text/plain": [
       "              Temp           WG           WR        Druck           NO  \\\n",
       "count  7458.000000  7458.000000  7458.000000  7458.000000  7458.000000   \n",
       "mean      0.547148     0.210694     0.536614     0.585878     0.059508   \n",
       "std       0.172872     0.110912     0.172077     0.120905     0.077393   \n",
       "min       0.000000     0.000000     0.000000     0.000000     0.000000   \n",
       "25%       0.412433     0.137288     0.423653     0.519327     0.015150   \n",
       "50%       0.551061     0.183051     0.584139     0.594679     0.032146   \n",
       "75%       0.679879     0.259323     0.649663     0.663537     0.072134   \n",
       "max       1.000000     1.000000     1.000000     1.000000     1.000000   \n",
       "\n",
       "               NO2          SO2           CO  Niederschlag         PM10  \n",
       "count  7458.000000  7458.000000  7458.000000   7458.000000  7458.000000  \n",
       "mean      0.241779     0.148389     0.145977      0.027980     0.092513  \n",
       "std       0.116046     0.106886     0.100156      0.065692     0.051970  \n",
       "min       0.000000     0.000000     0.000000      0.000000     0.000000  \n",
       "25%       0.160375     0.070223     0.068613      0.000000     0.058957  \n",
       "50%       0.224604     0.133360     0.124904      0.001174     0.081767  \n",
       "75%       0.306268     0.204806     0.203203      0.024853     0.113996  \n",
       "max       1.000000     1.000000     1.000000      1.000000     1.000000  "
      ]
     },
     "execution_count": 48,
     "metadata": {},
     "output_type": "execute_result"
    }
   ],
   "source": [
    "df_for_ML_norm.describe()"
   ]
  },
  {
   "cell_type": "code",
   "execution_count": 49,
   "metadata": {},
   "outputs": [
    {
     "data": {
      "image/png": "[encoded data removed]",
      "text/plain": [
       "<Figure size 1008x504 with 1 Axes>"
      ]
     },
     "metadata": {},
     "output_type": "display_data"
    }
   ],
   "source": [
    "plt.figure(figsize=(14,7))\n",
    "sb.set_style(\"darkgrid\")\n",
    "sb.boxplot(data=df_for_ML_norm.drop(columns=[\"Datum\"]))\n",
    "#plt.title(\"Distribution of normalized temperature, humidity and windspeed\")\n",
    "plt.ylabel(\"Normalized values\")\n",
    "plt.show()"
   ]
  },
  {
   "cell_type": "markdown",
   "metadata": {},
   "source": [
    "### Split Data"
   ]
  },
  {
   "cell_type": "markdown",
   "metadata": {},
   "source": [
    "#### Split Data into Training and Validation Samples"
   ]
  },
  {
   "cell_type": "code",
   "execution_count": 50,
   "metadata": {},
   "outputs": [],
   "source": [
    "df_train=df_for_ML_norm[df_for_ML_norm[\"Datum\"]<=\"2015-12-31\"]\n",
    "df_test=df_for_ML_norm[df_for_ML_norm[\"Datum\"]>\"2015-12-31\"]\n"
   ]
  },
  {
   "cell_type": "code",
   "execution_count": 51,
   "metadata": {},
   "outputs": [
    {
     "data": {
      "text/html": [
       "<div>\n",
       "<style scoped>\n",
       "    .dataframe tbody tr th:only-of-type {\n",
       "        vertical-align: middle;\n",
       "    }\n",
       "\n",
       "    .dataframe tbody tr th {\n",
       "        vertical-align: top;\n",
       "    }\n",
       "\n",
       "    .dataframe thead th {\n",
       "        text-align: right;\n",
       "    }\n",
       "</style>\n",
       "<table border=\"1\" class=\"dataframe\">\n",
       "  <thead>\n",
       "    <tr style=\"text-align: right;\">\n",
       "      <th></th>\n",
       "      <th>Datum</th>\n",
       "      <th>Temp</th>\n",
       "      <th>WG</th>\n",
       "      <th>WR</th>\n",
       "      <th>Druck</th>\n",
       "      <th>NO</th>\n",
       "      <th>NO2</th>\n",
       "      <th>SO2</th>\n",
       "      <th>CO</th>\n",
       "      <th>Niederschlag</th>\n",
       "      <th>PM10</th>\n",
       "    </tr>\n",
       "  </thead>\n",
       "  <tbody>\n",
       "    <tr>\n",
       "      <th>5840</th>\n",
       "      <td>2015-12-27</td>\n",
       "      <td>0.443693</td>\n",
       "      <td>0.076271</td>\n",
       "      <td>0.582820</td>\n",
       "      <td>0.732613</td>\n",
       "      <td>0.156867</td>\n",
       "      <td>0.267291</td>\n",
       "      <td>0.175775</td>\n",
       "      <td>0.159129</td>\n",
       "      <td>0.000000</td>\n",
       "      <td>0.074162</td>\n",
       "    </tr>\n",
       "    <tr>\n",
       "      <th>5841</th>\n",
       "      <td>2015-12-28</td>\n",
       "      <td>0.399394</td>\n",
       "      <td>0.106780</td>\n",
       "      <td>0.585618</td>\n",
       "      <td>0.703472</td>\n",
       "      <td>0.369963</td>\n",
       "      <td>0.336455</td>\n",
       "      <td>0.208655</td>\n",
       "      <td>0.346058</td>\n",
       "      <td>0.002544</td>\n",
       "      <td>0.089750</td>\n",
       "    </tr>\n",
       "    <tr>\n",
       "      <th>5842</th>\n",
       "      <td>2015-12-29</td>\n",
       "      <td>0.369084</td>\n",
       "      <td>0.106780</td>\n",
       "      <td>0.054841</td>\n",
       "      <td>0.691200</td>\n",
       "      <td>0.326592</td>\n",
       "      <td>0.340778</td>\n",
       "      <td>0.289116</td>\n",
       "      <td>0.253192</td>\n",
       "      <td>0.002544</td>\n",
       "      <td>0.093529</td>\n",
       "    </tr>\n",
       "    <tr>\n",
       "      <th>5843</th>\n",
       "      <td>2015-12-30</td>\n",
       "      <td>0.359758</td>\n",
       "      <td>0.106780</td>\n",
       "      <td>0.344432</td>\n",
       "      <td>0.682222</td>\n",
       "      <td>0.209779</td>\n",
       "      <td>0.283862</td>\n",
       "      <td>0.195968</td>\n",
       "      <td>0.242192</td>\n",
       "      <td>0.001566</td>\n",
       "      <td>0.108644</td>\n",
       "    </tr>\n",
       "    <tr>\n",
       "      <th>5844</th>\n",
       "      <td>2015-12-31</td>\n",
       "      <td>0.376078</td>\n",
       "      <td>0.030509</td>\n",
       "      <td>0.567991</td>\n",
       "      <td>0.623927</td>\n",
       "      <td>0.222791</td>\n",
       "      <td>0.260807</td>\n",
       "      <td>0.255818</td>\n",
       "      <td>0.181358</td>\n",
       "      <td>0.024658</td>\n",
       "      <td>0.125177</td>\n",
       "    </tr>\n",
       "  </tbody>\n",
       "</table>\n",
       "</div>"
      ],
      "text/plain": [
       "          Datum      Temp        WG        WR     Druck        NO       NO2  \\\n",
       "5840 2015-12-27  0.443693  0.076271  0.582820  0.732613  0.156867  0.267291   \n",
       "5841 2015-12-28  0.399394  0.106780  0.585618  0.703472  0.369963  0.336455   \n",
       "5842 2015-12-29  0.369084  0.106780  0.054841  0.691200  0.326592  0.340778   \n",
       "5843 2015-12-30  0.359758  0.106780  0.344432  0.682222  0.209779  0.283862   \n",
       "5844 2015-12-31  0.376078  0.030509  0.567991  0.623927  0.222791  0.260807   \n",
       "\n",
       "           SO2        CO  Niederschlag      PM10  \n",
       "5840  0.175775  0.159129      0.000000  0.074162  \n",
       "5841  0.208655  0.346058      0.002544  0.089750  \n",
       "5842  0.289116  0.253192      0.002544  0.093529  \n",
       "5843  0.195968  0.242192      0.001566  0.108644  \n",
       "5844  0.255818  0.181358      0.024658  0.125177  "
      ]
     },
     "execution_count": 51,
     "metadata": {},
     "output_type": "execute_result"
    }
   ],
   "source": [
    "df_train.tail()"
   ]
  },
  {
   "cell_type": "code",
   "execution_count": 52,
   "metadata": {},
   "outputs": [
    {
     "data": {
      "text/plain": [
       "Timestamp('2020-05-31 00:00:00')"
      ]
     },
     "execution_count": 52,
     "metadata": {},
     "output_type": "execute_result"
    }
   ],
   "source": [
    "df_test.iloc[-1,:].Datum"
   ]
  },
  {
   "cell_type": "code",
   "execution_count": 53,
   "metadata": {},
   "outputs": [
    {
     "data": {
      "text/html": [
       "<div>\n",
       "<style scoped>\n",
       "    .dataframe tbody tr th:only-of-type {\n",
       "        vertical-align: middle;\n",
       "    }\n",
       "\n",
       "    .dataframe tbody tr th {\n",
       "        vertical-align: top;\n",
       "    }\n",
       "\n",
       "    .dataframe thead th {\n",
       "        text-align: right;\n",
       "    }\n",
       "</style>\n",
       "<table border=\"1\" class=\"dataframe\">\n",
       "  <thead>\n",
       "    <tr style=\"text-align: right;\">\n",
       "      <th></th>\n",
       "      <th>Datum</th>\n",
       "      <th>Temp</th>\n",
       "      <th>WG</th>\n",
       "      <th>WR</th>\n",
       "      <th>Druck</th>\n",
       "      <th>NO</th>\n",
       "      <th>NO2</th>\n",
       "      <th>SO2</th>\n",
       "      <th>CO</th>\n",
       "      <th>Niederschlag</th>\n",
       "      <th>PM10</th>\n",
       "    </tr>\n",
       "  </thead>\n",
       "  <tbody>\n",
       "    <tr>\n",
       "      <th>7453</th>\n",
       "      <td>2020-05-27</td>\n",
       "      <td>0.669853</td>\n",
       "      <td>0.167797</td>\n",
       "      <td>0.586738</td>\n",
       "      <td>0.824570</td>\n",
       "      <td>0.017501</td>\n",
       "      <td>0.156340</td>\n",
       "      <td>0.262144</td>\n",
       "      <td>0.038219</td>\n",
       "      <td>0.0</td>\n",
       "      <td>0.057185</td>\n",
       "    </tr>\n",
       "    <tr>\n",
       "      <th>7454</th>\n",
       "      <td>2020-05-28</td>\n",
       "      <td>0.669853</td>\n",
       "      <td>0.274577</td>\n",
       "      <td>0.071908</td>\n",
       "      <td>0.767606</td>\n",
       "      <td>0.012007</td>\n",
       "      <td>0.169308</td>\n",
       "      <td>0.047673</td>\n",
       "      <td>0.032469</td>\n",
       "      <td>0.0</td>\n",
       "      <td>0.065848</td>\n",
       "    </tr>\n",
       "    <tr>\n",
       "      <th>7455</th>\n",
       "      <td>2020-05-29</td>\n",
       "      <td>0.644206</td>\n",
       "      <td>0.244068</td>\n",
       "      <td>0.354505</td>\n",
       "      <td>0.720344</td>\n",
       "      <td>0.007959</td>\n",
       "      <td>0.134726</td>\n",
       "      <td>0.196832</td>\n",
       "      <td>0.050656</td>\n",
       "      <td>0.0</td>\n",
       "      <td>0.102173</td>\n",
       "    </tr>\n",
       "    <tr>\n",
       "      <th>7456</th>\n",
       "      <td>2020-05-30</td>\n",
       "      <td>0.637211</td>\n",
       "      <td>0.274577</td>\n",
       "      <td>0.069110</td>\n",
       "      <td>0.658216</td>\n",
       "      <td>0.006803</td>\n",
       "      <td>0.132565</td>\n",
       "      <td>0.065723</td>\n",
       "      <td>0.035967</td>\n",
       "      <td>0.0</td>\n",
       "      <td>0.061918</td>\n",
       "    </tr>\n",
       "    <tr>\n",
       "      <th>7457</th>\n",
       "      <td>2020-05-31</td>\n",
       "      <td>0.655864</td>\n",
       "      <td>0.213560</td>\n",
       "      <td>0.164242</td>\n",
       "      <td>0.639593</td>\n",
       "      <td>0.004490</td>\n",
       "      <td>0.093660</td>\n",
       "      <td>0.087232</td>\n",
       "      <td>0.035932</td>\n",
       "      <td>0.0</td>\n",
       "      <td>0.054709</td>\n",
       "    </tr>\n",
       "  </tbody>\n",
       "</table>\n",
       "</div>"
      ],
      "text/plain": [
       "          Datum      Temp        WG        WR     Druck        NO       NO2  \\\n",
       "7453 2020-05-27  0.669853  0.167797  0.586738  0.824570  0.017501  0.156340   \n",
       "7454 2020-05-28  0.669853  0.274577  0.071908  0.767606  0.012007  0.169308   \n",
       "7455 2020-05-29  0.644206  0.244068  0.354505  0.720344  0.007959  0.134726   \n",
       "7456 2020-05-30  0.637211  0.274577  0.069110  0.658216  0.006803  0.132565   \n",
       "7457 2020-05-31  0.655864  0.213560  0.164242  0.639593  0.004490  0.093660   \n",
       "\n",
       "           SO2        CO  Niederschlag      PM10  \n",
       "7453  0.262144  0.038219           0.0  0.057185  \n",
       "7454  0.047673  0.032469           0.0  0.065848  \n",
       "7455  0.196832  0.050656           0.0  0.102173  \n",
       "7456  0.065723  0.035967           0.0  0.061918  \n",
       "7457  0.087232  0.035932           0.0  0.054709  "
      ]
     },
     "execution_count": 53,
     "metadata": {},
     "output_type": "execute_result"
    }
   ],
   "source": [
    "df_test.tail()"
   ]
  },
  {
   "cell_type": "markdown",
   "metadata": {},
   "source": [
    "def create_dataset(X, y, time_steps=1, step=1):\n",
    "    Xs, ys = [], []\n",
    "    for i in range(0, len(X) - time_steps, step):\n",
    "        v = X.iloc[i:(i + time_steps)].values\n",
    "        labels = y.iloc[i: i + time_steps]\n",
    "        Xs.append(v)        \n",
    "        ys.append(stats.mode(labels)[0][0])\n",
    "    return np.array(Xs), np.array(ys).reshape(-1, 1)"
   ]
  },
  {
   "cell_type": "code",
   "execution_count": 54,
   "metadata": {},
   "outputs": [],
   "source": [
    "df_test=df_test.drop(columns=[\"Datum\"])\n",
    "df_train=df_train.drop(columns=[\"Datum\"])"
   ]
  },
  {
   "cell_type": "markdown",
   "metadata": {},
   "source": [
    "#### Split Data into Input and Target Data"
   ]
  },
  {
   "cell_type": "code",
   "execution_count": 55,
   "metadata": {},
   "outputs": [],
   "source": [
    "def create_dataset(X, y, time_steps=1, step=1):\n",
    "    Xs, ys = [], []\n",
    "    for i in range(0, len(X) - time_steps, step):\n",
    "        v = X.iloc[i:(i + time_steps)].values\n",
    "        labels = y.iloc[i+time_steps]\n",
    "        Xs.append(v)        \n",
    "        ys.append(labels)\n",
    "    return np.array(Xs), np.array(ys)"
   ]
  },
  {
   "cell_type": "code",
   "execution_count": 56,
   "metadata": {},
   "outputs": [],
   "source": [
    "TIME_STEPS = 21\n",
    "STEP = 1\n",
    "\n",
    "X_train, y_train = create_dataset(\n",
    "    #df_train.drop(columns=['PM10']), \n",
    "    df_train,\n",
    "    df_train.PM10, \n",
    "    TIME_STEPS, \n",
    "    STEP\n",
    ")\n",
    "\n",
    "X_test, y_test = create_dataset(\n",
    "    #df_test.drop(columns=['PM10']),\n",
    "    df_test,\n",
    "    df_test.PM10, \n",
    "    TIME_STEPS, \n",
    "    STEP\n",
    ")"
   ]
  },
  {
   "cell_type": "code",
   "execution_count": 57,
   "metadata": {},
   "outputs": [
    {
     "data": {
      "text/html": [
       "<div>\n",
       "<style scoped>\n",
       "    .dataframe tbody tr th:only-of-type {\n",
       "        vertical-align: middle;\n",
       "    }\n",
       "\n",
       "    .dataframe tbody tr th {\n",
       "        vertical-align: top;\n",
       "    }\n",
       "\n",
       "    .dataframe thead th {\n",
       "        text-align: right;\n",
       "    }\n",
       "</style>\n",
       "<table border=\"1\" class=\"dataframe\">\n",
       "  <thead>\n",
       "    <tr style=\"text-align: right;\">\n",
       "      <th></th>\n",
       "      <th>Datum</th>\n",
       "      <th>Temp</th>\n",
       "      <th>WG</th>\n",
       "      <th>WR</th>\n",
       "      <th>Druck</th>\n",
       "      <th>NO</th>\n",
       "      <th>NO2</th>\n",
       "      <th>SO2</th>\n",
       "      <th>CO</th>\n",
       "      <th>Niederschlag</th>\n",
       "      <th>PM10</th>\n",
       "    </tr>\n",
       "  </thead>\n",
       "  <tbody>\n",
       "    <tr>\n",
       "      <th>0</th>\n",
       "      <td>2000-01-01</td>\n",
       "      <td>3.718</td>\n",
       "      <td>1.959896</td>\n",
       "      <td>234.922917</td>\n",
       "      <td>991.8</td>\n",
       "      <td>17.6266</td>\n",
       "      <td>24.236</td>\n",
       "      <td>10.38</td>\n",
       "      <td>0.9109</td>\n",
       "      <td>3.5892</td>\n",
       "      <td>11.3772</td>\n",
       "    </tr>\n",
       "    <tr>\n",
       "      <th>1</th>\n",
       "      <td>2000-01-02</td>\n",
       "      <td>3.848</td>\n",
       "      <td>2.172912</td>\n",
       "      <td>222.511250</td>\n",
       "      <td>996.9</td>\n",
       "      <td>14.2886</td>\n",
       "      <td>28.698</td>\n",
       "      <td>10.74</td>\n",
       "      <td>0.8870</td>\n",
       "      <td>3.5212</td>\n",
       "      <td>12.3972</td>\n",
       "    </tr>\n",
       "    <tr>\n",
       "      <th>2</th>\n",
       "      <td>2000-01-03</td>\n",
       "      <td>1.463</td>\n",
       "      <td>2.295208</td>\n",
       "      <td>220.181250</td>\n",
       "      <td>996.2</td>\n",
       "      <td>19.0638</td>\n",
       "      <td>35.336</td>\n",
       "      <td>10.29</td>\n",
       "      <td>0.8394</td>\n",
       "      <td>0.8398</td>\n",
       "      <td>19.9480</td>\n",
       "    </tr>\n",
       "  </tbody>\n",
       "</table>\n",
       "</div>"
      ],
      "text/plain": [
       "       Datum   Temp        WG          WR  Druck       NO     NO2    SO2  \\\n",
       "0 2000-01-01  3.718  1.959896  234.922917  991.8  17.6266  24.236  10.38   \n",
       "1 2000-01-02  3.848  2.172912  222.511250  996.9  14.2886  28.698  10.74   \n",
       "2 2000-01-03  1.463  2.295208  220.181250  996.2  19.0638  35.336  10.29   \n",
       "\n",
       "       CO  Niederschlag     PM10  \n",
       "0  0.9109        3.5892  11.3772  \n",
       "1  0.8870        3.5212  12.3972  \n",
       "2  0.8394        0.8398  19.9480  "
      ]
     },
     "execution_count": 57,
     "metadata": {},
     "output_type": "execute_result"
    }
   ],
   "source": [
    "df_for_ML.head(3)"
   ]
  },
  {
   "cell_type": "code",
   "execution_count": 58,
   "metadata": {},
   "outputs": [
    {
     "data": {
      "text/plain": [
       "array([[3.53182560e-01, 2.07442177e-01, 6.50875536e-01, 6.94835681e-01,\n",
       "        5.08290840e-02, 1.74610951e-01, 2.32266726e-01, 2.99668600e-01,\n",
       "        7.02387476e-02, 5.37420879e-02],\n",
       "       [3.56213570e-01, 2.39936313e-01, 6.16147874e-01, 7.74647887e-01,\n",
       "        4.11775785e-02, 2.06757925e-01, 2.40322220e-01, 2.91594739e-01,\n",
       "        6.89080235e-02, 5.85602267e-02],\n",
       "       [3.00606202e-01, 2.58591650e-01, 6.09628567e-01, 7.63693271e-01,\n",
       "        5.49846093e-02, 2.54582133e-01, 2.30252853e-01, 2.75514582e-01,\n",
       "        1.64344423e-02, 9.42276807e-02],\n",
       "       [3.81534157e-01, 4.53811343e-01, 6.11598816e-01, 6.65101721e-01,\n",
       "        2.37638107e-02, 1.74423631e-01, 3.00290893e-01, 2.56191367e-01,\n",
       "        2.91467710e-02, 5.42182333e-02],\n",
       "       [4.27768711e-01, 2.49744173e-01, 6.10671983e-01, 6.61971831e-01,\n",
       "        3.26797431e-02, 1.88818444e-01, 3.19310808e-01, 3.93615907e-01,\n",
       "        8.45401174e-02, 6.10581011e-02],\n",
       "       [3.58451854e-01, 2.13299816e-01, 5.77553162e-01, 6.51017214e-01,\n",
       "        5.15611874e-02, 2.54351585e-01, 2.98053256e-01, 2.96189070e-01,\n",
       "        2.17612524e-03, 7.60888049e-02],\n",
       "       [4.13522966e-01, 1.70761697e-01, 5.40074730e-01, 6.88575900e-01,\n",
       "        5.35452686e-02, 2.31628242e-01, 3.56231819e-01, 4.48680312e-01,\n",
       "        5.36594912e-02, 8.41691072e-02],\n",
       "       [4.22289578e-01, 1.74774841e-01, 5.97279542e-01, 6.68231612e-01,\n",
       "        7.91978020e-02, 2.73703170e-01, 3.93152831e-01, 3.85170446e-01,\n",
       "        3.47945205e-03, 9.20925838e-02],\n",
       "       [4.00303101e-01, 1.24007996e-01, 3.47458497e-01, 6.65101721e-01,\n",
       "        1.31815566e-01, 2.73659942e-01, 2.16737525e-01, 3.86859538e-01,\n",
       "        2.34833659e-04, 9.81577704e-02],\n",
       "       [3.41804616e-01, 2.07933809e-01, 5.11131494e-01, 7.90297340e-01,\n",
       "        1.37719812e-01, 2.80201729e-01, 2.50839114e-01, 3.34497681e-01,\n",
       "        1.69565558e-02, 1.70854983e-01],\n",
       "       [3.34973187e-01, 1.88756014e-01, 2.37314633e-01, 8.70109546e-01,\n",
       "        1.13738510e-01, 3.43515850e-01, 1.95099575e-01, 3.23687491e-01,\n",
       "        3.12712329e-03, 1.44591403e-01],\n",
       "       [2.76822103e-01, 2.37499444e-01, 4.46657573e-01, 8.10641628e-01,\n",
       "        6.68630739e-02, 2.97435159e-01, 1.14276124e-01, 2.12680353e-01,\n",
       "        5.20547945e-03, 9.98110534e-02],\n",
       "       [2.88682677e-01, 1.95168846e-01, 5.32415827e-01, 6.55712050e-01,\n",
       "        3.84955125e-02, 1.82233429e-01, 1.92123518e-01, 2.54367148e-01,\n",
       "        1.24461840e-02, 6.20878602e-02],\n",
       "       [2.93937981e-01, 9.81017968e-02, 4.73829509e-01, 6.43192488e-01,\n",
       "        5.15979024e-01, 6.32521614e-01, 4.39024390e-01, 4.33140664e-01,\n",
       "        4.50097847e-04, 1.04770902e-01],\n",
       "       [2.42783866e-01, 1.58064424e-01, 3.74305517e-01, 7.68388106e-01,\n",
       "        2.72175866e-01, 4.67118156e-01, 3.51309018e-01, 4.13209376e-01,\n",
       "        1.40743640e-03, 1.78488427e-01],\n",
       "       [2.89974353e-01, 1.67346965e-01, 3.92176133e-01, 8.23161189e-01,\n",
       "        1.29629665e-01, 3.82420749e-01, 2.40545983e-01, 2.85615353e-01,\n",
       "        1.30332681e-03, 1.43967879e-01],\n",
       "       [3.57775705e-01, 3.51159642e-01, 6.65005363e-01, 7.52738654e-01,\n",
       "        8.33093781e-02, 2.26628242e-01, 1.90982323e-01, 2.16463919e-01,\n",
       "        3.48297456e-02, 6.75389702e-02],\n",
       "       [3.98391233e-01, 5.34106004e-01, 7.76679957e-01, 6.41627543e-01,\n",
       "        2.66985855e-02, 1.75576369e-01, 2.11837100e-01, 1.79675492e-01,\n",
       "        2.49275930e-02, 4.70845536e-02],\n",
       "       [3.19748193e-01, 2.43597974e-01, 7.87848582e-01, 7.38654147e-01,\n",
       "        1.04792507e-01, 2.19596542e-01, 2.44126203e-01, 1.91870737e-01,\n",
       "        2.37964775e-03, 8.90977799e-02],\n",
       "       [3.33038004e-01, 3.06464632e-01, 7.19146381e-01, 7.73082942e-01,\n",
       "        5.49157939e-02, 2.30115274e-01, 2.84851197e-01, 1.79878183e-01,\n",
       "        4.12485323e-02, 6.51743033e-02],\n",
       "       [3.54325017e-01, 5.11577355e-01, 7.16435833e-01, 6.79186228e-01,\n",
       "        3.40976875e-02, 1.74855908e-01, 3.66301186e-01, 1.71939449e-01,\n",
       "        9.79647750e-03, 4.00642419e-02]])"
      ]
     },
     "execution_count": 58,
     "metadata": {},
     "output_type": "execute_result"
    }
   ],
   "source": [
    "X_train[0]"
   ]
  },
  {
   "cell_type": "code",
   "execution_count": 59,
   "metadata": {},
   "outputs": [
    {
     "data": {
      "text/plain": [
       "numpy.float64"
      ]
     },
     "execution_count": 59,
     "metadata": {},
     "output_type": "execute_result"
    }
   ],
   "source": [
    "type(df_train[\"PM10\"].iloc[2])"
   ]
  },
  {
   "cell_type": "code",
   "execution_count": 60,
   "metadata": {
    "scrolled": true
   },
   "outputs": [
    {
     "data": {
      "text/plain": [
       "(5824, 21, 10)"
      ]
     },
     "execution_count": 60,
     "metadata": {},
     "output_type": "execute_result"
    }
   ],
   "source": [
    "X_train.shape"
   ]
  },
  {
   "cell_type": "code",
   "execution_count": 61,
   "metadata": {},
   "outputs": [
    {
     "data": {
      "text/plain": [
       "(5824,)"
      ]
     },
     "execution_count": 61,
     "metadata": {},
     "output_type": "execute_result"
    }
   ],
   "source": [
    "y_train.shape"
   ]
  },
  {
   "cell_type": "code",
   "execution_count": 62,
   "metadata": {
    "scrolled": true
   },
   "outputs": [
    {
     "data": {
      "text/html": [
       "<div>\n",
       "<style scoped>\n",
       "    .dataframe tbody tr th:only-of-type {\n",
       "        vertical-align: middle;\n",
       "    }\n",
       "\n",
       "    .dataframe tbody tr th {\n",
       "        vertical-align: top;\n",
       "    }\n",
       "\n",
       "    .dataframe thead th {\n",
       "        text-align: right;\n",
       "    }\n",
       "</style>\n",
       "<table border=\"1\" class=\"dataframe\">\n",
       "  <thead>\n",
       "    <tr style=\"text-align: right;\">\n",
       "      <th></th>\n",
       "      <th>Datum</th>\n",
       "      <th>Temp</th>\n",
       "      <th>WG</th>\n",
       "      <th>WR</th>\n",
       "      <th>Druck</th>\n",
       "      <th>NO</th>\n",
       "      <th>NO2</th>\n",
       "      <th>SO2</th>\n",
       "      <th>CO</th>\n",
       "      <th>Niederschlag</th>\n",
       "      <th>PM10</th>\n",
       "    </tr>\n",
       "  </thead>\n",
       "  <tbody>\n",
       "    <tr>\n",
       "      <th>7455</th>\n",
       "      <td>2020-05-29</td>\n",
       "      <td>16.2</td>\n",
       "      <td>2.2</td>\n",
       "      <td>129.0</td>\n",
       "      <td>993.43</td>\n",
       "      <td>2.8</td>\n",
       "      <td>18.7</td>\n",
       "      <td>8.79640</td>\n",
       "      <td>0.173780</td>\n",
       "      <td>0.0</td>\n",
       "      <td>21.630</td>\n",
       "    </tr>\n",
       "    <tr>\n",
       "      <th>7456</th>\n",
       "      <td>2020-05-30</td>\n",
       "      <td>15.9</td>\n",
       "      <td>2.4</td>\n",
       "      <td>27.0</td>\n",
       "      <td>989.46</td>\n",
       "      <td>2.4</td>\n",
       "      <td>18.4</td>\n",
       "      <td>2.93716</td>\n",
       "      <td>0.130298</td>\n",
       "      <td>0.0</td>\n",
       "      <td>13.108</td>\n",
       "    </tr>\n",
       "    <tr>\n",
       "      <th>7457</th>\n",
       "      <td>2020-05-31</td>\n",
       "      <td>16.7</td>\n",
       "      <td>2.0</td>\n",
       "      <td>61.0</td>\n",
       "      <td>988.27</td>\n",
       "      <td>1.6</td>\n",
       "      <td>13.0</td>\n",
       "      <td>3.89840</td>\n",
       "      <td>0.130196</td>\n",
       "      <td>0.0</td>\n",
       "      <td>11.582</td>\n",
       "    </tr>\n",
       "  </tbody>\n",
       "</table>\n",
       "</div>"
      ],
      "text/plain": [
       "          Datum  Temp   WG     WR   Druck   NO   NO2      SO2        CO  \\\n",
       "7455 2020-05-29  16.2  2.2  129.0  993.43  2.8  18.7  8.79640  0.173780   \n",
       "7456 2020-05-30  15.9  2.4   27.0  989.46  2.4  18.4  2.93716  0.130298   \n",
       "7457 2020-05-31  16.7  2.0   61.0  988.27  1.6  13.0  3.89840  0.130196   \n",
       "\n",
       "      Niederschlag    PM10  \n",
       "7455           0.0  21.630  \n",
       "7456           0.0  13.108  \n",
       "7457           0.0  11.582  "
      ]
     },
     "execution_count": 62,
     "metadata": {},
     "output_type": "execute_result"
    }
   ],
   "source": [
    "df_for_ML.tail(3)"
   ]
  },
  {
   "cell_type": "code",
   "execution_count": 63,
   "metadata": {},
   "outputs": [
    {
     "data": {
      "text/plain": [
       "array([[0.71881557, 0.22881404, 0.58114158, 0.43114241, 0.00535713,\n",
       "        0.1037464 , 0.07305437, 0.20027769, 0.02739726, 0.10901275],\n",
       "       [0.52529727, 0.25932258, 0.93088976, 0.39499218, 0.0079594 ,\n",
       "        0.11959654, 0.10448623, 0.15277501, 0.40313112, 0.05818706],\n",
       "       [0.46467708, 0.16779697, 0.58114158, 0.58607199, 0.01692275,\n",
       "        0.12175793, 0.20297158, 0.08153518, 0.        , 0.05780822],\n",
       "       [0.48332945, 0.13728843, 0.30134303, 0.50328638, 0.01721189,\n",
       "        0.16642651, 0.20917879, 0.08187705, 0.09001957, 0.10516769],\n",
       "       [0.52762882, 0.16779697, 0.0970901 , 0.54538341, 0.0108508 ,\n",
       "        0.15345821, 0.2040725 , 0.05065587, 0.01565558, 0.07270666],\n",
       "       [0.58358592, 0.24406831, 0.57834359, 0.58716745, 0.00506799,\n",
       "        0.12319885, 0.19946297, 0.08871923, 0.        , 0.04752008],\n",
       "       [0.59058055, 0.13728843, 0.60072748, 0.65633803, 0.00911596,\n",
       "        0.14337176, 0.20684269, 0.11417925, 0.        , 0.05498347],\n",
       "       [0.6185591 , 0.16779697, 0.60352546, 0.67214397, 0.00420057,\n",
       "        0.10878963, 0.3142627 , 0.04153005, 0.        , 0.04440246],\n",
       "       [0.66519002, 0.18305124, 0.58114158, 0.69248826, 0.00969424,\n",
       "        0.15634006, 0.18685164, 0.1046798 , 0.        , 0.06156826],\n",
       "       [0.71182094, 0.21355977, 0.60632345, 0.65477308, 0.01200736,\n",
       "        0.1685879 , 0.16745133, 0.21095275, 0.        , 0.04941899],\n",
       "       [0.71182094, 0.16779697, 0.59233352, 0.64913928, 0.0108508 ,\n",
       "        0.17723343, 0.11823674, 0.23469463, 0.        , 0.05630609],\n",
       "       [0.72347867, 0.16779697, 0.58673755, 0.66338028, 0.0079594 ,\n",
       "        0.13040346, 0.19608861, 0.07498894, 0.        , 0.05838451],\n",
       "       [0.76777804, 0.16779697, 0.62311136, 0.66165884, 0.00853768,\n",
       "        0.15778098, 0.03986574, 0.21117571, 0.        , 0.05035427],\n",
       "       [0.6232222 , 0.1983055 , 0.64269726, 0.71298905, 0.00564628,\n",
       "        0.11023055, 0.09469734, 0.13246199, 0.11741683, 0.05418044],\n",
       "       [0.61156447, 0.39661101, 0.73503078, 0.80187793, 0.00304401,\n",
       "        0.06195965, 0.29222197, 0.05363408, 0.        , 0.05456117],\n",
       "       [0.64653765, 0.24406831, 0.65668719, 0.82410016, 0.00506799,\n",
       "        0.10158501, 0.21364511, 0.1021563 , 0.        , 0.06889939],\n",
       "       [0.64187456, 0.18305124, 0.51678791, 0.84162754, 0.01634447,\n",
       "        0.15201729, 0.3199821 , 0.0482121 , 0.        , 0.07112896],\n",
       "       [0.66985311, 0.16779697, 0.58673755, 0.82456964, 0.01750103,\n",
       "        0.15634006, 0.26214366, 0.03821943, 0.        , 0.0571847 ],\n",
       "       [0.66985311, 0.27457685, 0.07190823, 0.76760563, 0.01200736,\n",
       "        0.16930836, 0.0476733 , 0.03246908, 0.        , 0.0658479 ],\n",
       "       [0.64420611, 0.24406831, 0.35450476, 0.72034429, 0.0079594 ,\n",
       "        0.13472622, 0.19683151, 0.05065587, 0.        , 0.10217289],\n",
       "       [0.63721147, 0.27457685, 0.06911024, 0.65821596, 0.00680284,\n",
       "        0.13256484, 0.06572298, 0.03596685, 0.        , 0.06191781]])"
      ]
     },
     "execution_count": 63,
     "metadata": {},
     "output_type": "execute_result"
    }
   ],
   "source": [
    "X_test[-1]"
   ]
  },
  {
   "cell_type": "code",
   "execution_count": 64,
   "metadata": {},
   "outputs": [
    {
     "data": {
      "text/plain": [
       "0.0547094945677846"
      ]
     },
     "execution_count": 64,
     "metadata": {},
     "output_type": "execute_result"
    }
   ],
   "source": [
    "y_test[-1]"
   ]
  },
  {
   "cell_type": "markdown",
   "metadata": {},
   "source": [
    "## Alogrithms Selection"
   ]
  },
  {
   "cell_type": "code",
   "execution_count": null,
   "metadata": {},
   "outputs": [],
   "source": []
  },
  {
   "cell_type": "markdown",
   "metadata": {},
   "source": [
    "## Baseline Models"
   ]
  },
  {
   "cell_type": "code",
   "execution_count": null,
   "metadata": {},
   "outputs": [],
   "source": []
  },
  {
   "cell_type": "markdown",
   "metadata": {},
   "source": [
    "## Deep Learning Models"
   ]
  },
  {
   "cell_type": "code",
   "execution_count": 65,
   "metadata": {},
   "outputs": [
    {
     "data": {
      "text/plain": [
       "(5824, 21, 10)"
      ]
     },
     "execution_count": 65,
     "metadata": {},
     "output_type": "execute_result"
    }
   ],
   "source": [
    "X_train.shape"
   ]
  },
  {
   "cell_type": "code",
   "execution_count": 66,
   "metadata": {},
   "outputs": [
    {
     "name": "stdout",
     "output_type": "stream",
     "text": [
      "(5824, 21, 10)\n",
      "(5824,)\n"
     ]
    }
   ],
   "source": [
    "print(X_train.shape)\n",
    "print(y_train.shape)"
   ]
  },
  {
   "cell_type": "code",
   "execution_count": 67,
   "metadata": {},
   "outputs": [
    {
     "name": "stdout",
     "output_type": "stream",
     "text": [
      "3\n",
      "1\n"
     ]
    }
   ],
   "source": [
    "print(X_train.ndim)\n",
    "print(y_train.ndim)"
   ]
  },
  {
   "cell_type": "code",
   "execution_count": 68,
   "metadata": {},
   "outputs": [
    {
     "name": "stdout",
     "output_type": "stream",
     "text": [
      "float64\n",
      "float64\n"
     ]
    }
   ],
   "source": [
    "print(X_train.dtype)\n",
    "print(y_train.dtype)"
   ]
  },
  {
   "cell_type": "code",
   "execution_count": 69,
   "metadata": {},
   "outputs": [
    {
     "data": {
      "text/plain": [
       "21"
      ]
     },
     "execution_count": 69,
     "metadata": {},
     "output_type": "execute_result"
    }
   ],
   "source": [
    "X_train.shape[1]"
   ]
  },
  {
   "cell_type": "code",
   "execution_count": 70,
   "metadata": {},
   "outputs": [
    {
     "data": {
      "text/plain": [
       "(5824, 21, 10)"
      ]
     },
     "execution_count": 70,
     "metadata": {},
     "output_type": "execute_result"
    }
   ],
   "source": [
    "X_train.shape[0], X_train.shape[1], X_train.shape[2]"
   ]
  },
  {
   "cell_type": "code",
   "execution_count": 71,
   "metadata": {},
   "outputs": [
    {
     "name": "stdout",
     "output_type": "stream",
     "text": [
      "Model: \"sequential_1\"\n",
      "_________________________________________________________________\n",
      "Layer (type)                 Output Shape              Param #   \n",
      "=================================================================\n",
      "lstm_1 (LSTM)                (None, 21, 200)           168800    \n",
      "_________________________________________________________________\n",
      "flatten_1 (Flatten)          (None, 4200)              0         \n",
      "_________________________________________________________________\n",
      "dense_1 (Dense)              (None, 1)                 4201      \n",
      "=================================================================\n",
      "Total params: 173,001\n",
      "Trainable params: 173,001\n",
      "Non-trainable params: 0\n",
      "_________________________________________________________________\n"
     ]
    }
   ],
   "source": [
    "model = Sequential()\n",
    "model.add(layers.LSTM(units=200, \n",
    "                      return_sequences= True,\n",
    "                      activation ='tanh', \n",
    "                      input_shape=(TIME_STEPS,10)))\n",
    "model.add(layers.Flatten())\n",
    "model.add(layers.Dense(1))\n",
    "model.summary()"
   ]
  },
  {
   "cell_type": "code",
   "execution_count": 72,
   "metadata": {},
   "outputs": [
    {
     "data": {
      "text/plain": [
       "array([[0.05331129],\n",
       "       [0.06192348],\n",
       "       [0.16478035],\n",
       "       ...,\n",
       "       [0.09352858],\n",
       "       [0.10864431],\n",
       "       [0.12517714]])"
      ]
     },
     "execution_count": 72,
     "metadata": {},
     "output_type": "execute_result"
    }
   ],
   "source": [
    "y_train.reshape(-1,1)"
   ]
  },
  {
   "cell_type": "code",
   "execution_count": 73,
   "metadata": {},
   "outputs": [
    {
     "name": "stdout",
     "output_type": "stream",
     "text": [
      "(5824, 21, 10)\n",
      "(5824,)\n",
      "(1592, 21, 10)\n",
      "(1592,)\n"
     ]
    }
   ],
   "source": [
    "print(X_train.shape)\n",
    "print(y_train.shape)\n",
    "print(X_test.shape)\n",
    "print(y_test.shape)"
   ]
  },
  {
   "cell_type": "code",
   "execution_count": 74,
   "metadata": {},
   "outputs": [
    {
     "name": "stdout",
     "output_type": "stream",
     "text": [
      "Train on 5824 samples, validate on 1592 samples\n",
      "Epoch 1/15\n",
      "5824/5824 [==============================] - 5s 848us/step - loss: 0.0476 - accuracy: 8.5852e-04 - val_loss: 0.0280 - val_accuracy: 0.0000e+00\n",
      "Epoch 2/15\n",
      "5824/5824 [==============================] - 6s 955us/step - loss: 0.0315 - accuracy: 8.5852e-04 - val_loss: 0.0305 - val_accuracy: 0.0000e+00\n",
      "Epoch 3/15\n",
      "5824/5824 [==============================] - 6s 1ms/step - loss: 0.0293 - accuracy: 8.5852e-04 - val_loss: 0.0259 - val_accuracy: 0.0000e+00\n",
      "Epoch 4/15\n",
      "5824/5824 [==============================] - 6s 977us/step - loss: 0.0281 - accuracy: 8.5852e-04 - val_loss: 0.0281 - val_accuracy: 0.0000e+00\n",
      "Epoch 5/15\n",
      "5824/5824 [==============================] - 7s 1ms/step - loss: 0.0277 - accuracy: 8.5852e-04 - val_loss: 0.0248 - val_accuracy: 0.0000e+00\n",
      "Epoch 6/15\n",
      "5824/5824 [==============================] - 9s 1ms/step - loss: 0.0268 - accuracy: 8.5852e-04 - val_loss: 0.0243 - val_accuracy: 0.0000e+00\n",
      "Epoch 7/15\n",
      "5824/5824 [==============================] - 7s 1ms/step - loss: 0.0265 - accuracy: 8.5852e-04 - val_loss: 0.0251 - val_accuracy: 0.0000e+00\n",
      "Epoch 8/15\n",
      "5824/5824 [==============================] - 7s 1ms/step - loss: 0.0262 - accuracy: 8.5852e-04 - val_loss: 0.0241 - val_accuracy: 0.0000e+00\n",
      "Epoch 9/15\n",
      "5824/5824 [==============================] - 6s 1ms/step - loss: 0.0260 - accuracy: 8.5852e-04 - val_loss: 0.0228 - val_accuracy: 0.0000e+00\n",
      "Epoch 10/15\n",
      "5824/5824 [==============================] - 6s 1ms/step - loss: 0.0259 - accuracy: 8.5852e-04 - val_loss: 0.0263 - val_accuracy: 0.0000e+00\n",
      "Epoch 11/15\n",
      "5824/5824 [==============================] - 6s 1ms/step - loss: 0.0257 - accuracy: 8.5852e-04 - val_loss: 0.0308 - val_accuracy: 0.0000e+00\n",
      "Epoch 12/15\n",
      "5824/5824 [==============================] - 6s 1ms/step - loss: 0.0258 - accuracy: 8.5852e-04 - val_loss: 0.0256 - val_accuracy: 0.0000e+00\n",
      "Epoch 13/15\n",
      "5824/5824 [==============================] - 6s 1ms/step - loss: 0.0257 - accuracy: 8.5852e-04 - val_loss: 0.0225 - val_accuracy: 0.0000e+00\n",
      "Epoch 14/15\n",
      "5824/5824 [==============================] - 6s 1ms/step - loss: 0.0255 - accuracy: 8.5852e-04 - val_loss: 0.0233 - val_accuracy: 0.0000e+00\n",
      "Epoch 15/15\n",
      "5824/5824 [==============================] - 6s 1ms/step - loss: 0.0253 - accuracy: 8.5852e-04 - val_loss: 0.0226 - val_accuracy: 0.0000e+00\n"
     ]
    }
   ],
   "source": [
    "model.compile(optimizer='RMSprop', loss='mae',metrics=[\"accuracy\"])\n",
    "history = model.fit(x=X_train, y=y_train, epochs=15, validation_data=(X_test, y_test))"
   ]
  },
  {
   "cell_type": "code",
   "execution_count": 75,
   "metadata": {},
   "outputs": [
    {
     "data": {
      "image/png": "[encoded data removed]",
      "text/plain": [
       "<Figure size 432x288 with 1 Axes>"
      ]
     },
     "metadata": {},
     "output_type": "display_data"
    }
   ],
   "source": [
    "plt.plot(history.history['loss'], label='train')\n",
    "plt.plot(history.history['val_loss'], label='test')\n",
    "plt.legend()\n",
    "plt.show()"
   ]
  },
  {
   "cell_type": "code",
   "execution_count": null,
   "metadata": {},
   "outputs": [],
   "source": []
  },
  {
   "cell_type": "code",
   "execution_count": null,
   "metadata": {},
   "outputs": [],
   "source": []
  },
  {
   "cell_type": "markdown",
   "metadata": {},
   "source": [
    "## Hyperparamters Optimization"
   ]
  },
  {
   "cell_type": "code",
   "execution_count": null,
   "metadata": {},
   "outputs": [],
   "source": []
  },
  {
   "cell_type": "markdown",
   "metadata": {},
   "source": [
    "## Evaluation"
   ]
  },
  {
   "cell_type": "markdown",
   "metadata": {},
   "source": [
    "### Model Evaluation (Performance)"
   ]
  },
  {
   "cell_type": "markdown",
   "metadata": {},
   "source": [
    "#### Training Phase"
   ]
  },
  {
   "cell_type": "code",
   "execution_count": null,
   "metadata": {},
   "outputs": [],
   "source": []
  },
  {
   "cell_type": "code",
   "execution_count": null,
   "metadata": {},
   "outputs": [],
   "source": []
  },
  {
   "cell_type": "code",
   "execution_count": null,
   "metadata": {},
   "outputs": [],
   "source": []
  },
  {
   "cell_type": "markdown",
   "metadata": {},
   "source": [
    "#### Testing Phase"
   ]
  },
  {
   "cell_type": "code",
   "execution_count": null,
   "metadata": {},
   "outputs": [],
   "source": []
  },
  {
   "cell_type": "code",
   "execution_count": null,
   "metadata": {},
   "outputs": [],
   "source": []
  },
  {
   "cell_type": "markdown",
   "metadata": {},
   "source": [
    "# Projekt Evaluation"
   ]
  },
  {
   "cell_type": "code",
   "execution_count": null,
   "metadata": {},
   "outputs": [],
   "source": []
  },
  {
   "cell_type": "code",
   "execution_count": null,
   "metadata": {},
   "outputs": [],
   "source": []
  },
  {
   "cell_type": "code",
   "execution_count": null,
   "metadata": {},
   "outputs": [],
   "source": []
  },
  {
   "cell_type": "markdown",
   "metadata": {},
   "source": [
    "# Deployment"
   ]
  },
  {
   "cell_type": "code",
   "execution_count": null,
   "metadata": {},
   "outputs": [],
   "source": []
  },
  {
   "cell_type": "markdown",
   "metadata": {},
   "source": [
    "In the first phase of CRISP the overall business-case, which shall be supported by the data mining process must be clearly defined and understood. Then the goal of the data mining project itself must be defined. This includes the specification of metrics for measuring the performance of the data mining project.\n",
    "\n",
    "In the second phase data must be gathered, accessed, understood and described. Quantitiy and qualitity of the data must be assessed on a high-level.\n",
    "\n",
    "In the third phase data must be investigated and understood more thoroughly. Common means for understanding data are e.g. visualization and the calculation of simple statistics. Outliers must be detected and processed, sampling rates must be determined, features must be selected and eventually be transformed to other formats.\n",
    "\n",
    "In the modelling phase various algorithms and their hyperparameters are selected and applied. Their performance on the given data is determined in the evaluation phase.\n",
    "\n",
    "The output of the evaluation is usually fed back to the first phases (business- and data-understanding). Applying this feedback the techniques in the overall process are adapted and optimized. Usually only after several iterations of this process the evaluation yields good results and the project can be deployed."
   ]
  },
  {
   "cell_type": "code",
   "execution_count": null,
   "metadata": {},
   "outputs": [],
   "source": []
  }
 ],
 "metadata": {
  "kernelspec": {
   "display_name": "Python 3",
   "language": "python",
   "name": "python3"
  },
  "nbTranslate": {
   "displayLangs": [
    "*"
   ],
   "hotkey": "alt-t",
   "langInMainMenu": true,
   "sourceLang": "en",
   "targetLang": "fr",
   "useGoogleTranslate": true
  },
  "toc": {
   "base_numbering": 1,
   "nav_menu": {},
   "number_sections": true,
   "sideBar": true,
   "skip_h1_title": false,
   "title_cell": "Table of Contents",
   "title_sidebar": "Contents",
   "toc_cell": false,
   "toc_position": {
    "height": "calc(100% - 180px)",
    "left": "10px",
    "top": "150px",
    "width": "382px"
   },
   "toc_section_display": true,
   "toc_window_display": true
  },
  "varInspector": {
   "cols": {
    "lenName": 16,
    "lenType": 16,
    "lenVar": 40
   },
   "kernels_config": {
    "python": {
     "delete_cmd_postfix": "",
     "delete_cmd_prefix": "del ",
     "library": "var_list.py",
     "varRefreshCmd": "print(var_dic_list())"
    },
    "r": {
     "delete_cmd_postfix": ") ",
     "delete_cmd_prefix": "rm(",
     "library": "var_list.r",
     "varRefreshCmd": "cat(var_dic_list()) "
    }
   },
   "position": {
    "height": "793.833px",
    "left": "1552px",
    "right": "20px",
    "top": "114px",
    "width": "306px"
   },
   "types_to_exclude": [
    "module",
    "function",
    "builtin_function_or_method",
    "instance",
    "_Feature"
   ],
   "window_display": true
  }
 },
 "nbformat": 4,
 "nbformat_minor": 4
}
