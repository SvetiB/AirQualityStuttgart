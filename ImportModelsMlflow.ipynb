{
 "cells": [
  {
   "cell_type": "code",
   "execution_count": 1,
   "metadata": {},
   "outputs": [],
   "source": [
    "import mlflow\n",
    "import mlflow.sklearn\n",
    "import mlflow.keras\n",
    "import pandas as pd\n",
    "import numpy as np\n",
    "import warnings\n",
    "warnings.filterwarnings(\"ignore\")"
   ]
  },
  {
   "cell_type": "code",
   "execution_count": 2,
   "metadata": {},
   "outputs": [
    {
     "name": "stderr",
     "output_type": "stream",
     "text": [
      "Using TensorFlow backend.\n"
     ]
    }
   ],
   "source": [
    "import keras"
   ]
  },
  {
   "cell_type": "markdown",
   "metadata": {},
   "source": [
    "# Baseline Model"
   ]
  },
  {
   "cell_type": "code",
   "execution_count": 3,
   "metadata": {},
   "outputs": [],
   "source": [
    "mlflow.set_experiment(\"Baseline Model AirQualityStuttgart\")"
   ]
  },
  {
   "cell_type": "code",
   "execution_count": 4,
   "metadata": {},
   "outputs": [
    {
     "data": {
      "text/plain": [
       "Index(['run_id', 'experiment_id', 'status', 'artifact_uri', 'start_time',\n",
       "       'end_time', 'metrics.R2', 'metrics.MSE', 'metrics.Intercept',\n",
       "       'tags.mlflow.source.name', 'tags.mlflow.user',\n",
       "       'tags.mlflow.source.type'],\n",
       "      dtype='object')"
      ]
     },
     "execution_count": 4,
     "metadata": {},
     "output_type": "execute_result"
    }
   ],
   "source": [
    "allruns=mlflow.search_runs()\n",
    "allruns.columns"
   ]
  },
  {
   "cell_type": "code",
   "execution_count": 5,
   "metadata": {},
   "outputs": [
    {
     "data": {
      "text/html": [
       "<div>\n",
       "<style scoped>\n",
       "    .dataframe tbody tr th:only-of-type {\n",
       "        vertical-align: middle;\n",
       "    }\n",
       "\n",
       "    .dataframe tbody tr th {\n",
       "        vertical-align: top;\n",
       "    }\n",
       "\n",
       "    .dataframe thead th {\n",
       "        text-align: right;\n",
       "    }\n",
       "</style>\n",
       "<table border=\"1\" class=\"dataframe\">\n",
       "  <thead>\n",
       "    <tr style=\"text-align: right;\">\n",
       "      <th></th>\n",
       "      <th>run_id</th>\n",
       "      <th>experiment_id</th>\n",
       "      <th>status</th>\n",
       "      <th>artifact_uri</th>\n",
       "      <th>start_time</th>\n",
       "      <th>end_time</th>\n",
       "      <th>metrics.R2</th>\n",
       "      <th>metrics.MSE</th>\n",
       "      <th>metrics.Intercept</th>\n",
       "      <th>tags.mlflow.source.name</th>\n",
       "      <th>tags.mlflow.user</th>\n",
       "      <th>tags.mlflow.source.type</th>\n",
       "    </tr>\n",
       "  </thead>\n",
       "  <tbody>\n",
       "    <tr>\n",
       "      <th>0</th>\n",
       "      <td>a2f2e7e3febb47738c328ffbd70f8ab3</td>\n",
       "      <td>1</td>\n",
       "      <td>FINISHED</td>\n",
       "      <td>file:///C:/Users/elvir/Documents/Git_Projekte/...</td>\n",
       "      <td>2020-06-29 18:02:42.190000+00:00</td>\n",
       "      <td>2020-06-29 18:02:43.114000+00:00</td>\n",
       "      <td>0.363536</td>\n",
       "      <td>0.468705</td>\n",
       "      <td>0.082979</td>\n",
       "      <td>C:\\Users\\elvir\\AppData\\Local\\Continuum\\anacond...</td>\n",
       "      <td>elvir</td>\n",
       "      <td>LOCAL</td>\n",
       "    </tr>\n",
       "  </tbody>\n",
       "</table>\n",
       "</div>"
      ],
      "text/plain": [
       "                             run_id experiment_id    status  \\\n",
       "0  a2f2e7e3febb47738c328ffbd70f8ab3             1  FINISHED   \n",
       "\n",
       "                                        artifact_uri  \\\n",
       "0  file:///C:/Users/elvir/Documents/Git_Projekte/...   \n",
       "\n",
       "                        start_time                         end_time  \\\n",
       "0 2020-06-29 18:02:42.190000+00:00 2020-06-29 18:02:43.114000+00:00   \n",
       "\n",
       "   metrics.R2  metrics.MSE  metrics.Intercept  \\\n",
       "0    0.363536     0.468705           0.082979   \n",
       "\n",
       "                             tags.mlflow.source.name tags.mlflow.user  \\\n",
       "0  C:\\Users\\elvir\\AppData\\Local\\Continuum\\anacond...            elvir   \n",
       "\n",
       "  tags.mlflow.source.type  \n",
       "0                   LOCAL  "
      ]
     },
     "execution_count": 5,
     "metadata": {},
     "output_type": "execute_result"
    }
   ],
   "source": [
    "allruns"
   ]
  },
  {
   "cell_type": "code",
   "execution_count": 6,
   "metadata": {},
   "outputs": [],
   "source": [
    "ID=0"
   ]
  },
  {
   "cell_type": "code",
   "execution_count": 7,
   "metadata": {},
   "outputs": [
    {
     "data": {
      "text/plain": [
       "'a2f2e7e3febb47738c328ffbd70f8ab3'"
      ]
     },
     "execution_count": 7,
     "metadata": {},
     "output_type": "execute_result"
    }
   ],
   "source": [
    "id=allruns.loc[ID,\"run_id\"]\n",
    "id"
   ]
  },
  {
   "cell_type": "code",
   "execution_count": 8,
   "metadata": {},
   "outputs": [
    {
     "data": {
      "text/plain": [
       "'file:///C:/Users/elvir/Documents/Git_Projekte/AirQualityStuttgart/mlruns/1/a2f2e7e3febb47738c328ffbd70f8ab3/artifacts'"
      ]
     },
     "execution_count": 8,
     "metadata": {},
     "output_type": "execute_result"
    }
   ],
   "source": [
    "locationBase=allruns.loc[ID,\"artifact_uri\"]\n",
    "locationBase"
   ]
  },
  {
   "cell_type": "code",
   "execution_count": 9,
   "metadata": {},
   "outputs": [
    {
     "name": "stdout",
     "output_type": "stream",
     "text": [
      "66\n",
      "./mlruns/1/a2f2e7e3febb47738c328ffbd70f8ab3/artifacts\n"
     ]
    }
   ],
   "source": [
    "start=locationBase.index(\"mlruns\")\n",
    "print(start)\n",
    "locationBaseRelativePath=\".\"+locationBase[int(start-1):]\n",
    "print(locationBaseRelativePath)"
   ]
  },
  {
   "cell_type": "code",
   "execution_count": 10,
   "metadata": {},
   "outputs": [],
   "source": [
    "location=locationBaseRelativePath+\"/model/\""
   ]
  },
  {
   "cell_type": "code",
   "execution_count": 11,
   "metadata": {},
   "outputs": [
    {
     "data": {
      "text/plain": [
       "'./mlruns/1/a2f2e7e3febb47738c328ffbd70f8ab3/artifacts/model/'"
      ]
     },
     "execution_count": 11,
     "metadata": {},
     "output_type": "execute_result"
    }
   ],
   "source": [
    "location"
   ]
  },
  {
   "cell_type": "code",
   "execution_count": 12,
   "metadata": {},
   "outputs": [],
   "source": [
    "baseline_model = mlflow.sklearn.load_model(location)"
   ]
  },
  {
   "cell_type": "code",
   "execution_count": 13,
   "metadata": {},
   "outputs": [
    {
     "data": {
      "text/plain": [
       "LinearRegression()"
      ]
     },
     "execution_count": 13,
     "metadata": {},
     "output_type": "execute_result"
    }
   ],
   "source": [
    "baseline_model"
   ]
  },
  {
   "cell_type": "code",
   "execution_count": null,
   "metadata": {},
   "outputs": [],
   "source": []
  },
  {
   "cell_type": "code",
   "execution_count": null,
   "metadata": {},
   "outputs": [],
   "source": []
  },
  {
   "cell_type": "markdown",
   "metadata": {},
   "source": [
    "# Final Model"
   ]
  },
  {
   "cell_type": "code",
   "execution_count": 13,
   "metadata": {},
   "outputs": [],
   "source": [
    "mlflow.set_experiment(\"Final Model AirQualityStuttgart\")"
   ]
  },
  {
   "cell_type": "code",
   "execution_count": 14,
   "metadata": {},
   "outputs": [
    {
     "data": {
      "text/plain": [
       "Index(['run_id', 'experiment_id', 'status', 'artifact_uri', 'start_time',\n",
       "       'end_time', 'metrics.loss', 'metrics.val_loss', 'params.class_weight',\n",
       "       'params.epsilon', 'params.optimizer_name', 'params.shuffle',\n",
       "       'params.epochs', 'params.num_layers', 'params.batch_size',\n",
       "       'params.validation_steps', 'params.steps_per_epoch',\n",
       "       'params.initial_epoch', 'params.max_queue_size',\n",
       "       'params.validation_freq', 'params.use_multiprocessing',\n",
       "       'params.learning_rate', 'params.workers', 'params.validation_split',\n",
       "       'params.sample_weight', 'tags.mlflow.source.type', 'tags.model_summary',\n",
       "       'tags.mlflow.source.name', 'tags.mlflow.user'],\n",
       "      dtype='object')"
      ]
     },
     "execution_count": 14,
     "metadata": {},
     "output_type": "execute_result"
    }
   ],
   "source": [
    "allruns2=mlflow.search_runs()\n",
    "allruns2.columns"
   ]
  },
  {
   "cell_type": "code",
   "execution_count": 15,
   "metadata": {},
   "outputs": [
    {
     "data": {
      "text/html": [
       "<div>\n",
       "<style scoped>\n",
       "    .dataframe tbody tr th:only-of-type {\n",
       "        vertical-align: middle;\n",
       "    }\n",
       "\n",
       "    .dataframe tbody tr th {\n",
       "        vertical-align: top;\n",
       "    }\n",
       "\n",
       "    .dataframe thead th {\n",
       "        text-align: right;\n",
       "    }\n",
       "</style>\n",
       "<table border=\"1\" class=\"dataframe\">\n",
       "  <thead>\n",
       "    <tr style=\"text-align: right;\">\n",
       "      <th></th>\n",
       "      <th>run_id</th>\n",
       "      <th>experiment_id</th>\n",
       "      <th>status</th>\n",
       "      <th>artifact_uri</th>\n",
       "      <th>start_time</th>\n",
       "      <th>end_time</th>\n",
       "      <th>metrics.loss</th>\n",
       "      <th>metrics.val_loss</th>\n",
       "      <th>params.class_weight</th>\n",
       "      <th>params.epsilon</th>\n",
       "      <th>...</th>\n",
       "      <th>params.validation_freq</th>\n",
       "      <th>params.use_multiprocessing</th>\n",
       "      <th>params.learning_rate</th>\n",
       "      <th>params.workers</th>\n",
       "      <th>params.validation_split</th>\n",
       "      <th>params.sample_weight</th>\n",
       "      <th>tags.mlflow.source.type</th>\n",
       "      <th>tags.model_summary</th>\n",
       "      <th>tags.mlflow.source.name</th>\n",
       "      <th>tags.mlflow.user</th>\n",
       "    </tr>\n",
       "  </thead>\n",
       "  <tbody>\n",
       "    <tr>\n",
       "      <th>0</th>\n",
       "      <td>cfae9dd71d1c4764b5907a1ac8c296be</td>\n",
       "      <td>2</td>\n",
       "      <td>FINISHED</td>\n",
       "      <td>file:///C:/Users/elvir/Documents/Git_Projekte/...</td>\n",
       "      <td>2020-06-29 18:02:43.452000+00:00</td>\n",
       "      <td>2020-06-29 18:05:21.884000+00:00</td>\n",
       "      <td>0.263335</td>\n",
       "      <td>0.386263</td>\n",
       "      <td>None</td>\n",
       "      <td>1e-07</td>\n",
       "      <td>...</td>\n",
       "      <td>1</td>\n",
       "      <td>False</td>\n",
       "      <td>0.01</td>\n",
       "      <td>1</td>\n",
       "      <td>0.0</td>\n",
       "      <td>None</td>\n",
       "      <td>LOCAL</td>\n",
       "      <td>Model: \"sequential_3\"\\n_______________________...</td>\n",
       "      <td>C:\\Users\\elvir\\AppData\\Local\\Continuum\\anacond...</td>\n",
       "      <td>elvir</td>\n",
       "    </tr>\n",
       "  </tbody>\n",
       "</table>\n",
       "<p>1 rows × 29 columns</p>\n",
       "</div>"
      ],
      "text/plain": [
       "                             run_id experiment_id    status  \\\n",
       "0  cfae9dd71d1c4764b5907a1ac8c296be             2  FINISHED   \n",
       "\n",
       "                                        artifact_uri  \\\n",
       "0  file:///C:/Users/elvir/Documents/Git_Projekte/...   \n",
       "\n",
       "                        start_time                         end_time  \\\n",
       "0 2020-06-29 18:02:43.452000+00:00 2020-06-29 18:05:21.884000+00:00   \n",
       "\n",
       "   metrics.loss  metrics.val_loss params.class_weight params.epsilon  ...  \\\n",
       "0      0.263335          0.386263                None          1e-07  ...   \n",
       "\n",
       "  params.validation_freq params.use_multiprocessing params.learning_rate  \\\n",
       "0                      1                      False                 0.01   \n",
       "\n",
       "  params.workers params.validation_split params.sample_weight  \\\n",
       "0              1                     0.0                 None   \n",
       "\n",
       "  tags.mlflow.source.type                                 tags.model_summary  \\\n",
       "0                   LOCAL  Model: \"sequential_3\"\\n_______________________...   \n",
       "\n",
       "                             tags.mlflow.source.name tags.mlflow.user  \n",
       "0  C:\\Users\\elvir\\AppData\\Local\\Continuum\\anacond...            elvir  \n",
       "\n",
       "[1 rows x 29 columns]"
      ]
     },
     "execution_count": 15,
     "metadata": {},
     "output_type": "execute_result"
    }
   ],
   "source": [
    "allruns2"
   ]
  },
  {
   "cell_type": "code",
   "execution_count": null,
   "metadata": {},
   "outputs": [],
   "source": [
    "ID=0"
   ]
  },
  {
   "cell_type": "code",
   "execution_count": 28,
   "metadata": {},
   "outputs": [
    {
     "data": {
      "text/plain": [
       "'cfae9dd71d1c4764b5907a1ac8c296be'"
      ]
     },
     "execution_count": 28,
     "metadata": {},
     "output_type": "execute_result"
    }
   ],
   "source": [
    "id=allruns2.loc[ID,\"run_id\"]\n",
    "id"
   ]
  },
  {
   "cell_type": "code",
   "execution_count": 29,
   "metadata": {},
   "outputs": [
    {
     "data": {
      "text/plain": [
       "'file:///C:/Users/elvir/Documents/Git_Projekte/AirQualityStuttgart/mlruns/2/cfae9dd71d1c4764b5907a1ac8c296be/artifacts'"
      ]
     },
     "execution_count": 29,
     "metadata": {},
     "output_type": "execute_result"
    }
   ],
   "source": [
    "locationBase=allruns2.loc[ID,\"artifact_uri\"]\n",
    "locationBase"
   ]
  },
  {
   "cell_type": "code",
   "execution_count": 30,
   "metadata": {},
   "outputs": [
    {
     "name": "stdout",
     "output_type": "stream",
     "text": [
      "66\n",
      "./mlruns/2/cfae9dd71d1c4764b5907a1ac8c296be/artifacts\n"
     ]
    }
   ],
   "source": [
    "start=locationBase.index(\"mlruns\")\n",
    "print(start)\n",
    "locationBaseRelativePath=\".\"+locationBase[int(start-1):]\n",
    "print(locationBaseRelativePath)"
   ]
  },
  {
   "cell_type": "code",
   "execution_count": 31,
   "metadata": {},
   "outputs": [],
   "source": [
    "location=locationBaseRelativePath+\"/model/\""
   ]
  },
  {
   "cell_type": "code",
   "execution_count": 32,
   "metadata": {},
   "outputs": [],
   "source": [
    "final_model = mlflow.keras.load_model(location)"
   ]
  },
  {
   "cell_type": "code",
   "execution_count": 33,
   "metadata": {},
   "outputs": [
    {
     "name": "stdout",
     "output_type": "stream",
     "text": [
      "Model: \"sequential_3\"\n",
      "_________________________________________________________________\n",
      "Layer (type)                 Output Shape              Param #   \n",
      "=================================================================\n",
      "lstm_3 (LSTM)                (None, 20)                2320      \n",
      "_________________________________________________________________\n",
      "dropout_3 (Dropout)          (None, 20)                0         \n",
      "_________________________________________________________________\n",
      "dense_3 (Dense)              (None, 1)                 21        \n",
      "=================================================================\n",
      "Total params: 2,341\n",
      "Trainable params: 2,341\n",
      "Non-trainable params: 0\n",
      "_________________________________________________________________\n"
     ]
    }
   ],
   "source": [
    "final_model.summary()"
   ]
  },
  {
   "cell_type": "code",
   "execution_count": null,
   "metadata": {},
   "outputs": [],
   "source": []
  },
  {
   "cell_type": "code",
   "execution_count": null,
   "metadata": {},
   "outputs": [],
   "source": []
  }
 ],
 "metadata": {
  "kernelspec": {
   "display_name": "Python 3",
   "language": "python",
   "name": "python3"
  },
  "language_info": {
   "codemirror_mode": {
    "name": "ipython",
    "version": 3
   },
   "file_extension": ".py",
   "mimetype": "text/x-python",
   "name": "python",
   "nbconvert_exporter": "python",
   "pygments_lexer": "ipython3",
   "version": "3.7.7"
  },
  "nbTranslate": {
   "displayLangs": [
    "*"
   ],
   "hotkey": "alt-t",
   "langInMainMenu": true,
   "sourceLang": "en",
   "targetLang": "fr",
   "useGoogleTranslate": true
  },
  "toc": {
   "base_numbering": 1,
   "nav_menu": {},
   "number_sections": true,
   "sideBar": true,
   "skip_h1_title": false,
   "title_cell": "Table of Contents",
   "title_sidebar": "Contents",
   "toc_cell": false,
   "toc_position": {},
   "toc_section_display": true,
   "toc_window_display": false
  },
  "varInspector": {
   "cols": {
    "lenName": 16,
    "lenType": 16,
    "lenVar": 40
   },
   "kernels_config": {
    "python": {
     "delete_cmd_postfix": "",
     "delete_cmd_prefix": "del ",
     "library": "var_list.py",
     "varRefreshCmd": "print(var_dic_list())"
    },
    "r": {
     "delete_cmd_postfix": ") ",
     "delete_cmd_prefix": "rm(",
     "library": "var_list.r",
     "varRefreshCmd": "cat(var_dic_list()) "
    }
   },
   "types_to_exclude": [
    "module",
    "function",
    "builtin_function_or_method",
    "instance",
    "_Feature"
   ],
   "window_display": false
  }
 },
 "nbformat": 4,
 "nbformat_minor": 2
}
