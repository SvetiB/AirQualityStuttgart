{
 "cells": [
  {
   "cell_type": "code",
   "execution_count": null,
   "metadata": {},
   "outputs": [],
   "source": []
  },
  {
   "cell_type": "markdown",
   "metadata": {},
   "source": [
    "# Libraries and Global Settings"
   ]
  },
  {
   "cell_type": "code",
   "execution_count": 35,
   "metadata": {},
   "outputs": [],
   "source": [
    "import pandas as pd  # u.a. verwendet um DataFrames zu generieren und zu bearbeiten\n",
    "import numpy as np\n",
    "from datetime import datetime \n",
    "\n",
    "\n",
    "\n",
    "import seaborn as sns # Visualisierungen \n",
    "from matplotlib import pyplot as plt\n",
    "\n",
    "\n",
    "\n",
    "\n",
    "import warnings # Funktionalität zur Unterdrückung von Warnungen\n",
    "warnings.filterwarnings('ignore')"
   ]
  },
  {
   "cell_type": "code",
   "execution_count": 36,
   "metadata": {},
   "outputs": [
    {
     "data": {
      "text/html": [
       "<style>\n",
       "table {float:left}\n",
       "</style>\n"
      ],
      "text/plain": [
       "<IPython.core.display.HTML object>"
      ]
     },
     "metadata": {},
     "output_type": "display_data"
    }
   ],
   "source": [
    "%%html\n",
    "<style>\n",
    "table {float:left}\n",
    "</style>"
   ]
  },
  {
   "cell_type": "markdown",
   "metadata": {},
   "source": [
    "# Business Understanding"
   ]
  },
  {
   "cell_type": "markdown",
   "metadata": {},
   "source": [
    "## Business Case Definition and Understanding"
   ]
  },
  {
   "cell_type": "markdown",
   "metadata": {},
   "source": [
    "This project is part of the module \"Machine Learning\" (ML) at the Hochschule der Medien Stuttgart in the summer semster 2020.  \n",
    "In this case we have to realize a project in the context of ML. \n",
    "The topic of this project comprises the analysis of the air quality in the center of Stuttgart, especially at the measuring point Stuttgart-Neckartor. "
   ]
  },
  {
   "cell_type": "markdown",
   "metadata": {},
   "source": [
    "## Goal Definition"
   ]
  },
  {
   "cell_type": "markdown",
   "metadata": {},
   "source": [
    "The goal of this project is to analyze the air pollution caused by particulates (Feinstaub) in conjuction with other air specific and traffic based features.  \n",
    "Furthermore, we would like to detemine if a prediction of the air pollution based on these features is possible.  \n",
    "The use case of this prediction is to deliver valuable information for the warning system in Stuttgart. "
   ]
  },
  {
   "cell_type": "markdown",
   "metadata": {},
   "source": [
    "## Metrics Specification for Performance Measuring"
   ]
  },
  {
   "cell_type": "markdown",
   "metadata": {},
   "source": [
    "The data samples consist of the target values for particulates and the features used as input parameters for the forecasting of our target values.  \n",
    "\n",
    "| Column name | Additional information | Description |  Used As | \n",
    "| :------- | :------: | :------- | :-------  |\n",
    "| Datum\t\t |  |  Datum | Feature | \n",
    "| Temp. (°C)\t| Mittel\t| Lufttemperatur|  Feature |\n",
    "| Temp. (°C)\t| Max\t| Lufttemperatur|  Feature |\n",
    "| Temp. (°C)\t| Min\t| Lufttemperatur|  Feature |\n",
    "| Feuchte (%)\t| Mittel\t| Relative Luftfeuchte|  Feature |\n",
    "| WG (m/s)\t| Mittel\t| Windgeschwindigkeit|  Feature |\n",
    "| WG (m/s)\t| Max\t| Windgeschwindigkeit|  Feature |\n",
    "| WR (Grad)\t| Mittel\t| Windrichtung|  Feature |\n",
    "| Druck (hPa)\t| Mittel\t| Absoluter Luftdruck|  Feature |\n",
    "| Niederschlag (l/m²)\t| Summe\t| Niederschlag|  Feature |\n",
    "| Globalstr. (W/m²)\t| Mittel\t| Globalstrahlung|  Feature |\n",
    "| Str.-Bilanz (W/m²)\t| Mittel\t| Strahlungsbilanz|  Feature |\n",
    "| UVA-Str. (W/m²)\t| Mittel\t| UV-A Strahlung|  Feature |\n",
    "| UVB-Str. (W/m²)\t| Mittel\t| UV-B  Strahlung|  Feature |\n",
    "| NO (µg/m³)\t| Mittel\t| Stickstoffmonoxid|  Feature |\n",
    "| NO2 (µg/m³)\t| Mittel\t| Stickstoffdioxid|  Feature |\n",
    "| O3 (µg/m³)\t| Mittel\t| Ozon|  Feature |\n",
    "| PM10 (µg/m³)\t| Mittel\t| Feinstaub (PM10)| Outcome Variable |\n",
    "| PM2,5 (µg/m³)\t| Mittel\t| Feinstaub (PM2.5)| not relevant |\n",
    "| Verkehraufkommen\t| Summe\t| Verkehraufkommen |  Feature |\n",
    "\n"
   ]
  },
  {
   "cell_type": "markdown",
   "metadata": {},
   "source": [
    "# Data Understanding"
   ]
  },
  {
   "cell_type": "markdown",
   "metadata": {},
   "source": [
    "data must be gathered, accessed, understood and described. Quantitiy and qualitity of the data must be assessed on a high-level."
   ]
  },
  {
   "cell_type": "markdown",
   "metadata": {},
   "source": [
    "## Data Gathering"
   ]
  },
  {
   "cell_type": "markdown",
   "metadata": {},
   "source": [
    "Air data:"
   ]
  },
  {
   "cell_type": "code",
   "execution_count": 37,
   "metadata": {},
   "outputs": [],
   "source": [
    "# https://www.stadtklima-stuttgart.de/index.php?luft_messdaten_download"
   ]
  },
  {
   "cell_type": "markdown",
   "metadata": {},
   "source": [
    "Traffic data:"
   ]
  },
  {
   "cell_type": "code",
   "execution_count": 38,
   "metadata": {},
   "outputs": [],
   "source": [
    "# https://www.bast.de/BASt_2017/DE/Verkehrstechnik/Fachthemen/v2-verkehrszaehlung/Aktuell/zaehl_aktuell_node.html?nn=1819516&cms_detail=8440&cms_map=0"
   ]
  },
  {
   "cell_type": "markdown",
   "metadata": {},
   "source": [
    "## Data Access"
   ]
  },
  {
   "cell_type": "code",
   "execution_count": 39,
   "metadata": {},
   "outputs": [],
   "source": [
    "# define funktion to import each ExcelTab in one pandas dataframe\n",
    "def excelImport(list_1, path_1, list_2, path_2):\n",
    "    for i in list_1:\n",
    "        if i == 2000:\n",
    "            df = pd.read_excel(path_1, sheet_name=str(i), header=6)\n",
    "            df = df.dropna(subset=['Datum'])\n",
    "        else:\n",
    "            df_temp = pd.read_excel(path_1, sheet_name=str(i), header=6)\n",
    "            df_temp = df_temp.dropna(subset=['Datum'])\n",
    "            df = df.append(df_temp, sort=False, ignore_index=True)\n",
    "        #print(str(i))\n",
    "    for j in list_2:\n",
    "        df_temp2 = pd.read_excel(path_2, sheet_name=j, header=6)\n",
    "        df_temp2 = df_temp2.dropna(subset=['Datum'])\n",
    "        df = df.append(df_temp2, sort=False, ignore_index=True)\n",
    "        #print(j)\n",
    "    return df"
   ]
  },
  {
   "cell_type": "code",
   "execution_count": 40,
   "metadata": {},
   "outputs": [],
   "source": [
    "list_1 = list(range(2000, 2020, 1))\n",
    "list_2 = [\"Jan. 2020\", \"Feb. 2020\", \"März 2020\", \"April 2020\", \"Mai 2020\"]\n",
    "path_1 = \"Data/SZ-Tages-Werte-2000-2019.xlsx\"\n",
    "path_2 = \"Data/S-Mitte-SZ-Tages-Werte-2020.xlsx\"\n",
    "\n",
    "df_air = excelImport(list_1, path_1, list_2, path_2)"
   ]
  },
  {
   "cell_type": "code",
   "execution_count": 41,
   "metadata": {},
   "outputs": [
    {
     "data": {
      "text/html": [
       "<div>\n",
       "<style scoped>\n",
       "    .dataframe tbody tr th:only-of-type {\n",
       "        vertical-align: middle;\n",
       "    }\n",
       "\n",
       "    .dataframe tbody tr th {\n",
       "        vertical-align: top;\n",
       "    }\n",
       "\n",
       "    .dataframe thead th {\n",
       "        text-align: right;\n",
       "    }\n",
       "</style>\n",
       "<table border=\"1\" class=\"dataframe\">\n",
       "  <thead>\n",
       "    <tr style=\"text-align: right;\">\n",
       "      <th></th>\n",
       "      <th>Datum</th>\n",
       "      <th>Temp. (°C)</th>\n",
       "      <th>Temp. (°C).1</th>\n",
       "      <th>Temp. (°C).2</th>\n",
       "      <th>Feuchte (%)</th>\n",
       "      <th>WG (m/s)</th>\n",
       "      <th>WG (m/s).1</th>\n",
       "      <th>WR (Grad)</th>\n",
       "      <th>Druck (hPa)</th>\n",
       "      <th>Globalstr. (W/m²)</th>\n",
       "      <th>...</th>\n",
       "      <th>NO (µg/m³)</th>\n",
       "      <th>NO2 (µg/m³)</th>\n",
       "      <th>O3 (µg/m³)</th>\n",
       "      <th>SO2 (µg/m³)</th>\n",
       "      <th>CO (mg/m³)</th>\n",
       "      <th>Niederschlag (l/m²)</th>\n",
       "      <th>Str.-Bilanz (W/m²)</th>\n",
       "      <th>PM10 (µg/m³)</th>\n",
       "      <th>PM2.5 (µg/m³)</th>\n",
       "      <th>PM2,5 (µg/m³)</th>\n",
       "    </tr>\n",
       "  </thead>\n",
       "  <tbody>\n",
       "    <tr>\n",
       "      <th>0</th>\n",
       "      <td>2000-01-01</td>\n",
       "      <td>3.718</td>\n",
       "      <td>5.7</td>\n",
       "      <td>2.138</td>\n",
       "      <td>86.83</td>\n",
       "      <td>1.9599</td>\n",
       "      <td>7.45</td>\n",
       "      <td>234.923</td>\n",
       "      <td>991.8</td>\n",
       "      <td>NaN</td>\n",
       "      <td>...</td>\n",
       "      <td>NaN</td>\n",
       "      <td>NaN</td>\n",
       "      <td>13.6</td>\n",
       "      <td>10.38</td>\n",
       "      <td>0.9109</td>\n",
       "      <td>NaN</td>\n",
       "      <td>NaN</td>\n",
       "      <td>NaN</td>\n",
       "      <td>NaN</td>\n",
       "      <td>NaN</td>\n",
       "    </tr>\n",
       "    <tr>\n",
       "      <th>1</th>\n",
       "      <td>2000-01-02</td>\n",
       "      <td>3.848</td>\n",
       "      <td>6.706</td>\n",
       "      <td>1.299</td>\n",
       "      <td>90.69</td>\n",
       "      <td>2.17291</td>\n",
       "      <td>7.891</td>\n",
       "      <td>222.511</td>\n",
       "      <td>996.9</td>\n",
       "      <td>NaN</td>\n",
       "      <td>...</td>\n",
       "      <td>NaN</td>\n",
       "      <td>NaN</td>\n",
       "      <td>16.91</td>\n",
       "      <td>10.74</td>\n",
       "      <td>0.887</td>\n",
       "      <td>NaN</td>\n",
       "      <td>NaN</td>\n",
       "      <td>NaN</td>\n",
       "      <td>NaN</td>\n",
       "      <td>NaN</td>\n",
       "    </tr>\n",
       "    <tr>\n",
       "      <th>2</th>\n",
       "      <td>2000-01-03</td>\n",
       "      <td>1.463</td>\n",
       "      <td>2.706</td>\n",
       "      <td>0.4088</td>\n",
       "      <td>88.48</td>\n",
       "      <td>2.29521</td>\n",
       "      <td>6.03</td>\n",
       "      <td>220.181</td>\n",
       "      <td>996.2</td>\n",
       "      <td>NaN</td>\n",
       "      <td>...</td>\n",
       "      <td>NaN</td>\n",
       "      <td>NaN</td>\n",
       "      <td>15.4</td>\n",
       "      <td>10.29</td>\n",
       "      <td>0.8394</td>\n",
       "      <td>NaN</td>\n",
       "      <td>NaN</td>\n",
       "      <td>NaN</td>\n",
       "      <td>NaN</td>\n",
       "      <td>NaN</td>\n",
       "    </tr>\n",
       "    <tr>\n",
       "      <th>3</th>\n",
       "      <td>2000-01-04</td>\n",
       "      <td>4.934</td>\n",
       "      <td>7.747</td>\n",
       "      <td>0.8828</td>\n",
       "      <td>77.37</td>\n",
       "      <td>3.57498</td>\n",
       "      <td>9.703</td>\n",
       "      <td>220.885</td>\n",
       "      <td>989.9</td>\n",
       "      <td>NaN</td>\n",
       "      <td>...</td>\n",
       "      <td>NaN</td>\n",
       "      <td>NaN</td>\n",
       "      <td>22.43</td>\n",
       "      <td>13.42</td>\n",
       "      <td>0.7822</td>\n",
       "      <td>NaN</td>\n",
       "      <td>NaN</td>\n",
       "      <td>NaN</td>\n",
       "      <td>NaN</td>\n",
       "      <td>NaN</td>\n",
       "    </tr>\n",
       "    <tr>\n",
       "      <th>4</th>\n",
       "      <td>2000-01-05</td>\n",
       "      <td>6.917</td>\n",
       "      <td>10.07</td>\n",
       "      <td>2.034</td>\n",
       "      <td>83.52</td>\n",
       "      <td>2.23721</td>\n",
       "      <td>9.115</td>\n",
       "      <td>220.554</td>\n",
       "      <td>989.7</td>\n",
       "      <td>NaN</td>\n",
       "      <td>...</td>\n",
       "      <td>NaN</td>\n",
       "      <td>NaN</td>\n",
       "      <td>16.03</td>\n",
       "      <td>14.27</td>\n",
       "      <td>1.189</td>\n",
       "      <td>NaN</td>\n",
       "      <td>NaN</td>\n",
       "      <td>NaN</td>\n",
       "      <td>NaN</td>\n",
       "      <td>NaN</td>\n",
       "    </tr>\n",
       "  </tbody>\n",
       "</table>\n",
       "<p>5 rows × 22 columns</p>\n",
       "</div>"
      ],
      "text/plain": [
       "       Datum Temp. (°C) Temp. (°C).1 Temp. (°C).2 Feuchte (%) WG (m/s)  \\\n",
       "0 2000-01-01      3.718          5.7        2.138       86.83   1.9599   \n",
       "1 2000-01-02      3.848        6.706        1.299       90.69  2.17291   \n",
       "2 2000-01-03      1.463        2.706       0.4088       88.48  2.29521   \n",
       "3 2000-01-04      4.934        7.747       0.8828       77.37  3.57498   \n",
       "4 2000-01-05      6.917        10.07        2.034       83.52  2.23721   \n",
       "\n",
       "  WG (m/s).1 WR (Grad) Druck (hPa) Globalstr. (W/m²)  ... NO (µg/m³)  \\\n",
       "0       7.45   234.923       991.8               NaN  ...        NaN   \n",
       "1      7.891   222.511       996.9               NaN  ...        NaN   \n",
       "2       6.03   220.181       996.2               NaN  ...        NaN   \n",
       "3      9.703   220.885       989.9               NaN  ...        NaN   \n",
       "4      9.115   220.554       989.7               NaN  ...        NaN   \n",
       "\n",
       "  NO2 (µg/m³) O3 (µg/m³) SO2 (µg/m³) CO (mg/m³) Niederschlag (l/m²)  \\\n",
       "0         NaN       13.6       10.38     0.9109                 NaN   \n",
       "1         NaN      16.91       10.74      0.887                 NaN   \n",
       "2         NaN       15.4       10.29     0.8394                 NaN   \n",
       "3         NaN      22.43       13.42     0.7822                 NaN   \n",
       "4         NaN      16.03       14.27      1.189                 NaN   \n",
       "\n",
       "  Str.-Bilanz (W/m²) PM10 (µg/m³) PM2.5 (µg/m³) PM2,5 (µg/m³)  \n",
       "0                NaN          NaN           NaN           NaN  \n",
       "1                NaN          NaN           NaN           NaN  \n",
       "2                NaN          NaN           NaN           NaN  \n",
       "3                NaN          NaN           NaN           NaN  \n",
       "4                NaN          NaN           NaN           NaN  \n",
       "\n",
       "[5 rows x 22 columns]"
      ]
     },
     "execution_count": 41,
     "metadata": {},
     "output_type": "execute_result"
    }
   ],
   "source": [
    "df_air.head(5)"
   ]
  },
  {
   "cell_type": "code",
   "execution_count": 42,
   "metadata": {},
   "outputs": [
    {
     "data": {
      "text/plain": [
       "Timestamp('2000-01-01 00:00:00')"
      ]
     },
     "execution_count": 42,
     "metadata": {},
     "output_type": "execute_result"
    }
   ],
   "source": [
    "df_air['Datum'][0]"
   ]
  },
  {
   "cell_type": "code",
   "execution_count": 43,
   "metadata": {},
   "outputs": [
    {
     "name": "stdout",
     "output_type": "stream",
     "text": [
      "<class 'pandas.core.frame.DataFrame'>\n",
      "RangeIndex: 7457 entries, 0 to 7456\n",
      "Data columns (total 22 columns):\n",
      "Datum                  7457 non-null datetime64[ns]\n",
      "Temp. (°C)             7331 non-null object\n",
      "Temp. (°C).1           7334 non-null object\n",
      "Temp. (°C).2           7320 non-null object\n",
      "Feuchte (%)            6987 non-null object\n",
      "WG (m/s)               7433 non-null object\n",
      "WG (m/s).1             7347 non-null object\n",
      "WR (Grad)              7433 non-null object\n",
      "Druck (hPa)            7299 non-null object\n",
      "Globalstr. (W/m²)      7283 non-null object\n",
      "UVA-Str. (W/m²)        7254 non-null object\n",
      "UVB-Str. (W/m²)        7253 non-null object\n",
      "NO (µg/m³)             6755 non-null object\n",
      "NO2 (µg/m³)            6742 non-null object\n",
      "O3 (µg/m³)             7004 non-null object\n",
      "SO2 (µg/m³)            3136 non-null object\n",
      "CO (mg/m³)             1277 non-null object\n",
      "Niederschlag (l/m²)    6969 non-null object\n",
      "Str.-Bilanz (W/m²)     6727 non-null object\n",
      "PM10 (µg/m³)           6269 non-null object\n",
      "PM2.5 (µg/m³)          1847 non-null object\n",
      "PM2,5 (µg/m³)          91 non-null object\n",
      "dtypes: datetime64[ns](1), object(21)\n",
      "memory usage: 1.3+ MB\n"
     ]
    }
   ],
   "source": [
    "df_air.info()"
   ]
  },
  {
   "cell_type": "code",
   "execution_count": 44,
   "metadata": {},
   "outputs": [],
   "source": [
    "df_air['Datum'] = df_air['Datum'].dt.normalize()\n",
    "#df_air['Datum'] = df_air['Datum'].dt.date"
   ]
  },
  {
   "cell_type": "code",
   "execution_count": 45,
   "metadata": {},
   "outputs": [
    {
     "data": {
      "text/html": [
       "<div>\n",
       "<style scoped>\n",
       "    .dataframe tbody tr th:only-of-type {\n",
       "        vertical-align: middle;\n",
       "    }\n",
       "\n",
       "    .dataframe tbody tr th {\n",
       "        vertical-align: top;\n",
       "    }\n",
       "\n",
       "    .dataframe thead th {\n",
       "        text-align: right;\n",
       "    }\n",
       "</style>\n",
       "<table border=\"1\" class=\"dataframe\">\n",
       "  <thead>\n",
       "    <tr style=\"text-align: right;\">\n",
       "      <th></th>\n",
       "      <th>Datum</th>\n",
       "      <th>Temp. (°C)</th>\n",
       "      <th>Temp. (°C).1</th>\n",
       "      <th>Temp. (°C).2</th>\n",
       "      <th>Feuchte (%)</th>\n",
       "      <th>WG (m/s)</th>\n",
       "      <th>WG (m/s).1</th>\n",
       "      <th>WR (Grad)</th>\n",
       "      <th>Druck (hPa)</th>\n",
       "      <th>Globalstr. (W/m²)</th>\n",
       "      <th>...</th>\n",
       "      <th>NO (µg/m³)</th>\n",
       "      <th>NO2 (µg/m³)</th>\n",
       "      <th>O3 (µg/m³)</th>\n",
       "      <th>SO2 (µg/m³)</th>\n",
       "      <th>CO (mg/m³)</th>\n",
       "      <th>Niederschlag (l/m²)</th>\n",
       "      <th>Str.-Bilanz (W/m²)</th>\n",
       "      <th>PM10 (µg/m³)</th>\n",
       "      <th>PM2.5 (µg/m³)</th>\n",
       "      <th>PM2,5 (µg/m³)</th>\n",
       "    </tr>\n",
       "  </thead>\n",
       "  <tbody>\n",
       "    <tr>\n",
       "      <th>0</th>\n",
       "      <td>2000-01-01</td>\n",
       "      <td>3.718</td>\n",
       "      <td>5.7</td>\n",
       "      <td>2.138</td>\n",
       "      <td>86.83</td>\n",
       "      <td>1.9599</td>\n",
       "      <td>7.45</td>\n",
       "      <td>234.923</td>\n",
       "      <td>991.8</td>\n",
       "      <td>NaN</td>\n",
       "      <td>...</td>\n",
       "      <td>NaN</td>\n",
       "      <td>NaN</td>\n",
       "      <td>13.6</td>\n",
       "      <td>10.38</td>\n",
       "      <td>0.9109</td>\n",
       "      <td>NaN</td>\n",
       "      <td>NaN</td>\n",
       "      <td>NaN</td>\n",
       "      <td>NaN</td>\n",
       "      <td>NaN</td>\n",
       "    </tr>\n",
       "    <tr>\n",
       "      <th>1</th>\n",
       "      <td>2000-01-02</td>\n",
       "      <td>3.848</td>\n",
       "      <td>6.706</td>\n",
       "      <td>1.299</td>\n",
       "      <td>90.69</td>\n",
       "      <td>2.17291</td>\n",
       "      <td>7.891</td>\n",
       "      <td>222.511</td>\n",
       "      <td>996.9</td>\n",
       "      <td>NaN</td>\n",
       "      <td>...</td>\n",
       "      <td>NaN</td>\n",
       "      <td>NaN</td>\n",
       "      <td>16.91</td>\n",
       "      <td>10.74</td>\n",
       "      <td>0.887</td>\n",
       "      <td>NaN</td>\n",
       "      <td>NaN</td>\n",
       "      <td>NaN</td>\n",
       "      <td>NaN</td>\n",
       "      <td>NaN</td>\n",
       "    </tr>\n",
       "    <tr>\n",
       "      <th>2</th>\n",
       "      <td>2000-01-03</td>\n",
       "      <td>1.463</td>\n",
       "      <td>2.706</td>\n",
       "      <td>0.4088</td>\n",
       "      <td>88.48</td>\n",
       "      <td>2.29521</td>\n",
       "      <td>6.03</td>\n",
       "      <td>220.181</td>\n",
       "      <td>996.2</td>\n",
       "      <td>NaN</td>\n",
       "      <td>...</td>\n",
       "      <td>NaN</td>\n",
       "      <td>NaN</td>\n",
       "      <td>15.4</td>\n",
       "      <td>10.29</td>\n",
       "      <td>0.8394</td>\n",
       "      <td>NaN</td>\n",
       "      <td>NaN</td>\n",
       "      <td>NaN</td>\n",
       "      <td>NaN</td>\n",
       "      <td>NaN</td>\n",
       "    </tr>\n",
       "    <tr>\n",
       "      <th>3</th>\n",
       "      <td>2000-01-04</td>\n",
       "      <td>4.934</td>\n",
       "      <td>7.747</td>\n",
       "      <td>0.8828</td>\n",
       "      <td>77.37</td>\n",
       "      <td>3.57498</td>\n",
       "      <td>9.703</td>\n",
       "      <td>220.885</td>\n",
       "      <td>989.9</td>\n",
       "      <td>NaN</td>\n",
       "      <td>...</td>\n",
       "      <td>NaN</td>\n",
       "      <td>NaN</td>\n",
       "      <td>22.43</td>\n",
       "      <td>13.42</td>\n",
       "      <td>0.7822</td>\n",
       "      <td>NaN</td>\n",
       "      <td>NaN</td>\n",
       "      <td>NaN</td>\n",
       "      <td>NaN</td>\n",
       "      <td>NaN</td>\n",
       "    </tr>\n",
       "    <tr>\n",
       "      <th>4</th>\n",
       "      <td>2000-01-05</td>\n",
       "      <td>6.917</td>\n",
       "      <td>10.07</td>\n",
       "      <td>2.034</td>\n",
       "      <td>83.52</td>\n",
       "      <td>2.23721</td>\n",
       "      <td>9.115</td>\n",
       "      <td>220.554</td>\n",
       "      <td>989.7</td>\n",
       "      <td>NaN</td>\n",
       "      <td>...</td>\n",
       "      <td>NaN</td>\n",
       "      <td>NaN</td>\n",
       "      <td>16.03</td>\n",
       "      <td>14.27</td>\n",
       "      <td>1.189</td>\n",
       "      <td>NaN</td>\n",
       "      <td>NaN</td>\n",
       "      <td>NaN</td>\n",
       "      <td>NaN</td>\n",
       "      <td>NaN</td>\n",
       "    </tr>\n",
       "  </tbody>\n",
       "</table>\n",
       "<p>5 rows × 22 columns</p>\n",
       "</div>"
      ],
      "text/plain": [
       "       Datum Temp. (°C) Temp. (°C).1 Temp. (°C).2 Feuchte (%) WG (m/s)  \\\n",
       "0 2000-01-01      3.718          5.7        2.138       86.83   1.9599   \n",
       "1 2000-01-02      3.848        6.706        1.299       90.69  2.17291   \n",
       "2 2000-01-03      1.463        2.706       0.4088       88.48  2.29521   \n",
       "3 2000-01-04      4.934        7.747       0.8828       77.37  3.57498   \n",
       "4 2000-01-05      6.917        10.07        2.034       83.52  2.23721   \n",
       "\n",
       "  WG (m/s).1 WR (Grad) Druck (hPa) Globalstr. (W/m²)  ... NO (µg/m³)  \\\n",
       "0       7.45   234.923       991.8               NaN  ...        NaN   \n",
       "1      7.891   222.511       996.9               NaN  ...        NaN   \n",
       "2       6.03   220.181       996.2               NaN  ...        NaN   \n",
       "3      9.703   220.885       989.9               NaN  ...        NaN   \n",
       "4      9.115   220.554       989.7               NaN  ...        NaN   \n",
       "\n",
       "  NO2 (µg/m³) O3 (µg/m³) SO2 (µg/m³) CO (mg/m³) Niederschlag (l/m²)  \\\n",
       "0         NaN       13.6       10.38     0.9109                 NaN   \n",
       "1         NaN      16.91       10.74      0.887                 NaN   \n",
       "2         NaN       15.4       10.29     0.8394                 NaN   \n",
       "3         NaN      22.43       13.42     0.7822                 NaN   \n",
       "4         NaN      16.03       14.27      1.189                 NaN   \n",
       "\n",
       "  Str.-Bilanz (W/m²) PM10 (µg/m³) PM2.5 (µg/m³) PM2,5 (µg/m³)  \n",
       "0                NaN          NaN           NaN           NaN  \n",
       "1                NaN          NaN           NaN           NaN  \n",
       "2                NaN          NaN           NaN           NaN  \n",
       "3                NaN          NaN           NaN           NaN  \n",
       "4                NaN          NaN           NaN           NaN  \n",
       "\n",
       "[5 rows x 22 columns]"
      ]
     },
     "execution_count": 45,
     "metadata": {},
     "output_type": "execute_result"
    }
   ],
   "source": [
    "df_air.head(5)"
   ]
  },
  {
   "cell_type": "code",
   "execution_count": 46,
   "metadata": {},
   "outputs": [
    {
     "name": "stdout",
     "output_type": "stream",
     "text": [
      "<class 'pandas.core.frame.DataFrame'>\n",
      "RangeIndex: 7457 entries, 0 to 7456\n",
      "Data columns (total 22 columns):\n",
      "Datum                  7457 non-null datetime64[ns]\n",
      "Temp. (°C)             7331 non-null object\n",
      "Temp. (°C).1           7334 non-null object\n",
      "Temp. (°C).2           7320 non-null object\n",
      "Feuchte (%)            6987 non-null object\n",
      "WG (m/s)               7433 non-null object\n",
      "WG (m/s).1             7347 non-null object\n",
      "WR (Grad)              7433 non-null object\n",
      "Druck (hPa)            7299 non-null object\n",
      "Globalstr. (W/m²)      7283 non-null object\n",
      "UVA-Str. (W/m²)        7254 non-null object\n",
      "UVB-Str. (W/m²)        7253 non-null object\n",
      "NO (µg/m³)             6755 non-null object\n",
      "NO2 (µg/m³)            6742 non-null object\n",
      "O3 (µg/m³)             7004 non-null object\n",
      "SO2 (µg/m³)            3136 non-null object\n",
      "CO (mg/m³)             1277 non-null object\n",
      "Niederschlag (l/m²)    6969 non-null object\n",
      "Str.-Bilanz (W/m²)     6727 non-null object\n",
      "PM10 (µg/m³)           6269 non-null object\n",
      "PM2.5 (µg/m³)          1847 non-null object\n",
      "PM2,5 (µg/m³)          91 non-null object\n",
      "dtypes: datetime64[ns](1), object(21)\n",
      "memory usage: 1.3+ MB\n"
     ]
    }
   ],
   "source": [
    "df_air.info()"
   ]
  },
  {
   "cell_type": "code",
   "execution_count": 47,
   "metadata": {},
   "outputs": [
    {
     "data": {
      "text/plain": [
       "Timestamp('2000-01-01 00:00:00')"
      ]
     },
     "execution_count": 47,
     "metadata": {},
     "output_type": "execute_result"
    }
   ],
   "source": [
    "df_air['Datum'][0]"
   ]
  },
  {
   "cell_type": "markdown",
   "metadata": {},
   "source": [
    "Import function to import the traffic data "
   ]
  },
  {
   "cell_type": "code",
   "execution_count": 48,
   "metadata": {},
   "outputs": [],
   "source": [
    "def trafficImport(path, listYear):\n",
    "    mydateparser = lambda x: pd.datetime.strptime(x, \"%y%m%d\")\n",
    "    \n",
    "    for i in listYear:\n",
    "        \n",
    "        path_full = path + str(i) + \".csv\"    \n",
    "    \n",
    "        if i == 2003:\n",
    "            df_traffic = pd.read_csv(path_full,\n",
    "                         header=0,\n",
    "                         sep=\";\",\n",
    "                         parse_dates=['Datum'],\n",
    "                         date_parser=mydateparser,\n",
    "                         index_col=['Datum'])   \n",
    "        \n",
    "        else:\n",
    "            df_traffic_temp = pd.read_csv(path_full,\n",
    "                         header=0,\n",
    "                         sep=\";\",\n",
    "                         parse_dates=['Datum'],\n",
    "                         date_parser=mydateparser,\n",
    "                         index_col=['Datum'])\n",
    "            df_traffic = df_traffic.append(df_traffic_temp, sort=False)\n",
    "            \n",
    "    df_traffic = df_traffic[[\"KFZ_R1\", \"KFZ_R2\"]]\n",
    "    df_traffic = df_traffic.resample('d').sum()\n",
    "    df_traffic.loc[:,'KFZ_ges'] = df_traffic.loc[:,'KFZ_R1'].add(df_traffic.loc[:,'KFZ_R2'])\n",
    "    df_traffic = df_traffic[[\"KFZ_ges\"]] \n",
    "    return df_traffic"
   ]
  },
  {
   "cell_type": "code",
   "execution_count": 49,
   "metadata": {},
   "outputs": [],
   "source": [
    "path = \"Data/zst8440_\"\n",
    "listYear = list(range(2003, 2019, 1))\n",
    "\n",
    "df_traffic = trafficImport(path, listYear)"
   ]
  },
  {
   "cell_type": "code",
   "execution_count": 50,
   "metadata": {},
   "outputs": [
    {
     "data": {
      "text/html": [
       "<div>\n",
       "<style scoped>\n",
       "    .dataframe tbody tr th:only-of-type {\n",
       "        vertical-align: middle;\n",
       "    }\n",
       "\n",
       "    .dataframe tbody tr th {\n",
       "        vertical-align: top;\n",
       "    }\n",
       "\n",
       "    .dataframe thead th {\n",
       "        text-align: right;\n",
       "    }\n",
       "</style>\n",
       "<table border=\"1\" class=\"dataframe\">\n",
       "  <thead>\n",
       "    <tr style=\"text-align: right;\">\n",
       "      <th></th>\n",
       "      <th>KFZ_ges</th>\n",
       "    </tr>\n",
       "    <tr>\n",
       "      <th>Datum</th>\n",
       "      <th></th>\n",
       "    </tr>\n",
       "  </thead>\n",
       "  <tbody>\n",
       "    <tr>\n",
       "      <th>2018-12-12</th>\n",
       "      <td>92538</td>\n",
       "    </tr>\n",
       "    <tr>\n",
       "      <th>2018-12-13</th>\n",
       "      <td>93149</td>\n",
       "    </tr>\n",
       "    <tr>\n",
       "      <th>2018-12-14</th>\n",
       "      <td>94499</td>\n",
       "    </tr>\n",
       "    <tr>\n",
       "      <th>2018-12-15</th>\n",
       "      <td>73707</td>\n",
       "    </tr>\n",
       "    <tr>\n",
       "      <th>2018-12-16</th>\n",
       "      <td>51562</td>\n",
       "    </tr>\n",
       "    <tr>\n",
       "      <th>2018-12-17</th>\n",
       "      <td>87852</td>\n",
       "    </tr>\n",
       "    <tr>\n",
       "      <th>2018-12-18</th>\n",
       "      <td>92519</td>\n",
       "    </tr>\n",
       "    <tr>\n",
       "      <th>2018-12-19</th>\n",
       "      <td>88648</td>\n",
       "    </tr>\n",
       "    <tr>\n",
       "      <th>2018-12-20</th>\n",
       "      <td>91270</td>\n",
       "    </tr>\n",
       "    <tr>\n",
       "      <th>2018-12-21</th>\n",
       "      <td>82932</td>\n",
       "    </tr>\n",
       "    <tr>\n",
       "      <th>2018-12-22</th>\n",
       "      <td>65435</td>\n",
       "    </tr>\n",
       "    <tr>\n",
       "      <th>2018-12-23</th>\n",
       "      <td>47674</td>\n",
       "    </tr>\n",
       "    <tr>\n",
       "      <th>2018-12-24</th>\n",
       "      <td>43027</td>\n",
       "    </tr>\n",
       "    <tr>\n",
       "      <th>2018-12-25</th>\n",
       "      <td>44515</td>\n",
       "    </tr>\n",
       "    <tr>\n",
       "      <th>2018-12-26</th>\n",
       "      <td>49802</td>\n",
       "    </tr>\n",
       "    <tr>\n",
       "      <th>2018-12-27</th>\n",
       "      <td>63079</td>\n",
       "    </tr>\n",
       "    <tr>\n",
       "      <th>2018-12-28</th>\n",
       "      <td>63118</td>\n",
       "    </tr>\n",
       "    <tr>\n",
       "      <th>2018-12-29</th>\n",
       "      <td>54339</td>\n",
       "    </tr>\n",
       "    <tr>\n",
       "      <th>2018-12-30</th>\n",
       "      <td>41674</td>\n",
       "    </tr>\n",
       "    <tr>\n",
       "      <th>2018-12-31</th>\n",
       "      <td>37776</td>\n",
       "    </tr>\n",
       "  </tbody>\n",
       "</table>\n",
       "</div>"
      ],
      "text/plain": [
       "            KFZ_ges\n",
       "Datum              \n",
       "2018-12-12    92538\n",
       "2018-12-13    93149\n",
       "2018-12-14    94499\n",
       "2018-12-15    73707\n",
       "2018-12-16    51562\n",
       "2018-12-17    87852\n",
       "2018-12-18    92519\n",
       "2018-12-19    88648\n",
       "2018-12-20    91270\n",
       "2018-12-21    82932\n",
       "2018-12-22    65435\n",
       "2018-12-23    47674\n",
       "2018-12-24    43027\n",
       "2018-12-25    44515\n",
       "2018-12-26    49802\n",
       "2018-12-27    63079\n",
       "2018-12-28    63118\n",
       "2018-12-29    54339\n",
       "2018-12-30    41674\n",
       "2018-12-31    37776"
      ]
     },
     "execution_count": 50,
     "metadata": {},
     "output_type": "execute_result"
    }
   ],
   "source": [
    "df_traffic.tail(20)"
   ]
  },
  {
   "cell_type": "markdown",
   "metadata": {},
   "source": [
    "Merge function to merge the two dataframes to one:"
   ]
  },
  {
   "cell_type": "code",
   "execution_count": 51,
   "metadata": {},
   "outputs": [],
   "source": [
    "df_ges = pd.merge(df_air, df_traffic, how='outer', on='Datum')"
   ]
  },
  {
   "cell_type": "code",
   "execution_count": 56,
   "metadata": {},
   "outputs": [
    {
     "data": {
      "text/html": [
       "<div>\n",
       "<style scoped>\n",
       "    .dataframe tbody tr th:only-of-type {\n",
       "        vertical-align: middle;\n",
       "    }\n",
       "\n",
       "    .dataframe tbody tr th {\n",
       "        vertical-align: top;\n",
       "    }\n",
       "\n",
       "    .dataframe thead th {\n",
       "        text-align: right;\n",
       "    }\n",
       "</style>\n",
       "<table border=\"1\" class=\"dataframe\">\n",
       "  <thead>\n",
       "    <tr style=\"text-align: right;\">\n",
       "      <th></th>\n",
       "      <th>Datum</th>\n",
       "      <th>Temp. (°C)</th>\n",
       "      <th>Temp. (°C).1</th>\n",
       "      <th>Temp. (°C).2</th>\n",
       "      <th>Feuchte (%)</th>\n",
       "      <th>WG (m/s)</th>\n",
       "      <th>WG (m/s).1</th>\n",
       "      <th>WR (Grad)</th>\n",
       "      <th>Druck (hPa)</th>\n",
       "      <th>Globalstr. (W/m²)</th>\n",
       "      <th>...</th>\n",
       "      <th>NO2 (µg/m³)</th>\n",
       "      <th>O3 (µg/m³)</th>\n",
       "      <th>SO2 (µg/m³)</th>\n",
       "      <th>CO (mg/m³)</th>\n",
       "      <th>Niederschlag (l/m²)</th>\n",
       "      <th>Str.-Bilanz (W/m²)</th>\n",
       "      <th>PM10 (µg/m³)</th>\n",
       "      <th>PM2.5 (µg/m³)</th>\n",
       "      <th>PM2,5 (µg/m³)</th>\n",
       "      <th>KFZ_ges</th>\n",
       "    </tr>\n",
       "  </thead>\n",
       "  <tbody>\n",
       "    <tr>\n",
       "      <th>0</th>\n",
       "      <td>2000-01-01</td>\n",
       "      <td>3.718</td>\n",
       "      <td>5.7</td>\n",
       "      <td>2.138</td>\n",
       "      <td>86.83</td>\n",
       "      <td>1.9599</td>\n",
       "      <td>7.45</td>\n",
       "      <td>234.923</td>\n",
       "      <td>991.8</td>\n",
       "      <td>NaN</td>\n",
       "      <td>...</td>\n",
       "      <td>NaN</td>\n",
       "      <td>13.6</td>\n",
       "      <td>10.38</td>\n",
       "      <td>0.9109</td>\n",
       "      <td>NaN</td>\n",
       "      <td>NaN</td>\n",
       "      <td>NaN</td>\n",
       "      <td>NaN</td>\n",
       "      <td>NaN</td>\n",
       "      <td>NaN</td>\n",
       "    </tr>\n",
       "    <tr>\n",
       "      <th>1</th>\n",
       "      <td>2000-01-02</td>\n",
       "      <td>3.848</td>\n",
       "      <td>6.706</td>\n",
       "      <td>1.299</td>\n",
       "      <td>90.69</td>\n",
       "      <td>2.17291</td>\n",
       "      <td>7.891</td>\n",
       "      <td>222.511</td>\n",
       "      <td>996.9</td>\n",
       "      <td>NaN</td>\n",
       "      <td>...</td>\n",
       "      <td>NaN</td>\n",
       "      <td>16.91</td>\n",
       "      <td>10.74</td>\n",
       "      <td>0.887</td>\n",
       "      <td>NaN</td>\n",
       "      <td>NaN</td>\n",
       "      <td>NaN</td>\n",
       "      <td>NaN</td>\n",
       "      <td>NaN</td>\n",
       "      <td>NaN</td>\n",
       "    </tr>\n",
       "    <tr>\n",
       "      <th>2</th>\n",
       "      <td>2000-01-03</td>\n",
       "      <td>1.463</td>\n",
       "      <td>2.706</td>\n",
       "      <td>0.4088</td>\n",
       "      <td>88.48</td>\n",
       "      <td>2.29521</td>\n",
       "      <td>6.03</td>\n",
       "      <td>220.181</td>\n",
       "      <td>996.2</td>\n",
       "      <td>NaN</td>\n",
       "      <td>...</td>\n",
       "      <td>NaN</td>\n",
       "      <td>15.4</td>\n",
       "      <td>10.29</td>\n",
       "      <td>0.8394</td>\n",
       "      <td>NaN</td>\n",
       "      <td>NaN</td>\n",
       "      <td>NaN</td>\n",
       "      <td>NaN</td>\n",
       "      <td>NaN</td>\n",
       "      <td>NaN</td>\n",
       "    </tr>\n",
       "    <tr>\n",
       "      <th>3</th>\n",
       "      <td>2000-01-04</td>\n",
       "      <td>4.934</td>\n",
       "      <td>7.747</td>\n",
       "      <td>0.8828</td>\n",
       "      <td>77.37</td>\n",
       "      <td>3.57498</td>\n",
       "      <td>9.703</td>\n",
       "      <td>220.885</td>\n",
       "      <td>989.9</td>\n",
       "      <td>NaN</td>\n",
       "      <td>...</td>\n",
       "      <td>NaN</td>\n",
       "      <td>22.43</td>\n",
       "      <td>13.42</td>\n",
       "      <td>0.7822</td>\n",
       "      <td>NaN</td>\n",
       "      <td>NaN</td>\n",
       "      <td>NaN</td>\n",
       "      <td>NaN</td>\n",
       "      <td>NaN</td>\n",
       "      <td>NaN</td>\n",
       "    </tr>\n",
       "    <tr>\n",
       "      <th>4</th>\n",
       "      <td>2000-01-05</td>\n",
       "      <td>6.917</td>\n",
       "      <td>10.07</td>\n",
       "      <td>2.034</td>\n",
       "      <td>83.52</td>\n",
       "      <td>2.23721</td>\n",
       "      <td>9.115</td>\n",
       "      <td>220.554</td>\n",
       "      <td>989.7</td>\n",
       "      <td>NaN</td>\n",
       "      <td>...</td>\n",
       "      <td>NaN</td>\n",
       "      <td>16.03</td>\n",
       "      <td>14.27</td>\n",
       "      <td>1.189</td>\n",
       "      <td>NaN</td>\n",
       "      <td>NaN</td>\n",
       "      <td>NaN</td>\n",
       "      <td>NaN</td>\n",
       "      <td>NaN</td>\n",
       "      <td>NaN</td>\n",
       "    </tr>\n",
       "  </tbody>\n",
       "</table>\n",
       "<p>5 rows × 23 columns</p>\n",
       "</div>"
      ],
      "text/plain": [
       "       Datum Temp. (°C) Temp. (°C).1 Temp. (°C).2 Feuchte (%) WG (m/s)  \\\n",
       "0 2000-01-01      3.718          5.7        2.138       86.83   1.9599   \n",
       "1 2000-01-02      3.848        6.706        1.299       90.69  2.17291   \n",
       "2 2000-01-03      1.463        2.706       0.4088       88.48  2.29521   \n",
       "3 2000-01-04      4.934        7.747       0.8828       77.37  3.57498   \n",
       "4 2000-01-05      6.917        10.07        2.034       83.52  2.23721   \n",
       "\n",
       "  WG (m/s).1 WR (Grad) Druck (hPa) Globalstr. (W/m²)  ... NO2 (µg/m³)  \\\n",
       "0       7.45   234.923       991.8               NaN  ...         NaN   \n",
       "1      7.891   222.511       996.9               NaN  ...         NaN   \n",
       "2       6.03   220.181       996.2               NaN  ...         NaN   \n",
       "3      9.703   220.885       989.9               NaN  ...         NaN   \n",
       "4      9.115   220.554       989.7               NaN  ...         NaN   \n",
       "\n",
       "  O3 (µg/m³) SO2 (µg/m³) CO (mg/m³) Niederschlag (l/m²) Str.-Bilanz (W/m²)  \\\n",
       "0       13.6       10.38     0.9109                 NaN                NaN   \n",
       "1      16.91       10.74      0.887                 NaN                NaN   \n",
       "2       15.4       10.29     0.8394                 NaN                NaN   \n",
       "3      22.43       13.42     0.7822                 NaN                NaN   \n",
       "4      16.03       14.27      1.189                 NaN                NaN   \n",
       "\n",
       "  PM10 (µg/m³) PM2.5 (µg/m³) PM2,5 (µg/m³) KFZ_ges  \n",
       "0          NaN           NaN           NaN     NaN  \n",
       "1          NaN           NaN           NaN     NaN  \n",
       "2          NaN           NaN           NaN     NaN  \n",
       "3          NaN           NaN           NaN     NaN  \n",
       "4          NaN           NaN           NaN     NaN  \n",
       "\n",
       "[5 rows x 23 columns]"
      ]
     },
     "execution_count": 56,
     "metadata": {},
     "output_type": "execute_result"
    }
   ],
   "source": [
    "df_ges.head()"
   ]
  },
  {
   "cell_type": "markdown",
   "metadata": {},
   "source": [
    "## Data Description and Understanding"
   ]
  },
  {
   "cell_type": "code",
   "execution_count": null,
   "metadata": {},
   "outputs": [],
   "source": []
  },
  {
   "cell_type": "markdown",
   "metadata": {},
   "source": [
    "### Data Quantity"
   ]
  },
  {
   "cell_type": "code",
   "execution_count": null,
   "metadata": {},
   "outputs": [],
   "source": []
  },
  {
   "cell_type": "markdown",
   "metadata": {},
   "source": [
    "### Data Quality"
   ]
  },
  {
   "cell_type": "code",
   "execution_count": null,
   "metadata": {},
   "outputs": [],
   "source": []
  },
  {
   "cell_type": "code",
   "execution_count": null,
   "metadata": {},
   "outputs": [],
   "source": []
  },
  {
   "cell_type": "markdown",
   "metadata": {},
   "source": [
    "# Data Preparation"
   ]
  },
  {
   "cell_type": "markdown",
   "metadata": {},
   "source": [
    "## Data Investigation"
   ]
  },
  {
   "cell_type": "markdown",
   "metadata": {},
   "source": [
    "### Data Visualization"
   ]
  },
  {
   "cell_type": "code",
   "execution_count": null,
   "metadata": {},
   "outputs": [],
   "source": [
    "from utils import heatMap\n",
    "heatMap(df_ges)"
   ]
  },
  {
   "cell_type": "code",
   "execution_count": null,
   "metadata": {},
   "outputs": [],
   "source": []
  },
  {
   "cell_type": "code",
   "execution_count": null,
   "metadata": {},
   "outputs": [],
   "source": [
    "#sns.pairplot(data=df_outer)"
   ]
  },
  {
   "cell_type": "code",
   "execution_count": null,
   "metadata": {},
   "outputs": [],
   "source": []
  },
  {
   "cell_type": "code",
   "execution_count": null,
   "metadata": {},
   "outputs": [],
   "source": [
    "sns.catplot(x='Year',y='Crime Index',kind='box',data=df_ges)"
   ]
  },
  {
   "cell_type": "markdown",
   "metadata": {},
   "source": [
    "### Descriptive Statistics"
   ]
  },
  {
   "cell_type": "code",
   "execution_count": null,
   "metadata": {},
   "outputs": [],
   "source": []
  },
  {
   "cell_type": "markdown",
   "metadata": {},
   "source": [
    "### Detection of Missing Values"
   ]
  },
  {
   "cell_type": "markdown",
   "metadata": {},
   "source": [
    "Deletion of all missing values:"
   ]
  },
  {
   "cell_type": "code",
   "execution_count": null,
   "metadata": {},
   "outputs": [],
   "source": [
    "df_outer=df_outer.dropna()"
   ]
  },
  {
   "cell_type": "markdown",
   "metadata": {},
   "source": [
    "### Outlier Detection and Handling"
   ]
  },
  {
   "cell_type": "code",
   "execution_count": null,
   "metadata": {},
   "outputs": [],
   "source": []
  },
  {
   "cell_type": "markdown",
   "metadata": {},
   "source": [
    "### Definition of Sampling Rates"
   ]
  },
  {
   "cell_type": "code",
   "execution_count": null,
   "metadata": {},
   "outputs": [],
   "source": []
  },
  {
   "cell_type": "markdown",
   "metadata": {},
   "source": [
    "### Features Selection"
   ]
  },
  {
   "cell_type": "raw",
   "metadata": {},
   "source": [
    "!pip install yellowbrick"
   ]
  },
  {
   "cell_type": "code",
   "execution_count": null,
   "metadata": {},
   "outputs": [],
   "source": [
    "from sklearn import datasets\n",
    "from yellowbrick.target import FeatureCorrelation\n",
    "\n",
    "X, y = df_outer.drop(['Crime Index', 'Country', 'Year', 'Safety Index'], axis=1).to_numpy(), df_outer['Crime Index'].to_numpy()\n",
    "\n",
    "# Create a list of the feature names\n",
    "features = np.array(list(df_outer.drop(['Crime Index', 'Country', 'Year', 'Safety Index'], axis=1)))\n",
    "\n",
    "# Create a list of the discrete features\n",
    "discrete = [False for _ in range(len(features))]\n",
    "discrete[1] = True\n",
    "\n",
    "# Instantiate the visualizer\n",
    "visualizer = FeatureCorrelation(method='mutual_info-regression', labels=features)\n",
    "\n",
    "visualizer.fit(X, y, discrete_features=discrete, random_state=0)\n",
    "visualizer.show()"
   ]
  },
  {
   "cell_type": "code",
   "execution_count": null,
   "metadata": {},
   "outputs": [],
   "source": []
  },
  {
   "cell_type": "markdown",
   "metadata": {},
   "source": [
    "# Modeling"
   ]
  },
  {
   "cell_type": "markdown",
   "metadata": {},
   "source": [
    "## Data Preparation"
   ]
  },
  {
   "cell_type": "code",
   "execution_count": null,
   "metadata": {},
   "outputs": [],
   "source": []
  },
  {
   "cell_type": "markdown",
   "metadata": {},
   "source": [
    "### Data Scaling and Normalization"
   ]
  },
  {
   "cell_type": "code",
   "execution_count": null,
   "metadata": {},
   "outputs": [],
   "source": []
  },
  {
   "cell_type": "markdown",
   "metadata": {},
   "source": [
    "### Split Data into Training and Validation Samples"
   ]
  },
  {
   "cell_type": "code",
   "execution_count": null,
   "metadata": {},
   "outputs": [],
   "source": []
  },
  {
   "cell_type": "markdown",
   "metadata": {},
   "source": [
    "## Alogrithms Selection"
   ]
  },
  {
   "cell_type": "code",
   "execution_count": null,
   "metadata": {},
   "outputs": [],
   "source": []
  },
  {
   "cell_type": "markdown",
   "metadata": {},
   "source": [
    "## Baseline Models"
   ]
  },
  {
   "cell_type": "code",
   "execution_count": null,
   "metadata": {},
   "outputs": [],
   "source": []
  },
  {
   "cell_type": "markdown",
   "metadata": {},
   "source": [
    "## Deep Learning Models"
   ]
  },
  {
   "cell_type": "code",
   "execution_count": null,
   "metadata": {},
   "outputs": [],
   "source": []
  },
  {
   "cell_type": "markdown",
   "metadata": {},
   "source": [
    "## Hyperparamters Optimization"
   ]
  },
  {
   "cell_type": "code",
   "execution_count": null,
   "metadata": {},
   "outputs": [],
   "source": []
  },
  {
   "cell_type": "markdown",
   "metadata": {},
   "source": [
    "## Evaluation"
   ]
  },
  {
   "cell_type": "markdown",
   "metadata": {},
   "source": [
    "### Model Evaluation (Performance)"
   ]
  },
  {
   "cell_type": "markdown",
   "metadata": {},
   "source": [
    "#### Training Phase"
   ]
  },
  {
   "cell_type": "code",
   "execution_count": null,
   "metadata": {},
   "outputs": [],
   "source": []
  },
  {
   "cell_type": "code",
   "execution_count": null,
   "metadata": {},
   "outputs": [],
   "source": []
  },
  {
   "cell_type": "code",
   "execution_count": null,
   "metadata": {},
   "outputs": [],
   "source": []
  },
  {
   "cell_type": "markdown",
   "metadata": {},
   "source": [
    "#### Testing Phase"
   ]
  },
  {
   "cell_type": "code",
   "execution_count": null,
   "metadata": {},
   "outputs": [],
   "source": []
  },
  {
   "cell_type": "code",
   "execution_count": null,
   "metadata": {},
   "outputs": [],
   "source": []
  },
  {
   "cell_type": "markdown",
   "metadata": {},
   "source": [
    "# Projekt Evaluation"
   ]
  },
  {
   "cell_type": "code",
   "execution_count": null,
   "metadata": {},
   "outputs": [],
   "source": []
  },
  {
   "cell_type": "code",
   "execution_count": null,
   "metadata": {},
   "outputs": [],
   "source": []
  },
  {
   "cell_type": "code",
   "execution_count": null,
   "metadata": {},
   "outputs": [],
   "source": []
  },
  {
   "cell_type": "markdown",
   "metadata": {},
   "source": [
    "# Deployment"
   ]
  },
  {
   "cell_type": "code",
   "execution_count": null,
   "metadata": {},
   "outputs": [],
   "source": []
  },
  {
   "cell_type": "markdown",
   "metadata": {},
   "source": [
    "In the first phase of CRISP the overall business-case, which shall be supported by the data mining process must be clearly defined and understood. Then the goal of the data mining project itself must be defined. This includes the specification of metrics for measuring the performance of the data mining project.\n",
    "\n",
    "In the second phase data must be gathered, accessed, understood and described. Quantitiy and qualitity of the data must be assessed on a high-level.\n",
    "\n",
    "In the third phase data must be investigated and understood more thoroughly. Common means for understanding data are e.g. visualization and the calculation of simple statistics. Outliers must be detected and processed, sampling rates must be determined, features must be selected and eventually be transformed to other formats.\n",
    "\n",
    "In the modelling phase various algorithms and their hyperparameters are selected and applied. Their performance on the given data is determined in the evaluation phase.\n",
    "\n",
    "The output of the evaluation is usually fed back to the first phases (business- and data-understanding). Applying this feedback the techniques in the overall process are adapted and optimized. Usually only after several iterations of this process the evaluation yields good results and the project can be deployed."
   ]
  },
  {
   "cell_type": "code",
   "execution_count": null,
   "metadata": {},
   "outputs": [],
   "source": []
  }
 ],
 "metadata": {
  "kernelspec": {
   "display_name": "Python 3",
   "language": "python",
   "name": "python3"
  },
  "language_info": {
   "codemirror_mode": {
    "name": "ipython",
    "version": 3
   },
   "file_extension": ".py",
   "mimetype": "text/x-python",
   "name": "python",
   "nbconvert_exporter": "python",
   "pygments_lexer": "ipython3",
   "version": "3.7.7"
  },
  "nbTranslate": {
   "displayLangs": [
    "*"
   ],
   "hotkey": "alt-t",
   "langInMainMenu": true,
   "sourceLang": "en",
   "targetLang": "fr",
   "useGoogleTranslate": true
  },
  "toc": {
   "base_numbering": 1,
   "nav_menu": {},
   "number_sections": true,
   "sideBar": true,
   "skip_h1_title": false,
   "title_cell": "Table of Contents",
   "title_sidebar": "Contents",
   "toc_cell": false,
   "toc_position": {},
   "toc_section_display": true,
   "toc_window_display": false
  },
  "varInspector": {
   "cols": {
    "lenName": 16,
    "lenType": 16,
    "lenVar": 40
   },
   "kernels_config": {
    "python": {
     "delete_cmd_postfix": "",
     "delete_cmd_prefix": "del ",
     "library": "var_list.py",
     "varRefreshCmd": "print(var_dic_list())"
    },
    "r": {
     "delete_cmd_postfix": ") ",
     "delete_cmd_prefix": "rm(",
     "library": "var_list.r",
     "varRefreshCmd": "cat(var_dic_list()) "
    }
   },
   "position": {
    "height": "260.85px",
    "left": "1546px",
    "right": "20px",
    "top": "120px",
    "width": "354px"
   },
   "types_to_exclude": [
    "module",
    "function",
    "builtin_function_or_method",
    "instance",
    "_Feature"
   ],
   "window_display": false
  }
 },
 "nbformat": 4,
 "nbformat_minor": 4
}
