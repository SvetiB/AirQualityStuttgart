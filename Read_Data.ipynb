{
 "cells": [
  {
   "cell_type": "code",
   "execution_count": 1,
   "metadata": {},
   "outputs": [],
   "source": [
    "import pandas as pd"
   ]
  },
  {
   "cell_type": "code",
   "execution_count": 6,
   "metadata": {},
   "outputs": [],
   "source": [
    "dustPol = pd.read_csv(\"Data/Feinstaub_Neckartor_2016-2020.csv\", sep=\";\")"
   ]
  },
  {
   "cell_type": "code",
   "execution_count": 7,
   "metadata": {},
   "outputs": [
    {
     "data": {
      "text/html": [
       "<div>\n",
       "<style scoped>\n",
       "    .dataframe tbody tr th:only-of-type {\n",
       "        vertical-align: middle;\n",
       "    }\n",
       "\n",
       "    .dataframe tbody tr th {\n",
       "        vertical-align: top;\n",
       "    }\n",
       "\n",
       "    .dataframe thead th {\n",
       "        text-align: right;\n",
       "    }\n",
       "</style>\n",
       "<table border=\"1\" class=\"dataframe\">\n",
       "  <thead>\n",
       "    <tr style=\"text-align: right;\">\n",
       "      <th></th>\n",
       "      <th>Bundesland / Messnetz</th>\n",
       "      <th>Stationscode</th>\n",
       "      <th>Stationsname</th>\n",
       "      <th>Stationsumgebung</th>\n",
       "      <th>Art der Station</th>\n",
       "      <th>Schadstoff</th>\n",
       "      <th>Art der Auswertung</th>\n",
       "      <th>Datum</th>\n",
       "      <th>Uhrzeit</th>\n",
       "      <th>Messwert</th>\n",
       "      <th>Einheit</th>\n",
       "    </tr>\n",
       "  </thead>\n",
       "  <tbody>\n",
       "    <tr>\n",
       "      <th>0</th>\n",
       "      <td>Baden-Württemberg</td>\n",
       "      <td>DEBW118</td>\n",
       "      <td>Stuttgart Am Neckartor</td>\n",
       "      <td>städtisches Gebiet</td>\n",
       "      <td>Verkehr</td>\n",
       "      <td>Feinstaub (PM₁₀)</td>\n",
       "      <td>Tagesmittel (1TMW)</td>\n",
       "      <td>01.01.2016</td>\n",
       "      <td>-</td>\n",
       "      <td>170</td>\n",
       "      <td>µg/m³</td>\n",
       "    </tr>\n",
       "    <tr>\n",
       "      <th>1</th>\n",
       "      <td>Baden-Württemberg</td>\n",
       "      <td>DEBW118</td>\n",
       "      <td>Stuttgart Am Neckartor</td>\n",
       "      <td>städtisches Gebiet</td>\n",
       "      <td>Verkehr</td>\n",
       "      <td>Feinstaub (PM₁₀)</td>\n",
       "      <td>Tagesmittel (1TMW)</td>\n",
       "      <td>02.01.2016</td>\n",
       "      <td>-</td>\n",
       "      <td>26</td>\n",
       "      <td>µg/m³</td>\n",
       "    </tr>\n",
       "    <tr>\n",
       "      <th>2</th>\n",
       "      <td>Baden-Württemberg</td>\n",
       "      <td>DEBW118</td>\n",
       "      <td>Stuttgart Am Neckartor</td>\n",
       "      <td>städtisches Gebiet</td>\n",
       "      <td>Verkehr</td>\n",
       "      <td>Feinstaub (PM₁₀)</td>\n",
       "      <td>Tagesmittel (1TMW)</td>\n",
       "      <td>03.01.2016</td>\n",
       "      <td>-</td>\n",
       "      <td>21</td>\n",
       "      <td>µg/m³</td>\n",
       "    </tr>\n",
       "    <tr>\n",
       "      <th>3</th>\n",
       "      <td>Baden-Württemberg</td>\n",
       "      <td>DEBW118</td>\n",
       "      <td>Stuttgart Am Neckartor</td>\n",
       "      <td>städtisches Gebiet</td>\n",
       "      <td>Verkehr</td>\n",
       "      <td>Feinstaub (PM₁₀)</td>\n",
       "      <td>Tagesmittel (1TMW)</td>\n",
       "      <td>04.01.2016</td>\n",
       "      <td>-</td>\n",
       "      <td>16</td>\n",
       "      <td>µg/m³</td>\n",
       "    </tr>\n",
       "    <tr>\n",
       "      <th>4</th>\n",
       "      <td>Baden-Württemberg</td>\n",
       "      <td>DEBW118</td>\n",
       "      <td>Stuttgart Am Neckartor</td>\n",
       "      <td>städtisches Gebiet</td>\n",
       "      <td>Verkehr</td>\n",
       "      <td>Feinstaub (PM₁₀)</td>\n",
       "      <td>Tagesmittel (1TMW)</td>\n",
       "      <td>05.01.2016</td>\n",
       "      <td>-</td>\n",
       "      <td>16</td>\n",
       "      <td>µg/m³</td>\n",
       "    </tr>\n",
       "  </tbody>\n",
       "</table>\n",
       "</div>"
      ],
      "text/plain": [
       "  Bundesland / Messnetz Stationscode            Stationsname  \\\n",
       "0     Baden-Württemberg      DEBW118  Stuttgart Am Neckartor   \n",
       "1     Baden-Württemberg      DEBW118  Stuttgart Am Neckartor   \n",
       "2     Baden-Württemberg      DEBW118  Stuttgart Am Neckartor   \n",
       "3     Baden-Württemberg      DEBW118  Stuttgart Am Neckartor   \n",
       "4     Baden-Württemberg      DEBW118  Stuttgart Am Neckartor   \n",
       "\n",
       "     Stationsumgebung Art der Station        Schadstoff  Art der Auswertung  \\\n",
       "0  städtisches Gebiet         Verkehr  Feinstaub (PM₁₀)  Tagesmittel (1TMW)   \n",
       "1  städtisches Gebiet         Verkehr  Feinstaub (PM₁₀)  Tagesmittel (1TMW)   \n",
       "2  städtisches Gebiet         Verkehr  Feinstaub (PM₁₀)  Tagesmittel (1TMW)   \n",
       "3  städtisches Gebiet         Verkehr  Feinstaub (PM₁₀)  Tagesmittel (1TMW)   \n",
       "4  städtisches Gebiet         Verkehr  Feinstaub (PM₁₀)  Tagesmittel (1TMW)   \n",
       "\n",
       "        Datum Uhrzeit Messwert Einheit  \n",
       "0  01.01.2016       -      170   µg/m³  \n",
       "1  02.01.2016       -       26   µg/m³  \n",
       "2  03.01.2016       -       21   µg/m³  \n",
       "3  04.01.2016       -       16   µg/m³  \n",
       "4  05.01.2016       -       16   µg/m³  "
      ]
     },
     "execution_count": 7,
     "metadata": {},
     "output_type": "execute_result"
    }
   ],
   "source": [
    "dustPol.head()"
   ]
  },
  {
   "cell_type": "code",
   "execution_count": 8,
   "metadata": {},
   "outputs": [],
   "source": [
    "weather = pd.read_excel(\"Data/SZ-Tages-Werte-2000-2019.xlsx\", sheet_name=\"2019\", header=6)"
   ]
  },
  {
   "cell_type": "code",
   "execution_count": 11,
   "metadata": {},
   "outputs": [],
   "source": [
    "#weather.head(-10)"
   ]
  },
  {
   "cell_type": "code",
   "execution_count": null,
   "metadata": {},
   "outputs": [],
   "source": [
    "\n",
    "def excelImport(file_name):\n",
    "    file_name = file_name\n",
    "    \n",
    "    for i in in range(2000, 2019):\n",
    "        print i\n",
    "        \n",
    "        "
   ]
  },
  {
   "cell_type": "code",
   "execution_count": null,
   "metadata": {},
   "outputs": [],
   "source": []
  },
  {
   "cell_type": "code",
   "execution_count": null,
   "metadata": {},
   "outputs": [],
   "source": [
    "#sheet_name_list = [\"2000\",\"2001\",\"2002\",\"2003\",\"2004\",\"2005\",\"2019\",\"2019\",\"2019\",\"2019\",\"2019\",\"2019\",\"2019\",\"2019\",\"2019\",\"2019\",\"2019\",\"2019\",\"2019\",\"2019\"]"
   ]
  },
  {
   "cell_type": "code",
   "execution_count": 10,
   "metadata": {},
   "outputs": [
    {
     "data": {
      "text/plain": [
       "(369, 19)"
      ]
     },
     "execution_count": 10,
     "metadata": {},
     "output_type": "execute_result"
    }
   ],
   "source": [
    "weather.shape"
   ]
  },
  {
   "cell_type": "code",
   "execution_count": null,
   "metadata": {},
   "outputs": [],
   "source": []
  }
 ],
 "metadata": {
  "kernelspec": {
   "display_name": "Python 3",
   "language": "python",
   "name": "python3"
  },
  "language_info": {
   "codemirror_mode": {
    "name": "ipython",
    "version": 3
   },
   "file_extension": ".py",
   "mimetype": "text/x-python",
   "name": "python",
   "nbconvert_exporter": "python",
   "pygments_lexer": "ipython3",
   "version": "3.7.7"
  },
  "nbTranslate": {
   "displayLangs": [
    "*"
   ],
   "hotkey": "alt-t",
   "langInMainMenu": true,
   "sourceLang": "en",
   "targetLang": "fr",
   "useGoogleTranslate": true
  },
  "toc": {
   "base_numbering": 1,
   "nav_menu": {},
   "number_sections": true,
   "sideBar": true,
   "skip_h1_title": false,
   "title_cell": "Table of Contents",
   "title_sidebar": "Contents",
   "toc_cell": false,
   "toc_position": {},
   "toc_section_display": true,
   "toc_window_display": false
  },
  "varInspector": {
   "cols": {
    "lenName": 16,
    "lenType": 16,
    "lenVar": 40
   },
   "kernels_config": {
    "python": {
     "delete_cmd_postfix": "",
     "delete_cmd_prefix": "del ",
     "library": "var_list.py",
     "varRefreshCmd": "print(var_dic_list())"
    },
    "r": {
     "delete_cmd_postfix": ") ",
     "delete_cmd_prefix": "rm(",
     "library": "var_list.r",
     "varRefreshCmd": "cat(var_dic_list()) "
    }
   },
   "types_to_exclude": [
    "module",
    "function",
    "builtin_function_or_method",
    "instance",
    "_Feature"
   ],
   "window_display": false
  }
 },
 "nbformat": 4,
 "nbformat_minor": 4
}
