{
 "cells": [
  {
   "cell_type": "code",
   "execution_count": 92,
   "metadata": {},
   "outputs": [],
   "source": [
    "#!pip install pandas_profiling"
   ]
  },
  {
   "cell_type": "markdown",
   "metadata": {},
   "source": [
    "# Libraries and Global Settings"
   ]
  },
  {
   "cell_type": "code",
   "execution_count": 1,
   "metadata": {},
   "outputs": [
    {
     "name": "stderr",
     "output_type": "stream",
     "text": [
      "Using TensorFlow backend.\n"
     ]
    }
   ],
   "source": [
    "import pandas as pd  # work with Pandas dataframes\n",
    "import numpy as np\n",
    "\n",
    "from sklearn import preprocessing\n",
    "from sklearn.model_selection import train_test_split\n",
    "from sklearn.linear_model import LinearRegression\n",
    "from sklearn.metrics import mean_squared_error\n",
    "\n",
    "import keras\n",
    "from keras.models import Sequential # Modelart\n",
    "\n",
    "from keras.layers import Dense, Activation, Flatten, BatchNormalization # Model Layers\n",
    "from keras.layers import Conv2D, MaxPooling2D # Model Layers\n",
    "\n",
    "from keras.losses import categorical_crossentropy # die Loss Funktion\n",
    "\n",
    "from keras.optimizers import RMSprop # die Lossfunktion\n",
    "\n",
    "import matplotlib.pyplot as plt\n",
    "\n",
    "import warnings # Funktionalität zur Unterdrückung von Warnungen\n",
    "warnings.filterwarnings('ignore')"
   ]
  },
  {
   "cell_type": "markdown",
   "metadata": {},
   "source": [
    "# Importing Data"
   ]
  },
  {
   "cell_type": "markdown",
   "metadata": {},
   "source": [
    "Fist of all we import the data which were generated in the whole preprocess (`df_for_ML`)."
   ]
  },
  {
   "cell_type": "code",
   "execution_count": 2,
   "metadata": {},
   "outputs": [],
   "source": [
    "df_for_ML = pd.read_csv('df_for_ML.csv')"
   ]
  },
  {
   "cell_type": "code",
   "execution_count": 3,
   "metadata": {},
   "outputs": [
    {
     "data": {
      "text/html": [
       "<div>\n",
       "<style scoped>\n",
       "    .dataframe tbody tr th:only-of-type {\n",
       "        vertical-align: middle;\n",
       "    }\n",
       "\n",
       "    .dataframe tbody tr th {\n",
       "        vertical-align: top;\n",
       "    }\n",
       "\n",
       "    .dataframe thead th {\n",
       "        text-align: right;\n",
       "    }\n",
       "</style>\n",
       "<table border=\"1\" class=\"dataframe\">\n",
       "  <thead>\n",
       "    <tr style=\"text-align: right;\">\n",
       "      <th></th>\n",
       "      <th>Datum</th>\n",
       "      <th>Temp</th>\n",
       "      <th>WG</th>\n",
       "      <th>WR</th>\n",
       "      <th>Druck</th>\n",
       "      <th>NO</th>\n",
       "      <th>NO2</th>\n",
       "      <th>Niederschlag</th>\n",
       "      <th>PM10</th>\n",
       "    </tr>\n",
       "  </thead>\n",
       "  <tbody>\n",
       "    <tr>\n",
       "      <th>0</th>\n",
       "      <td>2000-01-01</td>\n",
       "      <td>3.718</td>\n",
       "      <td>1.959896</td>\n",
       "      <td>234.922917</td>\n",
       "      <td>991.8</td>\n",
       "      <td>17.6266</td>\n",
       "      <td>24.236</td>\n",
       "      <td>3.5892</td>\n",
       "      <td>11.3772</td>\n",
       "    </tr>\n",
       "    <tr>\n",
       "      <th>1</th>\n",
       "      <td>2000-01-02</td>\n",
       "      <td>3.848</td>\n",
       "      <td>2.172912</td>\n",
       "      <td>222.511250</td>\n",
       "      <td>996.9</td>\n",
       "      <td>14.2886</td>\n",
       "      <td>28.698</td>\n",
       "      <td>3.5212</td>\n",
       "      <td>12.3972</td>\n",
       "    </tr>\n",
       "    <tr>\n",
       "      <th>2</th>\n",
       "      <td>2000-01-03</td>\n",
       "      <td>1.463</td>\n",
       "      <td>2.295208</td>\n",
       "      <td>220.181250</td>\n",
       "      <td>996.2</td>\n",
       "      <td>19.0638</td>\n",
       "      <td>35.336</td>\n",
       "      <td>0.8398</td>\n",
       "      <td>19.9480</td>\n",
       "    </tr>\n",
       "    <tr>\n",
       "      <th>3</th>\n",
       "      <td>2000-01-04</td>\n",
       "      <td>4.934</td>\n",
       "      <td>3.574979</td>\n",
       "      <td>220.885417</td>\n",
       "      <td>989.9</td>\n",
       "      <td>8.2660</td>\n",
       "      <td>24.210</td>\n",
       "      <td>1.4894</td>\n",
       "      <td>11.4780</td>\n",
       "    </tr>\n",
       "    <tr>\n",
       "      <th>4</th>\n",
       "      <td>2000-01-05</td>\n",
       "      <td>6.917</td>\n",
       "      <td>2.237208</td>\n",
       "      <td>220.554167</td>\n",
       "      <td>989.7</td>\n",
       "      <td>11.3496</td>\n",
       "      <td>26.208</td>\n",
       "      <td>4.3200</td>\n",
       "      <td>12.9260</td>\n",
       "    </tr>\n",
       "  </tbody>\n",
       "</table>\n",
       "</div>"
      ],
      "text/plain": [
       "        Datum   Temp        WG          WR  Druck       NO     NO2  \\\n",
       "0  2000-01-01  3.718  1.959896  234.922917  991.8  17.6266  24.236   \n",
       "1  2000-01-02  3.848  2.172912  222.511250  996.9  14.2886  28.698   \n",
       "2  2000-01-03  1.463  2.295208  220.181250  996.2  19.0638  35.336   \n",
       "3  2000-01-04  4.934  3.574979  220.885417  989.9   8.2660  24.210   \n",
       "4  2000-01-05  6.917  2.237208  220.554167  989.7  11.3496  26.208   \n",
       "\n",
       "   Niederschlag     PM10  \n",
       "0        3.5892  11.3772  \n",
       "1        3.5212  12.3972  \n",
       "2        0.8398  19.9480  \n",
       "3        1.4894  11.4780  \n",
       "4        4.3200  12.9260  "
      ]
     },
     "execution_count": 3,
     "metadata": {},
     "output_type": "execute_result"
    }
   ],
   "source": [
    "df_for_ML.head()"
   ]
  },
  {
   "cell_type": "code",
   "execution_count": 4,
   "metadata": {},
   "outputs": [
    {
     "data": {
      "text/html": [
       "<div>\n",
       "<style scoped>\n",
       "    .dataframe tbody tr th:only-of-type {\n",
       "        vertical-align: middle;\n",
       "    }\n",
       "\n",
       "    .dataframe tbody tr th {\n",
       "        vertical-align: top;\n",
       "    }\n",
       "\n",
       "    .dataframe thead th {\n",
       "        text-align: right;\n",
       "    }\n",
       "</style>\n",
       "<table border=\"1\" class=\"dataframe\">\n",
       "  <thead>\n",
       "    <tr style=\"text-align: right;\">\n",
       "      <th></th>\n",
       "      <th>Temp</th>\n",
       "      <th>WG</th>\n",
       "      <th>WR</th>\n",
       "      <th>Druck</th>\n",
       "      <th>NO</th>\n",
       "      <th>NO2</th>\n",
       "      <th>Niederschlag</th>\n",
       "      <th>PM10</th>\n",
       "    </tr>\n",
       "  </thead>\n",
       "  <tbody>\n",
       "    <tr>\n",
       "      <th>count</th>\n",
       "      <td>7458.000000</td>\n",
       "      <td>7458.000000</td>\n",
       "      <td>7458.000000</td>\n",
       "      <td>7458.000000</td>\n",
       "      <td>7458.000000</td>\n",
       "      <td>7458.000000</td>\n",
       "      <td>7458.000000</td>\n",
       "      <td>7458.000000</td>\n",
       "    </tr>\n",
       "    <tr>\n",
       "      <th>mean</th>\n",
       "      <td>12.037186</td>\n",
       "      <td>1.972305</td>\n",
       "      <td>194.088486</td>\n",
       "      <td>984.913948</td>\n",
       "      <td>17.660555</td>\n",
       "      <td>33.409431</td>\n",
       "      <td>1.290489</td>\n",
       "      <td>19.127094</td>\n",
       "    </tr>\n",
       "    <tr>\n",
       "      <th>std</th>\n",
       "      <td>7.414490</td>\n",
       "      <td>0.692115</td>\n",
       "      <td>61.491858</td>\n",
       "      <td>7.461863</td>\n",
       "      <td>16.387746</td>\n",
       "      <td>15.528238</td>\n",
       "      <td>2.570995</td>\n",
       "      <td>9.034226</td>\n",
       "    </tr>\n",
       "    <tr>\n",
       "      <th>min</th>\n",
       "      <td>-11.430000</td>\n",
       "      <td>0.600000</td>\n",
       "      <td>9.000000</td>\n",
       "      <td>966.762500</td>\n",
       "      <td>0.047220</td>\n",
       "      <td>0.000000</td>\n",
       "      <td>0.000000</td>\n",
       "      <td>0.000000</td>\n",
       "    </tr>\n",
       "    <tr>\n",
       "      <th>25%</th>\n",
       "      <td>6.259250</td>\n",
       "      <td>1.500000</td>\n",
       "      <td>153.713579</td>\n",
       "      <td>980.585000</td>\n",
       "      <td>5.287000</td>\n",
       "      <td>22.260000</td>\n",
       "      <td>0.000000</td>\n",
       "      <td>12.481200</td>\n",
       "    </tr>\n",
       "    <tr>\n",
       "      <th>50%</th>\n",
       "      <td>12.205000</td>\n",
       "      <td>1.800000</td>\n",
       "      <td>211.071147</td>\n",
       "      <td>985.400000</td>\n",
       "      <td>11.165000</td>\n",
       "      <td>31.175000</td>\n",
       "      <td>0.060000</td>\n",
       "      <td>17.310000</td>\n",
       "    </tr>\n",
       "    <tr>\n",
       "      <th>75%</th>\n",
       "      <td>17.730000</td>\n",
       "      <td>2.300000</td>\n",
       "      <td>234.489428</td>\n",
       "      <td>989.800000</td>\n",
       "      <td>24.995000</td>\n",
       "      <td>42.510000</td>\n",
       "      <td>1.270000</td>\n",
       "      <td>24.133000</td>\n",
       "    </tr>\n",
       "    <tr>\n",
       "      <th>max</th>\n",
       "      <td>31.460000</td>\n",
       "      <td>4.166604</td>\n",
       "      <td>359.700000</td>\n",
       "      <td>1003.622500</td>\n",
       "      <td>54.557000</td>\n",
       "      <td>81.970000</td>\n",
       "      <td>11.500000</td>\n",
       "      <td>41.610700</td>\n",
       "    </tr>\n",
       "  </tbody>\n",
       "</table>\n",
       "</div>"
      ],
      "text/plain": [
       "              Temp           WG           WR        Druck           NO  \\\n",
       "count  7458.000000  7458.000000  7458.000000  7458.000000  7458.000000   \n",
       "mean     12.037186     1.972305   194.088486   984.913948    17.660555   \n",
       "std       7.414490     0.692115    61.491858     7.461863    16.387746   \n",
       "min     -11.430000     0.600000     9.000000   966.762500     0.047220   \n",
       "25%       6.259250     1.500000   153.713579   980.585000     5.287000   \n",
       "50%      12.205000     1.800000   211.071147   985.400000    11.165000   \n",
       "75%      17.730000     2.300000   234.489428   989.800000    24.995000   \n",
       "max      31.460000     4.166604   359.700000  1003.622500    54.557000   \n",
       "\n",
       "               NO2  Niederschlag         PM10  \n",
       "count  7458.000000   7458.000000  7458.000000  \n",
       "mean     33.409431      1.290489    19.127094  \n",
       "std      15.528238      2.570995     9.034226  \n",
       "min       0.000000      0.000000     0.000000  \n",
       "25%      22.260000      0.000000    12.481200  \n",
       "50%      31.175000      0.060000    17.310000  \n",
       "75%      42.510000      1.270000    24.133000  \n",
       "max      81.970000     11.500000    41.610700  "
      ]
     },
     "execution_count": 4,
     "metadata": {},
     "output_type": "execute_result"
    }
   ],
   "source": [
    "df_for_ML.describe()"
   ]
  },
  {
   "cell_type": "markdown",
   "metadata": {},
   "source": [
    "# Modeling"
   ]
  },
  {
   "cell_type": "markdown",
   "metadata": {},
   "source": [
    "## Data Preparation"
   ]
  },
  {
   "cell_type": "markdown",
   "metadata": {},
   "source": [
    "Definition of Sampling Rates"
   ]
  },
  {
   "cell_type": "markdown",
   "metadata": {},
   "source": [
    "### Data Scaling and Normalization"
   ]
  },
  {
   "cell_type": "code",
   "execution_count": 5,
   "metadata": {},
   "outputs": [
    {
     "data": {
      "text/html": [
       "<div>\n",
       "<style scoped>\n",
       "    .dataframe tbody tr th:only-of-type {\n",
       "        vertical-align: middle;\n",
       "    }\n",
       "\n",
       "    .dataframe tbody tr th {\n",
       "        vertical-align: top;\n",
       "    }\n",
       "\n",
       "    .dataframe thead th {\n",
       "        text-align: right;\n",
       "    }\n",
       "</style>\n",
       "<table border=\"1\" class=\"dataframe\">\n",
       "  <thead>\n",
       "    <tr style=\"text-align: right;\">\n",
       "      <th></th>\n",
       "      <th>Temp</th>\n",
       "      <th>WG</th>\n",
       "      <th>WR</th>\n",
       "      <th>Druck</th>\n",
       "      <th>NO</th>\n",
       "      <th>NO2</th>\n",
       "      <th>Niederschlag</th>\n",
       "      <th>PM10</th>\n",
       "    </tr>\n",
       "  </thead>\n",
       "  <tbody>\n",
       "    <tr>\n",
       "      <th>0</th>\n",
       "      <td>0.353183</td>\n",
       "      <td>0.381286</td>\n",
       "      <td>0.644206</td>\n",
       "      <td>0.679259</td>\n",
       "      <td>0.322500</td>\n",
       "      <td>0.295669</td>\n",
       "      <td>0.312104</td>\n",
       "      <td>0.273420</td>\n",
       "    </tr>\n",
       "    <tr>\n",
       "      <th>1</th>\n",
       "      <td>0.356214</td>\n",
       "      <td>0.441011</td>\n",
       "      <td>0.608815</td>\n",
       "      <td>0.817621</td>\n",
       "      <td>0.261263</td>\n",
       "      <td>0.350104</td>\n",
       "      <td>0.306191</td>\n",
       "      <td>0.297933</td>\n",
       "    </tr>\n",
       "    <tr>\n",
       "      <th>2</th>\n",
       "      <td>0.300606</td>\n",
       "      <td>0.475300</td>\n",
       "      <td>0.602171</td>\n",
       "      <td>0.798630</td>\n",
       "      <td>0.348865</td>\n",
       "      <td>0.431085</td>\n",
       "      <td>0.073026</td>\n",
       "      <td>0.479396</td>\n",
       "    </tr>\n",
       "    <tr>\n",
       "      <th>3</th>\n",
       "      <td>0.381534</td>\n",
       "      <td>0.834121</td>\n",
       "      <td>0.604179</td>\n",
       "      <td>0.627713</td>\n",
       "      <td>0.150776</td>\n",
       "      <td>0.295352</td>\n",
       "      <td>0.129513</td>\n",
       "      <td>0.275843</td>\n",
       "    </tr>\n",
       "    <tr>\n",
       "      <th>4</th>\n",
       "      <td>0.427769</td>\n",
       "      <td>0.459038</td>\n",
       "      <td>0.603234</td>\n",
       "      <td>0.622287</td>\n",
       "      <td>0.207346</td>\n",
       "      <td>0.319727</td>\n",
       "      <td>0.375652</td>\n",
       "      <td>0.310641</td>\n",
       "    </tr>\n",
       "    <tr>\n",
       "      <th>...</th>\n",
       "      <td>...</td>\n",
       "      <td>...</td>\n",
       "      <td>...</td>\n",
       "      <td>...</td>\n",
       "      <td>...</td>\n",
       "      <td>...</td>\n",
       "      <td>...</td>\n",
       "      <td>...</td>\n",
       "    </tr>\n",
       "    <tr>\n",
       "      <th>7453</th>\n",
       "      <td>0.669853</td>\n",
       "      <td>0.504682</td>\n",
       "      <td>0.054177</td>\n",
       "      <td>0.805412</td>\n",
       "      <td>0.076184</td>\n",
       "      <td>0.286690</td>\n",
       "      <td>0.000000</td>\n",
       "      <td>0.335010</td>\n",
       "    </tr>\n",
       "    <tr>\n",
       "      <th>7454</th>\n",
       "      <td>0.644206</td>\n",
       "      <td>0.448606</td>\n",
       "      <td>0.342173</td>\n",
       "      <td>0.723481</td>\n",
       "      <td>0.050501</td>\n",
       "      <td>0.228132</td>\n",
       "      <td>0.000000</td>\n",
       "      <td>0.519818</td>\n",
       "    </tr>\n",
       "    <tr>\n",
       "      <th>7455</th>\n",
       "      <td>0.637211</td>\n",
       "      <td>0.504682</td>\n",
       "      <td>0.051326</td>\n",
       "      <td>0.615776</td>\n",
       "      <td>0.043163</td>\n",
       "      <td>0.224472</td>\n",
       "      <td>0.000000</td>\n",
       "      <td>0.315015</td>\n",
       "    </tr>\n",
       "    <tr>\n",
       "      <th>7456</th>\n",
       "      <td>0.655864</td>\n",
       "      <td>0.392530</td>\n",
       "      <td>0.148275</td>\n",
       "      <td>0.583492</td>\n",
       "      <td>0.028486</td>\n",
       "      <td>0.158595</td>\n",
       "      <td>0.000000</td>\n",
       "      <td>0.278342</td>\n",
       "    </tr>\n",
       "    <tr>\n",
       "      <th>7457</th>\n",
       "      <td>0.606295</td>\n",
       "      <td>0.314606</td>\n",
       "      <td>0.454725</td>\n",
       "      <td>0.502428</td>\n",
       "      <td>0.248153</td>\n",
       "      <td>0.477492</td>\n",
       "      <td>0.012261</td>\n",
       "      <td>0.664733</td>\n",
       "    </tr>\n",
       "  </tbody>\n",
       "</table>\n",
       "<p>7458 rows × 8 columns</p>\n",
       "</div>"
      ],
      "text/plain": [
       "          Temp        WG        WR     Druck        NO       NO2  \\\n",
       "0     0.353183  0.381286  0.644206  0.679259  0.322500  0.295669   \n",
       "1     0.356214  0.441011  0.608815  0.817621  0.261263  0.350104   \n",
       "2     0.300606  0.475300  0.602171  0.798630  0.348865  0.431085   \n",
       "3     0.381534  0.834121  0.604179  0.627713  0.150776  0.295352   \n",
       "4     0.427769  0.459038  0.603234  0.622287  0.207346  0.319727   \n",
       "...        ...       ...       ...       ...       ...       ...   \n",
       "7453  0.669853  0.504682  0.054177  0.805412  0.076184  0.286690   \n",
       "7454  0.644206  0.448606  0.342173  0.723481  0.050501  0.228132   \n",
       "7455  0.637211  0.504682  0.051326  0.615776  0.043163  0.224472   \n",
       "7456  0.655864  0.392530  0.148275  0.583492  0.028486  0.158595   \n",
       "7457  0.606295  0.314606  0.454725  0.502428  0.248153  0.477492   \n",
       "\n",
       "      Niederschlag      PM10  \n",
       "0         0.312104  0.273420  \n",
       "1         0.306191  0.297933  \n",
       "2         0.073026  0.479396  \n",
       "3         0.129513  0.275843  \n",
       "4         0.375652  0.310641  \n",
       "...            ...       ...  \n",
       "7453      0.000000  0.335010  \n",
       "7454      0.000000  0.519818  \n",
       "7455      0.000000  0.315015  \n",
       "7456      0.000000  0.278342  \n",
       "7457      0.012261  0.664733  \n",
       "\n",
       "[7458 rows x 8 columns]"
      ]
     },
     "execution_count": 5,
     "metadata": {},
     "output_type": "execute_result"
    }
   ],
   "source": [
    "df_for_ML_woDate = df_for_ML.drop('Datum', axis=1)\n",
    "min_max_scaler = preprocessing.MinMaxScaler()\n",
    "df_for_ML_scaled = min_max_scaler.fit_transform(df_for_ML_woDate.values)\n",
    "df_for_ML_norm = pd.DataFrame(data=df_for_ML_scaled, columns=df_for_ML_woDate.columns)\n",
    "df_for_ML_norm"
   ]
  },
  {
   "cell_type": "markdown",
   "metadata": {},
   "source": [
    "### Split Data into Training and Validation Samples"
   ]
  },
  {
   "cell_type": "code",
   "execution_count": 6,
   "metadata": {},
   "outputs": [],
   "source": [
    "X = df_for_ML_scaled[:,0:7]\n",
    "y = df_for_ML_scaled[:,7:8]\n",
    "\n",
    "X_train, X_test, y_train, y_test = train_test_split(X, y, random_state=42, test_size=0.3)"
   ]
  },
  {
   "cell_type": "markdown",
   "metadata": {},
   "source": [
    "## Alogrithms Selection"
   ]
  },
  {
   "cell_type": "code",
   "execution_count": 17,
   "metadata": {},
   "outputs": [
    {
     "data": {
      "text/plain": [
       "(2238, 1)"
      ]
     },
     "execution_count": 17,
     "metadata": {},
     "output_type": "execute_result"
    }
   ],
   "source": [
    "y_test.shape"
   ]
  },
  {
   "cell_type": "markdown",
   "metadata": {},
   "source": [
    "## Baseline Models"
   ]
  },
  {
   "cell_type": "code",
   "execution_count": 7,
   "metadata": {},
   "outputs": [
    {
     "data": {
      "text/plain": [
       "LinearRegression()"
      ]
     },
     "execution_count": 7,
     "metadata": {},
     "output_type": "execute_result"
    }
   ],
   "source": [
    "# Create linear regression object\n",
    "regr = LinearRegression()\n",
    "# Train the model using the training sets\n",
    "regr.fit(X_train, y_train)"
   ]
  },
  {
   "cell_type": "code",
   "execution_count": 9,
   "metadata": {},
   "outputs": [
    {
     "name": "stdout",
     "output_type": "stream",
     "text": [
      "Coeffs:  [[ 0.19379325 -0.09996387 -0.22661313  0.0347496   0.18651463  0.42686737\n",
      "  -0.05852821]]\n",
      "Intercept:  [0.26831719]\n",
      "R2:  0.5153752177599537\n"
     ]
    }
   ],
   "source": [
    "print(\"Coeffs: \", regr.coef_)\n",
    "print(\"Intercept: \", regr.intercept_)\n",
    "print(\"R2: \", regr.score(X_test, y_test))\n"
   ]
  },
  {
   "cell_type": "code",
   "execution_count": 13,
   "metadata": {},
   "outputs": [
    {
     "data": {
      "image/png": "[encoded data removed]",
      "text/plain": [
       "<Figure size 1440x720 with 1 Axes>"
      ]
     },
     "metadata": {
      "needs_background": "light"
     },
     "output_type": "display_data"
    }
   ],
   "source": [
    "# Residual Plot (Restwert)\n",
    "train_pred = regr.predict(X_train)\n",
    "test_pred = regr.predict(X_test)\n",
    "\n",
    "min_val = min(min(train_pred), min(test_pred))\n",
    "max_val = max(max(train_pred), max(test_pred))\n",
    "\n",
    "\n",
    "plt.figure(figsize=(20,10))\n",
    "plt.scatter(train_pred, train_pred - y_train, color=\"blue\", s=20)\n",
    "plt.scatter(test_pred, test_pred - y_test, color=\"red\", s=20)\n",
    "plt.hlines(y = 0, xmin =min_val, xmax=max_val)\n",
    "plt.xlabel(\"$\\hat{y} (Prediction)$\")\n",
    "plt.ylabel(\"Residuals\")\n",
    "plt.show()"
   ]
  },
  {
   "cell_type": "code",
   "execution_count": 18,
   "metadata": {},
   "outputs": [
    {
     "name": "stdout",
     "output_type": "stream",
     "text": [
      "MSE:  0.02384416342331771\n"
     ]
    }
   ],
   "source": [
    "test_pred = regr.predict(X_test)\n",
    "print(\"MSE: \", mean_squared_error(y_test, test_pred))\n"
   ]
  },
  {
   "cell_type": "markdown",
   "metadata": {},
   "source": [
    "## Deep Learning Models"
   ]
  },
  {
   "cell_type": "code",
   "execution_count": null,
   "metadata": {},
   "outputs": [],
   "source": []
  },
  {
   "cell_type": "code",
   "execution_count": null,
   "metadata": {},
   "outputs": [],
   "source": []
  },
  {
   "cell_type": "code",
   "execution_count": null,
   "metadata": {},
   "outputs": [],
   "source": []
  },
  {
   "cell_type": "code",
   "execution_count": null,
   "metadata": {},
   "outputs": [],
   "source": []
  },
  {
   "cell_type": "code",
   "execution_count": null,
   "metadata": {},
   "outputs": [],
   "source": []
  },
  {
   "cell_type": "code",
   "execution_count": null,
   "metadata": {},
   "outputs": [],
   "source": []
  },
  {
   "cell_type": "code",
   "execution_count": null,
   "metadata": {},
   "outputs": [],
   "source": [
    "model = Sequential()"
   ]
  },
  {
   "cell_type": "code",
   "execution_count": null,
   "metadata": {},
   "outputs": [],
   "source": [
    "model.add(Dense())"
   ]
  },
  {
   "cell_type": "code",
   "execution_count": null,
   "metadata": {},
   "outputs": [],
   "source": [
    "model.summary()"
   ]
  },
  {
   "cell_type": "code",
   "execution_count": null,
   "metadata": {},
   "outputs": [],
   "source": [
    "sgd_opt = SGD()"
   ]
  },
  {
   "cell_type": "code",
   "execution_count": null,
   "metadata": {},
   "outputs": [],
   "source": [
    "model.compile()"
   ]
  },
  {
   "cell_type": "code",
   "execution_count": null,
   "metadata": {},
   "outputs": [],
   "source": [
    "model.fit()"
   ]
  },
  {
   "cell_type": "code",
   "execution_count": null,
   "metadata": {},
   "outputs": [],
   "source": [
    "score = model.evaluate()"
   ]
  },
  {
   "cell_type": "code",
   "execution_count": null,
   "metadata": {},
   "outputs": [],
   "source": []
  },
  {
   "cell_type": "code",
   "execution_count": null,
   "metadata": {},
   "outputs": [],
   "source": []
  },
  {
   "cell_type": "markdown",
   "metadata": {},
   "source": [
    "## Hyperparamters Optimization"
   ]
  },
  {
   "cell_type": "code",
   "execution_count": null,
   "metadata": {},
   "outputs": [],
   "source": []
  },
  {
   "cell_type": "markdown",
   "metadata": {},
   "source": [
    "## Evaluation"
   ]
  },
  {
   "cell_type": "markdown",
   "metadata": {},
   "source": [
    "### Model Evaluation (Performance)"
   ]
  },
  {
   "cell_type": "markdown",
   "metadata": {},
   "source": [
    "#### Training Phase"
   ]
  },
  {
   "cell_type": "code",
   "execution_count": null,
   "metadata": {},
   "outputs": [],
   "source": []
  },
  {
   "cell_type": "code",
   "execution_count": null,
   "metadata": {},
   "outputs": [],
   "source": []
  },
  {
   "cell_type": "code",
   "execution_count": null,
   "metadata": {},
   "outputs": [],
   "source": []
  },
  {
   "cell_type": "markdown",
   "metadata": {},
   "source": [
    "#### Testing Phase"
   ]
  },
  {
   "cell_type": "code",
   "execution_count": null,
   "metadata": {},
   "outputs": [],
   "source": []
  },
  {
   "cell_type": "code",
   "execution_count": null,
   "metadata": {},
   "outputs": [],
   "source": []
  },
  {
   "cell_type": "markdown",
   "metadata": {},
   "source": [
    "# Projekt Evaluation"
   ]
  },
  {
   "cell_type": "code",
   "execution_count": null,
   "metadata": {},
   "outputs": [],
   "source": []
  },
  {
   "cell_type": "code",
   "execution_count": null,
   "metadata": {},
   "outputs": [],
   "source": []
  },
  {
   "cell_type": "code",
   "execution_count": null,
   "metadata": {},
   "outputs": [],
   "source": []
  },
  {
   "cell_type": "markdown",
   "metadata": {},
   "source": [
    "# Deployment"
   ]
  },
  {
   "cell_type": "code",
   "execution_count": null,
   "metadata": {},
   "outputs": [],
   "source": []
  },
  {
   "cell_type": "markdown",
   "metadata": {},
   "source": [
    "In the first phase of CRISP the overall business-case, which shall be supported by the data mining process must be clearly defined and understood. Then the goal of the data mining project itself must be defined. This includes the specification of metrics for measuring the performance of the data mining project.\n",
    "\n",
    "In the second phase data must be gathered, accessed, understood and described. Quantitiy and qualitity of the data must be assessed on a high-level.\n",
    "\n",
    "In the third phase data must be investigated and understood more thoroughly. Common means for understanding data are e.g. visualization and the calculation of simple statistics. Outliers must be detected and processed, sampling rates must be determined, features must be selected and eventually be transformed to other formats.\n",
    "\n",
    "In the modelling phase various algorithms and their hyperparameters are selected and applied. Their performance on the given data is determined in the evaluation phase.\n",
    "\n",
    "The output of the evaluation is usually fed back to the first phases (business- and data-understanding). Applying this feedback the techniques in the overall process are adapted and optimized. Usually only after several iterations of this process the evaluation yields good results and the project can be deployed."
   ]
  },
  {
   "cell_type": "code",
   "execution_count": null,
   "metadata": {},
   "outputs": [],
   "source": []
  }
 ],
 "metadata": {
  "kernelspec": {
   "display_name": "Python 3",
   "language": "python",
   "name": "python3"
  },
  "language_info": {
   "codemirror_mode": {
    "name": "ipython",
    "version": 3
   },
   "file_extension": ".py",
   "mimetype": "text/x-python",
   "name": "python",
   "nbconvert_exporter": "python",
   "pygments_lexer": "ipython3",
   "version": "3.7.7"
  },
  "nbTranslate": {
   "displayLangs": [
    "*"
   ],
   "hotkey": "alt-t",
   "langInMainMenu": true,
   "sourceLang": "en",
   "targetLang": "fr",
   "useGoogleTranslate": true
  },
  "toc": {
   "base_numbering": 1,
   "nav_menu": {},
   "number_sections": true,
   "sideBar": true,
   "skip_h1_title": false,
   "title_cell": "Table of Contents",
   "title_sidebar": "Contents",
   "toc_cell": false,
   "toc_position": {
    "height": "calc(100% - 180px)",
    "left": "10px",
    "top": "150px",
    "width": "378px"
   },
   "toc_section_display": true,
   "toc_window_display": true
  },
  "varInspector": {
   "cols": {
    "lenName": 16,
    "lenType": 16,
    "lenVar": 40
   },
   "kernels_config": {
    "python": {
     "delete_cmd_postfix": "",
     "delete_cmd_prefix": "del ",
     "library": "var_list.py",
     "varRefreshCmd": "print(var_dic_list())"
    },
    "r": {
     "delete_cmd_postfix": ") ",
     "delete_cmd_prefix": "rm(",
     "library": "var_list.r",
     "varRefreshCmd": "cat(var_dic_list()) "
    }
   },
   "position": {
    "height": "930.813px",
    "left": "1972px",
    "right": "20px",
    "top": "176px",
    "width": "655px"
   },
   "types_to_exclude": [
    "module",
    "function",
    "builtin_function_or_method",
    "instance",
    "_Feature"
   ],
   "window_display": true
  }
 },
 "nbformat": 4,
 "nbformat_minor": 4
}
