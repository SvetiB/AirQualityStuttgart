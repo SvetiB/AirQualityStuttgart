{
 "cells": [
  {
   "cell_type": "code",
   "execution_count": 92,
   "metadata": {},
   "outputs": [],
   "source": [
    "#!pip install pandas_profiling"
   ]
  },
  {
   "cell_type": "markdown",
   "metadata": {},
   "source": [
    "# Libraries and Global Settings"
   ]
  },
  {
   "cell_type": "code",
   "execution_count": 102,
   "metadata": {},
   "outputs": [],
   "source": [
    "import pandas as pd  # work with Pandas dataframes\n",
    "import numpy as np\n",
    "\n",
    "from sklearn import preprocessing\n",
    "from sklearn.model_selection import train_test_split\n",
    "from sklearn.linear_model import LinearRegression\n",
    "from sklearn.metrics import mean_squared_error\n",
    "\n",
    "import keras\n",
    "from keras.models import Sequential # Modelart\n",
    "\n",
    "from keras.layers import Dense, Activation, Flatten, BatchNormalization # Model Layers\n",
    "from keras.layers import Conv2D, MaxPooling2D # Model Layers\n",
    "\n",
    "from keras.losses import categorical_crossentropy # die Loss Funktion\n",
    "\n",
    "from keras.optimizers import RMSprop # die Lossfunktion\n",
    "\n",
    "import matplotlib.pyplot as plt\n",
    "\n",
    "import warnings # Funktionalität zur Unterdrückung von Warnungen\n",
    "warnings.filterwarnings('ignore')"
   ]
  },
  {
   "cell_type": "markdown",
   "metadata": {},
   "source": [
    "# Importing Data"
   ]
  },
  {
   "cell_type": "markdown",
   "metadata": {},
   "source": [
    "Fist of all we import the data which were generated in the whole preprocess (`df_for_ML`)."
   ]
  },
  {
   "cell_type": "code",
   "execution_count": 94,
   "metadata": {},
   "outputs": [],
   "source": [
    "df_for_ML = pd.read_csv('df_for_ML.csv')"
   ]
  },
  {
   "cell_type": "code",
   "execution_count": 95,
   "metadata": {},
   "outputs": [
    {
     "data": {
      "text/html": [
       "<div>\n",
       "<style scoped>\n",
       "    .dataframe tbody tr th:only-of-type {\n",
       "        vertical-align: middle;\n",
       "    }\n",
       "\n",
       "    .dataframe tbody tr th {\n",
       "        vertical-align: top;\n",
       "    }\n",
       "\n",
       "    .dataframe thead th {\n",
       "        text-align: right;\n",
       "    }\n",
       "</style>\n",
       "<table border=\"1\" class=\"dataframe\">\n",
       "  <thead>\n",
       "    <tr style=\"text-align: right;\">\n",
       "      <th></th>\n",
       "      <th>Datum</th>\n",
       "      <th>Temp</th>\n",
       "      <th>WG</th>\n",
       "      <th>WR</th>\n",
       "      <th>Druck</th>\n",
       "      <th>NO</th>\n",
       "      <th>NO2</th>\n",
       "      <th>SO2</th>\n",
       "      <th>CO</th>\n",
       "      <th>Niederschlag</th>\n",
       "      <th>PM10</th>\n",
       "    </tr>\n",
       "  </thead>\n",
       "  <tbody>\n",
       "    <tr>\n",
       "      <th>0</th>\n",
       "      <td>2000-01-01</td>\n",
       "      <td>3.718</td>\n",
       "      <td>1.959896</td>\n",
       "      <td>234.922917</td>\n",
       "      <td>991.8</td>\n",
       "      <td>17.6266</td>\n",
       "      <td>24.236</td>\n",
       "      <td>10.38</td>\n",
       "      <td>0.9109</td>\n",
       "      <td>3.5892</td>\n",
       "      <td>11.3772</td>\n",
       "    </tr>\n",
       "    <tr>\n",
       "      <th>1</th>\n",
       "      <td>2000-01-02</td>\n",
       "      <td>3.848</td>\n",
       "      <td>2.172912</td>\n",
       "      <td>222.511250</td>\n",
       "      <td>996.9</td>\n",
       "      <td>14.2886</td>\n",
       "      <td>28.698</td>\n",
       "      <td>10.74</td>\n",
       "      <td>0.8870</td>\n",
       "      <td>3.5212</td>\n",
       "      <td>12.3972</td>\n",
       "    </tr>\n",
       "    <tr>\n",
       "      <th>2</th>\n",
       "      <td>2000-01-03</td>\n",
       "      <td>1.463</td>\n",
       "      <td>2.295208</td>\n",
       "      <td>220.181250</td>\n",
       "      <td>996.2</td>\n",
       "      <td>19.0638</td>\n",
       "      <td>35.336</td>\n",
       "      <td>10.29</td>\n",
       "      <td>0.8394</td>\n",
       "      <td>0.8398</td>\n",
       "      <td>19.9480</td>\n",
       "    </tr>\n",
       "    <tr>\n",
       "      <th>3</th>\n",
       "      <td>2000-01-04</td>\n",
       "      <td>4.934</td>\n",
       "      <td>3.574979</td>\n",
       "      <td>220.885417</td>\n",
       "      <td>989.9</td>\n",
       "      <td>8.2660</td>\n",
       "      <td>24.210</td>\n",
       "      <td>13.42</td>\n",
       "      <td>0.7822</td>\n",
       "      <td>1.4894</td>\n",
       "      <td>11.4780</td>\n",
       "    </tr>\n",
       "    <tr>\n",
       "      <th>4</th>\n",
       "      <td>2000-01-05</td>\n",
       "      <td>6.917</td>\n",
       "      <td>2.237208</td>\n",
       "      <td>220.554167</td>\n",
       "      <td>989.7</td>\n",
       "      <td>11.3496</td>\n",
       "      <td>26.208</td>\n",
       "      <td>14.27</td>\n",
       "      <td>1.1890</td>\n",
       "      <td>4.3200</td>\n",
       "      <td>12.9260</td>\n",
       "    </tr>\n",
       "  </tbody>\n",
       "</table>\n",
       "</div>"
      ],
      "text/plain": [
       "        Datum   Temp        WG          WR  Druck       NO     NO2    SO2  \\\n",
       "0  2000-01-01  3.718  1.959896  234.922917  991.8  17.6266  24.236  10.38   \n",
       "1  2000-01-02  3.848  2.172912  222.511250  996.9  14.2886  28.698  10.74   \n",
       "2  2000-01-03  1.463  2.295208  220.181250  996.2  19.0638  35.336  10.29   \n",
       "3  2000-01-04  4.934  3.574979  220.885417  989.9   8.2660  24.210  13.42   \n",
       "4  2000-01-05  6.917  2.237208  220.554167  989.7  11.3496  26.208  14.27   \n",
       "\n",
       "       CO  Niederschlag     PM10  \n",
       "0  0.9109        3.5892  11.3772  \n",
       "1  0.8870        3.5212  12.3972  \n",
       "2  0.8394        0.8398  19.9480  \n",
       "3  0.7822        1.4894  11.4780  \n",
       "4  1.1890        4.3200  12.9260  "
      ]
     },
     "execution_count": 95,
     "metadata": {},
     "output_type": "execute_result"
    }
   ],
   "source": [
    "df_for_ML.head()"
   ]
  },
  {
   "cell_type": "code",
   "execution_count": 96,
   "metadata": {},
   "outputs": [
    {
     "data": {
      "text/html": [
       "<div>\n",
       "<style scoped>\n",
       "    .dataframe tbody tr th:only-of-type {\n",
       "        vertical-align: middle;\n",
       "    }\n",
       "\n",
       "    .dataframe tbody tr th {\n",
       "        vertical-align: top;\n",
       "    }\n",
       "\n",
       "    .dataframe thead th {\n",
       "        text-align: right;\n",
       "    }\n",
       "</style>\n",
       "<table border=\"1\" class=\"dataframe\">\n",
       "  <thead>\n",
       "    <tr style=\"text-align: right;\">\n",
       "      <th></th>\n",
       "      <th>Temp</th>\n",
       "      <th>WG</th>\n",
       "      <th>WR</th>\n",
       "      <th>Druck</th>\n",
       "      <th>NO</th>\n",
       "      <th>NO2</th>\n",
       "      <th>SO2</th>\n",
       "      <th>CO</th>\n",
       "      <th>Niederschlag</th>\n",
       "      <th>PM10</th>\n",
       "    </tr>\n",
       "  </thead>\n",
       "  <tbody>\n",
       "    <tr>\n",
       "      <th>count</th>\n",
       "      <td>7458.000000</td>\n",
       "      <td>7458.000000</td>\n",
       "      <td>7458.000000</td>\n",
       "      <td>7458.000000</td>\n",
       "      <td>7458.000000</td>\n",
       "      <td>7458.000000</td>\n",
       "      <td>7458.000000</td>\n",
       "      <td>7458.000000</td>\n",
       "      <td>7458.000000</td>\n",
       "      <td>7458.000000</td>\n",
       "    </tr>\n",
       "    <tr>\n",
       "      <th>mean</th>\n",
       "      <td>12.037186</td>\n",
       "      <td>1.981211</td>\n",
       "      <td>194.085750</td>\n",
       "      <td>984.837622</td>\n",
       "      <td>20.628170</td>\n",
       "      <td>33.558937</td>\n",
       "      <td>6.631525</td>\n",
       "      <td>0.455946</td>\n",
       "      <td>1.429776</td>\n",
       "      <td>19.585107</td>\n",
       "    </tr>\n",
       "    <tr>\n",
       "      <th>std</th>\n",
       "      <td>7.414490</td>\n",
       "      <td>0.727090</td>\n",
       "      <td>61.500193</td>\n",
       "      <td>7.725808</td>\n",
       "      <td>26.766503</td>\n",
       "      <td>16.107154</td>\n",
       "      <td>4.776749</td>\n",
       "      <td>0.296478</td>\n",
       "      <td>3.356878</td>\n",
       "      <td>11.001963</td>\n",
       "    </tr>\n",
       "    <tr>\n",
       "      <th>min</th>\n",
       "      <td>-11.430000</td>\n",
       "      <td>0.600000</td>\n",
       "      <td>2.300000</td>\n",
       "      <td>947.400000</td>\n",
       "      <td>0.047220</td>\n",
       "      <td>0.000000</td>\n",
       "      <td>0.000000</td>\n",
       "      <td>0.023830</td>\n",
       "      <td>0.000000</td>\n",
       "      <td>0.000000</td>\n",
       "    </tr>\n",
       "    <tr>\n",
       "      <th>25%</th>\n",
       "      <td>6.259250</td>\n",
       "      <td>1.500000</td>\n",
       "      <td>153.713579</td>\n",
       "      <td>980.585000</td>\n",
       "      <td>5.287000</td>\n",
       "      <td>22.260000</td>\n",
       "      <td>3.138250</td>\n",
       "      <td>0.226937</td>\n",
       "      <td>0.000000</td>\n",
       "      <td>12.481200</td>\n",
       "    </tr>\n",
       "    <tr>\n",
       "      <th>50%</th>\n",
       "      <td>12.205000</td>\n",
       "      <td>1.800000</td>\n",
       "      <td>211.071147</td>\n",
       "      <td>985.400000</td>\n",
       "      <td>11.165000</td>\n",
       "      <td>31.175000</td>\n",
       "      <td>5.959850</td>\n",
       "      <td>0.393567</td>\n",
       "      <td>0.060000</td>\n",
       "      <td>17.310000</td>\n",
       "    </tr>\n",
       "    <tr>\n",
       "      <th>75%</th>\n",
       "      <td>17.730000</td>\n",
       "      <td>2.300000</td>\n",
       "      <td>234.489428</td>\n",
       "      <td>989.800000</td>\n",
       "      <td>24.995000</td>\n",
       "      <td>42.510000</td>\n",
       "      <td>9.152800</td>\n",
       "      <td>0.625345</td>\n",
       "      <td>1.270000</td>\n",
       "      <td>24.133000</td>\n",
       "    </tr>\n",
       "    <tr>\n",
       "      <th>max</th>\n",
       "      <td>31.460000</td>\n",
       "      <td>7.155542</td>\n",
       "      <td>359.700000</td>\n",
       "      <td>1011.300000</td>\n",
       "      <td>345.900000</td>\n",
       "      <td>138.800000</td>\n",
       "      <td>44.690000</td>\n",
       "      <td>2.984000</td>\n",
       "      <td>51.100000</td>\n",
       "      <td>211.700000</td>\n",
       "    </tr>\n",
       "  </tbody>\n",
       "</table>\n",
       "</div>"
      ],
      "text/plain": [
       "              Temp           WG           WR        Druck           NO  \\\n",
       "count  7458.000000  7458.000000  7458.000000  7458.000000  7458.000000   \n",
       "mean     12.037186     1.981211   194.085750   984.837622    20.628170   \n",
       "std       7.414490     0.727090    61.500193     7.725808    26.766503   \n",
       "min     -11.430000     0.600000     2.300000   947.400000     0.047220   \n",
       "25%       6.259250     1.500000   153.713579   980.585000     5.287000   \n",
       "50%      12.205000     1.800000   211.071147   985.400000    11.165000   \n",
       "75%      17.730000     2.300000   234.489428   989.800000    24.995000   \n",
       "max      31.460000     7.155542   359.700000  1011.300000   345.900000   \n",
       "\n",
       "               NO2          SO2           CO  Niederschlag         PM10  \n",
       "count  7458.000000  7458.000000  7458.000000   7458.000000  7458.000000  \n",
       "mean     33.558937     6.631525     0.455946      1.429776    19.585107  \n",
       "std      16.107154     4.776749     0.296478      3.356878    11.001963  \n",
       "min       0.000000     0.000000     0.023830      0.000000     0.000000  \n",
       "25%      22.260000     3.138250     0.226937      0.000000    12.481200  \n",
       "50%      31.175000     5.959850     0.393567      0.060000    17.310000  \n",
       "75%      42.510000     9.152800     0.625345      1.270000    24.133000  \n",
       "max     138.800000    44.690000     2.984000     51.100000   211.700000  "
      ]
     },
     "execution_count": 96,
     "metadata": {},
     "output_type": "execute_result"
    }
   ],
   "source": [
    "df_for_ML.describe()"
   ]
  },
  {
   "cell_type": "markdown",
   "metadata": {},
   "source": [
    "# Modeling"
   ]
  },
  {
   "cell_type": "markdown",
   "metadata": {},
   "source": [
    "## Data Preparation"
   ]
  },
  {
   "cell_type": "markdown",
   "metadata": {},
   "source": [
    "Definition of Sampling Rates"
   ]
  },
  {
   "cell_type": "markdown",
   "metadata": {},
   "source": [
    "### Data Scaling and Normalization"
   ]
  },
  {
   "cell_type": "code",
   "execution_count": 97,
   "metadata": {},
   "outputs": [
    {
     "data": {
      "text/html": [
       "<div>\n",
       "<style scoped>\n",
       "    .dataframe tbody tr th:only-of-type {\n",
       "        vertical-align: middle;\n",
       "    }\n",
       "\n",
       "    .dataframe tbody tr th {\n",
       "        vertical-align: top;\n",
       "    }\n",
       "\n",
       "    .dataframe thead th {\n",
       "        text-align: right;\n",
       "    }\n",
       "</style>\n",
       "<table border=\"1\" class=\"dataframe\">\n",
       "  <thead>\n",
       "    <tr style=\"text-align: right;\">\n",
       "      <th></th>\n",
       "      <th>Temp</th>\n",
       "      <th>WG</th>\n",
       "      <th>WR</th>\n",
       "      <th>Druck</th>\n",
       "      <th>NO</th>\n",
       "      <th>NO2</th>\n",
       "      <th>SO2</th>\n",
       "      <th>CO</th>\n",
       "      <th>Niederschlag</th>\n",
       "      <th>PM10</th>\n",
       "    </tr>\n",
       "  </thead>\n",
       "  <tbody>\n",
       "    <tr>\n",
       "      <th>0</th>\n",
       "      <td>0.353183</td>\n",
       "      <td>0.207442</td>\n",
       "      <td>0.650876</td>\n",
       "      <td>0.694836</td>\n",
       "      <td>0.050829</td>\n",
       "      <td>0.174611</td>\n",
       "      <td>0.232267</td>\n",
       "      <td>0.299669</td>\n",
       "      <td>0.070239</td>\n",
       "      <td>0.053742</td>\n",
       "    </tr>\n",
       "    <tr>\n",
       "      <th>1</th>\n",
       "      <td>0.356214</td>\n",
       "      <td>0.239936</td>\n",
       "      <td>0.616148</td>\n",
       "      <td>0.774648</td>\n",
       "      <td>0.041178</td>\n",
       "      <td>0.206758</td>\n",
       "      <td>0.240322</td>\n",
       "      <td>0.291595</td>\n",
       "      <td>0.068908</td>\n",
       "      <td>0.058560</td>\n",
       "    </tr>\n",
       "    <tr>\n",
       "      <th>2</th>\n",
       "      <td>0.300606</td>\n",
       "      <td>0.258592</td>\n",
       "      <td>0.609629</td>\n",
       "      <td>0.763693</td>\n",
       "      <td>0.054985</td>\n",
       "      <td>0.254582</td>\n",
       "      <td>0.230253</td>\n",
       "      <td>0.275515</td>\n",
       "      <td>0.016434</td>\n",
       "      <td>0.094228</td>\n",
       "    </tr>\n",
       "    <tr>\n",
       "      <th>3</th>\n",
       "      <td>0.381534</td>\n",
       "      <td>0.453811</td>\n",
       "      <td>0.611599</td>\n",
       "      <td>0.665102</td>\n",
       "      <td>0.023764</td>\n",
       "      <td>0.174424</td>\n",
       "      <td>0.300291</td>\n",
       "      <td>0.256191</td>\n",
       "      <td>0.029147</td>\n",
       "      <td>0.054218</td>\n",
       "    </tr>\n",
       "    <tr>\n",
       "      <th>4</th>\n",
       "      <td>0.427769</td>\n",
       "      <td>0.249744</td>\n",
       "      <td>0.610672</td>\n",
       "      <td>0.661972</td>\n",
       "      <td>0.032680</td>\n",
       "      <td>0.188818</td>\n",
       "      <td>0.319311</td>\n",
       "      <td>0.393616</td>\n",
       "      <td>0.084540</td>\n",
       "      <td>0.061058</td>\n",
       "    </tr>\n",
       "    <tr>\n",
       "      <th>...</th>\n",
       "      <td>...</td>\n",
       "      <td>...</td>\n",
       "      <td>...</td>\n",
       "      <td>...</td>\n",
       "      <td>...</td>\n",
       "      <td>...</td>\n",
       "      <td>...</td>\n",
       "      <td>...</td>\n",
       "      <td>...</td>\n",
       "      <td>...</td>\n",
       "    </tr>\n",
       "    <tr>\n",
       "      <th>7453</th>\n",
       "      <td>0.669853</td>\n",
       "      <td>0.274577</td>\n",
       "      <td>0.071908</td>\n",
       "      <td>0.767606</td>\n",
       "      <td>0.012007</td>\n",
       "      <td>0.169308</td>\n",
       "      <td>0.047673</td>\n",
       "      <td>0.032469</td>\n",
       "      <td>0.000000</td>\n",
       "      <td>0.065848</td>\n",
       "    </tr>\n",
       "    <tr>\n",
       "      <th>7454</th>\n",
       "      <td>0.644206</td>\n",
       "      <td>0.244068</td>\n",
       "      <td>0.354505</td>\n",
       "      <td>0.720344</td>\n",
       "      <td>0.007959</td>\n",
       "      <td>0.134726</td>\n",
       "      <td>0.196832</td>\n",
       "      <td>0.050656</td>\n",
       "      <td>0.000000</td>\n",
       "      <td>0.102173</td>\n",
       "    </tr>\n",
       "    <tr>\n",
       "      <th>7455</th>\n",
       "      <td>0.637211</td>\n",
       "      <td>0.274577</td>\n",
       "      <td>0.069110</td>\n",
       "      <td>0.658216</td>\n",
       "      <td>0.006803</td>\n",
       "      <td>0.132565</td>\n",
       "      <td>0.065723</td>\n",
       "      <td>0.035967</td>\n",
       "      <td>0.000000</td>\n",
       "      <td>0.061918</td>\n",
       "    </tr>\n",
       "    <tr>\n",
       "      <th>7456</th>\n",
       "      <td>0.655864</td>\n",
       "      <td>0.213560</td>\n",
       "      <td>0.164242</td>\n",
       "      <td>0.639593</td>\n",
       "      <td>0.004490</td>\n",
       "      <td>0.093660</td>\n",
       "      <td>0.087232</td>\n",
       "      <td>0.035932</td>\n",
       "      <td>0.000000</td>\n",
       "      <td>0.054709</td>\n",
       "    </tr>\n",
       "    <tr>\n",
       "      <th>7457</th>\n",
       "      <td>0.606295</td>\n",
       "      <td>0.171164</td>\n",
       "      <td>0.464947</td>\n",
       "      <td>0.592833</td>\n",
       "      <td>0.039111</td>\n",
       "      <td>0.281988</td>\n",
       "      <td>0.111895</td>\n",
       "      <td>0.025028</td>\n",
       "      <td>0.002759</td>\n",
       "      <td>0.130657</td>\n",
       "    </tr>\n",
       "  </tbody>\n",
       "</table>\n",
       "<p>7458 rows × 10 columns</p>\n",
       "</div>"
      ],
      "text/plain": [
       "          Temp        WG        WR     Druck        NO       NO2       SO2  \\\n",
       "0     0.353183  0.207442  0.650876  0.694836  0.050829  0.174611  0.232267   \n",
       "1     0.356214  0.239936  0.616148  0.774648  0.041178  0.206758  0.240322   \n",
       "2     0.300606  0.258592  0.609629  0.763693  0.054985  0.254582  0.230253   \n",
       "3     0.381534  0.453811  0.611599  0.665102  0.023764  0.174424  0.300291   \n",
       "4     0.427769  0.249744  0.610672  0.661972  0.032680  0.188818  0.319311   \n",
       "...        ...       ...       ...       ...       ...       ...       ...   \n",
       "7453  0.669853  0.274577  0.071908  0.767606  0.012007  0.169308  0.047673   \n",
       "7454  0.644206  0.244068  0.354505  0.720344  0.007959  0.134726  0.196832   \n",
       "7455  0.637211  0.274577  0.069110  0.658216  0.006803  0.132565  0.065723   \n",
       "7456  0.655864  0.213560  0.164242  0.639593  0.004490  0.093660  0.087232   \n",
       "7457  0.606295  0.171164  0.464947  0.592833  0.039111  0.281988  0.111895   \n",
       "\n",
       "            CO  Niederschlag      PM10  \n",
       "0     0.299669      0.070239  0.053742  \n",
       "1     0.291595      0.068908  0.058560  \n",
       "2     0.275515      0.016434  0.094228  \n",
       "3     0.256191      0.029147  0.054218  \n",
       "4     0.393616      0.084540  0.061058  \n",
       "...        ...           ...       ...  \n",
       "7453  0.032469      0.000000  0.065848  \n",
       "7454  0.050656      0.000000  0.102173  \n",
       "7455  0.035967      0.000000  0.061918  \n",
       "7456  0.035932      0.000000  0.054709  \n",
       "7457  0.025028      0.002759  0.130657  \n",
       "\n",
       "[7458 rows x 10 columns]"
      ]
     },
     "execution_count": 97,
     "metadata": {},
     "output_type": "execute_result"
    }
   ],
   "source": [
    "df_for_ML_woDate = df_for_ML.drop('Datum', axis=1)\n",
    "min_max_scaler = preprocessing.MinMaxScaler()\n",
    "df_for_ML_scaled = min_max_scaler.fit_transform(df_for_ML_woDate.values)\n",
    "df_for_ML_norm = pd.DataFrame(data=df_for_ML_scaled, columns=df_for_ML_woDate.columns)\n",
    "df_for_ML_norm"
   ]
  },
  {
   "cell_type": "markdown",
   "metadata": {},
   "source": [
    "### Split Data into Training and Validation Samples"
   ]
  },
  {
   "cell_type": "code",
   "execution_count": 98,
   "metadata": {},
   "outputs": [],
   "source": [
    "X = df_for_ML_scaled[:,0:9]\n",
    "y = df_for_ML_scaled[:,9:10]\n",
    "\n",
    "X_train, X_test, y_train, y_test = train_test_split(X, y, random_state=42, test_size=0.3)"
   ]
  },
  {
   "cell_type": "markdown",
   "metadata": {},
   "source": [
    "## Alogrithms Selection"
   ]
  },
  {
   "cell_type": "code",
   "execution_count": null,
   "metadata": {},
   "outputs": [],
   "source": []
  },
  {
   "cell_type": "markdown",
   "metadata": {},
   "source": [
    "## Baseline Models"
   ]
  },
  {
   "cell_type": "code",
   "execution_count": 99,
   "metadata": {},
   "outputs": [
    {
     "data": {
      "text/plain": [
       "LinearRegression()"
      ]
     },
     "execution_count": 99,
     "metadata": {},
     "output_type": "execute_result"
    }
   ],
   "source": [
    "# Create linear regression object\n",
    "regr = LinearRegression()\n",
    "# Train the model using the training sets\n",
    "regr.fit(X_train, y_train)"
   ]
  },
  {
   "cell_type": "code",
   "execution_count": 100,
   "metadata": {},
   "outputs": [
    {
     "name": "stdout",
     "output_type": "stream",
     "text": [
      "Coeffs:  [[ 0.03112672 -0.02932922 -0.04617444  0.01387812  0.19478075  0.15305287\n",
      "   0.01161307  0.01486678 -0.0325139 ]]\n",
      "Intercept:  [0.04702061]\n",
      "R2:  0.44725273884028927\n"
     ]
    }
   ],
   "source": [
    "regr.\n",
    "\n",
    "print(\"Coeffs: \", regr.coef_)\n",
    "print(\"Intercept: \", regr.intercept_)\n",
    "print(\"R2: \", regr.score(X_test, y_test))\n"
   ]
  },
  {
   "cell_type": "code",
   "execution_count": 101,
   "metadata": {},
   "outputs": [
    {
     "data": {
      "image/png": "[encoded data removed]",
      "text/plain": [
       "<Figure size 432x288 with 1 Axes>"
      ]
     },
     "metadata": {
      "needs_background": "light"
     },
     "output_type": "display_data"
    }
   ],
   "source": [
    "# Residual Plot (Restwert)\n",
    "train_pred = regr.predict(X_train)\n",
    "test_pred = regr.predict(X_test)\n",
    "\n",
    "min_val = min(min(train_pred), min(test_pred))\n",
    "max_val = max(max(train_pred), max(test_pred))\n",
    "\n",
    "plt.scatter(train_pred, train_pred - y_train, color=\"blue\", s=40)\n",
    "plt.scatter(test_pred, test_pred - y_test, color=\"red\", s=40)\n",
    "plt.hlines(y = 0, xmin =min_val, xmax=max_val)\n",
    "plt.xlabel(\"$\\hat{y} (Prediction)$\")\n",
    "plt.ylabel(\"Residuals\")\n",
    "plt.show()"
   ]
  },
  {
   "cell_type": "code",
   "execution_count": 104,
   "metadata": {},
   "outputs": [
    {
     "name": "stdout",
     "output_type": "stream",
     "text": [
      "MSE:  0.001640779228796358\n"
     ]
    }
   ],
   "source": [
    "test_pred = regr.predict(X_test)\n",
    "print(\"MSE: \", mean_squared_error(y_test, test_pred))\n"
   ]
  },
  {
   "cell_type": "markdown",
   "metadata": {},
   "source": [
    "## Deep Learning Models"
   ]
  },
  {
   "cell_type": "code",
   "execution_count": null,
   "metadata": {},
   "outputs": [],
   "source": []
  },
  {
   "cell_type": "code",
   "execution_count": null,
   "metadata": {},
   "outputs": [],
   "source": []
  },
  {
   "cell_type": "code",
   "execution_count": null,
   "metadata": {},
   "outputs": [],
   "source": []
  },
  {
   "cell_type": "code",
   "execution_count": null,
   "metadata": {},
   "outputs": [],
   "source": []
  },
  {
   "cell_type": "code",
   "execution_count": null,
   "metadata": {},
   "outputs": [],
   "source": []
  },
  {
   "cell_type": "code",
   "execution_count": null,
   "metadata": {},
   "outputs": [],
   "source": []
  },
  {
   "cell_type": "code",
   "execution_count": null,
   "metadata": {},
   "outputs": [],
   "source": []
  },
  {
   "cell_type": "code",
   "execution_count": null,
   "metadata": {},
   "outputs": [],
   "source": [
    "model = Sequential()"
   ]
  },
  {
   "cell_type": "code",
   "execution_count": null,
   "metadata": {},
   "outputs": [],
   "source": [
    "model.add(Dense())"
   ]
  },
  {
   "cell_type": "code",
   "execution_count": null,
   "metadata": {},
   "outputs": [],
   "source": [
    "model.summary()"
   ]
  },
  {
   "cell_type": "code",
   "execution_count": null,
   "metadata": {},
   "outputs": [],
   "source": [
    "sgd_opt = SGD()"
   ]
  },
  {
   "cell_type": "code",
   "execution_count": null,
   "metadata": {},
   "outputs": [],
   "source": [
    "model.compile()"
   ]
  },
  {
   "cell_type": "code",
   "execution_count": null,
   "metadata": {},
   "outputs": [],
   "source": [
    "model.fit()"
   ]
  },
  {
   "cell_type": "code",
   "execution_count": null,
   "metadata": {},
   "outputs": [],
   "source": [
    "score = model.evaluate()"
   ]
  },
  {
   "cell_type": "code",
   "execution_count": null,
   "metadata": {},
   "outputs": [],
   "source": []
  },
  {
   "cell_type": "code",
   "execution_count": null,
   "metadata": {},
   "outputs": [],
   "source": []
  },
  {
   "cell_type": "markdown",
   "metadata": {},
   "source": [
    "## Hyperparamters Optimization"
   ]
  },
  {
   "cell_type": "code",
   "execution_count": null,
   "metadata": {},
   "outputs": [],
   "source": []
  },
  {
   "cell_type": "markdown",
   "metadata": {},
   "source": [
    "## Evaluation"
   ]
  },
  {
   "cell_type": "markdown",
   "metadata": {},
   "source": [
    "### Model Evaluation (Performance)"
   ]
  },
  {
   "cell_type": "markdown",
   "metadata": {},
   "source": [
    "#### Training Phase"
   ]
  },
  {
   "cell_type": "code",
   "execution_count": null,
   "metadata": {},
   "outputs": [],
   "source": []
  },
  {
   "cell_type": "code",
   "execution_count": null,
   "metadata": {},
   "outputs": [],
   "source": []
  },
  {
   "cell_type": "code",
   "execution_count": null,
   "metadata": {},
   "outputs": [],
   "source": []
  },
  {
   "cell_type": "markdown",
   "metadata": {},
   "source": [
    "#### Testing Phase"
   ]
  },
  {
   "cell_type": "code",
   "execution_count": null,
   "metadata": {},
   "outputs": [],
   "source": []
  },
  {
   "cell_type": "code",
   "execution_count": null,
   "metadata": {},
   "outputs": [],
   "source": []
  },
  {
   "cell_type": "markdown",
   "metadata": {},
   "source": [
    "# Projekt Evaluation"
   ]
  },
  {
   "cell_type": "code",
   "execution_count": null,
   "metadata": {},
   "outputs": [],
   "source": []
  },
  {
   "cell_type": "code",
   "execution_count": null,
   "metadata": {},
   "outputs": [],
   "source": []
  },
  {
   "cell_type": "code",
   "execution_count": null,
   "metadata": {},
   "outputs": [],
   "source": []
  },
  {
   "cell_type": "markdown",
   "metadata": {},
   "source": [
    "# Deployment"
   ]
  },
  {
   "cell_type": "code",
   "execution_count": null,
   "metadata": {},
   "outputs": [],
   "source": []
  },
  {
   "cell_type": "markdown",
   "metadata": {},
   "source": [
    "In the first phase of CRISP the overall business-case, which shall be supported by the data mining process must be clearly defined and understood. Then the goal of the data mining project itself must be defined. This includes the specification of metrics for measuring the performance of the data mining project.\n",
    "\n",
    "In the second phase data must be gathered, accessed, understood and described. Quantitiy and qualitity of the data must be assessed on a high-level.\n",
    "\n",
    "In the third phase data must be investigated and understood more thoroughly. Common means for understanding data are e.g. visualization and the calculation of simple statistics. Outliers must be detected and processed, sampling rates must be determined, features must be selected and eventually be transformed to other formats.\n",
    "\n",
    "In the modelling phase various algorithms and their hyperparameters are selected and applied. Their performance on the given data is determined in the evaluation phase.\n",
    "\n",
    "The output of the evaluation is usually fed back to the first phases (business- and data-understanding). Applying this feedback the techniques in the overall process are adapted and optimized. Usually only after several iterations of this process the evaluation yields good results and the project can be deployed."
   ]
  },
  {
   "cell_type": "code",
   "execution_count": null,
   "metadata": {},
   "outputs": [],
   "source": []
  }
 ],
 "metadata": {
  "kernelspec": {
   "display_name": "Python 3",
   "language": "python",
   "name": "python3"
  },
  "language_info": {
   "codemirror_mode": {
    "name": "ipython",
    "version": 3
   },
   "file_extension": ".py",
   "mimetype": "text/x-python",
   "name": "python",
   "nbconvert_exporter": "python",
   "pygments_lexer": "ipython3",
   "version": "3.7.7"
  },
  "nbTranslate": {
   "displayLangs": [
    "*"
   ],
   "hotkey": "alt-t",
   "langInMainMenu": true,
   "sourceLang": "en",
   "targetLang": "fr",
   "useGoogleTranslate": true
  },
  "toc": {
   "base_numbering": 1,
   "nav_menu": {},
   "number_sections": true,
   "sideBar": true,
   "skip_h1_title": false,
   "title_cell": "Table of Contents",
   "title_sidebar": "Contents",
   "toc_cell": false,
   "toc_position": {
    "height": "calc(100% - 180px)",
    "left": "10px",
    "top": "150px",
    "width": "373px"
   },
   "toc_section_display": true,
   "toc_window_display": true
  },
  "varInspector": {
   "cols": {
    "lenName": 16,
    "lenType": 16,
    "lenVar": 40
   },
   "kernels_config": {
    "python": {
     "delete_cmd_postfix": "",
     "delete_cmd_prefix": "del ",
     "library": "var_list.py",
     "varRefreshCmd": "print(var_dic_list())"
    },
    "r": {
     "delete_cmd_postfix": ") ",
     "delete_cmd_prefix": "rm(",
     "library": "var_list.r",
     "varRefreshCmd": "cat(var_dic_list()) "
    }
   },
   "position": {
    "height": "930.813px",
    "left": "1900px",
    "right": "20px",
    "top": "68px",
    "width": "655px"
   },
   "types_to_exclude": [
    "module",
    "function",
    "builtin_function_or_method",
    "instance",
    "_Feature"
   ],
   "window_display": true
  }
 },
 "nbformat": 4,
 "nbformat_minor": 4
}
